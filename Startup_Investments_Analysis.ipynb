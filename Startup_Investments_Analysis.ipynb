{
  "nbformat": 4,
  "nbformat_minor": 0,
  "metadata": {
    "colab": {
      "name": "Startup Investments Analysis",
      "provenance": [],
      "collapsed_sections": [
        "w56fywghthfC",
        "uXsuK12yhH6G",
        "rjZq93eEga99",
        "vWgAdleS6M0_",
        "P1-Da_s4QByY",
        "Fnrkbd6lEIYq",
        "3gqdW5_XXpUF",
        "4rDdCF3x57wz",
        "IOawzvRw8aTt",
        "ygGNOVqG9HI_",
        "4XDtKFB9ZCMv",
        "3DLYTiDoqjc3",
        "39d72e-JPAbf",
        "JkalX5AUt63L",
        "64lXeBqp75bX"
      ],
      "include_colab_link": true
    },
    "kernelspec": {
      "name": "python3",
      "display_name": "Python 3"
    },
    "language_info": {
      "name": "python"
    }
  },
  "cells": [
    {
      "cell_type": "markdown",
      "metadata": {
        "id": "view-in-github",
        "colab_type": "text"
      },
      "source": [
        "<a href=\"https://colab.research.google.com/github/bkyappworks/image-repository/blob/main/Startup_Investments_Analysis.ipynb\" target=\"_parent\"><img src=\"https://colab.research.google.com/assets/colab-badge.svg\" alt=\"Open In Colab\"/></a>"
      ]
    },
    {
      "cell_type": "markdown",
      "metadata": {
        "id": "w56fywghthfC"
      },
      "source": [
        "## Research Scope"
      ]
    },
    {
      "cell_type": "markdown",
      "metadata": {
        "id": "aQgaGSi1OnlQ"
      },
      "source": [
        "\n",
        "- Quick over view of the startups worldwide\n",
        "  - Number of Startups in terms of time worldwide\n",
        "    - 2000 and 2008 peak(delayed) -  The dot-com bubble in the United States and financial crisis\n",
        "    - huge drop started from 2011\n",
        "  - Software is the leading market in startups\n",
        "  - Distribution of status over all startups (Do we need this?)\n",
        "  - USA dominants the startups worldwide\n",
        " \n",
        "- Dive into USA startups\n",
        "  - time: \n",
        "    - general patterns: Most startups are founded in January\n",
        "    - dramatically drop in 2011 & Obama's \"Startup America\" -> DID\n",
        "    - biotech vs. software trend\n",
        "    - market trend before and after financial crisis (Obama care and policy) \n",
        "  - state: \n",
        "    - Most popular state founded in USA (CA,NY,MA,TX and FL are where most startups are founded)\n",
        "    - what are the most popular market in those states?\n",
        "    - Zoom in each popular and find the average funding in terms of status -> top market with num is not the same as the top market with avg fundings -> typical markets in each state\n",
        "   e.g. NY: Media and Newspaper\n"
      ]
    },
    {
      "cell_type": "markdown",
      "metadata": {
        "id": "OBFRyxZsSg0p"
      },
      "source": [
        "## Data loading and pre-processing"
      ]
    },
    {
      "cell_type": "markdown",
      "metadata": {
        "id": "nhTq8GpNSvxn"
      },
      "source": [
        "Import packages"
      ]
    },
    {
      "cell_type": "code",
      "metadata": {
        "id": "CUoNxjDpVSLs",
        "colab": {
          "base_uri": "https://localhost:8080/"
        },
        "outputId": "2afaf1ee-c0bd-4eeb-835d-d4c925f6fbc1"
      },
      "source": [
        "pip install pandas_bokeh"
      ],
      "execution_count": 1,
      "outputs": [
        {
          "output_type": "stream",
          "name": "stdout",
          "text": [
            "Collecting pandas_bokeh\n",
            "  Downloading pandas_bokeh-0.5.5-py2.py3-none-any.whl (29 kB)\n",
            "Requirement already satisfied: bokeh>=2.0 in /usr/local/lib/python3.7/dist-packages (from pandas_bokeh) (2.3.3)\n",
            "Requirement already satisfied: pandas>=0.22.0 in /usr/local/lib/python3.7/dist-packages (from pandas_bokeh) (1.1.5)\n",
            "Requirement already satisfied: python-dateutil>=2.1 in /usr/local/lib/python3.7/dist-packages (from bokeh>=2.0->pandas_bokeh) (2.8.2)\n",
            "Requirement already satisfied: typing-extensions>=3.7.4 in /usr/local/lib/python3.7/dist-packages (from bokeh>=2.0->pandas_bokeh) (3.10.0.2)\n",
            "Requirement already satisfied: packaging>=16.8 in /usr/local/lib/python3.7/dist-packages (from bokeh>=2.0->pandas_bokeh) (21.3)\n",
            "Requirement already satisfied: tornado>=5.1 in /usr/local/lib/python3.7/dist-packages (from bokeh>=2.0->pandas_bokeh) (5.1.1)\n",
            "Requirement already satisfied: PyYAML>=3.10 in /usr/local/lib/python3.7/dist-packages (from bokeh>=2.0->pandas_bokeh) (3.13)\n",
            "Requirement already satisfied: Jinja2>=2.9 in /usr/local/lib/python3.7/dist-packages (from bokeh>=2.0->pandas_bokeh) (2.11.3)\n",
            "Requirement already satisfied: pillow>=7.1.0 in /usr/local/lib/python3.7/dist-packages (from bokeh>=2.0->pandas_bokeh) (7.1.2)\n",
            "Requirement already satisfied: numpy>=1.11.3 in /usr/local/lib/python3.7/dist-packages (from bokeh>=2.0->pandas_bokeh) (1.19.5)\n",
            "Requirement already satisfied: MarkupSafe>=0.23 in /usr/local/lib/python3.7/dist-packages (from Jinja2>=2.9->bokeh>=2.0->pandas_bokeh) (2.0.1)\n",
            "Requirement already satisfied: pyparsing!=3.0.5,>=2.0.2 in /usr/local/lib/python3.7/dist-packages (from packaging>=16.8->bokeh>=2.0->pandas_bokeh) (3.0.7)\n",
            "Requirement already satisfied: pytz>=2017.2 in /usr/local/lib/python3.7/dist-packages (from pandas>=0.22.0->pandas_bokeh) (2018.9)\n",
            "Requirement already satisfied: six>=1.5 in /usr/local/lib/python3.7/dist-packages (from python-dateutil>=2.1->bokeh>=2.0->pandas_bokeh) (1.15.0)\n",
            "Installing collected packages: pandas-bokeh\n",
            "Successfully installed pandas-bokeh-0.5.5\n"
          ]
        }
      ]
    },
    {
      "cell_type": "code",
      "metadata": {
        "id": "2Wf0-PgdSxdp"
      },
      "source": [
        "import pandas as pd\n",
        "import numpy as np\n",
        "import altair as alt\n",
        "import seaborn as sns\n",
        "import matplotlib.pyplot as plt\n",
        "import plotly.express as px\n",
        "import pandas_bokeh"
      ],
      "execution_count": 2,
      "outputs": []
    },
    {
      "cell_type": "code",
      "metadata": {
        "colab": {
          "base_uri": "https://localhost:8080/"
        },
        "id": "yeVPe2U2W_jq",
        "outputId": "7e9ed0cd-0da6-4f51-e72c-8665897cfdf6"
      },
      "source": [
        "from google.colab import drive\n",
        "drive.mount('/content/drive')"
      ],
      "execution_count": 3,
      "outputs": [
        {
          "output_type": "stream",
          "name": "stdout",
          "text": [
            "Mounted at /content/drive\n"
          ]
        }
      ]
    },
    {
      "cell_type": "code",
      "metadata": {
        "id": "UGytSd2p0XPA"
      },
      "source": [
        "#Cathy's version\n",
        "# DF = pd.read_csv('/content/drive/MyDrive/project-1 team14/investments_VC.csv',encoding='latin1')\n",
        "#Becky's version\n",
        "DF = pd.read_csv('/content/drive/MyDrive/FALL 2021/95-885 Data Science and Big Data/project-1 team14/Final Deliverables/investments_VC.csv',encoding='latin1')"
      ],
      "execution_count": 6,
      "outputs": []
    },
    {
      "cell_type": "markdown",
      "metadata": {
        "id": "1g03kyjg0XPC"
      },
      "source": [
        "Check the number of rows and columns in the dataset"
      ]
    },
    {
      "cell_type": "code",
      "metadata": {
        "colab": {
          "base_uri": "https://localhost:8080/"
        },
        "id": "K7wQ9SoZ0XPD",
        "outputId": "b4274274-d06e-4c18-e9ae-7f22f4931849"
      },
      "source": [
        "print('The dataset includes {} rows.'.format(len(DF)))\n",
        "print('The dataset inlcudes {} columns.'.format(len(DF.columns)))"
      ],
      "execution_count": 7,
      "outputs": [
        {
          "output_type": "stream",
          "name": "stdout",
          "text": [
            "The dataset includes 54294 rows.\n",
            "The dataset inlcudes 39 columns.\n"
          ]
        }
      ]
    },
    {
      "cell_type": "markdown",
      "metadata": {
        "id": "R1mSJ15vn-Yw"
      },
      "source": [
        "Check the missing values in the dataset"
      ]
    },
    {
      "cell_type": "code",
      "metadata": {
        "colab": {
          "base_uri": "https://localhost:8080/"
        },
        "id": "IMQBTJIGn0R5",
        "outputId": "c6aae2d9-fe83-4952-f375-bfde2453fc52"
      },
      "source": [
        "DF.isna().sum()"
      ],
      "execution_count": 8,
      "outputs": [
        {
          "output_type": "execute_result",
          "data": {
            "text/plain": [
              "permalink                4856\n",
              "name                     4857\n",
              "homepage_url             8305\n",
              "category_list            8817\n",
              " market                  8824\n",
              " funding_total_usd       4856\n",
              "status                   6170\n",
              "country_code            10129\n",
              "state_code              24133\n",
              "region                  10129\n",
              "city                    10972\n",
              "funding_rounds           4856\n",
              "founded_at              15740\n",
              "founded_month           15812\n",
              "founded_quarter         15812\n",
              "founded_year            15812\n",
              "first_funding_at         4856\n",
              "last_funding_at          4856\n",
              "seed                     4856\n",
              "venture                  4856\n",
              "equity_crowdfunding      4856\n",
              "undisclosed              4856\n",
              "convertible_note         4856\n",
              "debt_financing           4856\n",
              "angel                    4856\n",
              "grant                    4856\n",
              "private_equity           4856\n",
              "post_ipo_equity          4856\n",
              "post_ipo_debt            4856\n",
              "secondary_market         4856\n",
              "product_crowdfunding     4856\n",
              "round_A                  4856\n",
              "round_B                  4856\n",
              "round_C                  4856\n",
              "round_D                  4856\n",
              "round_E                  4856\n",
              "round_F                  4856\n",
              "round_G                  4856\n",
              "round_H                  4856\n",
              "dtype: int64"
            ]
          },
          "metadata": {},
          "execution_count": 8
        }
      ]
    },
    {
      "cell_type": "markdown",
      "metadata": {
        "id": "lN2dRoZbj-N4"
      },
      "source": [
        "## Data Cleaning"
      ]
    },
    {
      "cell_type": "markdown",
      "metadata": {
        "id": "RVrGV4jOjMgt"
      },
      "source": [
        "Make a copy of the original dataset and start the data clearning"
      ]
    },
    {
      "cell_type": "code",
      "metadata": {
        "id": "llKe79ODjIzL"
      },
      "source": [
        "df = DF.copy()"
      ],
      "execution_count": 9,
      "outputs": []
    },
    {
      "cell_type": "markdown",
      "metadata": {
        "id": "VPc1PcnJ0XPG"
      },
      "source": [
        "Deal with missing values"
      ]
    },
    {
      "cell_type": "code",
      "metadata": {
        "colab": {
          "base_uri": "https://localhost:8080/"
        },
        "id": "Rdi6BXGvkNd4",
        "outputId": "885efeeb-4f69-4757-e127-e7989f95a35d"
      },
      "source": [
        "# drop rows containing all NAs\n",
        "df = df.dropna(how = 'all')\n",
        "df.isna().sum()"
      ],
      "execution_count": 10,
      "outputs": [
        {
          "output_type": "execute_result",
          "data": {
            "text/plain": [
              "permalink                   0\n",
              "name                        1\n",
              "homepage_url             3449\n",
              "category_list            3961\n",
              " market                  3968\n",
              " funding_total_usd          0\n",
              "status                   1314\n",
              "country_code             5273\n",
              "state_code              19277\n",
              "region                   5273\n",
              "city                     6116\n",
              "funding_rounds              0\n",
              "founded_at              10884\n",
              "founded_month           10956\n",
              "founded_quarter         10956\n",
              "founded_year            10956\n",
              "first_funding_at            0\n",
              "last_funding_at             0\n",
              "seed                        0\n",
              "venture                     0\n",
              "equity_crowdfunding         0\n",
              "undisclosed                 0\n",
              "convertible_note            0\n",
              "debt_financing              0\n",
              "angel                       0\n",
              "grant                       0\n",
              "private_equity              0\n",
              "post_ipo_equity             0\n",
              "post_ipo_debt               0\n",
              "secondary_market            0\n",
              "product_crowdfunding        0\n",
              "round_A                     0\n",
              "round_B                     0\n",
              "round_C                     0\n",
              "round_D                     0\n",
              "round_E                     0\n",
              "round_F                     0\n",
              "round_G                     0\n",
              "round_H                     0\n",
              "dtype: int64"
            ]
          },
          "metadata": {},
          "execution_count": 10
        }
      ]
    },
    {
      "cell_type": "markdown",
      "metadata": {
        "id": "8fvfbSVJf_zH"
      },
      "source": [
        "Format the columns"
      ]
    },
    {
      "cell_type": "code",
      "metadata": {
        "id": "HvYmC-zenrbF"
      },
      "source": [
        "# make sure the columns don't contain any space \n",
        "df.columns = df.columns.str.replace(' ','')\n",
        "df['market'] = df['market'].str.replace(' ', '')"
      ],
      "execution_count": 11,
      "outputs": []
    },
    {
      "cell_type": "code",
      "metadata": {
        "id": "nPsfxfDKnhQR"
      },
      "source": [
        "# replace the missing total funding with 0 \n",
        "df['funding_total_usd'] = df['funding_total_usd'].str.replace(',', '')\n",
        "df['funding_total_usd'] = df['funding_total_usd'].str.replace(' ', '')\n",
        "df['funding_total_usd'] = df['funding_total_usd'].str.replace('-', '0')\n",
        "df['funding_total_usd'] = df['funding_total_usd'].astype(float)"
      ],
      "execution_count": 12,
      "outputs": []
    },
    {
      "cell_type": "markdown",
      "metadata": {
        "id": "MmeKBmo46dCg"
      },
      "source": [
        "Drop duplicates"
      ]
    },
    {
      "cell_type": "code",
      "metadata": {
        "id": "lxk3uPez6f9V"
      },
      "source": [
        "df = df.drop_duplicates()"
      ],
      "execution_count": 13,
      "outputs": []
    },
    {
      "cell_type": "markdown",
      "metadata": {
        "id": "uJUs0fQHrSKx"
      },
      "source": [
        "Drop unnecessary columns"
      ]
    },
    {
      "cell_type": "code",
      "metadata": {
        "id": "RJ7FW367qPSA"
      },
      "source": [
        "unne_col = ['permalink', 'homepage_url', 'city', 'founded_quarter']\n",
        "df = df.drop(columns= unne_col)"
      ],
      "execution_count": 14,
      "outputs": []
    },
    {
      "cell_type": "markdown",
      "metadata": {
        "id": "AIyE6zh_skXv"
      },
      "source": [
        "Remove illogical rows"
      ]
    },
    {
      "cell_type": "code",
      "metadata": {
        "id": "qbbg9aG4tK0T"
      },
      "source": [
        "# the first funding date is earlier than the founded date\n",
        "df = df[df['founded_at'] <= df['first_funding_at']]\n"
      ],
      "execution_count": 15,
      "outputs": []
    },
    {
      "cell_type": "markdown",
      "metadata": {
        "id": "JZ2QPc16WVfq"
      },
      "source": [
        "Create new columns"
      ]
    },
    {
      "cell_type": "code",
      "metadata": {
        "id": "zh_AR8VnWUe0"
      },
      "source": [
        "df['lasting_year'] = 2014 - df['founded_year']\n",
        "y = pd.get_dummies(df['status'], prefix='Status')\n",
        "df = pd.concat([df,y], axis=1)\n",
        "df['if_ipo'] = np.where((df['post_ipo_debt'] != 0) | (df['post_ipo_equity'] != 0) | (df['secondary_market'] > 0), 1, 0)\n",
        "df['month'] = pd.to_datetime(df['founded_month'], errors='coerce')\n",
        "df['month'] = df['month'].dt.month\n",
        "df['if_jan'] = df['month'].apply(lambda x: 1 if x == 1 else 0)\n",
        "df['found_fund_diff'] = (pd.to_datetime(df['first_funding_at'], errors = 'coerce') - pd.to_datetime(df['founded_at'], errors = 'coerce')).astype('timedelta64[D]')\n",
        "df['fir_end_diff'] = (pd.to_datetime(df['last_funding_at'], errors = 'coerce') - pd.to_datetime(df['first_funding_at'], errors = 'coerce')).astype('timedelta64[D]')\n",
        "df['founded_year_range'] = pd.cut(df['founded_year'], bins=[1900, 1910, 1920, 1930, 1940, 1950, 1960, 1970, 1980, 1990, 2000, 2010, 2020], right=False)"
      ],
      "execution_count": 16,
      "outputs": []
    },
    {
      "cell_type": "markdown",
      "metadata": {
        "id": "9dNxzYQ4iAj5"
      },
      "source": [
        "Check the number of rows and columns in the dataset after cleaning"
      ]
    },
    {
      "cell_type": "code",
      "metadata": {
        "colab": {
          "base_uri": "https://localhost:8080/"
        },
        "id": "QiEvjPN4nfrh",
        "outputId": "93130afb-a9af-4195-8f68-a6ed763c0f6f"
      },
      "source": [
        "print('The dataset includes {} rows after data cleaning.'.format(len(df)))\n",
        "print('The dataset inlcudes {} columns after data cleaning.'.format(len(df.columns)))"
      ],
      "execution_count": 17,
      "outputs": [
        {
          "output_type": "stream",
          "name": "stdout",
          "text": [
            "The dataset includes 35809 rows after data cleaning.\n",
            "The dataset inlcudes 45 columns after data cleaning.\n"
          ]
        }
      ]
    },
    {
      "cell_type": "code",
      "metadata": {
        "colab": {
          "base_uri": "https://localhost:8080/"
        },
        "id": "DFFrQ7-Ztvhk",
        "outputId": "caf343c2-0c99-43e1-c745-624ac812afa8"
      },
      "source": [
        "df.columns"
      ],
      "execution_count": 18,
      "outputs": [
        {
          "output_type": "execute_result",
          "data": {
            "text/plain": [
              "Index(['name', 'category_list', 'market', 'funding_total_usd', 'status',\n",
              "       'country_code', 'state_code', 'region', 'funding_rounds', 'founded_at',\n",
              "       'founded_month', 'founded_year', 'first_funding_at', 'last_funding_at',\n",
              "       'seed', 'venture', 'equity_crowdfunding', 'undisclosed',\n",
              "       'convertible_note', 'debt_financing', 'angel', 'grant',\n",
              "       'private_equity', 'post_ipo_equity', 'post_ipo_debt',\n",
              "       'secondary_market', 'product_crowdfunding', 'round_A', 'round_B',\n",
              "       'round_C', 'round_D', 'round_E', 'round_F', 'round_G', 'round_H',\n",
              "       'lasting_year', 'Status_acquired', 'Status_closed', 'Status_operating',\n",
              "       'if_ipo', 'month', 'if_jan', 'found_fund_diff', 'fir_end_diff',\n",
              "       'founded_year_range'],\n",
              "      dtype='object')"
            ]
          },
          "metadata": {},
          "execution_count": 18
        }
      ]
    },
    {
      "cell_type": "markdown",
      "metadata": {
        "id": "4vVuqwvGv1k2"
      },
      "source": [
        "## Summary Statistics"
      ]
    },
    {
      "cell_type": "markdown",
      "metadata": {
        "id": "FkoFAveJyhfC"
      },
      "source": [
        "1. Construct a bar chart that displays the number of startups in terms of time.\n"
      ]
    },
    {
      "cell_type": "code",
      "metadata": {
        "colab": {
          "base_uri": "https://localhost:8080/",
          "height": 399
        },
        "id": "hfvZMjftygr7",
        "outputId": "da83b5a7-bb2f-48a9-cf94-e14e0a5a6a8e"
      },
      "source": [
        "df_year = df[df['founded_year'] < 2013]\n",
        "df_year = df_year.groupby(['founded_year'])['name'].count()\n",
        "df_year = df_year.reset_index()\n",
        "df_year.rename({'founded_year': 'Founded_Year', 'name': 'Count_of_Records'}, axis=1, inplace=True)\n",
        "\n",
        "year_plt = alt.Chart(df_year, title = 'Number of startups reaches the peak in 2012 worldwide').mark_line().encode(\n",
        "           alt.X('Founded_Year:N', title = 'Founded Year'),\n",
        "           alt.Y('Count_of_Records:Q', title = 'Count of Records'),\n",
        "           tooltip = ['Founded_Year', 'Count_of_Records']\n",
        "           ).properties(width=800, height=300).interactive()\n",
        "year_plt\n"
      ],
      "execution_count": 19,
      "outputs": [
        {
          "output_type": "execute_result",
          "data": {
            "text/plain": [
              "alt.Chart(...)"
            ],
            "text/html": [
              "\n",
              "<div id=\"altair-viz-d86c42edf8514e77b222a95cca8a5985\"></div>\n",
              "<script type=\"text/javascript\">\n",
              "  var VEGA_DEBUG = (typeof VEGA_DEBUG == \"undefined\") ? {} : VEGA_DEBUG;\n",
              "  (function(spec, embedOpt){\n",
              "    let outputDiv = document.currentScript.previousElementSibling;\n",
              "    if (outputDiv.id !== \"altair-viz-d86c42edf8514e77b222a95cca8a5985\") {\n",
              "      outputDiv = document.getElementById(\"altair-viz-d86c42edf8514e77b222a95cca8a5985\");\n",
              "    }\n",
              "    const paths = {\n",
              "      \"vega\": \"https://cdn.jsdelivr.net/npm//vega@5?noext\",\n",
              "      \"vega-lib\": \"https://cdn.jsdelivr.net/npm//vega-lib?noext\",\n",
              "      \"vega-lite\": \"https://cdn.jsdelivr.net/npm//vega-lite@4.17.0?noext\",\n",
              "      \"vega-embed\": \"https://cdn.jsdelivr.net/npm//vega-embed@6?noext\",\n",
              "    };\n",
              "\n",
              "    function maybeLoadScript(lib, version) {\n",
              "      var key = `${lib.replace(\"-\", \"\")}_version`;\n",
              "      return (VEGA_DEBUG[key] == version) ?\n",
              "        Promise.resolve(paths[lib]) :\n",
              "        new Promise(function(resolve, reject) {\n",
              "          var s = document.createElement('script');\n",
              "          document.getElementsByTagName(\"head\")[0].appendChild(s);\n",
              "          s.async = true;\n",
              "          s.onload = () => {\n",
              "            VEGA_DEBUG[key] = version;\n",
              "            return resolve(paths[lib]);\n",
              "          };\n",
              "          s.onerror = () => reject(`Error loading script: ${paths[lib]}`);\n",
              "          s.src = paths[lib];\n",
              "        });\n",
              "    }\n",
              "\n",
              "    function showError(err) {\n",
              "      outputDiv.innerHTML = `<div class=\"error\" style=\"color:red;\">${err}</div>`;\n",
              "      throw err;\n",
              "    }\n",
              "\n",
              "    function displayChart(vegaEmbed) {\n",
              "      vegaEmbed(outputDiv, spec, embedOpt)\n",
              "        .catch(err => showError(`Javascript Error: ${err.message}<br>This usually means there's a typo in your chart specification. See the javascript console for the full traceback.`));\n",
              "    }\n",
              "\n",
              "    if(typeof define === \"function\" && define.amd) {\n",
              "      requirejs.config({paths});\n",
              "      require([\"vega-embed\"], displayChart, err => showError(`Error loading script: ${err.message}`));\n",
              "    } else {\n",
              "      maybeLoadScript(\"vega\", \"5\")\n",
              "        .then(() => maybeLoadScript(\"vega-lite\", \"4.17.0\"))\n",
              "        .then(() => maybeLoadScript(\"vega-embed\", \"6\"))\n",
              "        .catch(showError)\n",
              "        .then(() => displayChart(vegaEmbed));\n",
              "    }\n",
              "  })({\"config\": {\"view\": {\"continuousWidth\": 400, \"continuousHeight\": 300}}, \"data\": {\"name\": \"data-b320d92a79ffb5edbb7f07e863e82e92\"}, \"mark\": \"line\", \"encoding\": {\"tooltip\": [{\"field\": \"Founded_Year\", \"type\": \"quantitative\"}, {\"field\": \"Count_of_Records\", \"type\": \"quantitative\"}], \"x\": {\"field\": \"Founded_Year\", \"title\": \"Founded Year\", \"type\": \"nominal\"}, \"y\": {\"field\": \"Count_of_Records\", \"title\": \"Count of Records\", \"type\": \"quantitative\"}}, \"height\": 300, \"selection\": {\"selector001\": {\"type\": \"interval\", \"bind\": \"scales\", \"encodings\": [\"x\", \"y\"]}}, \"title\": \"Number of startups reaches the peak in 2012 worldwide\", \"width\": 800, \"$schema\": \"https://vega.github.io/schema/vega-lite/v4.17.0.json\", \"datasets\": {\"data-b320d92a79ffb5edbb7f07e863e82e92\": [{\"Founded_Year\": 1902.0, \"Count_of_Records\": 2}, {\"Founded_Year\": 1903.0, \"Count_of_Records\": 1}, {\"Founded_Year\": 1905.0, \"Count_of_Records\": 1}, {\"Founded_Year\": 1906.0, \"Count_of_Records\": 5}, {\"Founded_Year\": 1907.0, \"Count_of_Records\": 1}, {\"Founded_Year\": 1908.0, \"Count_of_Records\": 1}, {\"Founded_Year\": 1910.0, \"Count_of_Records\": 2}, {\"Founded_Year\": 1911.0, \"Count_of_Records\": 2}, {\"Founded_Year\": 1912.0, \"Count_of_Records\": 6}, {\"Founded_Year\": 1913.0, \"Count_of_Records\": 2}, {\"Founded_Year\": 1914.0, \"Count_of_Records\": 2}, {\"Founded_Year\": 1917.0, \"Count_of_Records\": 1}, {\"Founded_Year\": 1918.0, \"Count_of_Records\": 1}, {\"Founded_Year\": 1919.0, \"Count_of_Records\": 3}, {\"Founded_Year\": 1920.0, \"Count_of_Records\": 1}, {\"Founded_Year\": 1921.0, \"Count_of_Records\": 2}, {\"Founded_Year\": 1922.0, \"Count_of_Records\": 4}, {\"Founded_Year\": 1923.0, \"Count_of_Records\": 2}, {\"Founded_Year\": 1924.0, \"Count_of_Records\": 6}, {\"Founded_Year\": 1925.0, \"Count_of_Records\": 1}, {\"Founded_Year\": 1926.0, \"Count_of_Records\": 2}, {\"Founded_Year\": 1928.0, \"Count_of_Records\": 4}, {\"Founded_Year\": 1929.0, \"Count_of_Records\": 1}, {\"Founded_Year\": 1930.0, \"Count_of_Records\": 5}, {\"Founded_Year\": 1933.0, \"Count_of_Records\": 2}, {\"Founded_Year\": 1934.0, \"Count_of_Records\": 3}, {\"Founded_Year\": 1936.0, \"Count_of_Records\": 1}, {\"Founded_Year\": 1937.0, \"Count_of_Records\": 2}, {\"Founded_Year\": 1938.0, \"Count_of_Records\": 1}, {\"Founded_Year\": 1939.0, \"Count_of_Records\": 1}, {\"Founded_Year\": 1941.0, \"Count_of_Records\": 1}, {\"Founded_Year\": 1943.0, \"Count_of_Records\": 1}, {\"Founded_Year\": 1944.0, \"Count_of_Records\": 1}, {\"Founded_Year\": 1945.0, \"Count_of_Records\": 3}, {\"Founded_Year\": 1946.0, \"Count_of_Records\": 1}, {\"Founded_Year\": 1947.0, \"Count_of_Records\": 4}, {\"Founded_Year\": 1948.0, \"Count_of_Records\": 7}, {\"Founded_Year\": 1949.0, \"Count_of_Records\": 2}, {\"Founded_Year\": 1950.0, \"Count_of_Records\": 2}, {\"Founded_Year\": 1951.0, \"Count_of_Records\": 2}, {\"Founded_Year\": 1952.0, \"Count_of_Records\": 5}, {\"Founded_Year\": 1953.0, \"Count_of_Records\": 2}, {\"Founded_Year\": 1954.0, \"Count_of_Records\": 5}, {\"Founded_Year\": 1955.0, \"Count_of_Records\": 4}, {\"Founded_Year\": 1956.0, \"Count_of_Records\": 3}, {\"Founded_Year\": 1957.0, \"Count_of_Records\": 2}, {\"Founded_Year\": 1958.0, \"Count_of_Records\": 3}, {\"Founded_Year\": 1959.0, \"Count_of_Records\": 6}, {\"Founded_Year\": 1960.0, \"Count_of_Records\": 9}, {\"Founded_Year\": 1961.0, \"Count_of_Records\": 8}, {\"Founded_Year\": 1962.0, \"Count_of_Records\": 2}, {\"Founded_Year\": 1963.0, \"Count_of_Records\": 8}, {\"Founded_Year\": 1964.0, \"Count_of_Records\": 6}, {\"Founded_Year\": 1965.0, \"Count_of_Records\": 3}, {\"Founded_Year\": 1966.0, \"Count_of_Records\": 8}, {\"Founded_Year\": 1967.0, \"Count_of_Records\": 11}, {\"Founded_Year\": 1968.0, \"Count_of_Records\": 10}, {\"Founded_Year\": 1969.0, \"Count_of_Records\": 18}, {\"Founded_Year\": 1970.0, \"Count_of_Records\": 8}, {\"Founded_Year\": 1971.0, \"Count_of_Records\": 13}, {\"Founded_Year\": 1972.0, \"Count_of_Records\": 15}, {\"Founded_Year\": 1973.0, \"Count_of_Records\": 15}, {\"Founded_Year\": 1974.0, \"Count_of_Records\": 11}, {\"Founded_Year\": 1975.0, \"Count_of_Records\": 19}, {\"Founded_Year\": 1976.0, \"Count_of_Records\": 23}, {\"Founded_Year\": 1977.0, \"Count_of_Records\": 12}, {\"Founded_Year\": 1978.0, \"Count_of_Records\": 27}, {\"Founded_Year\": 1979.0, \"Count_of_Records\": 31}, {\"Founded_Year\": 1980.0, \"Count_of_Records\": 41}, {\"Founded_Year\": 1981.0, \"Count_of_Records\": 40}, {\"Founded_Year\": 1982.0, \"Count_of_Records\": 33}, {\"Founded_Year\": 1983.0, \"Count_of_Records\": 60}, {\"Founded_Year\": 1984.0, \"Count_of_Records\": 68}, {\"Founded_Year\": 1985.0, \"Count_of_Records\": 77}, {\"Founded_Year\": 1986.0, \"Count_of_Records\": 65}, {\"Founded_Year\": 1987.0, \"Count_of_Records\": 68}, {\"Founded_Year\": 1988.0, \"Count_of_Records\": 73}, {\"Founded_Year\": 1989.0, \"Count_of_Records\": 91}, {\"Founded_Year\": 1990.0, \"Count_of_Records\": 87}, {\"Founded_Year\": 1991.0, \"Count_of_Records\": 92}, {\"Founded_Year\": 1992.0, \"Count_of_Records\": 115}, {\"Founded_Year\": 1993.0, \"Count_of_Records\": 128}, {\"Founded_Year\": 1994.0, \"Count_of_Records\": 155}, {\"Founded_Year\": 1995.0, \"Count_of_Records\": 223}, {\"Founded_Year\": 1996.0, \"Count_of_Records\": 300}, {\"Founded_Year\": 1997.0, \"Count_of_Records\": 357}, {\"Founded_Year\": 1998.0, \"Count_of_Records\": 433}, {\"Founded_Year\": 1999.0, \"Count_of_Records\": 751}, {\"Founded_Year\": 2000.0, \"Count_of_Records\": 874}, {\"Founded_Year\": 2001.0, \"Count_of_Records\": 736}, {\"Founded_Year\": 2002.0, \"Count_of_Records\": 780}, {\"Founded_Year\": 2003.0, \"Count_of_Records\": 944}, {\"Founded_Year\": 2004.0, \"Count_of_Records\": 1143}, {\"Founded_Year\": 2005.0, \"Count_of_Records\": 1376}, {\"Founded_Year\": 2006.0, \"Count_of_Records\": 1720}, {\"Founded_Year\": 2007.0, \"Count_of_Records\": 2189}, {\"Founded_Year\": 2008.0, \"Count_of_Records\": 2130}, {\"Founded_Year\": 2009.0, \"Count_of_Records\": 2755}, {\"Founded_Year\": 2010.0, \"Count_of_Records\": 3488}, {\"Founded_Year\": 2011.0, \"Count_of_Records\": 4503}, {\"Founded_Year\": 2012.0, \"Count_of_Records\": 4725}]}}, {\"mode\": \"vega-lite\"});\n",
              "</script>"
            ]
          },
          "metadata": {},
          "execution_count": 19
        }
      ]
    },
    {
      "cell_type": "markdown",
      "metadata": {
        "id": "6bARILHKhAbp"
      },
      "source": [
        "Based on the visualization above,  we find two small drops from 1902 to 2012, occurring in 2000 and 2007. We think that the 2000 recession and 2008 financial crisis are the main reasons that caused the decline or lag decline of startups in corresponding years. \n"
      ]
    },
    {
      "cell_type": "code",
      "metadata": {
        "id": "dF3hSfXxLbox"
      },
      "source": [
        "df_name = df.copy()\n",
        "df_name = df_name[df_name['name'].notna()]\n",
        "df_name['if_com'] = df_name['name'].str.contains('\\.com')\n",
        "df_name['if_com'] = df_name['if_com'].astype(int)\n",
        "\n",
        "group_count = df_name.groupby(['founded_year_range'])['name'].count()\n",
        "group_count.index = group_count.index.astype(str)\n",
        "group_count = group_count.reset_index()\n",
        "\n",
        "group_sum = df_name.groupby(['founded_year_range'])['if_com'].sum()\n",
        "group_sum.index = group_sum.index.astype(str)\n",
        "group_sum = group_sum.reset_index()\n",
        "\n",
        "group_count['Company_with_com'] = group_sum['if_com']\n",
        "group_count['Percentage'] = round(group_sum['if_com']/group_count['name']*100,2)\n",
        "\n",
        "group_count.rename({'founded_year_range': 'Year_Range', 'name': 'Count_of_Records'}, axis=1, inplace=True)\n",
        "\n",
        "sep = alt.Chart(group_count, title= 'The shift to \"Information Age\" started from 1990').mark_bar().encode(\n",
        "    alt.X('Year_Range:N'),\n",
        "    alt.Y('Percentage:Q', title = 'Percentage'),\n",
        "    tooltip = ['Year_Range', 'Percentage', 'Count_of_Records']\n",
        ").interactive()\n",
        "\n",
        "bar1 =  alt.Chart(group_count).mark_line(color='#5276A7').encode(\n",
        "    alt.X('Year_Range:N'),\n",
        "    alt.Y('Count_of_Records', title = 'Count of Records'),\n",
        "    tooltip = ['Year_Range', 'Count_of_Records']\n",
        ").interactive()\n",
        "bar2 =  alt.Chart(group_count).mark_line(color='#A40066').encode(\n",
        "    alt.X('Year_Range:N'),\n",
        "    alt.Y('Company_with_com', title = 'Count of .com'),\n",
        "    tooltip = ['Year_Range', 'Company_with_com']\n",
        ").interactive()\n",
        "together = alt.layer(bar1, bar2)"
      ],
      "execution_count": 20,
      "outputs": []
    },
    {
      "cell_type": "code",
      "metadata": {
        "colab": {
          "base_uri": "https://localhost:8080/",
          "height": 436
        },
        "id": "Y4isTXylaQRn",
        "outputId": "8db9a5d9-3006-4f9b-ffda-5818e4e84578"
      },
      "source": [
        "sep | together\n"
      ],
      "execution_count": 21,
      "outputs": [
        {
          "output_type": "execute_result",
          "data": {
            "text/plain": [
              "alt.HConcatChart(...)"
            ],
            "text/html": [
              "\n",
              "<div id=\"altair-viz-feac6fbfc7cc429cb541e3eb64879e72\"></div>\n",
              "<script type=\"text/javascript\">\n",
              "  var VEGA_DEBUG = (typeof VEGA_DEBUG == \"undefined\") ? {} : VEGA_DEBUG;\n",
              "  (function(spec, embedOpt){\n",
              "    let outputDiv = document.currentScript.previousElementSibling;\n",
              "    if (outputDiv.id !== \"altair-viz-feac6fbfc7cc429cb541e3eb64879e72\") {\n",
              "      outputDiv = document.getElementById(\"altair-viz-feac6fbfc7cc429cb541e3eb64879e72\");\n",
              "    }\n",
              "    const paths = {\n",
              "      \"vega\": \"https://cdn.jsdelivr.net/npm//vega@5?noext\",\n",
              "      \"vega-lib\": \"https://cdn.jsdelivr.net/npm//vega-lib?noext\",\n",
              "      \"vega-lite\": \"https://cdn.jsdelivr.net/npm//vega-lite@4.17.0?noext\",\n",
              "      \"vega-embed\": \"https://cdn.jsdelivr.net/npm//vega-embed@6?noext\",\n",
              "    };\n",
              "\n",
              "    function maybeLoadScript(lib, version) {\n",
              "      var key = `${lib.replace(\"-\", \"\")}_version`;\n",
              "      return (VEGA_DEBUG[key] == version) ?\n",
              "        Promise.resolve(paths[lib]) :\n",
              "        new Promise(function(resolve, reject) {\n",
              "          var s = document.createElement('script');\n",
              "          document.getElementsByTagName(\"head\")[0].appendChild(s);\n",
              "          s.async = true;\n",
              "          s.onload = () => {\n",
              "            VEGA_DEBUG[key] = version;\n",
              "            return resolve(paths[lib]);\n",
              "          };\n",
              "          s.onerror = () => reject(`Error loading script: ${paths[lib]}`);\n",
              "          s.src = paths[lib];\n",
              "        });\n",
              "    }\n",
              "\n",
              "    function showError(err) {\n",
              "      outputDiv.innerHTML = `<div class=\"error\" style=\"color:red;\">${err}</div>`;\n",
              "      throw err;\n",
              "    }\n",
              "\n",
              "    function displayChart(vegaEmbed) {\n",
              "      vegaEmbed(outputDiv, spec, embedOpt)\n",
              "        .catch(err => showError(`Javascript Error: ${err.message}<br>This usually means there's a typo in your chart specification. See the javascript console for the full traceback.`));\n",
              "    }\n",
              "\n",
              "    if(typeof define === \"function\" && define.amd) {\n",
              "      requirejs.config({paths});\n",
              "      require([\"vega-embed\"], displayChart, err => showError(`Error loading script: ${err.message}`));\n",
              "    } else {\n",
              "      maybeLoadScript(\"vega\", \"5\")\n",
              "        .then(() => maybeLoadScript(\"vega-lite\", \"4.17.0\"))\n",
              "        .then(() => maybeLoadScript(\"vega-embed\", \"6\"))\n",
              "        .catch(showError)\n",
              "        .then(() => displayChart(vegaEmbed));\n",
              "    }\n",
              "  })({\"config\": {\"view\": {\"continuousWidth\": 400, \"continuousHeight\": 300}}, \"hconcat\": [{\"mark\": \"bar\", \"encoding\": {\"tooltip\": [{\"field\": \"Year_Range\", \"type\": \"nominal\"}, {\"field\": \"Percentage\", \"type\": \"quantitative\"}, {\"field\": \"Count_of_Records\", \"type\": \"quantitative\"}], \"x\": {\"field\": \"Year_Range\", \"type\": \"nominal\"}, \"y\": {\"field\": \"Percentage\", \"title\": \"Percentage\", \"type\": \"quantitative\"}}, \"selection\": {\"selector002\": {\"type\": \"interval\", \"bind\": \"scales\", \"encodings\": [\"x\", \"y\"]}}, \"title\": \"The shift to \\\"Information Age\\\" started from 1990\"}, {\"layer\": [{\"mark\": {\"type\": \"line\", \"color\": \"#5276A7\"}, \"encoding\": {\"tooltip\": [{\"field\": \"Year_Range\", \"type\": \"nominal\"}, {\"field\": \"Count_of_Records\", \"type\": \"quantitative\"}], \"x\": {\"field\": \"Year_Range\", \"type\": \"nominal\"}, \"y\": {\"field\": \"Count_of_Records\", \"title\": \"Count of Records\", \"type\": \"quantitative\"}}, \"selection\": {\"selector003\": {\"type\": \"interval\", \"bind\": \"scales\", \"encodings\": [\"x\", \"y\"]}}}, {\"mark\": {\"type\": \"line\", \"color\": \"#A40066\"}, \"encoding\": {\"tooltip\": [{\"field\": \"Year_Range\", \"type\": \"nominal\"}, {\"field\": \"Company_with_com\", \"type\": \"quantitative\"}], \"x\": {\"field\": \"Year_Range\", \"type\": \"nominal\"}, \"y\": {\"field\": \"Company_with_com\", \"title\": \"Count of .com\", \"type\": \"quantitative\"}}, \"selection\": {\"selector004\": {\"type\": \"interval\", \"bind\": \"scales\", \"encodings\": [\"x\", \"y\"]}}}]}], \"data\": {\"name\": \"data-d3df3fafa7f7005b484c0422ea1b27d8\"}, \"$schema\": \"https://vega.github.io/schema/vega-lite/v4.17.0.json\", \"datasets\": {\"data-d3df3fafa7f7005b484c0422ea1b27d8\": [{\"Year_Range\": \"[1900, 1910)\", \"Count_of_Records\": 11, \"Company_with_com\": 0, \"Percentage\": 0.0}, {\"Year_Range\": \"[1910, 1920)\", \"Count_of_Records\": 19, \"Company_with_com\": 1, \"Percentage\": 5.26}, {\"Year_Range\": \"[1920, 1930)\", \"Count_of_Records\": 23, \"Company_with_com\": 0, \"Percentage\": 0.0}, {\"Year_Range\": \"[1930, 1940)\", \"Count_of_Records\": 15, \"Company_with_com\": 0, \"Percentage\": 0.0}, {\"Year_Range\": \"[1940, 1950)\", \"Count_of_Records\": 20, \"Company_with_com\": 0, \"Percentage\": 0.0}, {\"Year_Range\": \"[1950, 1960)\", \"Count_of_Records\": 34, \"Company_with_com\": 0, \"Percentage\": 0.0}, {\"Year_Range\": \"[1960, 1970)\", \"Count_of_Records\": 83, \"Company_with_com\": 0, \"Percentage\": 0.0}, {\"Year_Range\": \"[1970, 1980)\", \"Count_of_Records\": 174, \"Company_with_com\": 0, \"Percentage\": 0.0}, {\"Year_Range\": \"[1980, 1990)\", \"Count_of_Records\": 616, \"Company_with_com\": 2, \"Percentage\": 0.32}, {\"Year_Range\": \"[1990, 2000)\", \"Count_of_Records\": 2641, \"Company_with_com\": 41, \"Percentage\": 1.55}, {\"Year_Range\": \"[2000, 2010)\", \"Count_of_Records\": 14647, \"Company_with_com\": 275, \"Percentage\": 1.88}, {\"Year_Range\": \"[2010, 2020)\", \"Count_of_Records\": 17453, \"Company_with_com\": 350, \"Percentage\": 2.01}]}}, {\"mode\": \"vega-lite\"});\n",
              "</script>"
            ]
          },
          "metadata": {},
          "execution_count": 21
        }
      ]
    },
    {
      "cell_type": "markdown",
      "metadata": {
        "id": "ACzxFtCHOb4s"
      },
      "source": [
        "The release of Mosiac in 1993 and following web browsers gave computer users access to the World Wide Web. Based on [wikipedia](https://en.wikipedia.org/wiki/Dot-com_bubble), the percentage of households in the United States owning computers increased from 15% to 35% as computer ownership progressed from a luxury to a necessity from 1990 to 1997. At the same time, many investors were eager to invest in any dot-com company, especially if it had one of the Internet-related prefixes or a \".com\" suffix in its name.\n",
        "\n",
        "According to the visualization, we find that the number of startups containing \".com\" as a suffix in its name has increased dramatically from 1990 through 2000, parallel with the shift to \"Information Age.\" The percentage of startups that contained \".com\" as a suffix in its name in 1910-1920 is much more significant than other periods. The reason behind it is that one company among a total of 19 startups contained \".com\" as a suffix in its name, which makes the percentage more remarkable with a smaller denominator. "
      ]
    },
    {
      "cell_type": "markdown",
      "metadata": {
        "id": "8u8-eue-3gwA"
      },
      "source": [
        "2. Construct a bar chart that displays the top 20 markets for startups"
      ]
    },
    {
      "cell_type": "code",
      "metadata": {
        "colab": {
          "base_uri": "https://localhost:8080/",
          "height": 468
        },
        "id": "Ntb0iEOP3UEL",
        "outputId": "8b13e954-8188-4792-d67a-415767fd6e9a"
      },
      "source": [
        "df_market = df.groupby(['market'])['name'].count()\n",
        "df_market = df_market.reset_index().sort_values(by = 'name',ascending = False)[:20]\n",
        "df_market.rename({'market': 'Market', 'name': 'Count_of_Records'}, axis=1, inplace=True)\n",
        "\n",
        "alt.Chart(df_market, title= 'Software is the leading market in all startups').mark_bar().encode(\n",
        "    alt.X('Market:N', sort=alt.EncodingSortField(order='descending')),\n",
        "    alt.Y('Count_of_Records:Q', title = 'Count of Records'),\n",
        "    alt.Color('Market:N', sort=alt.EncodingSortField(order='descending')),\n",
        "    tooltip = ['Market', 'Count_of_Records']\n",
        ").interactive()\n",
        "#present"
      ],
      "execution_count": 22,
      "outputs": [
        {
          "output_type": "execute_result",
          "data": {
            "text/plain": [
              "alt.Chart(...)"
            ],
            "text/html": [
              "\n",
              "<div id=\"altair-viz-74ab7a278f634dee92ec7eaeef6e71bd\"></div>\n",
              "<script type=\"text/javascript\">\n",
              "  var VEGA_DEBUG = (typeof VEGA_DEBUG == \"undefined\") ? {} : VEGA_DEBUG;\n",
              "  (function(spec, embedOpt){\n",
              "    let outputDiv = document.currentScript.previousElementSibling;\n",
              "    if (outputDiv.id !== \"altair-viz-74ab7a278f634dee92ec7eaeef6e71bd\") {\n",
              "      outputDiv = document.getElementById(\"altair-viz-74ab7a278f634dee92ec7eaeef6e71bd\");\n",
              "    }\n",
              "    const paths = {\n",
              "      \"vega\": \"https://cdn.jsdelivr.net/npm//vega@5?noext\",\n",
              "      \"vega-lib\": \"https://cdn.jsdelivr.net/npm//vega-lib?noext\",\n",
              "      \"vega-lite\": \"https://cdn.jsdelivr.net/npm//vega-lite@4.17.0?noext\",\n",
              "      \"vega-embed\": \"https://cdn.jsdelivr.net/npm//vega-embed@6?noext\",\n",
              "    };\n",
              "\n",
              "    function maybeLoadScript(lib, version) {\n",
              "      var key = `${lib.replace(\"-\", \"\")}_version`;\n",
              "      return (VEGA_DEBUG[key] == version) ?\n",
              "        Promise.resolve(paths[lib]) :\n",
              "        new Promise(function(resolve, reject) {\n",
              "          var s = document.createElement('script');\n",
              "          document.getElementsByTagName(\"head\")[0].appendChild(s);\n",
              "          s.async = true;\n",
              "          s.onload = () => {\n",
              "            VEGA_DEBUG[key] = version;\n",
              "            return resolve(paths[lib]);\n",
              "          };\n",
              "          s.onerror = () => reject(`Error loading script: ${paths[lib]}`);\n",
              "          s.src = paths[lib];\n",
              "        });\n",
              "    }\n",
              "\n",
              "    function showError(err) {\n",
              "      outputDiv.innerHTML = `<div class=\"error\" style=\"color:red;\">${err}</div>`;\n",
              "      throw err;\n",
              "    }\n",
              "\n",
              "    function displayChart(vegaEmbed) {\n",
              "      vegaEmbed(outputDiv, spec, embedOpt)\n",
              "        .catch(err => showError(`Javascript Error: ${err.message}<br>This usually means there's a typo in your chart specification. See the javascript console for the full traceback.`));\n",
              "    }\n",
              "\n",
              "    if(typeof define === \"function\" && define.amd) {\n",
              "      requirejs.config({paths});\n",
              "      require([\"vega-embed\"], displayChart, err => showError(`Error loading script: ${err.message}`));\n",
              "    } else {\n",
              "      maybeLoadScript(\"vega\", \"5\")\n",
              "        .then(() => maybeLoadScript(\"vega-lite\", \"4.17.0\"))\n",
              "        .then(() => maybeLoadScript(\"vega-embed\", \"6\"))\n",
              "        .catch(showError)\n",
              "        .then(() => displayChart(vegaEmbed));\n",
              "    }\n",
              "  })({\"config\": {\"view\": {\"continuousWidth\": 400, \"continuousHeight\": 300}}, \"data\": {\"name\": \"data-c2a6baeaeb6448323b1bd77563976774\"}, \"mark\": \"bar\", \"encoding\": {\"color\": {\"field\": \"Market\", \"sort\": {\"order\": \"descending\"}, \"type\": \"nominal\"}, \"tooltip\": [{\"field\": \"Market\", \"type\": \"nominal\"}, {\"field\": \"Count_of_Records\", \"type\": \"quantitative\"}], \"x\": {\"field\": \"Market\", \"sort\": {\"order\": \"descending\"}, \"type\": \"nominal\"}, \"y\": {\"field\": \"Count_of_Records\", \"title\": \"Count of Records\", \"type\": \"quantitative\"}}, \"selection\": {\"selector005\": {\"type\": \"interval\", \"bind\": \"scales\", \"encodings\": [\"x\", \"y\"]}}, \"title\": \"Software is the leading market in all startups\", \"$schema\": \"https://vega.github.io/schema/vega-lite/v4.17.0.json\", \"datasets\": {\"data-c2a6baeaeb6448323b1bd77563976774\": [{\"Market\": \"Software\", \"Count_of_Records\": 3631}, {\"Market\": \"Biotechnology\", \"Count_of_Records\": 2433}, {\"Market\": \"Mobile\", \"Count_of_Records\": 1482}, {\"Market\": \"E-Commerce\", \"Count_of_Records\": 1335}, {\"Market\": \"CuratedWeb\", \"Count_of_Records\": 1181}, {\"Market\": \"EnterpriseSoftware\", \"Count_of_Records\": 1010}, {\"Market\": \"HealthCare\", \"Count_of_Records\": 845}, {\"Market\": \"Games\", \"Count_of_Records\": 833}, {\"Market\": \"Advertising\", \"Count_of_Records\": 824}, {\"Market\": \"Hardware+Software\", \"Count_of_Records\": 798}, {\"Market\": \"CleanTechnology\", \"Count_of_Records\": 749}, {\"Market\": \"Education\", \"Count_of_Records\": 642}, {\"Market\": \"HealthandWellness\", \"Count_of_Records\": 640}, {\"Market\": \"SocialMedia\", \"Count_of_Records\": 627}, {\"Market\": \"Finance\", \"Count_of_Records\": 617}, {\"Market\": \"Manufacturing\", \"Count_of_Records\": 506}, {\"Market\": \"Analytics\", \"Count_of_Records\": 493}, {\"Market\": \"Security\", \"Count_of_Records\": 394}, {\"Market\": \"Semiconductors\", \"Count_of_Records\": 371}, {\"Market\": \"Consulting\", \"Count_of_Records\": 369}]}}, {\"mode\": \"vega-lite\"});\n",
              "</script>"
            ]
          },
          "metadata": {},
          "execution_count": 22
        }
      ]
    },
    {
      "cell_type": "markdown",
      "metadata": {
        "id": "8uQNJGrgXFlF"
      },
      "source": [
        "Most markets included in this top list are related to technology such as software, biotechnology, mobile, E-commerce, etc. In other words, the technology-related market is the most popular one that founders work for. Currently, we are entering the [fifth generation](https://www.mhconsults.com/blog/what-are-the-five-generations-of-computer-technology/) of technology, from information technology to artificial technology. **New startups should keep innovating and exploring how to adapt artificial technology toward individual business needs.**"
      ]
    },
    {
      "cell_type": "markdown",
      "metadata": {
        "id": "J0l0YuQuFPon"
      },
      "source": [
        "3. Constract a bar chart displays the top 15 countires for startups"
      ]
    },
    {
      "cell_type": "code",
      "metadata": {
        "colab": {
          "base_uri": "https://localhost:8080/",
          "height": 397
        },
        "id": "etYKXat68Rik",
        "outputId": "d221125d-8bd6-441d-b494-59ee6a629a07"
      },
      "source": [
        "df_country = df.groupby(['country_code'])['name'].count()\n",
        "df_country = df_country.reset_index().sort_values(by = 'name',ascending = False)[:15]\n",
        "df_country.rename({'country_code': 'Country', 'name': 'Count_of_Records'}, axis=1, inplace=True)\n",
        "top_10_country = list(df_country['Country'])\n",
        "\n",
        "alt.Chart(df_country, title = \"The number of USA's startups is dominant worldwide\").mark_bar().encode(\n",
        "    alt.X('Country:N', sort=alt.EncodingSortField(order='descending')),\n",
        "    alt.Y('Count_of_Records:Q', title = 'Count of Records'),\n",
        "    alt.Color('Country:N', sort=alt.EncodingSortField(order='descending')),\n",
        "    tooltip = ['Country', 'Count_of_Records']\n",
        ").interactive()\n",
        "#present"
      ],
      "execution_count": 23,
      "outputs": [
        {
          "output_type": "execute_result",
          "data": {
            "text/plain": [
              "alt.Chart(...)"
            ],
            "text/html": [
              "\n",
              "<div id=\"altair-viz-c19ab6e96d444ca4839a2542f36df373\"></div>\n",
              "<script type=\"text/javascript\">\n",
              "  var VEGA_DEBUG = (typeof VEGA_DEBUG == \"undefined\") ? {} : VEGA_DEBUG;\n",
              "  (function(spec, embedOpt){\n",
              "    let outputDiv = document.currentScript.previousElementSibling;\n",
              "    if (outputDiv.id !== \"altair-viz-c19ab6e96d444ca4839a2542f36df373\") {\n",
              "      outputDiv = document.getElementById(\"altair-viz-c19ab6e96d444ca4839a2542f36df373\");\n",
              "    }\n",
              "    const paths = {\n",
              "      \"vega\": \"https://cdn.jsdelivr.net/npm//vega@5?noext\",\n",
              "      \"vega-lib\": \"https://cdn.jsdelivr.net/npm//vega-lib?noext\",\n",
              "      \"vega-lite\": \"https://cdn.jsdelivr.net/npm//vega-lite@4.17.0?noext\",\n",
              "      \"vega-embed\": \"https://cdn.jsdelivr.net/npm//vega-embed@6?noext\",\n",
              "    };\n",
              "\n",
              "    function maybeLoadScript(lib, version) {\n",
              "      var key = `${lib.replace(\"-\", \"\")}_version`;\n",
              "      return (VEGA_DEBUG[key] == version) ?\n",
              "        Promise.resolve(paths[lib]) :\n",
              "        new Promise(function(resolve, reject) {\n",
              "          var s = document.createElement('script');\n",
              "          document.getElementsByTagName(\"head\")[0].appendChild(s);\n",
              "          s.async = true;\n",
              "          s.onload = () => {\n",
              "            VEGA_DEBUG[key] = version;\n",
              "            return resolve(paths[lib]);\n",
              "          };\n",
              "          s.onerror = () => reject(`Error loading script: ${paths[lib]}`);\n",
              "          s.src = paths[lib];\n",
              "        });\n",
              "    }\n",
              "\n",
              "    function showError(err) {\n",
              "      outputDiv.innerHTML = `<div class=\"error\" style=\"color:red;\">${err}</div>`;\n",
              "      throw err;\n",
              "    }\n",
              "\n",
              "    function displayChart(vegaEmbed) {\n",
              "      vegaEmbed(outputDiv, spec, embedOpt)\n",
              "        .catch(err => showError(`Javascript Error: ${err.message}<br>This usually means there's a typo in your chart specification. See the javascript console for the full traceback.`));\n",
              "    }\n",
              "\n",
              "    if(typeof define === \"function\" && define.amd) {\n",
              "      requirejs.config({paths});\n",
              "      require([\"vega-embed\"], displayChart, err => showError(`Error loading script: ${err.message}`));\n",
              "    } else {\n",
              "      maybeLoadScript(\"vega\", \"5\")\n",
              "        .then(() => maybeLoadScript(\"vega-lite\", \"4.17.0\"))\n",
              "        .then(() => maybeLoadScript(\"vega-embed\", \"6\"))\n",
              "        .catch(showError)\n",
              "        .then(() => displayChart(vegaEmbed));\n",
              "    }\n",
              "  })({\"config\": {\"view\": {\"continuousWidth\": 400, \"continuousHeight\": 300}}, \"data\": {\"name\": \"data-bb0a5ab922211b39d1337cf581327395\"}, \"mark\": \"bar\", \"encoding\": {\"color\": {\"field\": \"Country\", \"sort\": {\"order\": \"descending\"}, \"type\": \"nominal\"}, \"tooltip\": [{\"field\": \"Country\", \"type\": \"nominal\"}, {\"field\": \"Count_of_Records\", \"type\": \"quantitative\"}], \"x\": {\"field\": \"Country\", \"sort\": {\"order\": \"descending\"}, \"type\": \"nominal\"}, \"y\": {\"field\": \"Count_of_Records\", \"title\": \"Count of Records\", \"type\": \"quantitative\"}}, \"selection\": {\"selector006\": {\"type\": \"interval\", \"bind\": \"scales\", \"encodings\": [\"x\", \"y\"]}}, \"title\": \"The number of USA's startups is dominant worldwide\", \"$schema\": \"https://vega.github.io/schema/vega-lite/v4.17.0.json\", \"datasets\": {\"data-bb0a5ab922211b39d1337cf581327395\": [{\"Country\": \"USA\", \"Count_of_Records\": 22271}, {\"Country\": \"GBR\", \"Count_of_Records\": 1841}, {\"Country\": \"CAN\", \"Count_of_Records\": 1035}, {\"Country\": \"DEU\", \"Count_of_Records\": 675}, {\"Country\": \"IND\", \"Count_of_Records\": 645}, {\"Country\": \"FRA\", \"Count_of_Records\": 639}, {\"Country\": \"CHN\", \"Count_of_Records\": 619}, {\"Country\": \"ISR\", \"Count_of_Records\": 566}, {\"Country\": \"ESP\", \"Count_of_Records\": 398}, {\"Country\": \"RUS\", \"Count_of_Records\": 239}, {\"Country\": \"IRL\", \"Count_of_Records\": 234}, {\"Country\": \"AUS\", \"Count_of_Records\": 227}, {\"Country\": \"SWE\", \"Count_of_Records\": 226}, {\"Country\": \"SGP\", \"Count_of_Records\": 221}, {\"Country\": \"NLD\", \"Count_of_Records\": 220}]}}, {\"mode\": \"vega-lite\"});\n",
              "</script>"
            ]
          },
          "metadata": {},
          "execution_count": 23
        }
      ]
    },
    {
      "cell_type": "markdown",
      "metadata": {
        "id": "ISVda-0qb8n4"
      },
      "source": [
        "The United States dominates the startups worldwide. Based on the visualization, we find that number of startups in the United States is 12 times the United Kingdom (2nd place for the top countries in terms of the total number of startups) from 1902 to 2014.\n",
        "\n",
        "Since we have more data in the United States, we want to dig deeper about the startups in the United States and give suggestions for investors and entrepreneurs who want to start their startups in the United States now."
      ]
    },
    {
      "cell_type": "markdown",
      "metadata": {
        "id": "5fzpmrhCM-NV"
      },
      "source": [
        "4. Build a bar chart that depicts the status distribution of startups"
      ]
    },
    {
      "cell_type": "code",
      "metadata": {
        "colab": {
          "base_uri": "https://localhost:8080/",
          "height": 542
        },
        "id": "gGRfll1KNCEd",
        "outputId": "6520b560-ed0c-40ed-e476-7ad4534c2bdf"
      },
      "source": [
        "df_status = df.groupby(['status'])['name'].count()\n",
        "df_status = df_status.reset_index()\n",
        "\n",
        "fig = px.pie(df_status, values='name', names='status', \n",
        "             color_discrete_sequence=px.colors.sequential.RdBu, title='Startups that are still opearting take 87.1% of all startups')\n",
        "fig.show()"
      ],
      "execution_count": 24,
      "outputs": [
        {
          "output_type": "display_data",
          "data": {
            "text/html": [
              "<html>\n",
              "<head><meta charset=\"utf-8\" /></head>\n",
              "<body>\n",
              "    <div>            <script src=\"https://cdnjs.cloudflare.com/ajax/libs/mathjax/2.7.5/MathJax.js?config=TeX-AMS-MML_SVG\"></script><script type=\"text/javascript\">if (window.MathJax) {MathJax.Hub.Config({SVG: {font: \"STIX-Web\"}});}</script>                <script type=\"text/javascript\">window.PlotlyConfig = {MathJaxConfig: 'local'};</script>\n",
              "        <script src=\"https://cdn.plot.ly/plotly-2.8.3.min.js\"></script>                <div id=\"0f39ca3f-70d0-45fc-9300-f4c43f032282\" class=\"plotly-graph-div\" style=\"height:525px; width:100%;\"></div>            <script type=\"text/javascript\">                                    window.PLOTLYENV=window.PLOTLYENV || {};                                    if (document.getElementById(\"0f39ca3f-70d0-45fc-9300-f4c43f032282\")) {                    Plotly.newPlot(                        \"0f39ca3f-70d0-45fc-9300-f4c43f032282\",                        [{\"domain\":{\"x\":[0.0,1.0],\"y\":[0.0,1.0]},\"hovertemplate\":\"status=%{label}<br>name=%{value}<extra></extra>\",\"labels\":[\"acquired\",\"closed\",\"operating\"],\"legendgroup\":\"\",\"name\":\"\",\"showlegend\":true,\"values\":[2793,1731,30414],\"type\":\"pie\"}],                        {\"template\":{\"data\":{\"bar\":[{\"error_x\":{\"color\":\"#2a3f5f\"},\"error_y\":{\"color\":\"#2a3f5f\"},\"marker\":{\"line\":{\"color\":\"#E5ECF6\",\"width\":0.5},\"pattern\":{\"fillmode\":\"overlay\",\"size\":10,\"solidity\":0.2}},\"type\":\"bar\"}],\"barpolar\":[{\"marker\":{\"line\":{\"color\":\"#E5ECF6\",\"width\":0.5},\"pattern\":{\"fillmode\":\"overlay\",\"size\":10,\"solidity\":0.2}},\"type\":\"barpolar\"}],\"carpet\":[{\"aaxis\":{\"endlinecolor\":\"#2a3f5f\",\"gridcolor\":\"white\",\"linecolor\":\"white\",\"minorgridcolor\":\"white\",\"startlinecolor\":\"#2a3f5f\"},\"baxis\":{\"endlinecolor\":\"#2a3f5f\",\"gridcolor\":\"white\",\"linecolor\":\"white\",\"minorgridcolor\":\"white\",\"startlinecolor\":\"#2a3f5f\"},\"type\":\"carpet\"}],\"choropleth\":[{\"colorbar\":{\"outlinewidth\":0,\"ticks\":\"\"},\"type\":\"choropleth\"}],\"contour\":[{\"colorbar\":{\"outlinewidth\":0,\"ticks\":\"\"},\"colorscale\":[[0.0,\"#0d0887\"],[0.1111111111111111,\"#46039f\"],[0.2222222222222222,\"#7201a8\"],[0.3333333333333333,\"#9c179e\"],[0.4444444444444444,\"#bd3786\"],[0.5555555555555556,\"#d8576b\"],[0.6666666666666666,\"#ed7953\"],[0.7777777777777778,\"#fb9f3a\"],[0.8888888888888888,\"#fdca26\"],[1.0,\"#f0f921\"]],\"type\":\"contour\"}],\"contourcarpet\":[{\"colorbar\":{\"outlinewidth\":0,\"ticks\":\"\"},\"type\":\"contourcarpet\"}],\"heatmap\":[{\"colorbar\":{\"outlinewidth\":0,\"ticks\":\"\"},\"colorscale\":[[0.0,\"#0d0887\"],[0.1111111111111111,\"#46039f\"],[0.2222222222222222,\"#7201a8\"],[0.3333333333333333,\"#9c179e\"],[0.4444444444444444,\"#bd3786\"],[0.5555555555555556,\"#d8576b\"],[0.6666666666666666,\"#ed7953\"],[0.7777777777777778,\"#fb9f3a\"],[0.8888888888888888,\"#fdca26\"],[1.0,\"#f0f921\"]],\"type\":\"heatmap\"}],\"heatmapgl\":[{\"colorbar\":{\"outlinewidth\":0,\"ticks\":\"\"},\"colorscale\":[[0.0,\"#0d0887\"],[0.1111111111111111,\"#46039f\"],[0.2222222222222222,\"#7201a8\"],[0.3333333333333333,\"#9c179e\"],[0.4444444444444444,\"#bd3786\"],[0.5555555555555556,\"#d8576b\"],[0.6666666666666666,\"#ed7953\"],[0.7777777777777778,\"#fb9f3a\"],[0.8888888888888888,\"#fdca26\"],[1.0,\"#f0f921\"]],\"type\":\"heatmapgl\"}],\"histogram\":[{\"marker\":{\"pattern\":{\"fillmode\":\"overlay\",\"size\":10,\"solidity\":0.2}},\"type\":\"histogram\"}],\"histogram2d\":[{\"colorbar\":{\"outlinewidth\":0,\"ticks\":\"\"},\"colorscale\":[[0.0,\"#0d0887\"],[0.1111111111111111,\"#46039f\"],[0.2222222222222222,\"#7201a8\"],[0.3333333333333333,\"#9c179e\"],[0.4444444444444444,\"#bd3786\"],[0.5555555555555556,\"#d8576b\"],[0.6666666666666666,\"#ed7953\"],[0.7777777777777778,\"#fb9f3a\"],[0.8888888888888888,\"#fdca26\"],[1.0,\"#f0f921\"]],\"type\":\"histogram2d\"}],\"histogram2dcontour\":[{\"colorbar\":{\"outlinewidth\":0,\"ticks\":\"\"},\"colorscale\":[[0.0,\"#0d0887\"],[0.1111111111111111,\"#46039f\"],[0.2222222222222222,\"#7201a8\"],[0.3333333333333333,\"#9c179e\"],[0.4444444444444444,\"#bd3786\"],[0.5555555555555556,\"#d8576b\"],[0.6666666666666666,\"#ed7953\"],[0.7777777777777778,\"#fb9f3a\"],[0.8888888888888888,\"#fdca26\"],[1.0,\"#f0f921\"]],\"type\":\"histogram2dcontour\"}],\"mesh3d\":[{\"colorbar\":{\"outlinewidth\":0,\"ticks\":\"\"},\"type\":\"mesh3d\"}],\"parcoords\":[{\"line\":{\"colorbar\":{\"outlinewidth\":0,\"ticks\":\"\"}},\"type\":\"parcoords\"}],\"pie\":[{\"automargin\":true,\"type\":\"pie\"}],\"scatter\":[{\"marker\":{\"colorbar\":{\"outlinewidth\":0,\"ticks\":\"\"}},\"type\":\"scatter\"}],\"scatter3d\":[{\"line\":{\"colorbar\":{\"outlinewidth\":0,\"ticks\":\"\"}},\"marker\":{\"colorbar\":{\"outlinewidth\":0,\"ticks\":\"\"}},\"type\":\"scatter3d\"}],\"scattercarpet\":[{\"marker\":{\"colorbar\":{\"outlinewidth\":0,\"ticks\":\"\"}},\"type\":\"scattercarpet\"}],\"scattergeo\":[{\"marker\":{\"colorbar\":{\"outlinewidth\":0,\"ticks\":\"\"}},\"type\":\"scattergeo\"}],\"scattergl\":[{\"marker\":{\"colorbar\":{\"outlinewidth\":0,\"ticks\":\"\"}},\"type\":\"scattergl\"}],\"scattermapbox\":[{\"marker\":{\"colorbar\":{\"outlinewidth\":0,\"ticks\":\"\"}},\"type\":\"scattermapbox\"}],\"scatterpolar\":[{\"marker\":{\"colorbar\":{\"outlinewidth\":0,\"ticks\":\"\"}},\"type\":\"scatterpolar\"}],\"scatterpolargl\":[{\"marker\":{\"colorbar\":{\"outlinewidth\":0,\"ticks\":\"\"}},\"type\":\"scatterpolargl\"}],\"scatterternary\":[{\"marker\":{\"colorbar\":{\"outlinewidth\":0,\"ticks\":\"\"}},\"type\":\"scatterternary\"}],\"surface\":[{\"colorbar\":{\"outlinewidth\":0,\"ticks\":\"\"},\"colorscale\":[[0.0,\"#0d0887\"],[0.1111111111111111,\"#46039f\"],[0.2222222222222222,\"#7201a8\"],[0.3333333333333333,\"#9c179e\"],[0.4444444444444444,\"#bd3786\"],[0.5555555555555556,\"#d8576b\"],[0.6666666666666666,\"#ed7953\"],[0.7777777777777778,\"#fb9f3a\"],[0.8888888888888888,\"#fdca26\"],[1.0,\"#f0f921\"]],\"type\":\"surface\"}],\"table\":[{\"cells\":{\"fill\":{\"color\":\"#EBF0F8\"},\"line\":{\"color\":\"white\"}},\"header\":{\"fill\":{\"color\":\"#C8D4E3\"},\"line\":{\"color\":\"white\"}},\"type\":\"table\"}]},\"layout\":{\"annotationdefaults\":{\"arrowcolor\":\"#2a3f5f\",\"arrowhead\":0,\"arrowwidth\":1},\"autotypenumbers\":\"strict\",\"coloraxis\":{\"colorbar\":{\"outlinewidth\":0,\"ticks\":\"\"}},\"colorscale\":{\"diverging\":[[0,\"#8e0152\"],[0.1,\"#c51b7d\"],[0.2,\"#de77ae\"],[0.3,\"#f1b6da\"],[0.4,\"#fde0ef\"],[0.5,\"#f7f7f7\"],[0.6,\"#e6f5d0\"],[0.7,\"#b8e186\"],[0.8,\"#7fbc41\"],[0.9,\"#4d9221\"],[1,\"#276419\"]],\"sequential\":[[0.0,\"#0d0887\"],[0.1111111111111111,\"#46039f\"],[0.2222222222222222,\"#7201a8\"],[0.3333333333333333,\"#9c179e\"],[0.4444444444444444,\"#bd3786\"],[0.5555555555555556,\"#d8576b\"],[0.6666666666666666,\"#ed7953\"],[0.7777777777777778,\"#fb9f3a\"],[0.8888888888888888,\"#fdca26\"],[1.0,\"#f0f921\"]],\"sequentialminus\":[[0.0,\"#0d0887\"],[0.1111111111111111,\"#46039f\"],[0.2222222222222222,\"#7201a8\"],[0.3333333333333333,\"#9c179e\"],[0.4444444444444444,\"#bd3786\"],[0.5555555555555556,\"#d8576b\"],[0.6666666666666666,\"#ed7953\"],[0.7777777777777778,\"#fb9f3a\"],[0.8888888888888888,\"#fdca26\"],[1.0,\"#f0f921\"]]},\"colorway\":[\"#636efa\",\"#EF553B\",\"#00cc96\",\"#ab63fa\",\"#FFA15A\",\"#19d3f3\",\"#FF6692\",\"#B6E880\",\"#FF97FF\",\"#FECB52\"],\"font\":{\"color\":\"#2a3f5f\"},\"geo\":{\"bgcolor\":\"white\",\"lakecolor\":\"white\",\"landcolor\":\"#E5ECF6\",\"showlakes\":true,\"showland\":true,\"subunitcolor\":\"white\"},\"hoverlabel\":{\"align\":\"left\"},\"hovermode\":\"closest\",\"mapbox\":{\"style\":\"light\"},\"paper_bgcolor\":\"white\",\"plot_bgcolor\":\"#E5ECF6\",\"polar\":{\"angularaxis\":{\"gridcolor\":\"white\",\"linecolor\":\"white\",\"ticks\":\"\"},\"bgcolor\":\"#E5ECF6\",\"radialaxis\":{\"gridcolor\":\"white\",\"linecolor\":\"white\",\"ticks\":\"\"}},\"scene\":{\"xaxis\":{\"backgroundcolor\":\"#E5ECF6\",\"gridcolor\":\"white\",\"gridwidth\":2,\"linecolor\":\"white\",\"showbackground\":true,\"ticks\":\"\",\"zerolinecolor\":\"white\"},\"yaxis\":{\"backgroundcolor\":\"#E5ECF6\",\"gridcolor\":\"white\",\"gridwidth\":2,\"linecolor\":\"white\",\"showbackground\":true,\"ticks\":\"\",\"zerolinecolor\":\"white\"},\"zaxis\":{\"backgroundcolor\":\"#E5ECF6\",\"gridcolor\":\"white\",\"gridwidth\":2,\"linecolor\":\"white\",\"showbackground\":true,\"ticks\":\"\",\"zerolinecolor\":\"white\"}},\"shapedefaults\":{\"line\":{\"color\":\"#2a3f5f\"}},\"ternary\":{\"aaxis\":{\"gridcolor\":\"white\",\"linecolor\":\"white\",\"ticks\":\"\"},\"baxis\":{\"gridcolor\":\"white\",\"linecolor\":\"white\",\"ticks\":\"\"},\"bgcolor\":\"#E5ECF6\",\"caxis\":{\"gridcolor\":\"white\",\"linecolor\":\"white\",\"ticks\":\"\"}},\"title\":{\"x\":0.05},\"xaxis\":{\"automargin\":true,\"gridcolor\":\"white\",\"linecolor\":\"white\",\"ticks\":\"\",\"title\":{\"standoff\":15},\"zerolinecolor\":\"white\",\"zerolinewidth\":2},\"yaxis\":{\"automargin\":true,\"gridcolor\":\"white\",\"linecolor\":\"white\",\"ticks\":\"\",\"title\":{\"standoff\":15},\"zerolinecolor\":\"white\",\"zerolinewidth\":2}}},\"legend\":{\"tracegroupgap\":0},\"title\":{\"text\":\"Startups that are still opearting take 87.1% of all startups\"},\"piecolorway\":[\"rgb(103,0,31)\",\"rgb(178,24,43)\",\"rgb(214,96,77)\",\"rgb(244,165,130)\",\"rgb(253,219,199)\",\"rgb(247,247,247)\",\"rgb(209,229,240)\",\"rgb(146,197,222)\",\"rgb(67,147,195)\",\"rgb(33,102,172)\",\"rgb(5,48,97)\"]},                        {\"responsive\": true}                    ).then(function(){\n",
              "                            \n",
              "var gd = document.getElementById('0f39ca3f-70d0-45fc-9300-f4c43f032282');\n",
              "var x = new MutationObserver(function (mutations, observer) {{\n",
              "        var display = window.getComputedStyle(gd).display;\n",
              "        if (!display || display === 'none') {{\n",
              "            console.log([gd, 'removed!']);\n",
              "            Plotly.purge(gd);\n",
              "            observer.disconnect();\n",
              "        }}\n",
              "}});\n",
              "\n",
              "// Listen for the removal of the full notebook cells\n",
              "var notebookContainer = gd.closest('#notebook-container');\n",
              "if (notebookContainer) {{\n",
              "    x.observe(notebookContainer, {childList: true});\n",
              "}}\n",
              "\n",
              "// Listen for the clearing of the current output cell\n",
              "var outputEl = gd.closest('.output');\n",
              "if (outputEl) {{\n",
              "    x.observe(outputEl, {childList: true});\n",
              "}}\n",
              "\n",
              "                        })                };                            </script>        </div>\n",
              "</body>\n",
              "</html>"
            ]
          },
          "metadata": {}
        }
      ]
    },
    {
      "cell_type": "markdown",
      "metadata": {
        "id": "hp-qM273g14k"
      },
      "source": [
        "## Deeper Exploration for Startups in the United States"
      ]
    },
    {
      "cell_type": "markdown",
      "metadata": {
        "id": "500aonhVrDnb"
      },
      "source": [
        "### Quick exploration of startups in the United States"
      ]
    },
    {
      "cell_type": "code",
      "metadata": {
        "id": "mMUgaexRPldX"
      },
      "source": [
        "# due to a data integrity problems, we cut the data in 2013 and 2014\n",
        "df_usa = df[(df['country_code'] == 'USA') & (df['founded_year'] < 2013)]\n"
      ],
      "execution_count": 25,
      "outputs": []
    },
    {
      "cell_type": "markdown",
      "metadata": {
        "id": "wC_nHbn0Jb2J"
      },
      "source": [
        "- Geographical distribution of startups in the United States"
      ]
    },
    {
      "cell_type": "code",
      "metadata": {
        "colab": {
          "base_uri": "https://localhost:8080/",
          "height": 392
        },
        "id": "1UtdFpSBIxjk",
        "outputId": "154a7307-7a5c-4955-87db-d51ce118766c"
      },
      "source": [
        "df_usa_state = df_usa.groupby(['state_code'])['name'].count()\n",
        "df_usa_state = df_usa_state.reset_index().sort_values(by = 'name',ascending = False)[:20]\n",
        "df_usa_state.rename({'state_code': 'State', 'name': 'Count_of_Records'}, axis=1, inplace=True)\n",
        "\n",
        "alt.Chart(df_usa_state, title = \"Number of startups in California dominates the startups in the United States\").mark_bar().encode(\n",
        "    alt.X('State:N', sort=alt.EncodingSortField(order='descending')),\n",
        "    alt.Y('Count_of_Records:Q', title = 'Count of Records'),\n",
        "    alt.Color('State:N', sort=alt.EncodingSortField(order='descending')),\n",
        "    tooltip = ['State', 'Count_of_Records']\n",
        ").interactive()"
      ],
      "execution_count": 26,
      "outputs": [
        {
          "output_type": "execute_result",
          "data": {
            "text/plain": [
              "alt.Chart(...)"
            ],
            "text/html": [
              "\n",
              "<div id=\"altair-viz-098615c2ef8a4149ac44300ef1df617d\"></div>\n",
              "<script type=\"text/javascript\">\n",
              "  var VEGA_DEBUG = (typeof VEGA_DEBUG == \"undefined\") ? {} : VEGA_DEBUG;\n",
              "  (function(spec, embedOpt){\n",
              "    let outputDiv = document.currentScript.previousElementSibling;\n",
              "    if (outputDiv.id !== \"altair-viz-098615c2ef8a4149ac44300ef1df617d\") {\n",
              "      outputDiv = document.getElementById(\"altair-viz-098615c2ef8a4149ac44300ef1df617d\");\n",
              "    }\n",
              "    const paths = {\n",
              "      \"vega\": \"https://cdn.jsdelivr.net/npm//vega@5?noext\",\n",
              "      \"vega-lib\": \"https://cdn.jsdelivr.net/npm//vega-lib?noext\",\n",
              "      \"vega-lite\": \"https://cdn.jsdelivr.net/npm//vega-lite@4.17.0?noext\",\n",
              "      \"vega-embed\": \"https://cdn.jsdelivr.net/npm//vega-embed@6?noext\",\n",
              "    };\n",
              "\n",
              "    function maybeLoadScript(lib, version) {\n",
              "      var key = `${lib.replace(\"-\", \"\")}_version`;\n",
              "      return (VEGA_DEBUG[key] == version) ?\n",
              "        Promise.resolve(paths[lib]) :\n",
              "        new Promise(function(resolve, reject) {\n",
              "          var s = document.createElement('script');\n",
              "          document.getElementsByTagName(\"head\")[0].appendChild(s);\n",
              "          s.async = true;\n",
              "          s.onload = () => {\n",
              "            VEGA_DEBUG[key] = version;\n",
              "            return resolve(paths[lib]);\n",
              "          };\n",
              "          s.onerror = () => reject(`Error loading script: ${paths[lib]}`);\n",
              "          s.src = paths[lib];\n",
              "        });\n",
              "    }\n",
              "\n",
              "    function showError(err) {\n",
              "      outputDiv.innerHTML = `<div class=\"error\" style=\"color:red;\">${err}</div>`;\n",
              "      throw err;\n",
              "    }\n",
              "\n",
              "    function displayChart(vegaEmbed) {\n",
              "      vegaEmbed(outputDiv, spec, embedOpt)\n",
              "        .catch(err => showError(`Javascript Error: ${err.message}<br>This usually means there's a typo in your chart specification. See the javascript console for the full traceback.`));\n",
              "    }\n",
              "\n",
              "    if(typeof define === \"function\" && define.amd) {\n",
              "      requirejs.config({paths});\n",
              "      require([\"vega-embed\"], displayChart, err => showError(`Error loading script: ${err.message}`));\n",
              "    } else {\n",
              "      maybeLoadScript(\"vega\", \"5\")\n",
              "        .then(() => maybeLoadScript(\"vega-lite\", \"4.17.0\"))\n",
              "        .then(() => maybeLoadScript(\"vega-embed\", \"6\"))\n",
              "        .catch(showError)\n",
              "        .then(() => displayChart(vegaEmbed));\n",
              "    }\n",
              "  })({\"config\": {\"view\": {\"continuousWidth\": 400, \"continuousHeight\": 300}}, \"data\": {\"name\": \"data-4fefdd0e46a31669d4d964218247fb96\"}, \"mark\": \"bar\", \"encoding\": {\"color\": {\"field\": \"State\", \"sort\": {\"order\": \"descending\"}, \"type\": \"nominal\"}, \"tooltip\": [{\"field\": \"State\", \"type\": \"nominal\"}, {\"field\": \"Count_of_Records\", \"type\": \"quantitative\"}], \"x\": {\"field\": \"State\", \"sort\": {\"order\": \"descending\"}, \"type\": \"nominal\"}, \"y\": {\"field\": \"Count_of_Records\", \"title\": \"Count of Records\", \"type\": \"quantitative\"}}, \"selection\": {\"selector007\": {\"type\": \"interval\", \"bind\": \"scales\", \"encodings\": [\"x\", \"y\"]}}, \"title\": \"Number of startups in California dominates the startups in the United States\", \"$schema\": \"https://vega.github.io/schema/vega-lite/v4.17.0.json\", \"datasets\": {\"data-4fefdd0e46a31669d4d964218247fb96\": [{\"State\": \"CA\", \"Count_of_Records\": 6833}, {\"State\": \"NY\", \"Count_of_Records\": 2014}, {\"State\": \"MA\", \"Count_of_Records\": 1400}, {\"State\": \"TX\", \"Count_of_Records\": 989}, {\"State\": \"WA\", \"Count_of_Records\": 695}, {\"State\": \"FL\", \"Count_of_Records\": 635}, {\"State\": \"IL\", \"Count_of_Records\": 580}, {\"State\": \"PA\", \"Count_of_Records\": 524}, {\"State\": \"CO\", \"Count_of_Records\": 510}, {\"State\": \"GA\", \"Count_of_Records\": 395}, {\"State\": \"NJ\", \"Count_of_Records\": 371}, {\"State\": \"VA\", \"Count_of_Records\": 365}, {\"State\": \"OH\", \"Count_of_Records\": 347}, {\"State\": \"MD\", \"Count_of_Records\": 336}, {\"State\": \"NC\", \"Count_of_Records\": 329}, {\"State\": \"MN\", \"Count_of_Records\": 270}, {\"State\": \"UT\", \"Count_of_Records\": 263}, {\"State\": \"TN\", \"Count_of_Records\": 230}, {\"State\": \"OR\", \"Count_of_Records\": 228}, {\"State\": \"AZ\", \"Count_of_Records\": 223}]}}, {\"mode\": \"vega-lite\"});\n",
              "</script>"
            ]
          },
          "metadata": {},
          "execution_count": 26
        }
      ]
    },
    {
      "cell_type": "markdown",
      "metadata": {
        "id": "xfi9DCH3KNQl"
      },
      "source": [
        "- Market distribution of startups in the United States"
      ]
    },
    {
      "cell_type": "code",
      "metadata": {
        "colab": {
          "base_uri": "https://localhost:8080/",
          "height": 468
        },
        "id": "yYxrwt_QJmxh",
        "outputId": "e7b31654-9f15-4f88-da72-d1d7bca16378"
      },
      "source": [
        "df_usa_state = df_usa.groupby(['market'])['name'].count()\n",
        "df_usa_state = df_usa_state.reset_index().sort_values(by = 'name',ascending = False)[:20]\n",
        "df_usa_state.rename({'market': 'Market', 'name': 'Count_of_Records'}, axis=1, inplace=True)\n",
        "\n",
        "alt.Chart(df_usa_state, title = \"Number of startups in California dominates the startups in the United States\").mark_bar().encode(\n",
        "    alt.X('Market:N', sort=alt.EncodingSortField(order='descending')),\n",
        "    alt.Y('Count_of_Records:Q', title = 'Count of Records'),\n",
        "    alt.Color('Market:N', sort=alt.EncodingSortField(order='descending')),\n",
        "    tooltip = ['Market', 'Count_of_Records']\n",
        ").interactive()"
      ],
      "execution_count": 27,
      "outputs": [
        {
          "output_type": "execute_result",
          "data": {
            "text/plain": [
              "alt.Chart(...)"
            ],
            "text/html": [
              "\n",
              "<div id=\"altair-viz-4796d59089574a3f8420649723d5cec5\"></div>\n",
              "<script type=\"text/javascript\">\n",
              "  var VEGA_DEBUG = (typeof VEGA_DEBUG == \"undefined\") ? {} : VEGA_DEBUG;\n",
              "  (function(spec, embedOpt){\n",
              "    let outputDiv = document.currentScript.previousElementSibling;\n",
              "    if (outputDiv.id !== \"altair-viz-4796d59089574a3f8420649723d5cec5\") {\n",
              "      outputDiv = document.getElementById(\"altair-viz-4796d59089574a3f8420649723d5cec5\");\n",
              "    }\n",
              "    const paths = {\n",
              "      \"vega\": \"https://cdn.jsdelivr.net/npm//vega@5?noext\",\n",
              "      \"vega-lib\": \"https://cdn.jsdelivr.net/npm//vega-lib?noext\",\n",
              "      \"vega-lite\": \"https://cdn.jsdelivr.net/npm//vega-lite@4.17.0?noext\",\n",
              "      \"vega-embed\": \"https://cdn.jsdelivr.net/npm//vega-embed@6?noext\",\n",
              "    };\n",
              "\n",
              "    function maybeLoadScript(lib, version) {\n",
              "      var key = `${lib.replace(\"-\", \"\")}_version`;\n",
              "      return (VEGA_DEBUG[key] == version) ?\n",
              "        Promise.resolve(paths[lib]) :\n",
              "        new Promise(function(resolve, reject) {\n",
              "          var s = document.createElement('script');\n",
              "          document.getElementsByTagName(\"head\")[0].appendChild(s);\n",
              "          s.async = true;\n",
              "          s.onload = () => {\n",
              "            VEGA_DEBUG[key] = version;\n",
              "            return resolve(paths[lib]);\n",
              "          };\n",
              "          s.onerror = () => reject(`Error loading script: ${paths[lib]}`);\n",
              "          s.src = paths[lib];\n",
              "        });\n",
              "    }\n",
              "\n",
              "    function showError(err) {\n",
              "      outputDiv.innerHTML = `<div class=\"error\" style=\"color:red;\">${err}</div>`;\n",
              "      throw err;\n",
              "    }\n",
              "\n",
              "    function displayChart(vegaEmbed) {\n",
              "      vegaEmbed(outputDiv, spec, embedOpt)\n",
              "        .catch(err => showError(`Javascript Error: ${err.message}<br>This usually means there's a typo in your chart specification. See the javascript console for the full traceback.`));\n",
              "    }\n",
              "\n",
              "    if(typeof define === \"function\" && define.amd) {\n",
              "      requirejs.config({paths});\n",
              "      require([\"vega-embed\"], displayChart, err => showError(`Error loading script: ${err.message}`));\n",
              "    } else {\n",
              "      maybeLoadScript(\"vega\", \"5\")\n",
              "        .then(() => maybeLoadScript(\"vega-lite\", \"4.17.0\"))\n",
              "        .then(() => maybeLoadScript(\"vega-embed\", \"6\"))\n",
              "        .catch(showError)\n",
              "        .then(() => displayChart(vegaEmbed));\n",
              "    }\n",
              "  })({\"config\": {\"view\": {\"continuousWidth\": 400, \"continuousHeight\": 300}}, \"data\": {\"name\": \"data-cc975122bacd52ae43535b3a2874e07d\"}, \"mark\": \"bar\", \"encoding\": {\"color\": {\"field\": \"Market\", \"sort\": {\"order\": \"descending\"}, \"type\": \"nominal\"}, \"tooltip\": [{\"field\": \"Market\", \"type\": \"nominal\"}, {\"field\": \"Count_of_Records\", \"type\": \"quantitative\"}], \"x\": {\"field\": \"Market\", \"sort\": {\"order\": \"descending\"}, \"type\": \"nominal\"}, \"y\": {\"field\": \"Count_of_Records\", \"title\": \"Count of Records\", \"type\": \"quantitative\"}}, \"selection\": {\"selector008\": {\"type\": \"interval\", \"bind\": \"scales\", \"encodings\": [\"x\", \"y\"]}}, \"title\": \"Number of startups in California dominates the startups in the United States\", \"$schema\": \"https://vega.github.io/schema/vega-lite/v4.17.0.json\", \"datasets\": {\"data-cc975122bacd52ae43535b3a2874e07d\": [{\"Market\": \"Software\", \"Count_of_Records\": 2244}, {\"Market\": \"Biotechnology\", \"Count_of_Records\": 1853}, {\"Market\": \"Mobile\", \"Count_of_Records\": 744}, {\"Market\": \"EnterpriseSoftware\", \"Count_of_Records\": 683}, {\"Market\": \"CuratedWeb\", \"Count_of_Records\": 666}, {\"Market\": \"HealthCare\", \"Count_of_Records\": 632}, {\"Market\": \"E-Commerce\", \"Count_of_Records\": 535}, {\"Market\": \"Hardware+Software\", \"Count_of_Records\": 525}, {\"Market\": \"HealthandWellness\", \"Count_of_Records\": 478}, {\"Market\": \"CleanTechnology\", \"Count_of_Records\": 472}, {\"Market\": \"Advertising\", \"Count_of_Records\": 471}, {\"Market\": \"Games\", \"Count_of_Records\": 405}, {\"Market\": \"Finance\", \"Count_of_Records\": 336}, {\"Market\": \"Education\", \"Count_of_Records\": 330}, {\"Market\": \"Manufacturing\", \"Count_of_Records\": 307}, {\"Market\": \"Analytics\", \"Count_of_Records\": 304}, {\"Market\": \"SocialMedia\", \"Count_of_Records\": 270}, {\"Market\": \"Security\", \"Count_of_Records\": 250}, {\"Market\": \"Semiconductors\", \"Count_of_Records\": 243}, {\"Market\": \"WebHosting\", \"Count_of_Records\": 213}]}}, {\"mode\": \"vega-lite\"});\n",
              "</script>"
            ]
          },
          "metadata": {},
          "execution_count": 27
        }
      ]
    },
    {
      "cell_type": "markdown",
      "metadata": {
        "id": "hqW0iXsEI190"
      },
      "source": [
        "- Correlation plot"
      ]
    },
    {
      "cell_type": "code",
      "metadata": {
        "colab": {
          "base_uri": "https://localhost:8080/",
          "height": 978
        },
        "id": "vgLXjVCG2hOs",
        "outputId": "9e307cf2-2ccb-4e55-a609-25662da65bfe"
      },
      "source": [
        "# correlation\n",
        "df_usa_corr = df_usa[['funding_total_usd', 'funding_rounds', 'seed', 'venture', 'equity_crowdfunding', 'undisclosed',\n",
        "       'convertible_note', 'debt_financing', 'angel', 'grant',\n",
        "       'private_equity', 'secondary_market', 'product_crowdfunding', 'round_A', 'round_B',\n",
        "       'round_C', 'round_D', 'round_E', 'round_F', 'round_G', 'round_H',\n",
        "       'lasting_year', 'Status_acquired', 'Status_closed', 'Status_operating',\n",
        "       'if_ipo', 'if_jan', 'found_fund_diff', 'fir_end_diff']]\n",
        "\n",
        "df_usa_corr = df_usa_corr.corr().stack().reset_index().rename(columns={0: 'correlation', 'level_0': 'variable 1', 'level_1': 'variable 2'})\n",
        "df_usa_corr['correlation_label'] = df_usa_corr['correlation'].map('{:.2f}'.format)\n",
        "\n",
        "base = alt.Chart(df_usa_corr).encode(\n",
        "    x='variable 2:O',\n",
        "    y='variable 1:O'    \n",
        ").properties(width = 800, height = 800)\n",
        "\n",
        "text = base.mark_text().encode(\n",
        "    text='correlation_label',\n",
        "    color=alt.condition(\n",
        "        alt.datum.correlation > 0.5, \n",
        "        alt.value('white'),\n",
        "        alt.value('black')\n",
        "    )\n",
        ")\n",
        "\n",
        "cor_plot = base.mark_rect().encode(\n",
        "    color='correlation:Q'\n",
        ")\n",
        "\n",
        "cor_plot + text"
      ],
      "execution_count": 28,
      "outputs": [
        {
          "output_type": "execute_result",
          "data": {
            "text/plain": [
              "alt.LayerChart(...)"
            ],
            "text/html": [
              "\n",
              "<div id=\"altair-viz-57aeb4c1541c440092afd9d4f86ff9d6\"></div>\n",
              "<script type=\"text/javascript\">\n",
              "  var VEGA_DEBUG = (typeof VEGA_DEBUG == \"undefined\") ? {} : VEGA_DEBUG;\n",
              "  (function(spec, embedOpt){\n",
              "    let outputDiv = document.currentScript.previousElementSibling;\n",
              "    if (outputDiv.id !== \"altair-viz-57aeb4c1541c440092afd9d4f86ff9d6\") {\n",
              "      outputDiv = document.getElementById(\"altair-viz-57aeb4c1541c440092afd9d4f86ff9d6\");\n",
              "    }\n",
              "    const paths = {\n",
              "      \"vega\": \"https://cdn.jsdelivr.net/npm//vega@5?noext\",\n",
              "      \"vega-lib\": \"https://cdn.jsdelivr.net/npm//vega-lib?noext\",\n",
              "      \"vega-lite\": \"https://cdn.jsdelivr.net/npm//vega-lite@4.17.0?noext\",\n",
              "      \"vega-embed\": \"https://cdn.jsdelivr.net/npm//vega-embed@6?noext\",\n",
              "    };\n",
              "\n",
              "    function maybeLoadScript(lib, version) {\n",
              "      var key = `${lib.replace(\"-\", \"\")}_version`;\n",
              "      return (VEGA_DEBUG[key] == version) ?\n",
              "        Promise.resolve(paths[lib]) :\n",
              "        new Promise(function(resolve, reject) {\n",
              "          var s = document.createElement('script');\n",
              "          document.getElementsByTagName(\"head\")[0].appendChild(s);\n",
              "          s.async = true;\n",
              "          s.onload = () => {\n",
              "            VEGA_DEBUG[key] = version;\n",
              "            return resolve(paths[lib]);\n",
              "          };\n",
              "          s.onerror = () => reject(`Error loading script: ${paths[lib]}`);\n",
              "          s.src = paths[lib];\n",
              "        });\n",
              "    }\n",
              "\n",
              "    function showError(err) {\n",
              "      outputDiv.innerHTML = `<div class=\"error\" style=\"color:red;\">${err}</div>`;\n",
              "      throw err;\n",
              "    }\n",
              "\n",
              "    function displayChart(vegaEmbed) {\n",
              "      vegaEmbed(outputDiv, spec, embedOpt)\n",
              "        .catch(err => showError(`Javascript Error: ${err.message}<br>This usually means there's a typo in your chart specification. See the javascript console for the full traceback.`));\n",
              "    }\n",
              "\n",
              "    if(typeof define === \"function\" && define.amd) {\n",
              "      requirejs.config({paths});\n",
              "      require([\"vega-embed\"], displayChart, err => showError(`Error loading script: ${err.message}`));\n",
              "    } else {\n",
              "      maybeLoadScript(\"vega\", \"5\")\n",
              "        .then(() => maybeLoadScript(\"vega-lite\", \"4.17.0\"))\n",
              "        .then(() => maybeLoadScript(\"vega-embed\", \"6\"))\n",
              "        .catch(showError)\n",
              "        .then(() => displayChart(vegaEmbed));\n",
              "    }\n",
              "  })({\"config\": {\"view\": {\"continuousWidth\": 400, \"continuousHeight\": 300}}, \"layer\": [{\"mark\": \"rect\", \"encoding\": {\"color\": {\"field\": \"correlation\", \"type\": \"quantitative\"}, \"x\": {\"field\": \"variable 2\", \"type\": \"ordinal\"}, \"y\": {\"field\": \"variable 1\", \"type\": \"ordinal\"}}, \"height\": 800, \"width\": 800}, {\"mark\": \"text\", \"encoding\": {\"color\": {\"condition\": {\"value\": \"white\", \"test\": \"(datum.correlation > 0.5)\"}, \"value\": \"black\"}, \"text\": {\"field\": \"correlation_label\", \"type\": \"nominal\"}, \"x\": {\"field\": \"variable 2\", \"type\": \"ordinal\"}, \"y\": {\"field\": \"variable 1\", \"type\": \"ordinal\"}}, \"height\": 800, \"width\": 800}], \"data\": {\"name\": \"data-42124b07f3b1333840aa3f435c8011a0\"}, \"$schema\": \"https://vega.github.io/schema/vega-lite/v4.17.0.json\", \"datasets\": {\"data-42124b07f3b1333840aa3f435c8011a0\": [{\"variable 1\": \"funding_total_usd\", \"variable 2\": \"funding_total_usd\", \"correlation\": 1.0, \"correlation_label\": \"1.00\"}, {\"variable 1\": \"funding_total_usd\", \"variable 2\": \"funding_rounds\", \"correlation\": 0.09962640151521902, \"correlation_label\": \"0.10\"}, {\"variable 1\": \"funding_total_usd\", \"variable 2\": \"seed\", \"correlation\": -0.0008314002093339231, \"correlation_label\": \"-0.00\"}, {\"variable 1\": \"funding_total_usd\", \"variable 2\": \"venture\", \"correlation\": 0.17096397729784638, \"correlation_label\": \"0.17\"}, {\"variable 1\": \"funding_total_usd\", \"variable 2\": \"equity_crowdfunding\", \"correlation\": -0.0013884167159563996, \"correlation_label\": \"-0.00\"}, {\"variable 1\": \"funding_total_usd\", \"variable 2\": \"undisclosed\", \"correlation\": 0.008447518007081333, \"correlation_label\": \"0.01\"}, {\"variable 1\": \"funding_total_usd\", \"variable 2\": \"convertible_note\", \"correlation\": 0.00972462041078822, \"correlation_label\": \"0.01\"}, {\"variable 1\": \"funding_total_usd\", \"variable 2\": \"debt_financing\", \"correlation\": 0.9337247225972898, \"correlation_label\": \"0.93\"}, {\"variable 1\": \"funding_total_usd\", \"variable 2\": \"angel\", \"correlation\": -0.0007164853543132094, \"correlation_label\": \"-0.00\"}, {\"variable 1\": \"funding_total_usd\", \"variable 2\": \"grant\", \"correlation\": 0.02399045795909536, \"correlation_label\": \"0.02\"}, {\"variable 1\": \"funding_total_usd\", \"variable 2\": \"private_equity\", \"correlation\": 0.20332345951131778, \"correlation_label\": \"0.20\"}, {\"variable 1\": \"funding_total_usd\", \"variable 2\": \"secondary_market\", \"correlation\": 0.03622470863655842, \"correlation_label\": \"0.04\"}, {\"variable 1\": \"funding_total_usd\", \"variable 2\": \"product_crowdfunding\", \"correlation\": 0.003307083752155593, \"correlation_label\": \"0.00\"}, {\"variable 1\": \"funding_total_usd\", \"variable 2\": \"round_A\", \"correlation\": 0.047375253106789764, \"correlation_label\": \"0.05\"}, {\"variable 1\": \"funding_total_usd\", \"variable 2\": \"round_B\", \"correlation\": 0.08729174179461904, \"correlation_label\": \"0.09\"}, {\"variable 1\": \"funding_total_usd\", \"variable 2\": \"round_C\", \"correlation\": 0.12125630144953646, \"correlation_label\": \"0.12\"}, {\"variable 1\": \"funding_total_usd\", \"variable 2\": \"round_D\", \"correlation\": 0.10891345417044203, \"correlation_label\": \"0.11\"}, {\"variable 1\": \"funding_total_usd\", \"variable 2\": \"round_E\", \"correlation\": 0.0856453480658765, \"correlation_label\": \"0.09\"}, {\"variable 1\": \"funding_total_usd\", \"variable 2\": \"round_F\", \"correlation\": 0.07256550816224946, \"correlation_label\": \"0.07\"}, {\"variable 1\": \"funding_total_usd\", \"variable 2\": \"round_G\", \"correlation\": 0.04369757703506255, \"correlation_label\": \"0.04\"}, {\"variable 1\": \"funding_total_usd\", \"variable 2\": \"round_H\", \"correlation\": 0.015288764425159439, \"correlation_label\": \"0.02\"}, {\"variable 1\": \"funding_total_usd\", \"variable 2\": \"lasting_year\", \"correlation\": 0.05367354695426871, \"correlation_label\": \"0.05\"}, {\"variable 1\": \"funding_total_usd\", \"variable 2\": \"Status_acquired\", \"correlation\": 0.007694254425497326, \"correlation_label\": \"0.01\"}, {\"variable 1\": \"funding_total_usd\", \"variable 2\": \"Status_closed\", \"correlation\": -0.010673543229359124, \"correlation_label\": \"-0.01\"}, {\"variable 1\": \"funding_total_usd\", \"variable 2\": \"Status_operating\", \"correlation\": 0.0008260159838764715, \"correlation_label\": \"0.00\"}, {\"variable 1\": \"funding_total_usd\", \"variable 2\": \"if_ipo\", \"correlation\": 0.07808194747572886, \"correlation_label\": \"0.08\"}, {\"variable 1\": \"funding_total_usd\", \"variable 2\": \"if_jan\", \"correlation\": 0.007790436895749483, \"correlation_label\": \"0.01\"}, {\"variable 1\": \"funding_total_usd\", \"variable 2\": \"found_fund_diff\", \"correlation\": 0.042640663159991106, \"correlation_label\": \"0.04\"}, {\"variable 1\": \"funding_total_usd\", \"variable 2\": \"fir_end_diff\", \"correlation\": 0.09096100988015113, \"correlation_label\": \"0.09\"}, {\"variable 1\": \"funding_rounds\", \"variable 2\": \"funding_total_usd\", \"correlation\": 0.09962640151521902, \"correlation_label\": \"0.10\"}, {\"variable 1\": \"funding_rounds\", \"variable 2\": \"funding_rounds\", \"correlation\": 1.0, \"correlation_label\": \"1.00\"}, {\"variable 1\": \"funding_rounds\", \"variable 2\": \"seed\", \"correlation\": 0.08911407708879023, \"correlation_label\": \"0.09\"}, {\"variable 1\": \"funding_rounds\", \"variable 2\": \"venture\", \"correlation\": 0.4418435537523458, \"correlation_label\": \"0.44\"}, {\"variable 1\": \"funding_rounds\", \"variable 2\": \"equity_crowdfunding\", \"correlation\": -0.009478037772434115, \"correlation_label\": \"-0.01\"}, {\"variable 1\": \"funding_rounds\", \"variable 2\": \"undisclosed\", \"correlation\": 0.04404541309691153, \"correlation_label\": \"0.04\"}, {\"variable 1\": \"funding_rounds\", \"variable 2\": \"convertible_note\", \"correlation\": 0.010161402572586698, \"correlation_label\": \"0.01\"}, {\"variable 1\": \"funding_rounds\", \"variable 2\": \"debt_financing\", \"correlation\": 0.021932235080312106, \"correlation_label\": \"0.02\"}, {\"variable 1\": \"funding_rounds\", \"variable 2\": \"angel\", \"correlation\": 0.05311349692612126, \"correlation_label\": \"0.05\"}, {\"variable 1\": \"funding_rounds\", \"variable 2\": \"grant\", \"correlation\": 0.02245981833860348, \"correlation_label\": \"0.02\"}, {\"variable 1\": \"funding_rounds\", \"variable 2\": \"private_equity\", \"correlation\": 0.06343743150181108, \"correlation_label\": \"0.06\"}, {\"variable 1\": \"funding_rounds\", \"variable 2\": \"secondary_market\", \"correlation\": 0.02681818063628845, \"correlation_label\": \"0.03\"}, {\"variable 1\": \"funding_rounds\", \"variable 2\": \"product_crowdfunding\", \"correlation\": 0.0188518331573421, \"correlation_label\": \"0.02\"}, {\"variable 1\": \"funding_rounds\", \"variable 2\": \"round_A\", \"correlation\": 0.19651286022971687, \"correlation_label\": \"0.20\"}, {\"variable 1\": \"funding_rounds\", \"variable 2\": \"round_B\", \"correlation\": 0.27440060150987133, \"correlation_label\": \"0.27\"}, {\"variable 1\": \"funding_rounds\", \"variable 2\": \"round_C\", \"correlation\": 0.32286907034894957, \"correlation_label\": \"0.32\"}, {\"variable 1\": \"funding_rounds\", \"variable 2\": \"round_D\", \"correlation\": 0.20931235280868138, \"correlation_label\": \"0.21\"}, {\"variable 1\": \"funding_rounds\", \"variable 2\": \"round_E\", \"correlation\": 0.22591393170615462, \"correlation_label\": \"0.23\"}, {\"variable 1\": \"funding_rounds\", \"variable 2\": \"round_F\", \"correlation\": 0.09979533865116738, \"correlation_label\": \"0.10\"}, {\"variable 1\": \"funding_rounds\", \"variable 2\": \"round_G\", \"correlation\": 0.06900822171796701, \"correlation_label\": \"0.07\"}, {\"variable 1\": \"funding_rounds\", \"variable 2\": \"round_H\", \"correlation\": 0.04009696289440764, \"correlation_label\": \"0.04\"}, {\"variable 1\": \"funding_rounds\", \"variable 2\": \"lasting_year\", \"correlation\": -0.00045719655053703083, \"correlation_label\": \"-0.00\"}, {\"variable 1\": \"funding_rounds\", \"variable 2\": \"Status_acquired\", \"correlation\": 0.03834607173029409, \"correlation_label\": \"0.04\"}, {\"variable 1\": \"funding_rounds\", \"variable 2\": \"Status_closed\", \"correlation\": -0.06399468959584058, \"correlation_label\": \"-0.06\"}, {\"variable 1\": \"funding_rounds\", \"variable 2\": \"Status_operating\", \"correlation\": 0.006366786247712554, \"correlation_label\": \"0.01\"}, {\"variable 1\": \"funding_rounds\", \"variable 2\": \"if_ipo\", \"correlation\": 0.06753242808280607, \"correlation_label\": \"0.07\"}, {\"variable 1\": \"funding_rounds\", \"variable 2\": \"if_jan\", \"correlation\": 0.05364771507221059, \"correlation_label\": \"0.05\"}, {\"variable 1\": \"funding_rounds\", \"variable 2\": \"found_fund_diff\", \"correlation\": -0.10737473867804395, \"correlation_label\": \"-0.11\"}, {\"variable 1\": \"funding_rounds\", \"variable 2\": \"fir_end_diff\", \"correlation\": 0.784415939463784, \"correlation_label\": \"0.78\"}, {\"variable 1\": \"seed\", \"variable 2\": \"funding_total_usd\", \"correlation\": -0.0008314002093339231, \"correlation_label\": \"-0.00\"}, {\"variable 1\": \"seed\", \"variable 2\": \"funding_rounds\", \"correlation\": 0.08911407708879023, \"correlation_label\": \"0.09\"}, {\"variable 1\": \"seed\", \"variable 2\": \"seed\", \"correlation\": 1.0, \"correlation_label\": \"1.00\"}, {\"variable 1\": \"seed\", \"variable 2\": \"venture\", \"correlation\": -0.008611978132357255, \"correlation_label\": \"-0.01\"}, {\"variable 1\": \"seed\", \"variable 2\": \"equity_crowdfunding\", \"correlation\": -0.0044928517193820175, \"correlation_label\": \"-0.00\"}, {\"variable 1\": \"seed\", \"variable 2\": \"undisclosed\", \"correlation\": -0.006839841987185813, \"correlation_label\": \"-0.01\"}, {\"variable 1\": \"seed\", \"variable 2\": \"convertible_note\", \"correlation\": -0.0022073560429594465, \"correlation_label\": \"-0.00\"}, {\"variable 1\": \"seed\", \"variable 2\": \"debt_financing\", \"correlation\": -0.0027388346369377893, \"correlation_label\": \"-0.00\"}, {\"variable 1\": \"seed\", \"variable 2\": \"angel\", \"correlation\": -0.000856901993685191, \"correlation_label\": \"-0.00\"}, {\"variable 1\": \"seed\", \"variable 2\": \"grant\", \"correlation\": -0.006032383900427306, \"correlation_label\": \"-0.01\"}, {\"variable 1\": \"seed\", \"variable 2\": \"private_equity\", \"correlation\": -0.006526028203512743, \"correlation_label\": \"-0.01\"}, {\"variable 1\": \"seed\", \"variable 2\": \"secondary_market\", \"correlation\": -0.0029025355763689187, \"correlation_label\": \"-0.00\"}, {\"variable 1\": \"seed\", \"variable 2\": \"product_crowdfunding\", \"correlation\": 0.31811240719043443, \"correlation_label\": \"0.32\"}, {\"variable 1\": \"seed\", \"variable 2\": \"round_A\", \"correlation\": 0.031045371090928767, \"correlation_label\": \"0.03\"}, {\"variable 1\": \"seed\", \"variable 2\": \"round_B\", \"correlation\": 0.01197965624327336, \"correlation_label\": \"0.01\"}, {\"variable 1\": \"seed\", \"variable 2\": \"round_C\", \"correlation\": 0.003983771310151786, \"correlation_label\": \"0.00\"}, {\"variable 1\": \"seed\", \"variable 2\": \"round_D\", \"correlation\": -0.014287594151618305, \"correlation_label\": \"-0.01\"}, {\"variable 1\": \"seed\", \"variable 2\": \"round_E\", \"correlation\": -0.01635979321959084, \"correlation_label\": \"-0.02\"}, {\"variable 1\": \"seed\", \"variable 2\": \"round_F\", \"correlation\": -0.006698976520380515, \"correlation_label\": \"-0.01\"}, {\"variable 1\": \"seed\", \"variable 2\": \"round_G\", \"correlation\": -0.0030342972192919965, \"correlation_label\": \"-0.00\"}, {\"variable 1\": \"seed\", \"variable 2\": \"round_H\", \"correlation\": -0.001565553179027933, \"correlation_label\": \"-0.00\"}, {\"variable 1\": \"seed\", \"variable 2\": \"lasting_year\", \"correlation\": -0.07934006450979274, \"correlation_label\": \"-0.08\"}, {\"variable 1\": \"seed\", \"variable 2\": \"Status_acquired\", \"correlation\": -0.018566676307080917, \"correlation_label\": \"-0.02\"}, {\"variable 1\": \"seed\", \"variable 2\": \"Status_closed\", \"correlation\": -0.02101800424980254, \"correlation_label\": \"-0.02\"}, {\"variable 1\": \"seed\", \"variable 2\": \"Status_operating\", \"correlation\": 0.03057276662266836, \"correlation_label\": \"0.03\"}, {\"variable 1\": \"seed\", \"variable 2\": \"if_ipo\", \"correlation\": -0.017543161089848745, \"correlation_label\": \"-0.02\"}, {\"variable 1\": \"seed\", \"variable 2\": \"if_jan\", \"correlation\": -0.05321324138468102, \"correlation_label\": \"-0.05\"}, {\"variable 1\": \"seed\", \"variable 2\": \"found_fund_diff\", \"correlation\": -0.06210013041393609, \"correlation_label\": \"-0.06\"}, {\"variable 1\": \"seed\", \"variable 2\": \"fir_end_diff\", \"correlation\": 0.047832920841946854, \"correlation_label\": \"0.05\"}, {\"variable 1\": \"venture\", \"variable 2\": \"funding_total_usd\", \"correlation\": 0.17096397729784638, \"correlation_label\": \"0.17\"}, {\"variable 1\": \"venture\", \"variable 2\": \"funding_rounds\", \"correlation\": 0.4418435537523458, \"correlation_label\": \"0.44\"}, {\"variable 1\": \"venture\", \"variable 2\": \"seed\", \"correlation\": -0.008611978132357255, \"correlation_label\": \"-0.01\"}, {\"variable 1\": \"venture\", \"variable 2\": \"venture\", \"correlation\": 1.0, \"correlation_label\": \"1.00\"}, {\"variable 1\": \"venture\", \"variable 2\": \"equity_crowdfunding\", \"correlation\": -0.008130249009067305, \"correlation_label\": \"-0.01\"}, {\"variable 1\": \"venture\", \"variable 2\": \"undisclosed\", \"correlation\": 0.010490254586707479, \"correlation_label\": \"0.01\"}, {\"variable 1\": \"venture\", \"variable 2\": \"convertible_note\", \"correlation\": -0.0004483781608510736, \"correlation_label\": \"-0.00\"}, {\"variable 1\": \"venture\", \"variable 2\": \"debt_financing\", \"correlation\": 0.010413612739872673, \"correlation_label\": \"0.01\"}, {\"variable 1\": \"venture\", \"variable 2\": \"angel\", \"correlation\": -0.0030529876041018723, \"correlation_label\": \"-0.00\"}, {\"variable 1\": \"venture\", \"variable 2\": \"grant\", \"correlation\": 0.02801281523431506, \"correlation_label\": \"0.03\"}, {\"variable 1\": \"venture\", \"variable 2\": \"private_equity\", \"correlation\": 0.07890318946821755, \"correlation_label\": \"0.08\"}, {\"variable 1\": \"venture\", \"variable 2\": \"secondary_market\", \"correlation\": 0.15240192098541344, \"correlation_label\": \"0.15\"}, {\"variable 1\": \"venture\", \"variable 2\": \"product_crowdfunding\", \"correlation\": -0.0038511111042100026, \"correlation_label\": \"-0.00\"}, {\"variable 1\": \"venture\", \"variable 2\": \"round_A\", \"correlation\": 0.33713609106539105, \"correlation_label\": \"0.34\"}, {\"variable 1\": \"venture\", \"variable 2\": \"round_B\", \"correlation\": 0.5236964677509769, \"correlation_label\": \"0.52\"}, {\"variable 1\": \"venture\", \"variable 2\": \"round_C\", \"correlation\": 0.633186201209061, \"correlation_label\": \"0.63\"}, {\"variable 1\": \"venture\", \"variable 2\": \"round_D\", \"correlation\": 0.6458228825224288, \"correlation_label\": \"0.65\"}, {\"variable 1\": \"venture\", \"variable 2\": \"round_E\", \"correlation\": 0.4859445089449617, \"correlation_label\": \"0.49\"}, {\"variable 1\": \"venture\", \"variable 2\": \"round_F\", \"correlation\": 0.4214023836266227, \"correlation_label\": \"0.42\"}, {\"variable 1\": \"venture\", \"variable 2\": \"round_G\", \"correlation\": 0.20536951529875597, \"correlation_label\": \"0.21\"}, {\"variable 1\": \"venture\", \"variable 2\": \"round_H\", \"correlation\": 0.07407813541354501, \"correlation_label\": \"0.07\"}, {\"variable 1\": \"venture\", \"variable 2\": \"lasting_year\", \"correlation\": 0.06011698227231533, \"correlation_label\": \"0.06\"}, {\"variable 1\": \"venture\", \"variable 2\": \"Status_acquired\", \"correlation\": 0.051466965941789414, \"correlation_label\": \"0.05\"}, {\"variable 1\": \"venture\", \"variable 2\": \"Status_closed\", \"correlation\": -0.03141313979479742, \"correlation_label\": \"-0.03\"}, {\"variable 1\": \"venture\", \"variable 2\": \"Status_operating\", \"correlation\": -0.017109341427457098, \"correlation_label\": \"-0.02\"}, {\"variable 1\": \"venture\", \"variable 2\": \"if_ipo\", \"correlation\": 0.040831214239346214, \"correlation_label\": \"0.04\"}, {\"variable 1\": \"venture\", \"variable 2\": \"if_jan\", \"correlation\": 0.06120870115595084, \"correlation_label\": \"0.06\"}, {\"variable 1\": \"venture\", \"variable 2\": \"found_fund_diff\", \"correlation\": -0.017409278970103966, \"correlation_label\": \"-0.02\"}, {\"variable 1\": \"venture\", \"variable 2\": \"fir_end_diff\", \"correlation\": 0.4129183526920784, \"correlation_label\": \"0.41\"}, {\"variable 1\": \"equity_crowdfunding\", \"variable 2\": \"funding_total_usd\", \"correlation\": -0.0013884167159563996, \"correlation_label\": \"-0.00\"}, {\"variable 1\": \"equity_crowdfunding\", \"variable 2\": \"funding_rounds\", \"correlation\": -0.009478037772434115, \"correlation_label\": \"-0.01\"}, {\"variable 1\": \"equity_crowdfunding\", \"variable 2\": \"seed\", \"correlation\": -0.0044928517193820175, \"correlation_label\": \"-0.00\"}, {\"variable 1\": \"equity_crowdfunding\", \"variable 2\": \"venture\", \"correlation\": -0.008130249009067305, \"correlation_label\": \"-0.01\"}, {\"variable 1\": \"equity_crowdfunding\", \"variable 2\": \"equity_crowdfunding\", \"correlation\": 1.0, \"correlation_label\": \"1.00\"}, {\"variable 1\": \"equity_crowdfunding\", \"variable 2\": \"undisclosed\", \"correlation\": -0.0011285056681788264, \"correlation_label\": \"-0.00\"}, {\"variable 1\": \"equity_crowdfunding\", \"variable 2\": \"convertible_note\", \"correlation\": -0.0005129540196976951, \"correlation_label\": \"-0.00\"}, {\"variable 1\": \"equity_crowdfunding\", \"variable 2\": \"debt_financing\", \"correlation\": -0.00042690356904642626, \"correlation_label\": \"-0.00\"}, {\"variable 1\": \"equity_crowdfunding\", \"variable 2\": \"angel\", \"correlation\": -0.0006298175956982418, \"correlation_label\": \"-0.00\"}, {\"variable 1\": \"equity_crowdfunding\", \"variable 2\": \"grant\", \"correlation\": -0.0010731919037867007, \"correlation_label\": \"-0.00\"}, {\"variable 1\": \"equity_crowdfunding\", \"variable 2\": \"private_equity\", \"correlation\": -0.0017377608655490952, \"correlation_label\": \"-0.00\"}, {\"variable 1\": \"equity_crowdfunding\", \"variable 2\": \"secondary_market\", \"correlation\": -0.0003848399936844762, \"correlation_label\": \"-0.00\"}, {\"variable 1\": \"equity_crowdfunding\", \"variable 2\": \"product_crowdfunding\", \"correlation\": 0.01788081455182602, \"correlation_label\": \"0.02\"}, {\"variable 1\": \"equity_crowdfunding\", \"variable 2\": \"round_A\", \"correlation\": -0.0030351905071159544, \"correlation_label\": \"-0.00\"}, {\"variable 1\": \"equity_crowdfunding\", \"variable 2\": \"round_B\", \"correlation\": -0.006034269952742576, \"correlation_label\": \"-0.01\"}, {\"variable 1\": \"equity_crowdfunding\", \"variable 2\": \"round_C\", \"correlation\": -0.00567736733627231, \"correlation_label\": \"-0.01\"}, {\"variable 1\": \"equity_crowdfunding\", \"variable 2\": \"round_D\", \"correlation\": -0.002829804838563175, \"correlation_label\": \"-0.00\"}, {\"variable 1\": \"equity_crowdfunding\", \"variable 2\": \"round_E\", \"correlation\": -0.0024500416723617613, \"correlation_label\": \"-0.00\"}, {\"variable 1\": \"equity_crowdfunding\", \"variable 2\": \"round_F\", \"correlation\": -0.000907953954489818, \"correlation_label\": \"-0.00\"}, {\"variable 1\": \"equity_crowdfunding\", \"variable 2\": \"round_G\", \"correlation\": -0.00048763936515234206, \"correlation_label\": \"-0.00\"}, {\"variable 1\": \"equity_crowdfunding\", \"variable 2\": \"round_H\", \"correlation\": -0.00019866718065862548, \"correlation_label\": \"-0.00\"}, {\"variable 1\": \"equity_crowdfunding\", \"variable 2\": \"lasting_year\", \"correlation\": 0.01321451707192076, \"correlation_label\": \"0.01\"}, {\"variable 1\": \"equity_crowdfunding\", \"variable 2\": \"Status_acquired\", \"correlation\": -0.0005546391888092192, \"correlation_label\": \"-0.00\"}, {\"variable 1\": \"equity_crowdfunding\", \"variable 2\": \"Status_closed\", \"correlation\": -0.006552321073787936, \"correlation_label\": \"-0.01\"}, {\"variable 1\": \"equity_crowdfunding\", \"variable 2\": \"Status_operating\", \"correlation\": 0.005733556027775805, \"correlation_label\": \"0.01\"}, {\"variable 1\": \"equity_crowdfunding\", \"variable 2\": \"if_ipo\", \"correlation\": -0.0025389982952376627, \"correlation_label\": \"-0.00\"}, {\"variable 1\": \"equity_crowdfunding\", \"variable 2\": \"if_jan\", \"correlation\": -0.004521130545036538, \"correlation_label\": \"-0.00\"}, {\"variable 1\": \"equity_crowdfunding\", \"variable 2\": \"found_fund_diff\", \"correlation\": 0.024221070693314337, \"correlation_label\": \"0.02\"}, {\"variable 1\": \"equity_crowdfunding\", \"variable 2\": \"fir_end_diff\", \"correlation\": -0.007881867587504025, \"correlation_label\": \"-0.01\"}, {\"variable 1\": \"undisclosed\", \"variable 2\": \"funding_total_usd\", \"correlation\": 0.008447518007081333, \"correlation_label\": \"0.01\"}, {\"variable 1\": \"undisclosed\", \"variable 2\": \"funding_rounds\", \"correlation\": 0.04404541309691153, \"correlation_label\": \"0.04\"}, {\"variable 1\": \"undisclosed\", \"variable 2\": \"seed\", \"correlation\": -0.006839841987185813, \"correlation_label\": \"-0.01\"}, {\"variable 1\": \"undisclosed\", \"variable 2\": \"venture\", \"correlation\": 0.010490254586707479, \"correlation_label\": \"0.01\"}, {\"variable 1\": \"undisclosed\", \"variable 2\": \"equity_crowdfunding\", \"correlation\": -0.0011285056681788264, \"correlation_label\": \"-0.00\"}, {\"variable 1\": \"undisclosed\", \"variable 2\": \"undisclosed\", \"correlation\": 1.0, \"correlation_label\": \"1.00\"}, {\"variable 1\": \"undisclosed\", \"variable 2\": \"convertible_note\", \"correlation\": -0.0006710977248677167, \"correlation_label\": \"-0.00\"}, {\"variable 1\": \"undisclosed\", \"variable 2\": \"debt_financing\", \"correlation\": -0.00010017305028113734, \"correlation_label\": \"-0.00\"}, {\"variable 1\": \"undisclosed\", \"variable 2\": \"angel\", \"correlation\": 0.004773761494188675, \"correlation_label\": \"0.00\"}, {\"variable 1\": \"undisclosed\", \"variable 2\": \"grant\", \"correlation\": -0.0015515881329974965, \"correlation_label\": \"-0.00\"}, {\"variable 1\": \"undisclosed\", \"variable 2\": \"private_equity\", \"correlation\": 0.006687403820392286, \"correlation_label\": \"0.01\"}, {\"variable 1\": \"undisclosed\", \"variable 2\": \"secondary_market\", \"correlation\": -0.0005575637824344247, \"correlation_label\": \"-0.00\"}, {\"variable 1\": \"undisclosed\", \"variable 2\": \"product_crowdfunding\", \"correlation\": -0.0006538087741981842, \"correlation_label\": \"-0.00\"}, {\"variable 1\": \"undisclosed\", \"variable 2\": \"round_A\", \"correlation\": 0.0013948352916680529, \"correlation_label\": \"0.00\"}, {\"variable 1\": \"undisclosed\", \"variable 2\": \"round_B\", \"correlation\": -0.0003120174332819137, \"correlation_label\": \"-0.00\"}, {\"variable 1\": \"undisclosed\", \"variable 2\": \"round_C\", \"correlation\": 0.0059585942628109885, \"correlation_label\": \"0.01\"}, {\"variable 1\": \"undisclosed\", \"variable 2\": \"round_D\", \"correlation\": 0.0025939587398715143, \"correlation_label\": \"0.00\"}, {\"variable 1\": \"undisclosed\", \"variable 2\": \"round_E\", \"correlation\": -0.003505111196137415, \"correlation_label\": \"-0.00\"}, {\"variable 1\": \"undisclosed\", \"variable 2\": \"round_F\", \"correlation\": -0.0008348418489367306, \"correlation_label\": \"-0.00\"}, {\"variable 1\": \"undisclosed\", \"variable 2\": \"round_G\", \"correlation\": 6.460207684716354e-05, \"correlation_label\": \"0.00\"}, {\"variable 1\": \"undisclosed\", \"variable 2\": \"round_H\", \"correlation\": -0.00028783293449594684, \"correlation_label\": \"-0.00\"}, {\"variable 1\": \"undisclosed\", \"variable 2\": \"lasting_year\", \"correlation\": 0.023964979712771766, \"correlation_label\": \"0.02\"}, {\"variable 1\": \"undisclosed\", \"variable 2\": \"Status_acquired\", \"correlation\": 0.01681421199805076, \"correlation_label\": \"0.02\"}, {\"variable 1\": \"undisclosed\", \"variable 2\": \"Status_closed\", \"correlation\": -0.009396818491674834, \"correlation_label\": \"-0.01\"}, {\"variable 1\": \"undisclosed\", \"variable 2\": \"Status_operating\", \"correlation\": -0.006322724437599505, \"correlation_label\": \"-0.01\"}, {\"variable 1\": \"undisclosed\", \"variable 2\": \"if_ipo\", \"correlation\": -0.0036785508687259575, \"correlation_label\": \"-0.00\"}, {\"variable 1\": \"undisclosed\", \"variable 2\": \"if_jan\", \"correlation\": 0.022078181894043803, \"correlation_label\": \"0.02\"}, {\"variable 1\": \"undisclosed\", \"variable 2\": \"found_fund_diff\", \"correlation\": 0.0005083657340609189, \"correlation_label\": \"0.00\"}, {\"variable 1\": \"undisclosed\", \"variable 2\": \"fir_end_diff\", \"correlation\": 0.035369673556452666, \"correlation_label\": \"0.04\"}, {\"variable 1\": \"convertible_note\", \"variable 2\": \"funding_total_usd\", \"correlation\": 0.00972462041078822, \"correlation_label\": \"0.01\"}, {\"variable 1\": \"convertible_note\", \"variable 2\": \"funding_rounds\", \"correlation\": 0.010161402572586698, \"correlation_label\": \"0.01\"}, {\"variable 1\": \"convertible_note\", \"variable 2\": \"seed\", \"correlation\": -0.0022073560429594465, \"correlation_label\": \"-0.00\"}, {\"variable 1\": \"convertible_note\", \"variable 2\": \"venture\", \"correlation\": -0.0004483781608510736, \"correlation_label\": \"-0.00\"}, {\"variable 1\": \"convertible_note\", \"variable 2\": \"equity_crowdfunding\", \"correlation\": -0.0005129540196976951, \"correlation_label\": \"-0.00\"}, {\"variable 1\": \"convertible_note\", \"variable 2\": \"undisclosed\", \"correlation\": -0.0006710977248677167, \"correlation_label\": \"-0.00\"}, {\"variable 1\": \"convertible_note\", \"variable 2\": \"convertible_note\", \"correlation\": 1.0, \"correlation_label\": \"1.00\"}, {\"variable 1\": \"convertible_note\", \"variable 2\": \"debt_financing\", \"correlation\": -0.0002364142818300216, \"correlation_label\": \"-0.00\"}, {\"variable 1\": \"convertible_note\", \"variable 2\": \"angel\", \"correlation\": -0.001434202046010584, \"correlation_label\": \"-0.00\"}, {\"variable 1\": \"convertible_note\", \"variable 2\": \"grant\", \"correlation\": -0.0005141891315433003, \"correlation_label\": \"-0.00\"}, {\"variable 1\": \"convertible_note\", \"variable 2\": \"private_equity\", \"correlation\": 0.003948339874297174, \"correlation_label\": \"0.00\"}, {\"variable 1\": \"convertible_note\", \"variable 2\": \"secondary_market\", \"correlation\": -0.00025561316686522603, \"correlation_label\": \"-0.00\"}, {\"variable 1\": \"convertible_note\", \"variable 2\": \"product_crowdfunding\", \"correlation\": -0.00023748670896615593, \"correlation_label\": \"-0.00\"}, {\"variable 1\": \"convertible_note\", \"variable 2\": \"round_A\", \"correlation\": -0.0029469039301017255, \"correlation_label\": \"-0.00\"}, {\"variable 1\": \"convertible_note\", \"variable 2\": \"round_B\", \"correlation\": -0.0005159001224492394, \"correlation_label\": \"-0.00\"}, {\"variable 1\": \"convertible_note\", \"variable 2\": \"round_C\", \"correlation\": 0.0017205700767057347, \"correlation_label\": \"0.00\"}, {\"variable 1\": \"convertible_note\", \"variable 2\": \"round_D\", \"correlation\": 0.00024791257857112486, \"correlation_label\": \"0.00\"}, {\"variable 1\": \"convertible_note\", \"variable 2\": \"round_E\", \"correlation\": -0.0002815141409342315, \"correlation_label\": \"-0.00\"}, {\"variable 1\": \"convertible_note\", \"variable 2\": \"round_F\", \"correlation\": -0.0005013322089090247, \"correlation_label\": \"-0.00\"}, {\"variable 1\": \"convertible_note\", \"variable 2\": \"round_G\", \"correlation\": -8.620509699934132e-05, \"correlation_label\": \"-0.00\"}, {\"variable 1\": \"convertible_note\", \"variable 2\": \"round_H\", \"correlation\": -0.00013195600258219444, \"correlation_label\": \"-0.00\"}, {\"variable 1\": \"convertible_note\", \"variable 2\": \"lasting_year\", \"correlation\": 0.009083175294484562, \"correlation_label\": \"0.01\"}, {\"variable 1\": \"convertible_note\", \"variable 2\": \"Status_acquired\", \"correlation\": -0.00522667227729367, \"correlation_label\": \"-0.01\"}, {\"variable 1\": \"convertible_note\", \"variable 2\": \"Status_closed\", \"correlation\": -0.0020068814459352244, \"correlation_label\": \"-0.00\"}, {\"variable 1\": \"convertible_note\", \"variable 2\": \"Status_operating\", \"correlation\": 0.005409123785214555, \"correlation_label\": \"0.01\"}, {\"variable 1\": \"convertible_note\", \"variable 2\": \"if_ipo\", \"correlation\": -0.0015537685660172297, \"correlation_label\": \"-0.00\"}, {\"variable 1\": \"convertible_note\", \"variable 2\": \"if_jan\", \"correlation\": 0.007970725660510287, \"correlation_label\": \"0.01\"}, {\"variable 1\": \"convertible_note\", \"variable 2\": \"found_fund_diff\", \"correlation\": 0.012554613412525737, \"correlation_label\": \"0.01\"}, {\"variable 1\": \"convertible_note\", \"variable 2\": \"fir_end_diff\", \"correlation\": 0.005450217116573571, \"correlation_label\": \"0.01\"}, {\"variable 1\": \"debt_financing\", \"variable 2\": \"funding_total_usd\", \"correlation\": 0.9337247225972898, \"correlation_label\": \"0.93\"}, {\"variable 1\": \"debt_financing\", \"variable 2\": \"funding_rounds\", \"correlation\": 0.021932235080312106, \"correlation_label\": \"0.02\"}, {\"variable 1\": \"debt_financing\", \"variable 2\": \"seed\", \"correlation\": -0.0027388346369377893, \"correlation_label\": \"-0.00\"}, {\"variable 1\": \"debt_financing\", \"variable 2\": \"venture\", \"correlation\": 0.010413612739872673, \"correlation_label\": \"0.01\"}, {\"variable 1\": \"debt_financing\", \"variable 2\": \"equity_crowdfunding\", \"correlation\": -0.00042690356904642626, \"correlation_label\": \"-0.00\"}, {\"variable 1\": \"debt_financing\", \"variable 2\": \"undisclosed\", \"correlation\": -0.00010017305028113734, \"correlation_label\": \"-0.00\"}, {\"variable 1\": \"debt_financing\", \"variable 2\": \"convertible_note\", \"correlation\": -0.0002364142818300216, \"correlation_label\": \"-0.00\"}, {\"variable 1\": \"debt_financing\", \"variable 2\": \"debt_financing\", \"correlation\": 1.0, \"correlation_label\": \"1.00\"}, {\"variable 1\": \"debt_financing\", \"variable 2\": \"angel\", \"correlation\": -0.0015193114303611204, \"correlation_label\": \"-0.00\"}, {\"variable 1\": \"debt_financing\", \"variable 2\": \"grant\", \"correlation\": -0.0004355757163685346, \"correlation_label\": \"-0.00\"}, {\"variable 1\": \"debt_financing\", \"variable 2\": \"private_equity\", \"correlation\": 0.007235018818133617, \"correlation_label\": \"0.01\"}, {\"variable 1\": \"debt_financing\", \"variable 2\": \"secondary_market\", \"correlation\": -0.00014719216900699163, \"correlation_label\": \"-0.00\"}, {\"variable 1\": \"debt_financing\", \"variable 2\": \"product_crowdfunding\", \"correlation\": -0.0002512350893013982, \"correlation_label\": \"-0.00\"}, {\"variable 1\": \"debt_financing\", \"variable 2\": \"round_A\", \"correlation\": -0.0006108804555687651, \"correlation_label\": \"-0.00\"}, {\"variable 1\": \"debt_financing\", \"variable 2\": \"round_B\", \"correlation\": 0.007865892361998248, \"correlation_label\": \"0.01\"}, {\"variable 1\": \"debt_financing\", \"variable 2\": \"round_C\", \"correlation\": 0.01053706181612565, \"correlation_label\": \"0.01\"}, {\"variable 1\": \"debt_financing\", \"variable 2\": \"round_D\", \"correlation\": 0.0038178237186699306, \"correlation_label\": \"0.00\"}, {\"variable 1\": \"debt_financing\", \"variable 2\": \"round_E\", \"correlation\": 0.007538667293526108, \"correlation_label\": \"0.01\"}, {\"variable 1\": \"debt_financing\", \"variable 2\": \"round_F\", \"correlation\": 0.006061695963982049, \"correlation_label\": \"0.01\"}, {\"variable 1\": \"debt_financing\", \"variable 2\": \"round_G\", \"correlation\": 0.0004836833227909313, \"correlation_label\": \"0.00\"}, {\"variable 1\": \"debt_financing\", \"variable 2\": \"round_H\", \"correlation\": 0.0006966094325947702, \"correlation_label\": \"0.00\"}, {\"variable 1\": \"debt_financing\", \"variable 2\": \"lasting_year\", \"correlation\": 0.0254277933860334, \"correlation_label\": \"0.03\"}, {\"variable 1\": \"debt_financing\", \"variable 2\": \"Status_acquired\", \"correlation\": -0.0022321198673327784, \"correlation_label\": \"-0.00\"}, {\"variable 1\": \"debt_financing\", \"variable 2\": \"Status_closed\", \"correlation\": -0.002408720148322945, \"correlation_label\": \"-0.00\"}, {\"variable 1\": \"debt_financing\", \"variable 2\": \"Status_operating\", \"correlation\": 0.0033836941005720212, \"correlation_label\": \"0.00\"}, {\"variable 1\": \"debt_financing\", \"variable 2\": \"if_ipo\", \"correlation\": 0.0006597778023612538, \"correlation_label\": \"0.00\"}, {\"variable 1\": \"debt_financing\", \"variable 2\": \"if_jan\", \"correlation\": -0.007059500310568805, \"correlation_label\": \"-0.01\"}, {\"variable 1\": \"debt_financing\", \"variable 2\": \"found_fund_diff\", \"correlation\": 0.02552463931897709, \"correlation_label\": \"0.03\"}, {\"variable 1\": \"debt_financing\", \"variable 2\": \"fir_end_diff\", \"correlation\": 0.015852872828738658, \"correlation_label\": \"0.02\"}, {\"variable 1\": \"angel\", \"variable 2\": \"funding_total_usd\", \"correlation\": -0.0007164853543132094, \"correlation_label\": \"-0.00\"}, {\"variable 1\": \"angel\", \"variable 2\": \"funding_rounds\", \"correlation\": 0.05311349692612126, \"correlation_label\": \"0.05\"}, {\"variable 1\": \"angel\", \"variable 2\": \"seed\", \"correlation\": -0.000856901993685191, \"correlation_label\": \"-0.00\"}, {\"variable 1\": \"angel\", \"variable 2\": \"venture\", \"correlation\": -0.0030529876041018723, \"correlation_label\": \"-0.00\"}, {\"variable 1\": \"angel\", \"variable 2\": \"equity_crowdfunding\", \"correlation\": -0.0006298175956982418, \"correlation_label\": \"-0.00\"}, {\"variable 1\": \"angel\", \"variable 2\": \"undisclosed\", \"correlation\": 0.004773761494188675, \"correlation_label\": \"0.00\"}, {\"variable 1\": \"angel\", \"variable 2\": \"convertible_note\", \"correlation\": -0.001434202046010584, \"correlation_label\": \"-0.00\"}, {\"variable 1\": \"angel\", \"variable 2\": \"debt_financing\", \"correlation\": -0.0015193114303611204, \"correlation_label\": \"-0.00\"}, {\"variable 1\": \"angel\", \"variable 2\": \"angel\", \"correlation\": 1.0, \"correlation_label\": \"1.00\"}, {\"variable 1\": \"angel\", \"variable 2\": \"grant\", \"correlation\": -0.0043238886368683616, \"correlation_label\": \"-0.00\"}, {\"variable 1\": \"angel\", \"variable 2\": \"private_equity\", \"correlation\": -0.00011068006448473577, \"correlation_label\": \"-0.00\"}, {\"variable 1\": \"angel\", \"variable 2\": \"secondary_market\", \"correlation\": -0.0017143474824720612, \"correlation_label\": \"-0.00\"}, {\"variable 1\": \"angel\", \"variable 2\": \"product_crowdfunding\", \"correlation\": -0.001412410478247871, \"correlation_label\": \"-0.00\"}, {\"variable 1\": \"angel\", \"variable 2\": \"round_A\", \"correlation\": 0.003567790881031696, \"correlation_label\": \"0.00\"}, {\"variable 1\": \"angel\", \"variable 2\": \"round_B\", \"correlation\": -0.005228843823719805, \"correlation_label\": \"-0.01\"}, {\"variable 1\": \"angel\", \"variable 2\": \"round_C\", \"correlation\": 0.0012291532134383115, \"correlation_label\": \"0.00\"}, {\"variable 1\": \"angel\", \"variable 2\": \"round_D\", \"correlation\": 0.0142587913654308, \"correlation_label\": \"0.01\"}, {\"variable 1\": \"angel\", \"variable 2\": \"round_E\", \"correlation\": -0.000184418564286765, \"correlation_label\": \"-0.00\"}, {\"variable 1\": \"angel\", \"variable 2\": \"round_F\", \"correlation\": -0.002664462489872183, \"correlation_label\": \"-0.00\"}, {\"variable 1\": \"angel\", \"variable 2\": \"round_G\", \"correlation\": -0.0022947055259009467, \"correlation_label\": \"-0.00\"}, {\"variable 1\": \"angel\", \"variable 2\": \"round_H\", \"correlation\": -0.0009348766934162767, \"correlation_label\": \"-0.00\"}, {\"variable 1\": \"angel\", \"variable 2\": \"lasting_year\", \"correlation\": -0.035167173288567985, \"correlation_label\": \"-0.04\"}, {\"variable 1\": \"angel\", \"variable 2\": \"Status_acquired\", \"correlation\": 0.001867444748014971, \"correlation_label\": \"0.00\"}, {\"variable 1\": \"angel\", \"variable 2\": \"Status_closed\", \"correlation\": 0.0223628670794859, \"correlation_label\": \"0.02\"}, {\"variable 1\": \"angel\", \"variable 2\": \"Status_operating\", \"correlation\": -0.014801107532230073, \"correlation_label\": \"-0.01\"}, {\"variable 1\": \"angel\", \"variable 2\": \"if_ipo\", \"correlation\": -0.011477719160482949, \"correlation_label\": \"-0.01\"}, {\"variable 1\": \"angel\", \"variable 2\": \"if_jan\", \"correlation\": -0.05864871634722257, \"correlation_label\": \"-0.06\"}, {\"variable 1\": \"angel\", \"variable 2\": \"found_fund_diff\", \"correlation\": -0.04787199353166359, \"correlation_label\": \"-0.05\"}, {\"variable 1\": \"angel\", \"variable 2\": \"fir_end_diff\", \"correlation\": 0.03692649617848752, \"correlation_label\": \"0.04\"}, {\"variable 1\": \"grant\", \"variable 2\": \"funding_total_usd\", \"correlation\": 0.02399045795909536, \"correlation_label\": \"0.02\"}, {\"variable 1\": \"grant\", \"variable 2\": \"funding_rounds\", \"correlation\": 0.02245981833860348, \"correlation_label\": \"0.02\"}, {\"variable 1\": \"grant\", \"variable 2\": \"seed\", \"correlation\": -0.006032383900427306, \"correlation_label\": \"-0.01\"}, {\"variable 1\": \"grant\", \"variable 2\": \"venture\", \"correlation\": 0.02801281523431506, \"correlation_label\": \"0.03\"}, {\"variable 1\": \"grant\", \"variable 2\": \"equity_crowdfunding\", \"correlation\": -0.0010731919037867007, \"correlation_label\": \"-0.00\"}, {\"variable 1\": \"grant\", \"variable 2\": \"undisclosed\", \"correlation\": -0.0015515881329974965, \"correlation_label\": \"-0.00\"}, {\"variable 1\": \"grant\", \"variable 2\": \"convertible_note\", \"correlation\": -0.0005141891315433003, \"correlation_label\": \"-0.00\"}, {\"variable 1\": \"grant\", \"variable 2\": \"debt_financing\", \"correlation\": -0.0004355757163685346, \"correlation_label\": \"-0.00\"}, {\"variable 1\": \"grant\", \"variable 2\": \"angel\", \"correlation\": -0.0043238886368683616, \"correlation_label\": \"-0.00\"}, {\"variable 1\": \"grant\", \"variable 2\": \"grant\", \"correlation\": 1.0, \"correlation_label\": \"1.00\"}, {\"variable 1\": \"grant\", \"variable 2\": \"private_equity\", \"correlation\": 0.011553755085082908, \"correlation_label\": \"0.01\"}, {\"variable 1\": \"grant\", \"variable 2\": \"secondary_market\", \"correlation\": -0.0005302347644557997, \"correlation_label\": \"-0.00\"}, {\"variable 1\": \"grant\", \"variable 2\": \"product_crowdfunding\", \"correlation\": 0.002037069409268156, \"correlation_label\": \"0.00\"}, {\"variable 1\": \"grant\", \"variable 2\": \"round_A\", \"correlation\": 0.009734417036713025, \"correlation_label\": \"0.01\"}, {\"variable 1\": \"grant\", \"variable 2\": \"round_B\", \"correlation\": 0.0077273668377857915, \"correlation_label\": \"0.01\"}, {\"variable 1\": \"grant\", \"variable 2\": \"round_C\", \"correlation\": 0.02672380145937078, \"correlation_label\": \"0.03\"}, {\"variable 1\": \"grant\", \"variable 2\": \"round_D\", \"correlation\": 0.011537422424660736, \"correlation_label\": \"0.01\"}, {\"variable 1\": \"grant\", \"variable 2\": \"round_E\", \"correlation\": 0.030349486672238857, \"correlation_label\": \"0.03\"}, {\"variable 1\": \"grant\", \"variable 2\": \"round_F\", \"correlation\": -0.0007205449233171534, \"correlation_label\": \"-0.00\"}, {\"variable 1\": \"grant\", \"variable 2\": \"round_G\", \"correlation\": -0.0006718723317850857, \"correlation_label\": \"-0.00\"}, {\"variable 1\": \"grant\", \"variable 2\": \"round_H\", \"correlation\": -0.0002737247881466768, \"correlation_label\": \"-0.00\"}, {\"variable 1\": \"grant\", \"variable 2\": \"lasting_year\", \"correlation\": 0.054657923901561774, \"correlation_label\": \"0.05\"}, {\"variable 1\": \"grant\", \"variable 2\": \"Status_acquired\", \"correlation\": -0.010030980314889831, \"correlation_label\": \"-0.01\"}, {\"variable 1\": \"grant\", \"variable 2\": \"Status_closed\", \"correlation\": -0.0020845959130522374, \"correlation_label\": \"-0.00\"}, {\"variable 1\": \"grant\", \"variable 2\": \"Status_operating\", \"correlation\": 0.008808634367036208, \"correlation_label\": \"0.01\"}, {\"variable 1\": \"grant\", \"variable 2\": \"if_ipo\", \"correlation\": 0.005622599964611342, \"correlation_label\": \"0.01\"}, {\"variable 1\": \"grant\", \"variable 2\": \"if_jan\", \"correlation\": 0.018907112693482515, \"correlation_label\": \"0.02\"}, {\"variable 1\": \"grant\", \"variable 2\": \"found_fund_diff\", \"correlation\": 0.058314109003796, \"correlation_label\": \"0.06\"}, {\"variable 1\": \"grant\", \"variable 2\": \"fir_end_diff\", \"correlation\": 0.012223960531313532, \"correlation_label\": \"0.01\"}, {\"variable 1\": \"private_equity\", \"variable 2\": \"funding_total_usd\", \"correlation\": 0.20332345951131778, \"correlation_label\": \"0.20\"}, {\"variable 1\": \"private_equity\", \"variable 2\": \"funding_rounds\", \"correlation\": 0.06343743150181108, \"correlation_label\": \"0.06\"}, {\"variable 1\": \"private_equity\", \"variable 2\": \"seed\", \"correlation\": -0.006526028203512743, \"correlation_label\": \"-0.01\"}, {\"variable 1\": \"private_equity\", \"variable 2\": \"venture\", \"correlation\": 0.07890318946821755, \"correlation_label\": \"0.08\"}, {\"variable 1\": \"private_equity\", \"variable 2\": \"equity_crowdfunding\", \"correlation\": -0.0017377608655490952, \"correlation_label\": \"-0.00\"}, {\"variable 1\": \"private_equity\", \"variable 2\": \"undisclosed\", \"correlation\": 0.006687403820392286, \"correlation_label\": \"0.01\"}, {\"variable 1\": \"private_equity\", \"variable 2\": \"convertible_note\", \"correlation\": 0.003948339874297174, \"correlation_label\": \"0.00\"}, {\"variable 1\": \"private_equity\", \"variable 2\": \"debt_financing\", \"correlation\": 0.007235018818133617, \"correlation_label\": \"0.01\"}, {\"variable 1\": \"private_equity\", \"variable 2\": \"angel\", \"correlation\": -0.00011068006448473577, \"correlation_label\": \"-0.00\"}, {\"variable 1\": \"private_equity\", \"variable 2\": \"grant\", \"correlation\": 0.011553755085082908, \"correlation_label\": \"0.01\"}, {\"variable 1\": \"private_equity\", \"variable 2\": \"private_equity\", \"correlation\": 1.0, \"correlation_label\": \"1.00\"}, {\"variable 1\": \"private_equity\", \"variable 2\": \"secondary_market\", \"correlation\": -0.0008585801103919149, \"correlation_label\": \"-0.00\"}, {\"variable 1\": \"private_equity\", \"variable 2\": \"product_crowdfunding\", \"correlation\": -0.0010234297829485803, \"correlation_label\": \"-0.00\"}, {\"variable 1\": \"private_equity\", \"variable 2\": \"round_A\", \"correlation\": -0.0008773425883466508, \"correlation_label\": \"-0.00\"}, {\"variable 1\": \"private_equity\", \"variable 2\": \"round_B\", \"correlation\": 0.02056252571544833, \"correlation_label\": \"0.02\"}, {\"variable 1\": \"private_equity\", \"variable 2\": \"round_C\", \"correlation\": 0.10339738679567563, \"correlation_label\": \"0.10\"}, {\"variable 1\": \"private_equity\", \"variable 2\": \"round_D\", \"correlation\": 0.06048286784399909, \"correlation_label\": \"0.06\"}, {\"variable 1\": \"private_equity\", \"variable 2\": \"round_E\", \"correlation\": 0.04473421547183596, \"correlation_label\": \"0.04\"}, {\"variable 1\": \"private_equity\", \"variable 2\": \"round_F\", \"correlation\": 0.017901406958238022, \"correlation_label\": \"0.02\"}, {\"variable 1\": \"private_equity\", \"variable 2\": \"round_G\", \"correlation\": 0.017442042788849053, \"correlation_label\": \"0.02\"}, {\"variable 1\": \"private_equity\", \"variable 2\": \"round_H\", \"correlation\": 0.021917455605388936, \"correlation_label\": \"0.02\"}, {\"variable 1\": \"private_equity\", \"variable 2\": \"lasting_year\", \"correlation\": 0.04497989831549386, \"correlation_label\": \"0.04\"}, {\"variable 1\": \"private_equity\", \"variable 2\": \"Status_acquired\", \"correlation\": 0.0007431651269295497, \"correlation_label\": \"0.00\"}, {\"variable 1\": \"private_equity\", \"variable 2\": \"Status_closed\", \"correlation\": -0.012190662341857065, \"correlation_label\": \"-0.01\"}, {\"variable 1\": \"private_equity\", \"variable 2\": \"Status_operating\", \"correlation\": 0.008309034823024659, \"correlation_label\": \"0.01\"}, {\"variable 1\": \"private_equity\", \"variable 2\": \"if_ipo\", \"correlation\": 0.010223798145727723, \"correlation_label\": \"0.01\"}, {\"variable 1\": \"private_equity\", \"variable 2\": \"if_jan\", \"correlation\": 0.02729019478427653, \"correlation_label\": \"0.03\"}, {\"variable 1\": \"private_equity\", \"variable 2\": \"found_fund_diff\", \"correlation\": 0.04183168302650744, \"correlation_label\": \"0.04\"}, {\"variable 1\": \"private_equity\", \"variable 2\": \"fir_end_diff\", \"correlation\": 0.0571098137434917, \"correlation_label\": \"0.06\"}, {\"variable 1\": \"secondary_market\", \"variable 2\": \"funding_total_usd\", \"correlation\": 0.03622470863655842, \"correlation_label\": \"0.04\"}, {\"variable 1\": \"secondary_market\", \"variable 2\": \"funding_rounds\", \"correlation\": 0.02681818063628845, \"correlation_label\": \"0.03\"}, {\"variable 1\": \"secondary_market\", \"variable 2\": \"seed\", \"correlation\": -0.0029025355763689187, \"correlation_label\": \"-0.00\"}, {\"variable 1\": \"secondary_market\", \"variable 2\": \"venture\", \"correlation\": 0.15240192098541344, \"correlation_label\": \"0.15\"}, {\"variable 1\": \"secondary_market\", \"variable 2\": \"equity_crowdfunding\", \"correlation\": -0.0003848399936844762, \"correlation_label\": \"-0.00\"}, {\"variable 1\": \"secondary_market\", \"variable 2\": \"undisclosed\", \"correlation\": -0.0005575637824344247, \"correlation_label\": \"-0.00\"}, {\"variable 1\": \"secondary_market\", \"variable 2\": \"convertible_note\", \"correlation\": -0.00025561316686522603, \"correlation_label\": \"-0.00\"}, {\"variable 1\": \"secondary_market\", \"variable 2\": \"debt_financing\", \"correlation\": -0.00014719216900699163, \"correlation_label\": \"-0.00\"}, {\"variable 1\": \"secondary_market\", \"variable 2\": \"angel\", \"correlation\": -0.0017143474824720612, \"correlation_label\": \"-0.00\"}, {\"variable 1\": \"secondary_market\", \"variable 2\": \"grant\", \"correlation\": -0.0005302347644557997, \"correlation_label\": \"-0.00\"}, {\"variable 1\": \"secondary_market\", \"variable 2\": \"private_equity\", \"correlation\": -0.0008585801103919149, \"correlation_label\": \"-0.00\"}, {\"variable 1\": \"secondary_market\", \"variable 2\": \"secondary_market\", \"correlation\": 1.0, \"correlation_label\": \"1.00\"}, {\"variable 1\": \"secondary_market\", \"variable 2\": \"product_crowdfunding\", \"correlation\": -0.00022664613382858143, \"correlation_label\": \"-0.00\"}, {\"variable 1\": \"secondary_market\", \"variable 2\": \"round_A\", \"correlation\": 0.0028318241390410497, \"correlation_label\": \"0.00\"}, {\"variable 1\": \"secondary_market\", \"variable 2\": \"round_B\", \"correlation\": 0.035593297049874524, \"correlation_label\": \"0.04\"}, {\"variable 1\": \"secondary_market\", \"variable 2\": \"round_C\", \"correlation\": 0.05338500436685743, \"correlation_label\": \"0.05\"}, {\"variable 1\": \"secondary_market\", \"variable 2\": \"round_D\", \"correlation\": 0.04622867181142847, \"correlation_label\": \"0.05\"}, {\"variable 1\": \"secondary_market\", \"variable 2\": \"round_E\", \"correlation\": 0.003259620034300404, \"correlation_label\": \"0.00\"}, {\"variable 1\": \"secondary_market\", \"variable 2\": \"round_F\", \"correlation\": 0.13388786879604897, \"correlation_label\": \"0.13\"}, {\"variable 1\": \"secondary_market\", \"variable 2\": \"round_G\", \"correlation\": 0.7206948393867842, \"correlation_label\": \"0.72\"}, {\"variable 1\": \"secondary_market\", \"variable 2\": \"round_H\", \"correlation\": -9.815601978540523e-05, \"correlation_label\": \"-0.00\"}, {\"variable 1\": \"secondary_market\", \"variable 2\": \"lasting_year\", \"correlation\": 0.002493723824638998, \"correlation_label\": \"0.00\"}, {\"variable 1\": \"secondary_market\", \"variable 2\": \"Status_acquired\", \"correlation\": -0.004805004185327305, \"correlation_label\": \"-0.00\"}, {\"variable 1\": \"secondary_market\", \"variable 2\": \"Status_closed\", \"correlation\": -0.0027439162317546744, \"correlation_label\": \"-0.00\"}, {\"variable 1\": \"secondary_market\", \"variable 2\": \"Status_operating\", \"correlation\": 0.006202653906078202, \"correlation_label\": \"0.01\"}, {\"variable 1\": \"secondary_market\", \"variable 2\": \"if_ipo\", \"correlation\": 0.15157158411889388, \"correlation_label\": \"0.15\"}, {\"variable 1\": \"secondary_market\", \"variable 2\": \"if_jan\", \"correlation\": -0.014694340853291238, \"correlation_label\": \"-0.01\"}, {\"variable 1\": \"secondary_market\", \"variable 2\": \"found_fund_diff\", \"correlation\": -0.0007523071299100712, \"correlation_label\": \"-0.00\"}, {\"variable 1\": \"secondary_market\", \"variable 2\": \"fir_end_diff\", \"correlation\": 0.019086605086939625, \"correlation_label\": \"0.02\"}, {\"variable 1\": \"product_crowdfunding\", \"variable 2\": \"funding_total_usd\", \"correlation\": 0.003307083752155593, \"correlation_label\": \"0.00\"}, {\"variable 1\": \"product_crowdfunding\", \"variable 2\": \"funding_rounds\", \"correlation\": 0.0188518331573421, \"correlation_label\": \"0.02\"}, {\"variable 1\": \"product_crowdfunding\", \"variable 2\": \"seed\", \"correlation\": 0.31811240719043443, \"correlation_label\": \"0.32\"}, {\"variable 1\": \"product_crowdfunding\", \"variable 2\": \"venture\", \"correlation\": -0.0038511111042100026, \"correlation_label\": \"-0.00\"}, {\"variable 1\": \"product_crowdfunding\", \"variable 2\": \"equity_crowdfunding\", \"correlation\": 0.01788081455182602, \"correlation_label\": \"0.02\"}, {\"variable 1\": \"product_crowdfunding\", \"variable 2\": \"undisclosed\", \"correlation\": -0.0006538087741981842, \"correlation_label\": \"-0.00\"}, {\"variable 1\": \"product_crowdfunding\", \"variable 2\": \"convertible_note\", \"correlation\": -0.00023748670896615593, \"correlation_label\": \"-0.00\"}, {\"variable 1\": \"product_crowdfunding\", \"variable 2\": \"debt_financing\", \"correlation\": -0.0002512350893013982, \"correlation_label\": \"-0.00\"}, {\"variable 1\": \"product_crowdfunding\", \"variable 2\": \"angel\", \"correlation\": -0.001412410478247871, \"correlation_label\": \"-0.00\"}, {\"variable 1\": \"product_crowdfunding\", \"variable 2\": \"grant\", \"correlation\": 0.002037069409268156, \"correlation_label\": \"0.00\"}, {\"variable 1\": \"product_crowdfunding\", \"variable 2\": \"private_equity\", \"correlation\": -0.0010234297829485803, \"correlation_label\": \"-0.00\"}, {\"variable 1\": \"product_crowdfunding\", \"variable 2\": \"secondary_market\", \"correlation\": -0.00022664613382858143, \"correlation_label\": \"-0.00\"}, {\"variable 1\": \"product_crowdfunding\", \"variable 2\": \"product_crowdfunding\", \"correlation\": 1.0, \"correlation_label\": \"1.00\"}, {\"variable 1\": \"product_crowdfunding\", \"variable 2\": \"round_A\", \"correlation\": 0.001730788941889539, \"correlation_label\": \"0.00\"}, {\"variable 1\": \"product_crowdfunding\", \"variable 2\": \"round_B\", \"correlation\": -0.0024323675057561786, \"correlation_label\": \"-0.00\"}, {\"variable 1\": \"product_crowdfunding\", \"variable 2\": \"round_C\", \"correlation\": -0.0033436061173650294, \"correlation_label\": \"-0.00\"}, {\"variable 1\": \"product_crowdfunding\", \"variable 2\": \"round_D\", \"correlation\": -0.0016665739961416969, \"correlation_label\": \"-0.00\"}, {\"variable 1\": \"product_crowdfunding\", \"variable 2\": \"round_E\", \"correlation\": -0.0014429177888804453, \"correlation_label\": \"-0.00\"}, {\"variable 1\": \"product_crowdfunding\", \"variable 2\": \"round_F\", \"correlation\": -0.0005347267873836996, \"correlation_label\": \"-0.00\"}, {\"variable 1\": \"product_crowdfunding\", \"variable 2\": \"round_G\", \"correlation\": -0.0002871883864155163, \"correlation_label\": \"-0.00\"}, {\"variable 1\": \"product_crowdfunding\", \"variable 2\": \"round_H\", \"correlation\": -0.00011700225848102101, \"correlation_label\": \"-0.00\"}, {\"variable 1\": \"product_crowdfunding\", \"variable 2\": \"lasting_year\", \"correlation\": -0.0005319647238059365, \"correlation_label\": \"-0.00\"}, {\"variable 1\": \"product_crowdfunding\", \"variable 2\": \"Status_acquired\", \"correlation\": -0.0051285979213193745, \"correlation_label\": \"-0.01\"}, {\"variable 1\": \"product_crowdfunding\", \"variable 2\": \"Status_closed\", \"correlation\": -0.003858897888339884, \"correlation_label\": \"-0.00\"}, {\"variable 1\": \"product_crowdfunding\", \"variable 2\": \"Status_operating\", \"correlation\": 0.007250141501026217, \"correlation_label\": \"0.01\"}, {\"variable 1\": \"product_crowdfunding\", \"variable 2\": \"if_ipo\", \"correlation\": -0.0014953075482195578, \"correlation_label\": \"-0.00\"}, {\"variable 1\": \"product_crowdfunding\", \"variable 2\": \"if_jan\", \"correlation\": -0.0035875431764419265, \"correlation_label\": \"-0.00\"}, {\"variable 1\": \"product_crowdfunding\", \"variable 2\": \"found_fund_diff\", \"correlation\": 0.0014777110888845163, \"correlation_label\": \"0.00\"}, {\"variable 1\": \"product_crowdfunding\", \"variable 2\": \"fir_end_diff\", \"correlation\": 0.0063631817893828385, \"correlation_label\": \"0.01\"}, {\"variable 1\": \"round_A\", \"variable 2\": \"funding_total_usd\", \"correlation\": 0.047375253106789764, \"correlation_label\": \"0.05\"}, {\"variable 1\": \"round_A\", \"variable 2\": \"funding_rounds\", \"correlation\": 0.19651286022971687, \"correlation_label\": \"0.20\"}, {\"variable 1\": \"round_A\", \"variable 2\": \"seed\", \"correlation\": 0.031045371090928767, \"correlation_label\": \"0.03\"}, {\"variable 1\": \"round_A\", \"variable 2\": \"venture\", \"correlation\": 0.33713609106539105, \"correlation_label\": \"0.34\"}, {\"variable 1\": \"round_A\", \"variable 2\": \"equity_crowdfunding\", \"correlation\": -0.0030351905071159544, \"correlation_label\": \"-0.00\"}, {\"variable 1\": \"round_A\", \"variable 2\": \"undisclosed\", \"correlation\": 0.0013948352916680529, \"correlation_label\": \"0.00\"}, {\"variable 1\": \"round_A\", \"variable 2\": \"convertible_note\", \"correlation\": -0.0029469039301017255, \"correlation_label\": \"-0.00\"}, {\"variable 1\": \"round_A\", \"variable 2\": \"debt_financing\", \"correlation\": -0.0006108804555687651, \"correlation_label\": \"-0.00\"}, {\"variable 1\": \"round_A\", \"variable 2\": \"angel\", \"correlation\": 0.003567790881031696, \"correlation_label\": \"0.00\"}, {\"variable 1\": \"round_A\", \"variable 2\": \"grant\", \"correlation\": 0.009734417036713025, \"correlation_label\": \"0.01\"}, {\"variable 1\": \"round_A\", \"variable 2\": \"private_equity\", \"correlation\": -0.0008773425883466508, \"correlation_label\": \"-0.00\"}, {\"variable 1\": \"round_A\", \"variable 2\": \"secondary_market\", \"correlation\": 0.0028318241390410497, \"correlation_label\": \"0.00\"}, {\"variable 1\": \"round_A\", \"variable 2\": \"product_crowdfunding\", \"correlation\": 0.001730788941889539, \"correlation_label\": \"0.00\"}, {\"variable 1\": \"round_A\", \"variable 2\": \"round_A\", \"correlation\": 1.0, \"correlation_label\": \"1.00\"}, {\"variable 1\": \"round_A\", \"variable 2\": \"round_B\", \"correlation\": 0.3551672069123915, \"correlation_label\": \"0.36\"}, {\"variable 1\": \"round_A\", \"variable 2\": \"round_C\", \"correlation\": 0.1485491050992319, \"correlation_label\": \"0.15\"}, {\"variable 1\": \"round_A\", \"variable 2\": \"round_D\", \"correlation\": 0.047974983547881704, \"correlation_label\": \"0.05\"}, {\"variable 1\": \"round_A\", \"variable 2\": \"round_E\", \"correlation\": 0.0307182091171598, \"correlation_label\": \"0.03\"}, {\"variable 1\": \"round_A\", \"variable 2\": \"round_F\", \"correlation\": 0.006081112181488456, \"correlation_label\": \"0.01\"}, {\"variable 1\": \"round_A\", \"variable 2\": \"round_G\", \"correlation\": 0.0017914804185858487, \"correlation_label\": \"0.00\"}, {\"variable 1\": \"round_A\", \"variable 2\": \"round_H\", \"correlation\": -0.0020288426069013468, \"correlation_label\": \"-0.00\"}, {\"variable 1\": \"round_A\", \"variable 2\": \"lasting_year\", \"correlation\": -0.020067624413442026, \"correlation_label\": \"-0.02\"}, {\"variable 1\": \"round_A\", \"variable 2\": \"Status_acquired\", \"correlation\": 0.05216767161836503, \"correlation_label\": \"0.05\"}, {\"variable 1\": \"round_A\", \"variable 2\": \"Status_closed\", \"correlation\": -0.022585400203539045, \"correlation_label\": \"-0.02\"}, {\"variable 1\": \"round_A\", \"variable 2\": \"Status_operating\", \"correlation\": -0.023125706624245266, \"correlation_label\": \"-0.02\"}, {\"variable 1\": \"round_A\", \"variable 2\": \"if_ipo\", \"correlation\": 0.00415246467867323, \"correlation_label\": \"0.00\"}, {\"variable 1\": \"round_A\", \"variable 2\": \"if_jan\", \"correlation\": 0.010931891063679443, \"correlation_label\": \"0.01\"}, {\"variable 1\": \"round_A\", \"variable 2\": \"found_fund_diff\", \"correlation\": -0.056325052127582875, \"correlation_label\": \"-0.06\"}, {\"variable 1\": \"round_A\", \"variable 2\": \"fir_end_diff\", \"correlation\": 0.19365056988821916, \"correlation_label\": \"0.19\"}, {\"variable 1\": \"round_B\", \"variable 2\": \"funding_total_usd\", \"correlation\": 0.08729174179461904, \"correlation_label\": \"0.09\"}, {\"variable 1\": \"round_B\", \"variable 2\": \"funding_rounds\", \"correlation\": 0.27440060150987133, \"correlation_label\": \"0.27\"}, {\"variable 1\": \"round_B\", \"variable 2\": \"seed\", \"correlation\": 0.01197965624327336, \"correlation_label\": \"0.01\"}, {\"variable 1\": \"round_B\", \"variable 2\": \"venture\", \"correlation\": 0.5236964677509769, \"correlation_label\": \"0.52\"}, {\"variable 1\": \"round_B\", \"variable 2\": \"equity_crowdfunding\", \"correlation\": -0.006034269952742576, \"correlation_label\": \"-0.01\"}, {\"variable 1\": \"round_B\", \"variable 2\": \"undisclosed\", \"correlation\": -0.0003120174332819137, \"correlation_label\": \"-0.00\"}, {\"variable 1\": \"round_B\", \"variable 2\": \"convertible_note\", \"correlation\": -0.0005159001224492394, \"correlation_label\": \"-0.00\"}, {\"variable 1\": \"round_B\", \"variable 2\": \"debt_financing\", \"correlation\": 0.007865892361998248, \"correlation_label\": \"0.01\"}, {\"variable 1\": \"round_B\", \"variable 2\": \"angel\", \"correlation\": -0.005228843823719805, \"correlation_label\": \"-0.01\"}, {\"variable 1\": \"round_B\", \"variable 2\": \"grant\", \"correlation\": 0.0077273668377857915, \"correlation_label\": \"0.01\"}, {\"variable 1\": \"round_B\", \"variable 2\": \"private_equity\", \"correlation\": 0.02056252571544833, \"correlation_label\": \"0.02\"}, {\"variable 1\": \"round_B\", \"variable 2\": \"secondary_market\", \"correlation\": 0.035593297049874524, \"correlation_label\": \"0.04\"}, {\"variable 1\": \"round_B\", \"variable 2\": \"product_crowdfunding\", \"correlation\": -0.0024323675057561786, \"correlation_label\": \"-0.00\"}, {\"variable 1\": \"round_B\", \"variable 2\": \"round_A\", \"correlation\": 0.3551672069123915, \"correlation_label\": \"0.36\"}, {\"variable 1\": \"round_B\", \"variable 2\": \"round_B\", \"correlation\": 1.0, \"correlation_label\": \"1.00\"}, {\"variable 1\": \"round_B\", \"variable 2\": \"round_C\", \"correlation\": 0.335745804212302, \"correlation_label\": \"0.34\"}, {\"variable 1\": \"round_B\", \"variable 2\": \"round_D\", \"correlation\": 0.12919168361214767, \"correlation_label\": \"0.13\"}, {\"variable 1\": \"round_B\", \"variable 2\": \"round_E\", \"correlation\": 0.07683749609870194, \"correlation_label\": \"0.08\"}, {\"variable 1\": \"round_B\", \"variable 2\": \"round_F\", \"correlation\": 0.03480259974340652, \"correlation_label\": \"0.03\"}, {\"variable 1\": \"round_B\", \"variable 2\": \"round_G\", \"correlation\": 0.008897187001230348, \"correlation_label\": \"0.01\"}, {\"variable 1\": \"round_B\", \"variable 2\": \"round_H\", \"correlation\": -0.0016925315445713686, \"correlation_label\": \"-0.00\"}, {\"variable 1\": \"round_B\", \"variable 2\": \"lasting_year\", \"correlation\": 0.005135407636654611, \"correlation_label\": \"0.01\"}, {\"variable 1\": \"round_B\", \"variable 2\": \"Status_acquired\", \"correlation\": 0.06515487046000312, \"correlation_label\": \"0.07\"}, {\"variable 1\": \"round_B\", \"variable 2\": \"Status_closed\", \"correlation\": -0.016312109132005807, \"correlation_label\": \"-0.02\"}, {\"variable 1\": \"round_B\", \"variable 2\": \"Status_operating\", \"correlation\": -0.039072082998382704, \"correlation_label\": \"-0.04\"}, {\"variable 1\": \"round_B\", \"variable 2\": \"if_ipo\", \"correlation\": 0.0243372565021747, \"correlation_label\": \"0.02\"}, {\"variable 1\": \"round_B\", \"variable 2\": \"if_jan\", \"correlation\": 0.0331246663013824, \"correlation_label\": \"0.03\"}, {\"variable 1\": \"round_B\", \"variable 2\": \"found_fund_diff\", \"correlation\": -0.05024963758193784, \"correlation_label\": \"-0.05\"}, {\"variable 1\": \"round_B\", \"variable 2\": \"fir_end_diff\", \"correlation\": 0.2731241242711369, \"correlation_label\": \"0.27\"}, {\"variable 1\": \"round_C\", \"variable 2\": \"funding_total_usd\", \"correlation\": 0.12125630144953646, \"correlation_label\": \"0.12\"}, {\"variable 1\": \"round_C\", \"variable 2\": \"funding_rounds\", \"correlation\": 0.32286907034894957, \"correlation_label\": \"0.32\"}, {\"variable 1\": \"round_C\", \"variable 2\": \"seed\", \"correlation\": 0.003983771310151786, \"correlation_label\": \"0.00\"}, {\"variable 1\": \"round_C\", \"variable 2\": \"venture\", \"correlation\": 0.633186201209061, \"correlation_label\": \"0.63\"}, {\"variable 1\": \"round_C\", \"variable 2\": \"equity_crowdfunding\", \"correlation\": -0.00567736733627231, \"correlation_label\": \"-0.01\"}, {\"variable 1\": \"round_C\", \"variable 2\": \"undisclosed\", \"correlation\": 0.0059585942628109885, \"correlation_label\": \"0.01\"}, {\"variable 1\": \"round_C\", \"variable 2\": \"convertible_note\", \"correlation\": 0.0017205700767057347, \"correlation_label\": \"0.00\"}, {\"variable 1\": \"round_C\", \"variable 2\": \"debt_financing\", \"correlation\": 0.01053706181612565, \"correlation_label\": \"0.01\"}, {\"variable 1\": \"round_C\", \"variable 2\": \"angel\", \"correlation\": 0.0012291532134383115, \"correlation_label\": \"0.00\"}, {\"variable 1\": \"round_C\", \"variable 2\": \"grant\", \"correlation\": 0.02672380145937078, \"correlation_label\": \"0.03\"}, {\"variable 1\": \"round_C\", \"variable 2\": \"private_equity\", \"correlation\": 0.10339738679567563, \"correlation_label\": \"0.10\"}, {\"variable 1\": \"round_C\", \"variable 2\": \"secondary_market\", \"correlation\": 0.05338500436685743, \"correlation_label\": \"0.05\"}, {\"variable 1\": \"round_C\", \"variable 2\": \"product_crowdfunding\", \"correlation\": -0.0033436061173650294, \"correlation_label\": \"-0.00\"}, {\"variable 1\": \"round_C\", \"variable 2\": \"round_A\", \"correlation\": 0.1485491050992319, \"correlation_label\": \"0.15\"}, {\"variable 1\": \"round_C\", \"variable 2\": \"round_B\", \"correlation\": 0.335745804212302, \"correlation_label\": \"0.34\"}, {\"variable 1\": \"round_C\", \"variable 2\": \"round_C\", \"correlation\": 1.0, \"correlation_label\": \"1.00\"}, {\"variable 1\": \"round_C\", \"variable 2\": \"round_D\", \"correlation\": 0.42475631004151115, \"correlation_label\": \"0.42\"}, {\"variable 1\": \"round_C\", \"variable 2\": \"round_E\", \"correlation\": 0.16411741681994424, \"correlation_label\": \"0.16\"}, {\"variable 1\": \"round_C\", \"variable 2\": \"round_F\", \"correlation\": 0.05365725945062854, \"correlation_label\": \"0.05\"}, {\"variable 1\": \"round_C\", \"variable 2\": \"round_G\", \"correlation\": 0.026800726660791783, \"correlation_label\": \"0.03\"}, {\"variable 1\": \"round_C\", \"variable 2\": \"round_H\", \"correlation\": 0.01746979693127898, \"correlation_label\": \"0.02\"}, {\"variable 1\": \"round_C\", \"variable 2\": \"lasting_year\", \"correlation\": 0.023492850144744136, \"correlation_label\": \"0.02\"}, {\"variable 1\": \"round_C\", \"variable 2\": \"Status_acquired\", \"correlation\": 0.0508549216226964, \"correlation_label\": \"0.05\"}, {\"variable 1\": \"round_C\", \"variable 2\": \"Status_closed\", \"correlation\": -0.024830200814780108, \"correlation_label\": \"-0.02\"}, {\"variable 1\": \"round_C\", \"variable 2\": \"Status_operating\", \"correlation\": -0.018831914174063425, \"correlation_label\": \"-0.02\"}, {\"variable 1\": \"round_C\", \"variable 2\": \"if_ipo\", \"correlation\": 0.024772604726931984, \"correlation_label\": \"0.02\"}, {\"variable 1\": \"round_C\", \"variable 2\": \"if_jan\", \"correlation\": 0.018044408143489645, \"correlation_label\": \"0.02\"}, {\"variable 1\": \"round_C\", \"variable 2\": \"found_fund_diff\", \"correlation\": -0.040967144242200264, \"correlation_label\": \"-0.04\"}, {\"variable 1\": \"round_C\", \"variable 2\": \"fir_end_diff\", \"correlation\": 0.31393741186735846, \"correlation_label\": \"0.31\"}, {\"variable 1\": \"round_D\", \"variable 2\": \"funding_total_usd\", \"correlation\": 0.10891345417044203, \"correlation_label\": \"0.11\"}, {\"variable 1\": \"round_D\", \"variable 2\": \"funding_rounds\", \"correlation\": 0.20931235280868138, \"correlation_label\": \"0.21\"}, {\"variable 1\": \"round_D\", \"variable 2\": \"seed\", \"correlation\": -0.014287594151618305, \"correlation_label\": \"-0.01\"}, {\"variable 1\": \"round_D\", \"variable 2\": \"venture\", \"correlation\": 0.6458228825224288, \"correlation_label\": \"0.65\"}, {\"variable 1\": \"round_D\", \"variable 2\": \"equity_crowdfunding\", \"correlation\": -0.002829804838563175, \"correlation_label\": \"-0.00\"}, {\"variable 1\": \"round_D\", \"variable 2\": \"undisclosed\", \"correlation\": 0.0025939587398715143, \"correlation_label\": \"0.00\"}, {\"variable 1\": \"round_D\", \"variable 2\": \"convertible_note\", \"correlation\": 0.00024791257857112486, \"correlation_label\": \"0.00\"}, {\"variable 1\": \"round_D\", \"variable 2\": \"debt_financing\", \"correlation\": 0.0038178237186699306, \"correlation_label\": \"0.00\"}, {\"variable 1\": \"round_D\", \"variable 2\": \"angel\", \"correlation\": 0.0142587913654308, \"correlation_label\": \"0.01\"}, {\"variable 1\": \"round_D\", \"variable 2\": \"grant\", \"correlation\": 0.011537422424660736, \"correlation_label\": \"0.01\"}, {\"variable 1\": \"round_D\", \"variable 2\": \"private_equity\", \"correlation\": 0.06048286784399909, \"correlation_label\": \"0.06\"}, {\"variable 1\": \"round_D\", \"variable 2\": \"secondary_market\", \"correlation\": 0.04622867181142847, \"correlation_label\": \"0.05\"}, {\"variable 1\": \"round_D\", \"variable 2\": \"product_crowdfunding\", \"correlation\": -0.0016665739961416969, \"correlation_label\": \"-0.00\"}, {\"variable 1\": \"round_D\", \"variable 2\": \"round_A\", \"correlation\": 0.047974983547881704, \"correlation_label\": \"0.05\"}, {\"variable 1\": \"round_D\", \"variable 2\": \"round_B\", \"correlation\": 0.12919168361214767, \"correlation_label\": \"0.13\"}, {\"variable 1\": \"round_D\", \"variable 2\": \"round_C\", \"correlation\": 0.42475631004151115, \"correlation_label\": \"0.42\"}, {\"variable 1\": \"round_D\", \"variable 2\": \"round_D\", \"correlation\": 1.0, \"correlation_label\": \"1.00\"}, {\"variable 1\": \"round_D\", \"variable 2\": \"round_E\", \"correlation\": 0.27508680927898654, \"correlation_label\": \"0.28\"}, {\"variable 1\": \"round_D\", \"variable 2\": \"round_F\", \"correlation\": 0.10765109139607716, \"correlation_label\": \"0.11\"}, {\"variable 1\": \"round_D\", \"variable 2\": \"round_G\", \"correlation\": 0.05939327404098777, \"correlation_label\": \"0.06\"}, {\"variable 1\": \"round_D\", \"variable 2\": \"round_H\", \"correlation\": 0.017606510694312887, \"correlation_label\": \"0.02\"}, {\"variable 1\": \"round_D\", \"variable 2\": \"lasting_year\", \"correlation\": 0.018202296491168373, \"correlation_label\": \"0.02\"}, {\"variable 1\": \"round_D\", \"variable 2\": \"Status_acquired\", \"correlation\": 0.013566269289987805, \"correlation_label\": \"0.01\"}, {\"variable 1\": \"round_D\", \"variable 2\": \"Status_closed\", \"correlation\": -0.013726909614252361, \"correlation_label\": \"-0.01\"}, {\"variable 1\": \"round_D\", \"variable 2\": \"Status_operating\", \"correlation\": 0.001640495027075596, \"correlation_label\": \"0.00\"}, {\"variable 1\": \"round_D\", \"variable 2\": \"if_ipo\", \"correlation\": 0.0212495593755308, \"correlation_label\": \"0.02\"}, {\"variable 1\": \"round_D\", \"variable 2\": \"if_jan\", \"correlation\": 0.0065960906257845064, \"correlation_label\": \"0.01\"}, {\"variable 1\": \"round_D\", \"variable 2\": \"found_fund_diff\", \"correlation\": -0.01780093910512288, \"correlation_label\": \"-0.02\"}, {\"variable 1\": \"round_D\", \"variable 2\": \"fir_end_diff\", \"correlation\": 0.18591436054901322, \"correlation_label\": \"0.19\"}, {\"variable 1\": \"round_E\", \"variable 2\": \"funding_total_usd\", \"correlation\": 0.0856453480658765, \"correlation_label\": \"0.09\"}, {\"variable 1\": \"round_E\", \"variable 2\": \"funding_rounds\", \"correlation\": 0.22591393170615462, \"correlation_label\": \"0.23\"}, {\"variable 1\": \"round_E\", \"variable 2\": \"seed\", \"correlation\": -0.01635979321959084, \"correlation_label\": \"-0.02\"}, {\"variable 1\": \"round_E\", \"variable 2\": \"venture\", \"correlation\": 0.4859445089449617, \"correlation_label\": \"0.49\"}, {\"variable 1\": \"round_E\", \"variable 2\": \"equity_crowdfunding\", \"correlation\": -0.0024500416723617613, \"correlation_label\": \"-0.00\"}, {\"variable 1\": \"round_E\", \"variable 2\": \"undisclosed\", \"correlation\": -0.003505111196137415, \"correlation_label\": \"-0.00\"}, {\"variable 1\": \"round_E\", \"variable 2\": \"convertible_note\", \"correlation\": -0.0002815141409342315, \"correlation_label\": \"-0.00\"}, {\"variable 1\": \"round_E\", \"variable 2\": \"debt_financing\", \"correlation\": 0.007538667293526108, \"correlation_label\": \"0.01\"}, {\"variable 1\": \"round_E\", \"variable 2\": \"angel\", \"correlation\": -0.000184418564286765, \"correlation_label\": \"-0.00\"}, {\"variable 1\": \"round_E\", \"variable 2\": \"grant\", \"correlation\": 0.030349486672238857, \"correlation_label\": \"0.03\"}, {\"variable 1\": \"round_E\", \"variable 2\": \"private_equity\", \"correlation\": 0.04473421547183596, \"correlation_label\": \"0.04\"}, {\"variable 1\": \"round_E\", \"variable 2\": \"secondary_market\", \"correlation\": 0.003259620034300404, \"correlation_label\": \"0.00\"}, {\"variable 1\": \"round_E\", \"variable 2\": \"product_crowdfunding\", \"correlation\": -0.0014429177888804453, \"correlation_label\": \"-0.00\"}, {\"variable 1\": \"round_E\", \"variable 2\": \"round_A\", \"correlation\": 0.0307182091171598, \"correlation_label\": \"0.03\"}, {\"variable 1\": \"round_E\", \"variable 2\": \"round_B\", \"correlation\": 0.07683749609870194, \"correlation_label\": \"0.08\"}, {\"variable 1\": \"round_E\", \"variable 2\": \"round_C\", \"correlation\": 0.16411741681994424, \"correlation_label\": \"0.16\"}, {\"variable 1\": \"round_E\", \"variable 2\": \"round_D\", \"correlation\": 0.27508680927898654, \"correlation_label\": \"0.28\"}, {\"variable 1\": \"round_E\", \"variable 2\": \"round_E\", \"correlation\": 1.0, \"correlation_label\": \"1.00\"}, {\"variable 1\": \"round_E\", \"variable 2\": \"round_F\", \"correlation\": 0.28551583603008535, \"correlation_label\": \"0.29\"}, {\"variable 1\": \"round_E\", \"variable 2\": \"round_G\", \"correlation\": 0.03346100406505752, \"correlation_label\": \"0.03\"}, {\"variable 1\": \"round_E\", \"variable 2\": \"round_H\", \"correlation\": 0.10236852650679124, \"correlation_label\": \"0.10\"}, {\"variable 1\": \"round_E\", \"variable 2\": \"lasting_year\", \"correlation\": 0.020044784321892745, \"correlation_label\": \"0.02\"}, {\"variable 1\": \"round_E\", \"variable 2\": \"Status_acquired\", \"correlation\": 0.005302006757559467, \"correlation_label\": \"0.01\"}, {\"variable 1\": \"round_E\", \"variable 2\": \"Status_closed\", \"correlation\": -0.009527245803292792, \"correlation_label\": \"-0.01\"}, {\"variable 1\": \"round_E\", \"variable 2\": \"Status_operating\", \"correlation\": 0.005501727171423063, \"correlation_label\": \"0.01\"}, {\"variable 1\": \"round_E\", \"variable 2\": \"if_ipo\", \"correlation\": 0.007854982952454603, \"correlation_label\": \"0.01\"}, {\"variable 1\": \"round_E\", \"variable 2\": \"if_jan\", \"correlation\": 0.017875589615036866, \"correlation_label\": \"0.02\"}, {\"variable 1\": \"round_E\", \"variable 2\": \"found_fund_diff\", \"correlation\": -0.01551147013698928, \"correlation_label\": \"-0.02\"}, {\"variable 1\": \"round_E\", \"variable 2\": \"fir_end_diff\", \"correlation\": 0.19591637401567435, \"correlation_label\": \"0.20\"}, {\"variable 1\": \"round_F\", \"variable 2\": \"funding_total_usd\", \"correlation\": 0.07256550816224946, \"correlation_label\": \"0.07\"}, {\"variable 1\": \"round_F\", \"variable 2\": \"funding_rounds\", \"correlation\": 0.09979533865116738, \"correlation_label\": \"0.10\"}, {\"variable 1\": \"round_F\", \"variable 2\": \"seed\", \"correlation\": -0.006698976520380515, \"correlation_label\": \"-0.01\"}, {\"variable 1\": \"round_F\", \"variable 2\": \"venture\", \"correlation\": 0.4214023836266227, \"correlation_label\": \"0.42\"}, {\"variable 1\": \"round_F\", \"variable 2\": \"equity_crowdfunding\", \"correlation\": -0.000907953954489818, \"correlation_label\": \"-0.00\"}, {\"variable 1\": \"round_F\", \"variable 2\": \"undisclosed\", \"correlation\": -0.0008348418489367306, \"correlation_label\": \"-0.00\"}, {\"variable 1\": \"round_F\", \"variable 2\": \"convertible_note\", \"correlation\": -0.0005013322089090247, \"correlation_label\": \"-0.00\"}, {\"variable 1\": \"round_F\", \"variable 2\": \"debt_financing\", \"correlation\": 0.006061695963982049, \"correlation_label\": \"0.01\"}, {\"variable 1\": \"round_F\", \"variable 2\": \"angel\", \"correlation\": -0.002664462489872183, \"correlation_label\": \"-0.00\"}, {\"variable 1\": \"round_F\", \"variable 2\": \"grant\", \"correlation\": -0.0007205449233171534, \"correlation_label\": \"-0.00\"}, {\"variable 1\": \"round_F\", \"variable 2\": \"private_equity\", \"correlation\": 0.017901406958238022, \"correlation_label\": \"0.02\"}, {\"variable 1\": \"round_F\", \"variable 2\": \"secondary_market\", \"correlation\": 0.13388786879604897, \"correlation_label\": \"0.13\"}, {\"variable 1\": \"round_F\", \"variable 2\": \"product_crowdfunding\", \"correlation\": -0.0005347267873836996, \"correlation_label\": \"-0.00\"}, {\"variable 1\": \"round_F\", \"variable 2\": \"round_A\", \"correlation\": 0.006081112181488456, \"correlation_label\": \"0.01\"}, {\"variable 1\": \"round_F\", \"variable 2\": \"round_B\", \"correlation\": 0.03480259974340652, \"correlation_label\": \"0.03\"}, {\"variable 1\": \"round_F\", \"variable 2\": \"round_C\", \"correlation\": 0.05365725945062854, \"correlation_label\": \"0.05\"}, {\"variable 1\": \"round_F\", \"variable 2\": \"round_D\", \"correlation\": 0.10765109139607716, \"correlation_label\": \"0.11\"}, {\"variable 1\": \"round_F\", \"variable 2\": \"round_E\", \"correlation\": 0.28551583603008535, \"correlation_label\": \"0.29\"}, {\"variable 1\": \"round_F\", \"variable 2\": \"round_F\", \"correlation\": 1.0, \"correlation_label\": \"1.00\"}, {\"variable 1\": \"round_F\", \"variable 2\": \"round_G\", \"correlation\": 0.21092628902531851, \"correlation_label\": \"0.21\"}, {\"variable 1\": \"round_F\", \"variable 2\": \"round_H\", \"correlation\": 0.03175086993023018, \"correlation_label\": \"0.03\"}, {\"variable 1\": \"round_F\", \"variable 2\": \"lasting_year\", \"correlation\": 0.006576308001163138, \"correlation_label\": \"0.01\"}, {\"variable 1\": \"round_F\", \"variable 2\": \"Status_acquired\", \"correlation\": -0.003523337300786085, \"correlation_label\": \"-0.00\"}, {\"variable 1\": \"round_F\", \"variable 2\": \"Status_closed\", \"correlation\": 0.0033733922949107354, \"correlation_label\": \"0.00\"}, {\"variable 1\": \"round_F\", \"variable 2\": \"Status_operating\", \"correlation\": 0.002494460467543509, \"correlation_label\": \"0.00\"}, {\"variable 1\": \"round_F\", \"variable 2\": \"if_ipo\", \"correlation\": 0.01880203764263354, \"correlation_label\": \"0.02\"}, {\"variable 1\": \"round_F\", \"variable 2\": \"if_jan\", \"correlation\": -0.0047603885833179815, \"correlation_label\": \"-0.00\"}, {\"variable 1\": \"round_F\", \"variable 2\": \"found_fund_diff\", \"correlation\": -0.008149752518139205, \"correlation_label\": \"-0.01\"}, {\"variable 1\": \"round_F\", \"variable 2\": \"fir_end_diff\", \"correlation\": 0.07949913389579055, \"correlation_label\": \"0.08\"}, {\"variable 1\": \"round_G\", \"variable 2\": \"funding_total_usd\", \"correlation\": 0.04369757703506255, \"correlation_label\": \"0.04\"}, {\"variable 1\": \"round_G\", \"variable 2\": \"funding_rounds\", \"correlation\": 0.06900822171796701, \"correlation_label\": \"0.07\"}, {\"variable 1\": \"round_G\", \"variable 2\": \"seed\", \"correlation\": -0.0030342972192919965, \"correlation_label\": \"-0.00\"}, {\"variable 1\": \"round_G\", \"variable 2\": \"venture\", \"correlation\": 0.20536951529875597, \"correlation_label\": \"0.21\"}, {\"variable 1\": \"round_G\", \"variable 2\": \"equity_crowdfunding\", \"correlation\": -0.00048763936515234206, \"correlation_label\": \"-0.00\"}, {\"variable 1\": \"round_G\", \"variable 2\": \"undisclosed\", \"correlation\": 6.460207684716354e-05, \"correlation_label\": \"0.00\"}, {\"variable 1\": \"round_G\", \"variable 2\": \"convertible_note\", \"correlation\": -8.620509699934132e-05, \"correlation_label\": \"-0.00\"}, {\"variable 1\": \"round_G\", \"variable 2\": \"debt_financing\", \"correlation\": 0.0004836833227909313, \"correlation_label\": \"0.00\"}, {\"variable 1\": \"round_G\", \"variable 2\": \"angel\", \"correlation\": -0.0022947055259009467, \"correlation_label\": \"-0.00\"}, {\"variable 1\": \"round_G\", \"variable 2\": \"grant\", \"correlation\": -0.0006718723317850857, \"correlation_label\": \"-0.00\"}, {\"variable 1\": \"round_G\", \"variable 2\": \"private_equity\", \"correlation\": 0.017442042788849053, \"correlation_label\": \"0.02\"}, {\"variable 1\": \"round_G\", \"variable 2\": \"secondary_market\", \"correlation\": 0.7206948393867842, \"correlation_label\": \"0.72\"}, {\"variable 1\": \"round_G\", \"variable 2\": \"product_crowdfunding\", \"correlation\": -0.0002871883864155163, \"correlation_label\": \"-0.00\"}, {\"variable 1\": \"round_G\", \"variable 2\": \"round_A\", \"correlation\": 0.0017914804185858487, \"correlation_label\": \"0.00\"}, {\"variable 1\": \"round_G\", \"variable 2\": \"round_B\", \"correlation\": 0.008897187001230348, \"correlation_label\": \"0.01\"}, {\"variable 1\": \"round_G\", \"variable 2\": \"round_C\", \"correlation\": 0.026800726660791783, \"correlation_label\": \"0.03\"}, {\"variable 1\": \"round_G\", \"variable 2\": \"round_D\", \"correlation\": 0.05939327404098777, \"correlation_label\": \"0.06\"}, {\"variable 1\": \"round_G\", \"variable 2\": \"round_E\", \"correlation\": 0.03346100406505752, \"correlation_label\": \"0.03\"}, {\"variable 1\": \"round_G\", \"variable 2\": \"round_F\", \"correlation\": 0.21092628902531851, \"correlation_label\": \"0.21\"}, {\"variable 1\": \"round_G\", \"variable 2\": \"round_G\", \"correlation\": 1.0, \"correlation_label\": \"1.00\"}, {\"variable 1\": \"round_G\", \"variable 2\": \"round_H\", \"correlation\": 0.1500279506072116, \"correlation_label\": \"0.15\"}, {\"variable 1\": \"round_G\", \"variable 2\": \"lasting_year\", \"correlation\": 0.005568080154379636, \"correlation_label\": \"0.01\"}, {\"variable 1\": \"round_G\", \"variable 2\": \"Status_acquired\", \"correlation\": -0.00498272157304528, \"correlation_label\": \"-0.00\"}, {\"variable 1\": \"round_G\", \"variable 2\": \"Status_closed\", \"correlation\": -0.0006704197436302438, \"correlation_label\": \"-0.00\"}, {\"variable 1\": \"round_G\", \"variable 2\": \"Status_operating\", \"correlation\": 0.005346470581562864, \"correlation_label\": \"0.01\"}, {\"variable 1\": \"round_G\", \"variable 2\": \"if_ipo\", \"correlation\": 0.06611310698358984, \"correlation_label\": \"0.07\"}, {\"variable 1\": \"round_G\", \"variable 2\": \"if_jan\", \"correlation\": -0.006884840009786406, \"correlation_label\": \"-0.01\"}, {\"variable 1\": \"round_G\", \"variable 2\": \"found_fund_diff\", \"correlation\": -0.0049450394840863925, \"correlation_label\": \"-0.00\"}, {\"variable 1\": \"round_G\", \"variable 2\": \"fir_end_diff\", \"correlation\": 0.054280390988616894, \"correlation_label\": \"0.05\"}, {\"variable 1\": \"round_H\", \"variable 2\": \"funding_total_usd\", \"correlation\": 0.015288764425159439, \"correlation_label\": \"0.02\"}, {\"variable 1\": \"round_H\", \"variable 2\": \"funding_rounds\", \"correlation\": 0.04009696289440764, \"correlation_label\": \"0.04\"}, {\"variable 1\": \"round_H\", \"variable 2\": \"seed\", \"correlation\": -0.001565553179027933, \"correlation_label\": \"-0.00\"}, {\"variable 1\": \"round_H\", \"variable 2\": \"venture\", \"correlation\": 0.07407813541354501, \"correlation_label\": \"0.07\"}, {\"variable 1\": \"round_H\", \"variable 2\": \"equity_crowdfunding\", \"correlation\": -0.00019866718065862548, \"correlation_label\": \"-0.00\"}, {\"variable 1\": \"round_H\", \"variable 2\": \"undisclosed\", \"correlation\": -0.00028783293449594684, \"correlation_label\": \"-0.00\"}, {\"variable 1\": \"round_H\", \"variable 2\": \"convertible_note\", \"correlation\": -0.00013195600258219444, \"correlation_label\": \"-0.00\"}, {\"variable 1\": \"round_H\", \"variable 2\": \"debt_financing\", \"correlation\": 0.0006966094325947702, \"correlation_label\": \"0.00\"}, {\"variable 1\": \"round_H\", \"variable 2\": \"angel\", \"correlation\": -0.0009348766934162767, \"correlation_label\": \"-0.00\"}, {\"variable 1\": \"round_H\", \"variable 2\": \"grant\", \"correlation\": -0.0002737247881466768, \"correlation_label\": \"-0.00\"}, {\"variable 1\": \"round_H\", \"variable 2\": \"private_equity\", \"correlation\": 0.021917455605388936, \"correlation_label\": \"0.02\"}, {\"variable 1\": \"round_H\", \"variable 2\": \"secondary_market\", \"correlation\": -9.815601978540523e-05, \"correlation_label\": \"-0.00\"}, {\"variable 1\": \"round_H\", \"variable 2\": \"product_crowdfunding\", \"correlation\": -0.00011700225848102101, \"correlation_label\": \"-0.00\"}, {\"variable 1\": \"round_H\", \"variable 2\": \"round_A\", \"correlation\": -0.0020288426069013468, \"correlation_label\": \"-0.00\"}, {\"variable 1\": \"round_H\", \"variable 2\": \"round_B\", \"correlation\": -0.0016925315445713686, \"correlation_label\": \"-0.00\"}, {\"variable 1\": \"round_H\", \"variable 2\": \"round_C\", \"correlation\": 0.01746979693127898, \"correlation_label\": \"0.02\"}, {\"variable 1\": \"round_H\", \"variable 2\": \"round_D\", \"correlation\": 0.017606510694312887, \"correlation_label\": \"0.02\"}, {\"variable 1\": \"round_H\", \"variable 2\": \"round_E\", \"correlation\": 0.10236852650679124, \"correlation_label\": \"0.10\"}, {\"variable 1\": \"round_H\", \"variable 2\": \"round_F\", \"correlation\": 0.03175086993023018, \"correlation_label\": \"0.03\"}, {\"variable 1\": \"round_H\", \"variable 2\": \"round_G\", \"correlation\": 0.1500279506072116, \"correlation_label\": \"0.15\"}, {\"variable 1\": \"round_H\", \"variable 2\": \"round_H\", \"correlation\": 1.0, \"correlation_label\": \"1.00\"}, {\"variable 1\": \"round_H\", \"variable 2\": \"lasting_year\", \"correlation\": 0.004908486885288944, \"correlation_label\": \"0.00\"}, {\"variable 1\": \"round_H\", \"variable 2\": \"Status_acquired\", \"correlation\": -0.0024805026770019114, \"correlation_label\": \"-0.00\"}, {\"variable 1\": \"round_H\", \"variable 2\": \"Status_closed\", \"correlation\": -0.0016712134069049231, \"correlation_label\": \"-0.00\"}, {\"variable 1\": \"round_H\", \"variable 2\": \"Status_operating\", \"correlation\": 0.003349142791896135, \"correlation_label\": \"0.00\"}, {\"variable 1\": \"round_H\", \"variable 2\": \"if_ipo\", \"correlation\": -0.0006475885328777703, \"correlation_label\": \"-0.00\"}, {\"variable 1\": \"round_H\", \"variable 2\": \"if_jan\", \"correlation\": 0.004911325229783784, \"correlation_label\": \"0.00\"}, {\"variable 1\": \"round_H\", \"variable 2\": \"found_fund_diff\", \"correlation\": -0.0007059566120833047, \"correlation_label\": \"-0.00\"}, {\"variable 1\": \"round_H\", \"variable 2\": \"fir_end_diff\", \"correlation\": 0.033268802379580395, \"correlation_label\": \"0.03\"}, {\"variable 1\": \"lasting_year\", \"variable 2\": \"funding_total_usd\", \"correlation\": 0.05367354695426871, \"correlation_label\": \"0.05\"}, {\"variable 1\": \"lasting_year\", \"variable 2\": \"funding_rounds\", \"correlation\": -0.00045719655053703083, \"correlation_label\": \"-0.00\"}, {\"variable 1\": \"lasting_year\", \"variable 2\": \"seed\", \"correlation\": -0.07934006450979274, \"correlation_label\": \"-0.08\"}, {\"variable 1\": \"lasting_year\", \"variable 2\": \"venture\", \"correlation\": 0.06011698227231533, \"correlation_label\": \"0.06\"}, {\"variable 1\": \"lasting_year\", \"variable 2\": \"equity_crowdfunding\", \"correlation\": 0.01321451707192076, \"correlation_label\": \"0.01\"}, {\"variable 1\": \"lasting_year\", \"variable 2\": \"undisclosed\", \"correlation\": 0.023964979712771766, \"correlation_label\": \"0.02\"}, {\"variable 1\": \"lasting_year\", \"variable 2\": \"convertible_note\", \"correlation\": 0.009083175294484562, \"correlation_label\": \"0.01\"}, {\"variable 1\": \"lasting_year\", \"variable 2\": \"debt_financing\", \"correlation\": 0.0254277933860334, \"correlation_label\": \"0.03\"}, {\"variable 1\": \"lasting_year\", \"variable 2\": \"angel\", \"correlation\": -0.035167173288567985, \"correlation_label\": \"-0.04\"}, {\"variable 1\": \"lasting_year\", \"variable 2\": \"grant\", \"correlation\": 0.054657923901561774, \"correlation_label\": \"0.05\"}, {\"variable 1\": \"lasting_year\", \"variable 2\": \"private_equity\", \"correlation\": 0.04497989831549386, \"correlation_label\": \"0.04\"}, {\"variable 1\": \"lasting_year\", \"variable 2\": \"secondary_market\", \"correlation\": 0.002493723824638998, \"correlation_label\": \"0.00\"}, {\"variable 1\": \"lasting_year\", \"variable 2\": \"product_crowdfunding\", \"correlation\": -0.0005319647238059365, \"correlation_label\": \"-0.00\"}, {\"variable 1\": \"lasting_year\", \"variable 2\": \"round_A\", \"correlation\": -0.020067624413442026, \"correlation_label\": \"-0.02\"}, {\"variable 1\": \"lasting_year\", \"variable 2\": \"round_B\", \"correlation\": 0.005135407636654611, \"correlation_label\": \"0.01\"}, {\"variable 1\": \"lasting_year\", \"variable 2\": \"round_C\", \"correlation\": 0.023492850144744136, \"correlation_label\": \"0.02\"}, {\"variable 1\": \"lasting_year\", \"variable 2\": \"round_D\", \"correlation\": 0.018202296491168373, \"correlation_label\": \"0.02\"}, {\"variable 1\": \"lasting_year\", \"variable 2\": \"round_E\", \"correlation\": 0.020044784321892745, \"correlation_label\": \"0.02\"}, {\"variable 1\": \"lasting_year\", \"variable 2\": \"round_F\", \"correlation\": 0.006576308001163138, \"correlation_label\": \"0.01\"}, {\"variable 1\": \"lasting_year\", \"variable 2\": \"round_G\", \"correlation\": 0.005568080154379636, \"correlation_label\": \"0.01\"}, {\"variable 1\": \"lasting_year\", \"variable 2\": \"round_H\", \"correlation\": 0.004908486885288944, \"correlation_label\": \"0.00\"}, {\"variable 1\": \"lasting_year\", \"variable 2\": \"lasting_year\", \"correlation\": 1.0, \"correlation_label\": \"1.00\"}, {\"variable 1\": \"lasting_year\", \"variable 2\": \"Status_acquired\", \"correlation\": 0.10100367683776199, \"correlation_label\": \"0.10\"}, {\"variable 1\": \"lasting_year\", \"variable 2\": \"Status_closed\", \"correlation\": -0.03162702778644713, \"correlation_label\": \"-0.03\"}, {\"variable 1\": \"lasting_year\", \"variable 2\": \"Status_operating\", \"correlation\": -0.07841736341974734, \"correlation_label\": \"-0.08\"}, {\"variable 1\": \"lasting_year\", \"variable 2\": \"if_ipo\", \"correlation\": 0.09439319730488256, \"correlation_label\": \"0.09\"}, {\"variable 1\": \"lasting_year\", \"variable 2\": \"if_jan\", \"correlation\": 0.22641110845997664, \"correlation_label\": \"0.23\"}, {\"variable 1\": \"lasting_year\", \"variable 2\": \"found_fund_diff\", \"correlation\": 0.928459834038952, \"correlation_label\": \"0.93\"}, {\"variable 1\": \"lasting_year\", \"variable 2\": \"fir_end_diff\", \"correlation\": 0.0712376006221073, \"correlation_label\": \"0.07\"}, {\"variable 1\": \"Status_acquired\", \"variable 2\": \"funding_total_usd\", \"correlation\": 0.007694254425497326, \"correlation_label\": \"0.01\"}, {\"variable 1\": \"Status_acquired\", \"variable 2\": \"funding_rounds\", \"correlation\": 0.03834607173029409, \"correlation_label\": \"0.04\"}, {\"variable 1\": \"Status_acquired\", \"variable 2\": \"seed\", \"correlation\": -0.018566676307080917, \"correlation_label\": \"-0.02\"}, {\"variable 1\": \"Status_acquired\", \"variable 2\": \"venture\", \"correlation\": 0.051466965941789414, \"correlation_label\": \"0.05\"}, {\"variable 1\": \"Status_acquired\", \"variable 2\": \"equity_crowdfunding\", \"correlation\": -0.0005546391888092192, \"correlation_label\": \"-0.00\"}, {\"variable 1\": \"Status_acquired\", \"variable 2\": \"undisclosed\", \"correlation\": 0.01681421199805076, \"correlation_label\": \"0.02\"}, {\"variable 1\": \"Status_acquired\", \"variable 2\": \"convertible_note\", \"correlation\": -0.00522667227729367, \"correlation_label\": \"-0.01\"}, {\"variable 1\": \"Status_acquired\", \"variable 2\": \"debt_financing\", \"correlation\": -0.0022321198673327784, \"correlation_label\": \"-0.00\"}, {\"variable 1\": \"Status_acquired\", \"variable 2\": \"angel\", \"correlation\": 0.001867444748014971, \"correlation_label\": \"0.00\"}, {\"variable 1\": \"Status_acquired\", \"variable 2\": \"grant\", \"correlation\": -0.010030980314889831, \"correlation_label\": \"-0.01\"}, {\"variable 1\": \"Status_acquired\", \"variable 2\": \"private_equity\", \"correlation\": 0.0007431651269295497, \"correlation_label\": \"0.00\"}, {\"variable 1\": \"Status_acquired\", \"variable 2\": \"secondary_market\", \"correlation\": -0.004805004185327305, \"correlation_label\": \"-0.00\"}, {\"variable 1\": \"Status_acquired\", \"variable 2\": \"product_crowdfunding\", \"correlation\": -0.0051285979213193745, \"correlation_label\": \"-0.01\"}, {\"variable 1\": \"Status_acquired\", \"variable 2\": \"round_A\", \"correlation\": 0.05216767161836503, \"correlation_label\": \"0.05\"}, {\"variable 1\": \"Status_acquired\", \"variable 2\": \"round_B\", \"correlation\": 0.06515487046000312, \"correlation_label\": \"0.07\"}, {\"variable 1\": \"Status_acquired\", \"variable 2\": \"round_C\", \"correlation\": 0.0508549216226964, \"correlation_label\": \"0.05\"}, {\"variable 1\": \"Status_acquired\", \"variable 2\": \"round_D\", \"correlation\": 0.013566269289987805, \"correlation_label\": \"0.01\"}, {\"variable 1\": \"Status_acquired\", \"variable 2\": \"round_E\", \"correlation\": 0.005302006757559467, \"correlation_label\": \"0.01\"}, {\"variable 1\": \"Status_acquired\", \"variable 2\": \"round_F\", \"correlation\": -0.003523337300786085, \"correlation_label\": \"-0.00\"}, {\"variable 1\": \"Status_acquired\", \"variable 2\": \"round_G\", \"correlation\": -0.00498272157304528, \"correlation_label\": \"-0.00\"}, {\"variable 1\": \"Status_acquired\", \"variable 2\": \"round_H\", \"correlation\": -0.0024805026770019114, \"correlation_label\": \"-0.00\"}, {\"variable 1\": \"Status_acquired\", \"variable 2\": \"lasting_year\", \"correlation\": 0.10100367683776199, \"correlation_label\": \"0.10\"}, {\"variable 1\": \"Status_acquired\", \"variable 2\": \"Status_acquired\", \"correlation\": 1.0, \"correlation_label\": \"1.00\"}, {\"variable 1\": \"Status_acquired\", \"variable 2\": \"Status_closed\", \"correlation\": -0.08181044252114257, \"correlation_label\": \"-0.08\"}, {\"variable 1\": \"Status_acquired\", \"variable 2\": \"Status_operating\", \"correlation\": -0.740638077005339, \"correlation_label\": \"-0.74\"}, {\"variable 1\": \"Status_acquired\", \"variable 2\": \"if_ipo\", \"correlation\": -0.022665025537888784, \"correlation_label\": \"-0.02\"}, {\"variable 1\": \"Status_acquired\", \"variable 2\": \"if_jan\", \"correlation\": 0.01681348253004139, \"correlation_label\": \"0.02\"}, {\"variable 1\": \"Status_acquired\", \"variable 2\": \"found_fund_diff\", \"correlation\": -0.012649788172000005, \"correlation_label\": \"-0.01\"}, {\"variable 1\": \"Status_acquired\", \"variable 2\": \"fir_end_diff\", \"correlation\": 0.05514514223892638, \"correlation_label\": \"0.06\"}, {\"variable 1\": \"Status_closed\", \"variable 2\": \"funding_total_usd\", \"correlation\": -0.010673543229359124, \"correlation_label\": \"-0.01\"}, {\"variable 1\": \"Status_closed\", \"variable 2\": \"funding_rounds\", \"correlation\": -0.06399468959584058, \"correlation_label\": \"-0.06\"}, {\"variable 1\": \"Status_closed\", \"variable 2\": \"seed\", \"correlation\": -0.02101800424980254, \"correlation_label\": \"-0.02\"}, {\"variable 1\": \"Status_closed\", \"variable 2\": \"venture\", \"correlation\": -0.03141313979479742, \"correlation_label\": \"-0.03\"}, {\"variable 1\": \"Status_closed\", \"variable 2\": \"equity_crowdfunding\", \"correlation\": -0.006552321073787936, \"correlation_label\": \"-0.01\"}, {\"variable 1\": \"Status_closed\", \"variable 2\": \"undisclosed\", \"correlation\": -0.009396818491674834, \"correlation_label\": \"-0.01\"}, {\"variable 1\": \"Status_closed\", \"variable 2\": \"convertible_note\", \"correlation\": -0.0020068814459352244, \"correlation_label\": \"-0.00\"}, {\"variable 1\": \"Status_closed\", \"variable 2\": \"debt_financing\", \"correlation\": -0.002408720148322945, \"correlation_label\": \"-0.00\"}, {\"variable 1\": \"Status_closed\", \"variable 2\": \"angel\", \"correlation\": 0.0223628670794859, \"correlation_label\": \"0.02\"}, {\"variable 1\": \"Status_closed\", \"variable 2\": \"grant\", \"correlation\": -0.0020845959130522374, \"correlation_label\": \"-0.00\"}, {\"variable 1\": \"Status_closed\", \"variable 2\": \"private_equity\", \"correlation\": -0.012190662341857065, \"correlation_label\": \"-0.01\"}, {\"variable 1\": \"Status_closed\", \"variable 2\": \"secondary_market\", \"correlation\": -0.0027439162317546744, \"correlation_label\": \"-0.00\"}, {\"variable 1\": \"Status_closed\", \"variable 2\": \"product_crowdfunding\", \"correlation\": -0.003858897888339884, \"correlation_label\": \"-0.00\"}, {\"variable 1\": \"Status_closed\", \"variable 2\": \"round_A\", \"correlation\": -0.022585400203539045, \"correlation_label\": \"-0.02\"}, {\"variable 1\": \"Status_closed\", \"variable 2\": \"round_B\", \"correlation\": -0.016312109132005807, \"correlation_label\": \"-0.02\"}, {\"variable 1\": \"Status_closed\", \"variable 2\": \"round_C\", \"correlation\": -0.024830200814780108, \"correlation_label\": \"-0.02\"}, {\"variable 1\": \"Status_closed\", \"variable 2\": \"round_D\", \"correlation\": -0.013726909614252361, \"correlation_label\": \"-0.01\"}, {\"variable 1\": \"Status_closed\", \"variable 2\": \"round_E\", \"correlation\": -0.009527245803292792, \"correlation_label\": \"-0.01\"}, {\"variable 1\": \"Status_closed\", \"variable 2\": \"round_F\", \"correlation\": 0.0033733922949107354, \"correlation_label\": \"0.00\"}, {\"variable 1\": \"Status_closed\", \"variable 2\": \"round_G\", \"correlation\": -0.0006704197436302438, \"correlation_label\": \"-0.00\"}, {\"variable 1\": \"Status_closed\", \"variable 2\": \"round_H\", \"correlation\": -0.0016712134069049231, \"correlation_label\": \"-0.00\"}, {\"variable 1\": \"Status_closed\", \"variable 2\": \"lasting_year\", \"correlation\": -0.03162702778644713, \"correlation_label\": \"-0.03\"}, {\"variable 1\": \"Status_closed\", \"variable 2\": \"Status_acquired\", \"correlation\": -0.08181044252114257, \"correlation_label\": \"-0.08\"}, {\"variable 1\": \"Status_closed\", \"variable 2\": \"Status_closed\", \"correlation\": 1.0, \"correlation_label\": \"1.00\"}, {\"variable 1\": \"Status_closed\", \"variable 2\": \"Status_operating\", \"correlation\": -0.4989973586526469, \"correlation_label\": \"-0.50\"}, {\"variable 1\": \"Status_closed\", \"variable 2\": \"if_ipo\", \"correlation\": -0.018834581710096485, \"correlation_label\": \"-0.02\"}, {\"variable 1\": \"Status_closed\", \"variable 2\": \"if_jan\", \"correlation\": -0.05236713526433514, \"correlation_label\": \"-0.05\"}, {\"variable 1\": \"Status_closed\", \"variable 2\": \"found_fund_diff\", \"correlation\": -0.07332357657870822, \"correlation_label\": \"-0.07\"}, {\"variable 1\": \"Status_closed\", \"variable 2\": \"fir_end_diff\", \"correlation\": -0.06853575781752455, \"correlation_label\": \"-0.07\"}, {\"variable 1\": \"Status_operating\", \"variable 2\": \"funding_total_usd\", \"correlation\": 0.0008260159838764715, \"correlation_label\": \"0.00\"}, {\"variable 1\": \"Status_operating\", \"variable 2\": \"funding_rounds\", \"correlation\": 0.006366786247712554, \"correlation_label\": \"0.01\"}, {\"variable 1\": \"Status_operating\", \"variable 2\": \"seed\", \"correlation\": 0.03057276662266836, \"correlation_label\": \"0.03\"}, {\"variable 1\": \"Status_operating\", \"variable 2\": \"venture\", \"correlation\": -0.017109341427457098, \"correlation_label\": \"-0.02\"}, {\"variable 1\": \"Status_operating\", \"variable 2\": \"equity_crowdfunding\", \"correlation\": 0.005733556027775805, \"correlation_label\": \"0.01\"}, {\"variable 1\": \"Status_operating\", \"variable 2\": \"undisclosed\", \"correlation\": -0.006322724437599505, \"correlation_label\": \"-0.01\"}, {\"variable 1\": \"Status_operating\", \"variable 2\": \"convertible_note\", \"correlation\": 0.005409123785214555, \"correlation_label\": \"0.01\"}, {\"variable 1\": \"Status_operating\", \"variable 2\": \"debt_financing\", \"correlation\": 0.0033836941005720212, \"correlation_label\": \"0.00\"}, {\"variable 1\": \"Status_operating\", \"variable 2\": \"angel\", \"correlation\": -0.014801107532230073, \"correlation_label\": \"-0.01\"}, {\"variable 1\": \"Status_operating\", \"variable 2\": \"grant\", \"correlation\": 0.008808634367036208, \"correlation_label\": \"0.01\"}, {\"variable 1\": \"Status_operating\", \"variable 2\": \"private_equity\", \"correlation\": 0.008309034823024659, \"correlation_label\": \"0.01\"}, {\"variable 1\": \"Status_operating\", \"variable 2\": \"secondary_market\", \"correlation\": 0.006202653906078202, \"correlation_label\": \"0.01\"}, {\"variable 1\": \"Status_operating\", \"variable 2\": \"product_crowdfunding\", \"correlation\": 0.007250141501026217, \"correlation_label\": \"0.01\"}, {\"variable 1\": \"Status_operating\", \"variable 2\": \"round_A\", \"correlation\": -0.023125706624245266, \"correlation_label\": \"-0.02\"}, {\"variable 1\": \"Status_operating\", \"variable 2\": \"round_B\", \"correlation\": -0.039072082998382704, \"correlation_label\": \"-0.04\"}, {\"variable 1\": \"Status_operating\", \"variable 2\": \"round_C\", \"correlation\": -0.018831914174063425, \"correlation_label\": \"-0.02\"}, {\"variable 1\": \"Status_operating\", \"variable 2\": \"round_D\", \"correlation\": 0.001640495027075596, \"correlation_label\": \"0.00\"}, {\"variable 1\": \"Status_operating\", \"variable 2\": \"round_E\", \"correlation\": 0.005501727171423063, \"correlation_label\": \"0.01\"}, {\"variable 1\": \"Status_operating\", \"variable 2\": \"round_F\", \"correlation\": 0.002494460467543509, \"correlation_label\": \"0.00\"}, {\"variable 1\": \"Status_operating\", \"variable 2\": \"round_G\", \"correlation\": 0.005346470581562864, \"correlation_label\": \"0.01\"}, {\"variable 1\": \"Status_operating\", \"variable 2\": \"round_H\", \"correlation\": 0.003349142791896135, \"correlation_label\": \"0.00\"}, {\"variable 1\": \"Status_operating\", \"variable 2\": \"lasting_year\", \"correlation\": -0.07841736341974734, \"correlation_label\": \"-0.08\"}, {\"variable 1\": \"Status_operating\", \"variable 2\": \"Status_acquired\", \"correlation\": -0.740638077005339, \"correlation_label\": \"-0.74\"}, {\"variable 1\": \"Status_operating\", \"variable 2\": \"Status_closed\", \"correlation\": -0.4989973586526469, \"correlation_label\": \"-0.50\"}, {\"variable 1\": \"Status_operating\", \"variable 2\": \"Status_operating\", \"correlation\": 1.0, \"correlation_label\": \"1.00\"}, {\"variable 1\": \"Status_operating\", \"variable 2\": \"if_ipo\", \"correlation\": 0.006357816308161667, \"correlation_label\": \"0.01\"}, {\"variable 1\": \"Status_operating\", \"variable 2\": \"if_jan\", \"correlation\": 0.008833483603966743, \"correlation_label\": \"0.01\"}, {\"variable 1\": \"Status_operating\", \"variable 2\": \"found_fund_diff\", \"correlation\": 0.040546537477142125, \"correlation_label\": \"0.04\"}, {\"variable 1\": \"Status_operating\", \"variable 2\": \"fir_end_diff\", \"correlation\": -0.003146797974777982, \"correlation_label\": \"-0.00\"}, {\"variable 1\": \"if_ipo\", \"variable 2\": \"funding_total_usd\", \"correlation\": 0.07808194747572886, \"correlation_label\": \"0.08\"}, {\"variable 1\": \"if_ipo\", \"variable 2\": \"funding_rounds\", \"correlation\": 0.06753242808280607, \"correlation_label\": \"0.07\"}, {\"variable 1\": \"if_ipo\", \"variable 2\": \"seed\", \"correlation\": -0.017543161089848745, \"correlation_label\": \"-0.02\"}, {\"variable 1\": \"if_ipo\", \"variable 2\": \"venture\", \"correlation\": 0.040831214239346214, \"correlation_label\": \"0.04\"}, {\"variable 1\": \"if_ipo\", \"variable 2\": \"equity_crowdfunding\", \"correlation\": -0.0025389982952376627, \"correlation_label\": \"-0.00\"}, {\"variable 1\": \"if_ipo\", \"variable 2\": \"undisclosed\", \"correlation\": -0.0036785508687259575, \"correlation_label\": \"-0.00\"}, {\"variable 1\": \"if_ipo\", \"variable 2\": \"convertible_note\", \"correlation\": -0.0015537685660172297, \"correlation_label\": \"-0.00\"}, {\"variable 1\": \"if_ipo\", \"variable 2\": \"debt_financing\", \"correlation\": 0.0006597778023612538, \"correlation_label\": \"0.00\"}, {\"variable 1\": \"if_ipo\", \"variable 2\": \"angel\", \"correlation\": -0.011477719160482949, \"correlation_label\": \"-0.01\"}, {\"variable 1\": \"if_ipo\", \"variable 2\": \"grant\", \"correlation\": 0.005622599964611342, \"correlation_label\": \"0.01\"}, {\"variable 1\": \"if_ipo\", \"variable 2\": \"private_equity\", \"correlation\": 0.010223798145727723, \"correlation_label\": \"0.01\"}, {\"variable 1\": \"if_ipo\", \"variable 2\": \"secondary_market\", \"correlation\": 0.15157158411889388, \"correlation_label\": \"0.15\"}, {\"variable 1\": \"if_ipo\", \"variable 2\": \"product_crowdfunding\", \"correlation\": -0.0014953075482195578, \"correlation_label\": \"-0.00\"}, {\"variable 1\": \"if_ipo\", \"variable 2\": \"round_A\", \"correlation\": 0.00415246467867323, \"correlation_label\": \"0.00\"}, {\"variable 1\": \"if_ipo\", \"variable 2\": \"round_B\", \"correlation\": 0.0243372565021747, \"correlation_label\": \"0.02\"}, {\"variable 1\": \"if_ipo\", \"variable 2\": \"round_C\", \"correlation\": 0.024772604726931984, \"correlation_label\": \"0.02\"}, {\"variable 1\": \"if_ipo\", \"variable 2\": \"round_D\", \"correlation\": 0.0212495593755308, \"correlation_label\": \"0.02\"}, {\"variable 1\": \"if_ipo\", \"variable 2\": \"round_E\", \"correlation\": 0.007854982952454603, \"correlation_label\": \"0.01\"}, {\"variable 1\": \"if_ipo\", \"variable 2\": \"round_F\", \"correlation\": 0.01880203764263354, \"correlation_label\": \"0.02\"}, {\"variable 1\": \"if_ipo\", \"variable 2\": \"round_G\", \"correlation\": 0.06611310698358984, \"correlation_label\": \"0.07\"}, {\"variable 1\": \"if_ipo\", \"variable 2\": \"round_H\", \"correlation\": -0.0006475885328777703, \"correlation_label\": \"-0.00\"}, {\"variable 1\": \"if_ipo\", \"variable 2\": \"lasting_year\", \"correlation\": 0.09439319730488256, \"correlation_label\": \"0.09\"}, {\"variable 1\": \"if_ipo\", \"variable 2\": \"Status_acquired\", \"correlation\": -0.022665025537888784, \"correlation_label\": \"-0.02\"}, {\"variable 1\": \"if_ipo\", \"variable 2\": \"Status_closed\", \"correlation\": -0.018834581710096485, \"correlation_label\": \"-0.02\"}, {\"variable 1\": \"if_ipo\", \"variable 2\": \"Status_operating\", \"correlation\": 0.006357816308161667, \"correlation_label\": \"0.01\"}, {\"variable 1\": \"if_ipo\", \"variable 2\": \"if_ipo\", \"correlation\": 1.0, \"correlation_label\": \"1.00\"}, {\"variable 1\": \"if_ipo\", \"variable 2\": \"if_jan\", \"correlation\": 0.02672609660129135, \"correlation_label\": \"0.03\"}, {\"variable 1\": \"if_ipo\", \"variable 2\": \"found_fund_diff\", \"correlation\": 0.1067607525982901, \"correlation_label\": \"0.11\"}, {\"variable 1\": \"if_ipo\", \"variable 2\": \"fir_end_diff\", \"correlation\": 0.06695343311530945, \"correlation_label\": \"0.07\"}, {\"variable 1\": \"if_jan\", \"variable 2\": \"funding_total_usd\", \"correlation\": 0.007790436895749483, \"correlation_label\": \"0.01\"}, {\"variable 1\": \"if_jan\", \"variable 2\": \"funding_rounds\", \"correlation\": 0.05364771507221059, \"correlation_label\": \"0.05\"}, {\"variable 1\": \"if_jan\", \"variable 2\": \"seed\", \"correlation\": -0.05321324138468102, \"correlation_label\": \"-0.05\"}, {\"variable 1\": \"if_jan\", \"variable 2\": \"venture\", \"correlation\": 0.06120870115595084, \"correlation_label\": \"0.06\"}, {\"variable 1\": \"if_jan\", \"variable 2\": \"equity_crowdfunding\", \"correlation\": -0.004521130545036538, \"correlation_label\": \"-0.00\"}, {\"variable 1\": \"if_jan\", \"variable 2\": \"undisclosed\", \"correlation\": 0.022078181894043803, \"correlation_label\": \"0.02\"}, {\"variable 1\": \"if_jan\", \"variable 2\": \"convertible_note\", \"correlation\": 0.007970725660510287, \"correlation_label\": \"0.01\"}, {\"variable 1\": \"if_jan\", \"variable 2\": \"debt_financing\", \"correlation\": -0.007059500310568805, \"correlation_label\": \"-0.01\"}, {\"variable 1\": \"if_jan\", \"variable 2\": \"angel\", \"correlation\": -0.05864871634722257, \"correlation_label\": \"-0.06\"}, {\"variable 1\": \"if_jan\", \"variable 2\": \"grant\", \"correlation\": 0.018907112693482515, \"correlation_label\": \"0.02\"}, {\"variable 1\": \"if_jan\", \"variable 2\": \"private_equity\", \"correlation\": 0.02729019478427653, \"correlation_label\": \"0.03\"}, {\"variable 1\": \"if_jan\", \"variable 2\": \"secondary_market\", \"correlation\": -0.014694340853291238, \"correlation_label\": \"-0.01\"}, {\"variable 1\": \"if_jan\", \"variable 2\": \"product_crowdfunding\", \"correlation\": -0.0035875431764419265, \"correlation_label\": \"-0.00\"}, {\"variable 1\": \"if_jan\", \"variable 2\": \"round_A\", \"correlation\": 0.010931891063679443, \"correlation_label\": \"0.01\"}, {\"variable 1\": \"if_jan\", \"variable 2\": \"round_B\", \"correlation\": 0.0331246663013824, \"correlation_label\": \"0.03\"}, {\"variable 1\": \"if_jan\", \"variable 2\": \"round_C\", \"correlation\": 0.018044408143489645, \"correlation_label\": \"0.02\"}, {\"variable 1\": \"if_jan\", \"variable 2\": \"round_D\", \"correlation\": 0.0065960906257845064, \"correlation_label\": \"0.01\"}, {\"variable 1\": \"if_jan\", \"variable 2\": \"round_E\", \"correlation\": 0.017875589615036866, \"correlation_label\": \"0.02\"}, {\"variable 1\": \"if_jan\", \"variable 2\": \"round_F\", \"correlation\": -0.0047603885833179815, \"correlation_label\": \"-0.00\"}, {\"variable 1\": \"if_jan\", \"variable 2\": \"round_G\", \"correlation\": -0.006884840009786406, \"correlation_label\": \"-0.01\"}, {\"variable 1\": \"if_jan\", \"variable 2\": \"round_H\", \"correlation\": 0.004911325229783784, \"correlation_label\": \"0.00\"}, {\"variable 1\": \"if_jan\", \"variable 2\": \"lasting_year\", \"correlation\": 0.22641110845997664, \"correlation_label\": \"0.23\"}, {\"variable 1\": \"if_jan\", \"variable 2\": \"Status_acquired\", \"correlation\": 0.01681348253004139, \"correlation_label\": \"0.02\"}, {\"variable 1\": \"if_jan\", \"variable 2\": \"Status_closed\", \"correlation\": -0.05236713526433514, \"correlation_label\": \"-0.05\"}, {\"variable 1\": \"if_jan\", \"variable 2\": \"Status_operating\", \"correlation\": 0.008833483603966743, \"correlation_label\": \"0.01\"}, {\"variable 1\": \"if_jan\", \"variable 2\": \"if_ipo\", \"correlation\": 0.02672609660129135, \"correlation_label\": \"0.03\"}, {\"variable 1\": \"if_jan\", \"variable 2\": \"if_jan\", \"correlation\": 1.0, \"correlation_label\": \"1.00\"}, {\"variable 1\": \"if_jan\", \"variable 2\": \"found_fund_diff\", \"correlation\": 0.21922269997486837, \"correlation_label\": \"0.22\"}, {\"variable 1\": \"if_jan\", \"variable 2\": \"fir_end_diff\", \"correlation\": 0.09421539466859424, \"correlation_label\": \"0.09\"}, {\"variable 1\": \"found_fund_diff\", \"variable 2\": \"funding_total_usd\", \"correlation\": 0.042640663159991106, \"correlation_label\": \"0.04\"}, {\"variable 1\": \"found_fund_diff\", \"variable 2\": \"funding_rounds\", \"correlation\": -0.10737473867804395, \"correlation_label\": \"-0.11\"}, {\"variable 1\": \"found_fund_diff\", \"variable 2\": \"seed\", \"correlation\": -0.06210013041393609, \"correlation_label\": \"-0.06\"}, {\"variable 1\": \"found_fund_diff\", \"variable 2\": \"venture\", \"correlation\": -0.017409278970103966, \"correlation_label\": \"-0.02\"}, {\"variable 1\": \"found_fund_diff\", \"variable 2\": \"equity_crowdfunding\", \"correlation\": 0.024221070693314337, \"correlation_label\": \"0.02\"}, {\"variable 1\": \"found_fund_diff\", \"variable 2\": \"undisclosed\", \"correlation\": 0.0005083657340609189, \"correlation_label\": \"0.00\"}, {\"variable 1\": \"found_fund_diff\", \"variable 2\": \"convertible_note\", \"correlation\": 0.012554613412525737, \"correlation_label\": \"0.01\"}, {\"variable 1\": \"found_fund_diff\", \"variable 2\": \"debt_financing\", \"correlation\": 0.02552463931897709, \"correlation_label\": \"0.03\"}, {\"variable 1\": \"found_fund_diff\", \"variable 2\": \"angel\", \"correlation\": -0.04787199353166359, \"correlation_label\": \"-0.05\"}, {\"variable 1\": \"found_fund_diff\", \"variable 2\": \"grant\", \"correlation\": 0.058314109003796, \"correlation_label\": \"0.06\"}, {\"variable 1\": \"found_fund_diff\", \"variable 2\": \"private_equity\", \"correlation\": 0.04183168302650744, \"correlation_label\": \"0.04\"}, {\"variable 1\": \"found_fund_diff\", \"variable 2\": \"secondary_market\", \"correlation\": -0.0007523071299100712, \"correlation_label\": \"-0.00\"}, {\"variable 1\": \"found_fund_diff\", \"variable 2\": \"product_crowdfunding\", \"correlation\": 0.0014777110888845163, \"correlation_label\": \"0.00\"}, {\"variable 1\": \"found_fund_diff\", \"variable 2\": \"round_A\", \"correlation\": -0.056325052127582875, \"correlation_label\": \"-0.06\"}, {\"variable 1\": \"found_fund_diff\", \"variable 2\": \"round_B\", \"correlation\": -0.05024963758193784, \"correlation_label\": \"-0.05\"}, {\"variable 1\": \"found_fund_diff\", \"variable 2\": \"round_C\", \"correlation\": -0.040967144242200264, \"correlation_label\": \"-0.04\"}, {\"variable 1\": \"found_fund_diff\", \"variable 2\": \"round_D\", \"correlation\": -0.01780093910512288, \"correlation_label\": \"-0.02\"}, {\"variable 1\": \"found_fund_diff\", \"variable 2\": \"round_E\", \"correlation\": -0.01551147013698928, \"correlation_label\": \"-0.02\"}, {\"variable 1\": \"found_fund_diff\", \"variable 2\": \"round_F\", \"correlation\": -0.008149752518139205, \"correlation_label\": \"-0.01\"}, {\"variable 1\": \"found_fund_diff\", \"variable 2\": \"round_G\", \"correlation\": -0.0049450394840863925, \"correlation_label\": \"-0.00\"}, {\"variable 1\": \"found_fund_diff\", \"variable 2\": \"round_H\", \"correlation\": -0.0007059566120833047, \"correlation_label\": \"-0.00\"}, {\"variable 1\": \"found_fund_diff\", \"variable 2\": \"lasting_year\", \"correlation\": 0.928459834038952, \"correlation_label\": \"0.93\"}, {\"variable 1\": \"found_fund_diff\", \"variable 2\": \"Status_acquired\", \"correlation\": -0.012649788172000005, \"correlation_label\": \"-0.01\"}, {\"variable 1\": \"found_fund_diff\", \"variable 2\": \"Status_closed\", \"correlation\": -0.07332357657870822, \"correlation_label\": \"-0.07\"}, {\"variable 1\": \"found_fund_diff\", \"variable 2\": \"Status_operating\", \"correlation\": 0.040546537477142125, \"correlation_label\": \"0.04\"}, {\"variable 1\": \"found_fund_diff\", \"variable 2\": \"if_ipo\", \"correlation\": 0.1067607525982901, \"correlation_label\": \"0.11\"}, {\"variable 1\": \"found_fund_diff\", \"variable 2\": \"if_jan\", \"correlation\": 0.21922269997486837, \"correlation_label\": \"0.22\"}, {\"variable 1\": \"found_fund_diff\", \"variable 2\": \"found_fund_diff\", \"correlation\": 1.0, \"correlation_label\": \"1.00\"}, {\"variable 1\": \"found_fund_diff\", \"variable 2\": \"fir_end_diff\", \"correlation\": -0.09372627309953487, \"correlation_label\": \"-0.09\"}, {\"variable 1\": \"fir_end_diff\", \"variable 2\": \"funding_total_usd\", \"correlation\": 0.09096100988015113, \"correlation_label\": \"0.09\"}, {\"variable 1\": \"fir_end_diff\", \"variable 2\": \"funding_rounds\", \"correlation\": 0.784415939463784, \"correlation_label\": \"0.78\"}, {\"variable 1\": \"fir_end_diff\", \"variable 2\": \"seed\", \"correlation\": 0.047832920841946854, \"correlation_label\": \"0.05\"}, {\"variable 1\": \"fir_end_diff\", \"variable 2\": \"venture\", \"correlation\": 0.4129183526920784, \"correlation_label\": \"0.41\"}, {\"variable 1\": \"fir_end_diff\", \"variable 2\": \"equity_crowdfunding\", \"correlation\": -0.007881867587504025, \"correlation_label\": \"-0.01\"}, {\"variable 1\": \"fir_end_diff\", \"variable 2\": \"undisclosed\", \"correlation\": 0.035369673556452666, \"correlation_label\": \"0.04\"}, {\"variable 1\": \"fir_end_diff\", \"variable 2\": \"convertible_note\", \"correlation\": 0.005450217116573571, \"correlation_label\": \"0.01\"}, {\"variable 1\": \"fir_end_diff\", \"variable 2\": \"debt_financing\", \"correlation\": 0.015852872828738658, \"correlation_label\": \"0.02\"}, {\"variable 1\": \"fir_end_diff\", \"variable 2\": \"angel\", \"correlation\": 0.03692649617848752, \"correlation_label\": \"0.04\"}, {\"variable 1\": \"fir_end_diff\", \"variable 2\": \"grant\", \"correlation\": 0.012223960531313532, \"correlation_label\": \"0.01\"}, {\"variable 1\": \"fir_end_diff\", \"variable 2\": \"private_equity\", \"correlation\": 0.0571098137434917, \"correlation_label\": \"0.06\"}, {\"variable 1\": \"fir_end_diff\", \"variable 2\": \"secondary_market\", \"correlation\": 0.019086605086939625, \"correlation_label\": \"0.02\"}, {\"variable 1\": \"fir_end_diff\", \"variable 2\": \"product_crowdfunding\", \"correlation\": 0.0063631817893828385, \"correlation_label\": \"0.01\"}, {\"variable 1\": \"fir_end_diff\", \"variable 2\": \"round_A\", \"correlation\": 0.19365056988821916, \"correlation_label\": \"0.19\"}, {\"variable 1\": \"fir_end_diff\", \"variable 2\": \"round_B\", \"correlation\": 0.2731241242711369, \"correlation_label\": \"0.27\"}, {\"variable 1\": \"fir_end_diff\", \"variable 2\": \"round_C\", \"correlation\": 0.31393741186735846, \"correlation_label\": \"0.31\"}, {\"variable 1\": \"fir_end_diff\", \"variable 2\": \"round_D\", \"correlation\": 0.18591436054901322, \"correlation_label\": \"0.19\"}, {\"variable 1\": \"fir_end_diff\", \"variable 2\": \"round_E\", \"correlation\": 0.19591637401567435, \"correlation_label\": \"0.20\"}, {\"variable 1\": \"fir_end_diff\", \"variable 2\": \"round_F\", \"correlation\": 0.07949913389579055, \"correlation_label\": \"0.08\"}, {\"variable 1\": \"fir_end_diff\", \"variable 2\": \"round_G\", \"correlation\": 0.054280390988616894, \"correlation_label\": \"0.05\"}, {\"variable 1\": \"fir_end_diff\", \"variable 2\": \"round_H\", \"correlation\": 0.033268802379580395, \"correlation_label\": \"0.03\"}, {\"variable 1\": \"fir_end_diff\", \"variable 2\": \"lasting_year\", \"correlation\": 0.0712376006221073, \"correlation_label\": \"0.07\"}, {\"variable 1\": \"fir_end_diff\", \"variable 2\": \"Status_acquired\", \"correlation\": 0.05514514223892638, \"correlation_label\": \"0.06\"}, {\"variable 1\": \"fir_end_diff\", \"variable 2\": \"Status_closed\", \"correlation\": -0.06853575781752455, \"correlation_label\": \"-0.07\"}, {\"variable 1\": \"fir_end_diff\", \"variable 2\": \"Status_operating\", \"correlation\": -0.003146797974777982, \"correlation_label\": \"-0.00\"}, {\"variable 1\": \"fir_end_diff\", \"variable 2\": \"if_ipo\", \"correlation\": 0.06695343311530945, \"correlation_label\": \"0.07\"}, {\"variable 1\": \"fir_end_diff\", \"variable 2\": \"if_jan\", \"correlation\": 0.09421539466859424, \"correlation_label\": \"0.09\"}, {\"variable 1\": \"fir_end_diff\", \"variable 2\": \"found_fund_diff\", \"correlation\": -0.09372627309953487, \"correlation_label\": \"-0.09\"}, {\"variable 1\": \"fir_end_diff\", \"variable 2\": \"fir_end_diff\", \"correlation\": 1.0, \"correlation_label\": \"1.00\"}]}}, {\"mode\": \"vega-lite\"});\n",
              "</script>"
            ]
          },
          "metadata": {},
          "execution_count": 28
        }
      ]
    },
    {
      "cell_type": "markdown",
      "metadata": {
        "id": "fGqBgQUyJBIQ"
      },
      "source": [
        "### Findings 1: Unicorn startups"
      ]
    },
    {
      "cell_type": "code",
      "metadata": {
        "colab": {
          "base_uri": "https://localhost:8080/"
        },
        "id": "2aFAUWqAJBIc",
        "outputId": "4b8ed98a-ac98-4fc6-b3d1-75c49593ac4d"
      },
      "source": [
        "unicorn = pd.read_excel(\"/content/drive/MyDrive/FALL 2021/95-885 Data Science and Big Data/project-1 team14/Final Deliverables/uniorn_companies.xlsx\")\n",
        "unicorn_list = unicorn['Company'].tolist()\n",
        "df_unicorn = df[df['name'].isin(unicorn_list)].dropna(subset = ['market'])\n",
        "len(unicorn_list)/df.dropna(subset = ['market']).shape[0] #0.017962308598351\n",
        "df.dropna(subset = ['market']).shape[0] #33960"
      ],
      "execution_count": 31,
      "outputs": [
        {
          "output_type": "execute_result",
          "data": {
            "text/plain": [
              "33960"
            ]
          },
          "metadata": {},
          "execution_count": 31
        }
      ]
    },
    {
      "cell_type": "code",
      "metadata": {
        "id": "dTd1reRtJBIe"
      },
      "source": [
        "df_unicorn_m = df[df['name'].isin(unicorn_list)].groupby('market')['name'].count().reset_index().sort_values(by = 'name',ascending = False)\n",
        "unicorn_markets = df_unicorn_m['market'].tolist()"
      ],
      "execution_count": 32,
      "outputs": []
    },
    {
      "cell_type": "code",
      "metadata": {
        "colab": {
          "base_uri": "https://localhost:8080/",
          "height": 206
        },
        "id": "vzQbZQWRJBIe",
        "outputId": "17a5ff62-7692-4e34-fcc8-a8b026dd3d4e"
      },
      "source": [
        "df_unicorn.groupby('country_code')['name'].count().reset_index().sort_values(by = 'name',ascending = False).head()"
      ],
      "execution_count": 33,
      "outputs": [
        {
          "output_type": "execute_result",
          "data": {
            "text/html": [
              "\n",
              "  <div id=\"df-cfadc216-ff75-4010-a3fc-ebd9a514bdd9\">\n",
              "    <div class=\"colab-df-container\">\n",
              "      <div>\n",
              "<style scoped>\n",
              "    .dataframe tbody tr th:only-of-type {\n",
              "        vertical-align: middle;\n",
              "    }\n",
              "\n",
              "    .dataframe tbody tr th {\n",
              "        vertical-align: top;\n",
              "    }\n",
              "\n",
              "    .dataframe thead th {\n",
              "        text-align: right;\n",
              "    }\n",
              "</style>\n",
              "<table border=\"1\" class=\"dataframe\">\n",
              "  <thead>\n",
              "    <tr style=\"text-align: right;\">\n",
              "      <th></th>\n",
              "      <th>country_code</th>\n",
              "      <th>name</th>\n",
              "    </tr>\n",
              "  </thead>\n",
              "  <tbody>\n",
              "    <tr>\n",
              "      <th>17</th>\n",
              "      <td>USA</td>\n",
              "      <td>89</td>\n",
              "    </tr>\n",
              "    <tr>\n",
              "      <th>4</th>\n",
              "      <td>CHN</td>\n",
              "      <td>8</td>\n",
              "    </tr>\n",
              "    <tr>\n",
              "      <th>8</th>\n",
              "      <td>GBR</td>\n",
              "      <td>6</td>\n",
              "    </tr>\n",
              "    <tr>\n",
              "      <th>11</th>\n",
              "      <td>ISR</td>\n",
              "      <td>6</td>\n",
              "    </tr>\n",
              "    <tr>\n",
              "      <th>10</th>\n",
              "      <td>IND</td>\n",
              "      <td>5</td>\n",
              "    </tr>\n",
              "  </tbody>\n",
              "</table>\n",
              "</div>\n",
              "      <button class=\"colab-df-convert\" onclick=\"convertToInteractive('df-cfadc216-ff75-4010-a3fc-ebd9a514bdd9')\"\n",
              "              title=\"Convert this dataframe to an interactive table.\"\n",
              "              style=\"display:none;\">\n",
              "        \n",
              "  <svg xmlns=\"http://www.w3.org/2000/svg\" height=\"24px\"viewBox=\"0 0 24 24\"\n",
              "       width=\"24px\">\n",
              "    <path d=\"M0 0h24v24H0V0z\" fill=\"none\"/>\n",
              "    <path d=\"M18.56 5.44l.94 2.06.94-2.06 2.06-.94-2.06-.94-.94-2.06-.94 2.06-2.06.94zm-11 1L8.5 8.5l.94-2.06 2.06-.94-2.06-.94L8.5 2.5l-.94 2.06-2.06.94zm10 10l.94 2.06.94-2.06 2.06-.94-2.06-.94-.94-2.06-.94 2.06-2.06.94z\"/><path d=\"M17.41 7.96l-1.37-1.37c-.4-.4-.92-.59-1.43-.59-.52 0-1.04.2-1.43.59L10.3 9.45l-7.72 7.72c-.78.78-.78 2.05 0 2.83L4 21.41c.39.39.9.59 1.41.59.51 0 1.02-.2 1.41-.59l7.78-7.78 2.81-2.81c.8-.78.8-2.07 0-2.86zM5.41 20L4 18.59l7.72-7.72 1.47 1.35L5.41 20z\"/>\n",
              "  </svg>\n",
              "      </button>\n",
              "      \n",
              "  <style>\n",
              "    .colab-df-container {\n",
              "      display:flex;\n",
              "      flex-wrap:wrap;\n",
              "      gap: 12px;\n",
              "    }\n",
              "\n",
              "    .colab-df-convert {\n",
              "      background-color: #E8F0FE;\n",
              "      border: none;\n",
              "      border-radius: 50%;\n",
              "      cursor: pointer;\n",
              "      display: none;\n",
              "      fill: #1967D2;\n",
              "      height: 32px;\n",
              "      padding: 0 0 0 0;\n",
              "      width: 32px;\n",
              "    }\n",
              "\n",
              "    .colab-df-convert:hover {\n",
              "      background-color: #E2EBFA;\n",
              "      box-shadow: 0px 1px 2px rgba(60, 64, 67, 0.3), 0px 1px 3px 1px rgba(60, 64, 67, 0.15);\n",
              "      fill: #174EA6;\n",
              "    }\n",
              "\n",
              "    [theme=dark] .colab-df-convert {\n",
              "      background-color: #3B4455;\n",
              "      fill: #D2E3FC;\n",
              "    }\n",
              "\n",
              "    [theme=dark] .colab-df-convert:hover {\n",
              "      background-color: #434B5C;\n",
              "      box-shadow: 0px 1px 3px 1px rgba(0, 0, 0, 0.15);\n",
              "      filter: drop-shadow(0px 1px 2px rgba(0, 0, 0, 0.3));\n",
              "      fill: #FFFFFF;\n",
              "    }\n",
              "  </style>\n",
              "\n",
              "      <script>\n",
              "        const buttonEl =\n",
              "          document.querySelector('#df-cfadc216-ff75-4010-a3fc-ebd9a514bdd9 button.colab-df-convert');\n",
              "        buttonEl.style.display =\n",
              "          google.colab.kernel.accessAllowed ? 'block' : 'none';\n",
              "\n",
              "        async function convertToInteractive(key) {\n",
              "          const element = document.querySelector('#df-cfadc216-ff75-4010-a3fc-ebd9a514bdd9');\n",
              "          const dataTable =\n",
              "            await google.colab.kernel.invokeFunction('convertToInteractive',\n",
              "                                                     [key], {});\n",
              "          if (!dataTable) return;\n",
              "\n",
              "          const docLinkHtml = 'Like what you see? Visit the ' +\n",
              "            '<a target=\"_blank\" href=https://colab.research.google.com/notebooks/data_table.ipynb>data table notebook</a>'\n",
              "            + ' to learn more about interactive tables.';\n",
              "          element.innerHTML = '';\n",
              "          dataTable['output_type'] = 'display_data';\n",
              "          await google.colab.output.renderOutput(dataTable, element);\n",
              "          const docLink = document.createElement('div');\n",
              "          docLink.innerHTML = docLinkHtml;\n",
              "          element.appendChild(docLink);\n",
              "        }\n",
              "      </script>\n",
              "    </div>\n",
              "  </div>\n",
              "  "
            ],
            "text/plain": [
              "   country_code  name\n",
              "17          USA    89\n",
              "4           CHN     8\n",
              "8           GBR     6\n",
              "11          ISR     6\n",
              "10          IND     5"
            ]
          },
          "metadata": {},
          "execution_count": 33
        }
      ]
    },
    {
      "cell_type": "code",
      "metadata": {
        "id": "bP75zvVwhrjP",
        "colab": {
          "base_uri": "https://localhost:8080/",
          "height": 206
        },
        "outputId": "d170b730-c888-4f8a-d38c-99af7da05962"
      },
      "source": [
        "unicorn_year = df_unicorn.groupby('founded_year')['name'].count().reset_index().sort_values(by = 'name',ascending = False)\n",
        "unicorn_year.head()"
      ],
      "execution_count": 34,
      "outputs": [
        {
          "output_type": "execute_result",
          "data": {
            "text/html": [
              "\n",
              "  <div id=\"df-bee2907e-df69-4909-807e-2b3d2f888920\">\n",
              "    <div class=\"colab-df-container\">\n",
              "      <div>\n",
              "<style scoped>\n",
              "    .dataframe tbody tr th:only-of-type {\n",
              "        vertical-align: middle;\n",
              "    }\n",
              "\n",
              "    .dataframe tbody tr th {\n",
              "        vertical-align: top;\n",
              "    }\n",
              "\n",
              "    .dataframe thead th {\n",
              "        text-align: right;\n",
              "    }\n",
              "</style>\n",
              "<table border=\"1\" class=\"dataframe\">\n",
              "  <thead>\n",
              "    <tr style=\"text-align: right;\">\n",
              "      <th></th>\n",
              "      <th>founded_year</th>\n",
              "      <th>name</th>\n",
              "    </tr>\n",
              "  </thead>\n",
              "  <tbody>\n",
              "    <tr>\n",
              "      <th>16</th>\n",
              "      <td>2012.0</td>\n",
              "      <td>25</td>\n",
              "    </tr>\n",
              "    <tr>\n",
              "      <th>15</th>\n",
              "      <td>2011.0</td>\n",
              "      <td>22</td>\n",
              "    </tr>\n",
              "    <tr>\n",
              "      <th>17</th>\n",
              "      <td>2013.0</td>\n",
              "      <td>16</td>\n",
              "    </tr>\n",
              "    <tr>\n",
              "      <th>13</th>\n",
              "      <td>2009.0</td>\n",
              "      <td>16</td>\n",
              "    </tr>\n",
              "    <tr>\n",
              "      <th>14</th>\n",
              "      <td>2010.0</td>\n",
              "      <td>15</td>\n",
              "    </tr>\n",
              "  </tbody>\n",
              "</table>\n",
              "</div>\n",
              "      <button class=\"colab-df-convert\" onclick=\"convertToInteractive('df-bee2907e-df69-4909-807e-2b3d2f888920')\"\n",
              "              title=\"Convert this dataframe to an interactive table.\"\n",
              "              style=\"display:none;\">\n",
              "        \n",
              "  <svg xmlns=\"http://www.w3.org/2000/svg\" height=\"24px\"viewBox=\"0 0 24 24\"\n",
              "       width=\"24px\">\n",
              "    <path d=\"M0 0h24v24H0V0z\" fill=\"none\"/>\n",
              "    <path d=\"M18.56 5.44l.94 2.06.94-2.06 2.06-.94-2.06-.94-.94-2.06-.94 2.06-2.06.94zm-11 1L8.5 8.5l.94-2.06 2.06-.94-2.06-.94L8.5 2.5l-.94 2.06-2.06.94zm10 10l.94 2.06.94-2.06 2.06-.94-2.06-.94-.94-2.06-.94 2.06-2.06.94z\"/><path d=\"M17.41 7.96l-1.37-1.37c-.4-.4-.92-.59-1.43-.59-.52 0-1.04.2-1.43.59L10.3 9.45l-7.72 7.72c-.78.78-.78 2.05 0 2.83L4 21.41c.39.39.9.59 1.41.59.51 0 1.02-.2 1.41-.59l7.78-7.78 2.81-2.81c.8-.78.8-2.07 0-2.86zM5.41 20L4 18.59l7.72-7.72 1.47 1.35L5.41 20z\"/>\n",
              "  </svg>\n",
              "      </button>\n",
              "      \n",
              "  <style>\n",
              "    .colab-df-container {\n",
              "      display:flex;\n",
              "      flex-wrap:wrap;\n",
              "      gap: 12px;\n",
              "    }\n",
              "\n",
              "    .colab-df-convert {\n",
              "      background-color: #E8F0FE;\n",
              "      border: none;\n",
              "      border-radius: 50%;\n",
              "      cursor: pointer;\n",
              "      display: none;\n",
              "      fill: #1967D2;\n",
              "      height: 32px;\n",
              "      padding: 0 0 0 0;\n",
              "      width: 32px;\n",
              "    }\n",
              "\n",
              "    .colab-df-convert:hover {\n",
              "      background-color: #E2EBFA;\n",
              "      box-shadow: 0px 1px 2px rgba(60, 64, 67, 0.3), 0px 1px 3px 1px rgba(60, 64, 67, 0.15);\n",
              "      fill: #174EA6;\n",
              "    }\n",
              "\n",
              "    [theme=dark] .colab-df-convert {\n",
              "      background-color: #3B4455;\n",
              "      fill: #D2E3FC;\n",
              "    }\n",
              "\n",
              "    [theme=dark] .colab-df-convert:hover {\n",
              "      background-color: #434B5C;\n",
              "      box-shadow: 0px 1px 3px 1px rgba(0, 0, 0, 0.15);\n",
              "      filter: drop-shadow(0px 1px 2px rgba(0, 0, 0, 0.3));\n",
              "      fill: #FFFFFF;\n",
              "    }\n",
              "  </style>\n",
              "\n",
              "      <script>\n",
              "        const buttonEl =\n",
              "          document.querySelector('#df-bee2907e-df69-4909-807e-2b3d2f888920 button.colab-df-convert');\n",
              "        buttonEl.style.display =\n",
              "          google.colab.kernel.accessAllowed ? 'block' : 'none';\n",
              "\n",
              "        async function convertToInteractive(key) {\n",
              "          const element = document.querySelector('#df-bee2907e-df69-4909-807e-2b3d2f888920');\n",
              "          const dataTable =\n",
              "            await google.colab.kernel.invokeFunction('convertToInteractive',\n",
              "                                                     [key], {});\n",
              "          if (!dataTable) return;\n",
              "\n",
              "          const docLinkHtml = 'Like what you see? Visit the ' +\n",
              "            '<a target=\"_blank\" href=https://colab.research.google.com/notebooks/data_table.ipynb>data table notebook</a>'\n",
              "            + ' to learn more about interactive tables.';\n",
              "          element.innerHTML = '';\n",
              "          dataTable['output_type'] = 'display_data';\n",
              "          await google.colab.output.renderOutput(dataTable, element);\n",
              "          const docLink = document.createElement('div');\n",
              "          docLink.innerHTML = docLinkHtml;\n",
              "          element.appendChild(docLink);\n",
              "        }\n",
              "      </script>\n",
              "    </div>\n",
              "  </div>\n",
              "  "
            ],
            "text/plain": [
              "    founded_year  name\n",
              "16        2012.0    25\n",
              "15        2011.0    22\n",
              "17        2013.0    16\n",
              "13        2009.0    16\n",
              "14        2010.0    15"
            ]
          },
          "metadata": {},
          "execution_count": 34
        }
      ]
    },
    {
      "cell_type": "code",
      "metadata": {
        "id": "hZweRIRgh7Z2",
        "colab": {
          "base_uri": "https://localhost:8080/",
          "height": 485
        },
        "outputId": "da829894-2543-4f0d-a7d4-2b2ed272f6d4"
      },
      "source": [
        "def unicorn_by_year(df,start,end):\n",
        "  df_subset = df[(df['founded_year']>start)&(df['founded_year']<end)]\n",
        "  df_subset = df_subset.groupby(['founded_year','market'])['name'].count().reset_index()\n",
        "  result = alt.Chart(df_subset).mark_bar().encode(\n",
        "      alt.X('founded_year:N', axis=alt.Axis(labelAngle=0)),\n",
        "      alt.Y('name:Q'),\n",
        "      alt.Color('market:N'),\n",
        "      tooltip=['market','founded_year','name']\n",
        "  ).properties(title=\"Number of unicorns during \"+str(start)+\" - \"+str(end),width=1000,height=380).interactive()\n",
        "\n",
        "  return result\n",
        "unicorn_by_year(df_unicorn,1990, 2011)"
      ],
      "execution_count": 35,
      "outputs": [
        {
          "output_type": "execute_result",
          "data": {
            "text/plain": [
              "alt.Chart(...)"
            ],
            "text/html": [
              "\n",
              "<div id=\"altair-viz-1501c61e823c4675a03373f27ece50b1\"></div>\n",
              "<script type=\"text/javascript\">\n",
              "  var VEGA_DEBUG = (typeof VEGA_DEBUG == \"undefined\") ? {} : VEGA_DEBUG;\n",
              "  (function(spec, embedOpt){\n",
              "    let outputDiv = document.currentScript.previousElementSibling;\n",
              "    if (outputDiv.id !== \"altair-viz-1501c61e823c4675a03373f27ece50b1\") {\n",
              "      outputDiv = document.getElementById(\"altair-viz-1501c61e823c4675a03373f27ece50b1\");\n",
              "    }\n",
              "    const paths = {\n",
              "      \"vega\": \"https://cdn.jsdelivr.net/npm//vega@5?noext\",\n",
              "      \"vega-lib\": \"https://cdn.jsdelivr.net/npm//vega-lib?noext\",\n",
              "      \"vega-lite\": \"https://cdn.jsdelivr.net/npm//vega-lite@4.17.0?noext\",\n",
              "      \"vega-embed\": \"https://cdn.jsdelivr.net/npm//vega-embed@6?noext\",\n",
              "    };\n",
              "\n",
              "    function maybeLoadScript(lib, version) {\n",
              "      var key = `${lib.replace(\"-\", \"\")}_version`;\n",
              "      return (VEGA_DEBUG[key] == version) ?\n",
              "        Promise.resolve(paths[lib]) :\n",
              "        new Promise(function(resolve, reject) {\n",
              "          var s = document.createElement('script');\n",
              "          document.getElementsByTagName(\"head\")[0].appendChild(s);\n",
              "          s.async = true;\n",
              "          s.onload = () => {\n",
              "            VEGA_DEBUG[key] = version;\n",
              "            return resolve(paths[lib]);\n",
              "          };\n",
              "          s.onerror = () => reject(`Error loading script: ${paths[lib]}`);\n",
              "          s.src = paths[lib];\n",
              "        });\n",
              "    }\n",
              "\n",
              "    function showError(err) {\n",
              "      outputDiv.innerHTML = `<div class=\"error\" style=\"color:red;\">${err}</div>`;\n",
              "      throw err;\n",
              "    }\n",
              "\n",
              "    function displayChart(vegaEmbed) {\n",
              "      vegaEmbed(outputDiv, spec, embedOpt)\n",
              "        .catch(err => showError(`Javascript Error: ${err.message}<br>This usually means there's a typo in your chart specification. See the javascript console for the full traceback.`));\n",
              "    }\n",
              "\n",
              "    if(typeof define === \"function\" && define.amd) {\n",
              "      requirejs.config({paths});\n",
              "      require([\"vega-embed\"], displayChart, err => showError(`Error loading script: ${err.message}`));\n",
              "    } else {\n",
              "      maybeLoadScript(\"vega\", \"5\")\n",
              "        .then(() => maybeLoadScript(\"vega-lite\", \"4.17.0\"))\n",
              "        .then(() => maybeLoadScript(\"vega-embed\", \"6\"))\n",
              "        .catch(showError)\n",
              "        .then(() => displayChart(vegaEmbed));\n",
              "    }\n",
              "  })({\"config\": {\"view\": {\"continuousWidth\": 400, \"continuousHeight\": 300}}, \"data\": {\"name\": \"data-0fcbe944f259c6677931fb264b6efc75\"}, \"mark\": \"bar\", \"encoding\": {\"color\": {\"field\": \"market\", \"type\": \"nominal\"}, \"tooltip\": [{\"field\": \"market\", \"type\": \"nominal\"}, {\"field\": \"founded_year\", \"type\": \"quantitative\"}, {\"field\": \"name\", \"type\": \"quantitative\"}], \"x\": {\"axis\": {\"labelAngle\": 0}, \"field\": \"founded_year\", \"type\": \"nominal\"}, \"y\": {\"field\": \"name\", \"type\": \"quantitative\"}}, \"height\": 380, \"selection\": {\"selector009\": {\"type\": \"interval\", \"bind\": \"scales\", \"encodings\": [\"x\", \"y\"]}}, \"title\": \"Number of unicorns during 1990 - 2011\", \"width\": 1000, \"$schema\": \"https://vega.github.io/schema/vega-lite/v4.17.0.json\", \"datasets\": {\"data-0fcbe944f259c6677931fb264b6efc75\": [{\"founded_year\": 1995.0, \"market\": \"E-Commerce\", \"name\": 1}, {\"founded_year\": 1995.0, \"market\": \"EnterpriseSoftware\", \"name\": 1}, {\"founded_year\": 1997.0, \"market\": \"Biotechnology\", \"name\": 1}, {\"founded_year\": 1998.0, \"market\": \"Telecommunications\", \"name\": 1}, {\"founded_year\": 1999.0, \"market\": \"Legal\", \"name\": 1}, {\"founded_year\": 1999.0, \"market\": \"MedicalDevices\", \"name\": 1}, {\"founded_year\": 1999.0, \"market\": \"SaaS\", \"name\": 1}, {\"founded_year\": 2000.0, \"market\": \"Mobile\", \"name\": 1}, {\"founded_year\": 2000.0, \"market\": \"SalesandMarketing\", \"name\": 1}, {\"founded_year\": 2000.0, \"market\": \"Software\", \"name\": 2}, {\"founded_year\": 2001.0, \"market\": \"Finance\", \"name\": 1}, {\"founded_year\": 2001.0, \"market\": \"MobileEnterprise\", \"name\": 1}, {\"founded_year\": 2002.0, \"market\": \"FlashStorage\", \"name\": 1}, {\"founded_year\": 2003.0, \"market\": \"Sports\", \"name\": 1}, {\"founded_year\": 2004.0, \"market\": \"Analytics\", \"name\": 1}, {\"founded_year\": 2004.0, \"market\": \"CuratedWeb\", \"name\": 1}, {\"founded_year\": 2004.0, \"market\": \"EnterpriseSoftware\", \"name\": 1}, {\"founded_year\": 2004.0, \"market\": \"Software\", \"name\": 1}, {\"founded_year\": 2005.0, \"market\": \"Games\", \"name\": 1}, {\"founded_year\": 2005.0, \"market\": \"Nanotechnology\", \"name\": 1}, {\"founded_year\": 2005.0, \"market\": \"Search\", \"name\": 1}, {\"founded_year\": 2005.0, \"market\": \"WebCMS\", \"name\": 1}, {\"founded_year\": 2006.0, \"market\": \"Crowdsourcing\", \"name\": 1}, {\"founded_year\": 2006.0, \"market\": \"Entertainment\", \"name\": 1}, {\"founded_year\": 2006.0, \"market\": \"Transportation\", \"name\": 1}, {\"founded_year\": 2006.0, \"market\": \"VideoStreaming\", \"name\": 1}, {\"founded_year\": 2007.0, \"market\": \"Biotechnology\", \"name\": 1}, {\"founded_year\": 2007.0, \"market\": \"E-Commerce\", \"name\": 1}, {\"founded_year\": 2007.0, \"market\": \"Education\", \"name\": 1}, {\"founded_year\": 2007.0, \"market\": \"EnterpriseSoftware\", \"name\": 1}, {\"founded_year\": 2007.0, \"market\": \"HealthCare\", \"name\": 1}, {\"founded_year\": 2007.0, \"market\": \"Hospitality\", \"name\": 1}, {\"founded_year\": 2007.0, \"market\": \"Mobile\", \"name\": 1}, {\"founded_year\": 2007.0, \"market\": \"Restaurants\", \"name\": 1}, {\"founded_year\": 2007.0, \"market\": \"Security\", \"name\": 1}, {\"founded_year\": 2007.0, \"market\": \"Technology\", \"name\": 1}, {\"founded_year\": 2008.0, \"market\": \"CuratedWeb\", \"name\": 1}, {\"founded_year\": 2008.0, \"market\": \"E-Commerce\", \"name\": 2}, {\"founded_year\": 2008.0, \"market\": \"EnterpriseSoftware\", \"name\": 1}, {\"founded_year\": 2008.0, \"market\": \"Finance\", \"name\": 2}, {\"founded_year\": 2008.0, \"market\": \"Restaurants\", \"name\": 1}, {\"founded_year\": 2008.0, \"market\": \"Software\", \"name\": 1}, {\"founded_year\": 2008.0, \"market\": \"Storage\", \"name\": 1}, {\"founded_year\": 2009.0, \"market\": \"Analytics\", \"name\": 1}, {\"founded_year\": 2009.0, \"market\": \"CuratedWeb\", \"name\": 1}, {\"founded_year\": 2009.0, \"market\": \"E-Commerce\", \"name\": 2}, {\"founded_year\": 2009.0, \"market\": \"EnterpriseSoftware\", \"name\": 1}, {\"founded_year\": 2009.0, \"market\": \"Film\", \"name\": 1}, {\"founded_year\": 2009.0, \"market\": \"Marketplaces\", \"name\": 3}, {\"founded_year\": 2009.0, \"market\": \"Mobile\", \"name\": 1}, {\"founded_year\": 2009.0, \"market\": \"PaaS\", \"name\": 1}, {\"founded_year\": 2009.0, \"market\": \"SemanticSearch\", \"name\": 1}, {\"founded_year\": 2009.0, \"market\": \"SocialCRM\", \"name\": 1}, {\"founded_year\": 2009.0, \"market\": \"Software\", \"name\": 2}, {\"founded_year\": 2009.0, \"market\": \"iOS\", \"name\": 1}, {\"founded_year\": 2010.0, \"market\": \"CreditCards\", \"name\": 1}, {\"founded_year\": 2010.0, \"market\": \"CuratedWeb\", \"name\": 1}, {\"founded_year\": 2010.0, \"market\": \"DataPrivacy\", \"name\": 1}, {\"founded_year\": 2010.0, \"market\": \"E-Commerce\", \"name\": 3}, {\"founded_year\": 2010.0, \"market\": \"Education\", \"name\": 1}, {\"founded_year\": 2010.0, \"market\": \"Geospatial\", \"name\": 1}, {\"founded_year\": 2010.0, \"market\": \"HealthandWellness\", \"name\": 1}, {\"founded_year\": 2010.0, \"market\": \"Marketplaces\", \"name\": 1}, {\"founded_year\": 2010.0, \"market\": \"Privacy\", \"name\": 1}, {\"founded_year\": 2010.0, \"market\": \"Retail\", \"name\": 1}, {\"founded_year\": 2010.0, \"market\": \"SocialRecruiting\", \"name\": 1}, {\"founded_year\": 2010.0, \"market\": \"Software\", \"name\": 1}, {\"founded_year\": 2010.0, \"market\": \"Virtualization\", \"name\": 1}]}}, {\"mode\": \"vega-lite\"});\n",
              "</script>"
            ]
          },
          "metadata": {},
          "execution_count": 35
        }
      ]
    },
    {
      "cell_type": "code",
      "metadata": {
        "colab": {
          "base_uri": "https://localhost:8080/",
          "height": 542
        },
        "id": "33_xKUWdk2Ek",
        "outputId": "86454445-a273-4a72-b029-c686f16621b7"
      },
      "source": [
        "df_unicorn['new_market'] = df_unicorn['market'].apply(lambda x : \"Others\" if x not in unicorn_markets[:10] else x)\n",
        "df_count = df_unicorn.groupby(['new_market'])['name'].count().reset_index()\n",
        "fig = px.pie(df_count, values='name', names='new_market', \n",
        "             color_discrete_sequence=px.colors.sequential.RdBu, title=' Almost 12% of unicorns are in Software,E-commerce and Mobile markets')\n",
        "fig.show()"
      ],
      "execution_count": 36,
      "outputs": [
        {
          "output_type": "display_data",
          "data": {
            "text/html": [
              "<html>\n",
              "<head><meta charset=\"utf-8\" /></head>\n",
              "<body>\n",
              "    <div>            <script src=\"https://cdnjs.cloudflare.com/ajax/libs/mathjax/2.7.5/MathJax.js?config=TeX-AMS-MML_SVG\"></script><script type=\"text/javascript\">if (window.MathJax) {MathJax.Hub.Config({SVG: {font: \"STIX-Web\"}});}</script>                <script type=\"text/javascript\">window.PlotlyConfig = {MathJaxConfig: 'local'};</script>\n",
              "        <script src=\"https://cdn.plot.ly/plotly-2.8.3.min.js\"></script>                <div id=\"3055ea4e-07db-4e7d-828f-761573d76202\" class=\"plotly-graph-div\" style=\"height:525px; width:100%;\"></div>            <script type=\"text/javascript\">                                    window.PLOTLYENV=window.PLOTLYENV || {};                                    if (document.getElementById(\"3055ea4e-07db-4e7d-828f-761573d76202\")) {                    Plotly.newPlot(                        \"3055ea4e-07db-4e7d-828f-761573d76202\",                        [{\"domain\":{\"x\":[0.0,1.0],\"y\":[0.0,1.0]},\"hovertemplate\":\"new_market=%{label}<br>name=%{value}<extra></extra>\",\"labels\":[\"Analytics\",\"CuratedWeb\",\"E-Commerce\",\"Education\",\"EnterpriseSoftware\",\"Marketplaces\",\"Mobile\",\"Others\",\"Restaurants\",\"SaaS\",\"Software\"],\"legendgroup\":\"\",\"name\":\"\",\"showlegend\":true,\"values\":[4,6,12,4,9,4,8,77,3,3,14],\"type\":\"pie\"}],                        {\"template\":{\"data\":{\"bar\":[{\"error_x\":{\"color\":\"#2a3f5f\"},\"error_y\":{\"color\":\"#2a3f5f\"},\"marker\":{\"line\":{\"color\":\"#E5ECF6\",\"width\":0.5},\"pattern\":{\"fillmode\":\"overlay\",\"size\":10,\"solidity\":0.2}},\"type\":\"bar\"}],\"barpolar\":[{\"marker\":{\"line\":{\"color\":\"#E5ECF6\",\"width\":0.5},\"pattern\":{\"fillmode\":\"overlay\",\"size\":10,\"solidity\":0.2}},\"type\":\"barpolar\"}],\"carpet\":[{\"aaxis\":{\"endlinecolor\":\"#2a3f5f\",\"gridcolor\":\"white\",\"linecolor\":\"white\",\"minorgridcolor\":\"white\",\"startlinecolor\":\"#2a3f5f\"},\"baxis\":{\"endlinecolor\":\"#2a3f5f\",\"gridcolor\":\"white\",\"linecolor\":\"white\",\"minorgridcolor\":\"white\",\"startlinecolor\":\"#2a3f5f\"},\"type\":\"carpet\"}],\"choropleth\":[{\"colorbar\":{\"outlinewidth\":0,\"ticks\":\"\"},\"type\":\"choropleth\"}],\"contour\":[{\"colorbar\":{\"outlinewidth\":0,\"ticks\":\"\"},\"colorscale\":[[0.0,\"#0d0887\"],[0.1111111111111111,\"#46039f\"],[0.2222222222222222,\"#7201a8\"],[0.3333333333333333,\"#9c179e\"],[0.4444444444444444,\"#bd3786\"],[0.5555555555555556,\"#d8576b\"],[0.6666666666666666,\"#ed7953\"],[0.7777777777777778,\"#fb9f3a\"],[0.8888888888888888,\"#fdca26\"],[1.0,\"#f0f921\"]],\"type\":\"contour\"}],\"contourcarpet\":[{\"colorbar\":{\"outlinewidth\":0,\"ticks\":\"\"},\"type\":\"contourcarpet\"}],\"heatmap\":[{\"colorbar\":{\"outlinewidth\":0,\"ticks\":\"\"},\"colorscale\":[[0.0,\"#0d0887\"],[0.1111111111111111,\"#46039f\"],[0.2222222222222222,\"#7201a8\"],[0.3333333333333333,\"#9c179e\"],[0.4444444444444444,\"#bd3786\"],[0.5555555555555556,\"#d8576b\"],[0.6666666666666666,\"#ed7953\"],[0.7777777777777778,\"#fb9f3a\"],[0.8888888888888888,\"#fdca26\"],[1.0,\"#f0f921\"]],\"type\":\"heatmap\"}],\"heatmapgl\":[{\"colorbar\":{\"outlinewidth\":0,\"ticks\":\"\"},\"colorscale\":[[0.0,\"#0d0887\"],[0.1111111111111111,\"#46039f\"],[0.2222222222222222,\"#7201a8\"],[0.3333333333333333,\"#9c179e\"],[0.4444444444444444,\"#bd3786\"],[0.5555555555555556,\"#d8576b\"],[0.6666666666666666,\"#ed7953\"],[0.7777777777777778,\"#fb9f3a\"],[0.8888888888888888,\"#fdca26\"],[1.0,\"#f0f921\"]],\"type\":\"heatmapgl\"}],\"histogram\":[{\"marker\":{\"pattern\":{\"fillmode\":\"overlay\",\"size\":10,\"solidity\":0.2}},\"type\":\"histogram\"}],\"histogram2d\":[{\"colorbar\":{\"outlinewidth\":0,\"ticks\":\"\"},\"colorscale\":[[0.0,\"#0d0887\"],[0.1111111111111111,\"#46039f\"],[0.2222222222222222,\"#7201a8\"],[0.3333333333333333,\"#9c179e\"],[0.4444444444444444,\"#bd3786\"],[0.5555555555555556,\"#d8576b\"],[0.6666666666666666,\"#ed7953\"],[0.7777777777777778,\"#fb9f3a\"],[0.8888888888888888,\"#fdca26\"],[1.0,\"#f0f921\"]],\"type\":\"histogram2d\"}],\"histogram2dcontour\":[{\"colorbar\":{\"outlinewidth\":0,\"ticks\":\"\"},\"colorscale\":[[0.0,\"#0d0887\"],[0.1111111111111111,\"#46039f\"],[0.2222222222222222,\"#7201a8\"],[0.3333333333333333,\"#9c179e\"],[0.4444444444444444,\"#bd3786\"],[0.5555555555555556,\"#d8576b\"],[0.6666666666666666,\"#ed7953\"],[0.7777777777777778,\"#fb9f3a\"],[0.8888888888888888,\"#fdca26\"],[1.0,\"#f0f921\"]],\"type\":\"histogram2dcontour\"}],\"mesh3d\":[{\"colorbar\":{\"outlinewidth\":0,\"ticks\":\"\"},\"type\":\"mesh3d\"}],\"parcoords\":[{\"line\":{\"colorbar\":{\"outlinewidth\":0,\"ticks\":\"\"}},\"type\":\"parcoords\"}],\"pie\":[{\"automargin\":true,\"type\":\"pie\"}],\"scatter\":[{\"marker\":{\"colorbar\":{\"outlinewidth\":0,\"ticks\":\"\"}},\"type\":\"scatter\"}],\"scatter3d\":[{\"line\":{\"colorbar\":{\"outlinewidth\":0,\"ticks\":\"\"}},\"marker\":{\"colorbar\":{\"outlinewidth\":0,\"ticks\":\"\"}},\"type\":\"scatter3d\"}],\"scattercarpet\":[{\"marker\":{\"colorbar\":{\"outlinewidth\":0,\"ticks\":\"\"}},\"type\":\"scattercarpet\"}],\"scattergeo\":[{\"marker\":{\"colorbar\":{\"outlinewidth\":0,\"ticks\":\"\"}},\"type\":\"scattergeo\"}],\"scattergl\":[{\"marker\":{\"colorbar\":{\"outlinewidth\":0,\"ticks\":\"\"}},\"type\":\"scattergl\"}],\"scattermapbox\":[{\"marker\":{\"colorbar\":{\"outlinewidth\":0,\"ticks\":\"\"}},\"type\":\"scattermapbox\"}],\"scatterpolar\":[{\"marker\":{\"colorbar\":{\"outlinewidth\":0,\"ticks\":\"\"}},\"type\":\"scatterpolar\"}],\"scatterpolargl\":[{\"marker\":{\"colorbar\":{\"outlinewidth\":0,\"ticks\":\"\"}},\"type\":\"scatterpolargl\"}],\"scatterternary\":[{\"marker\":{\"colorbar\":{\"outlinewidth\":0,\"ticks\":\"\"}},\"type\":\"scatterternary\"}],\"surface\":[{\"colorbar\":{\"outlinewidth\":0,\"ticks\":\"\"},\"colorscale\":[[0.0,\"#0d0887\"],[0.1111111111111111,\"#46039f\"],[0.2222222222222222,\"#7201a8\"],[0.3333333333333333,\"#9c179e\"],[0.4444444444444444,\"#bd3786\"],[0.5555555555555556,\"#d8576b\"],[0.6666666666666666,\"#ed7953\"],[0.7777777777777778,\"#fb9f3a\"],[0.8888888888888888,\"#fdca26\"],[1.0,\"#f0f921\"]],\"type\":\"surface\"}],\"table\":[{\"cells\":{\"fill\":{\"color\":\"#EBF0F8\"},\"line\":{\"color\":\"white\"}},\"header\":{\"fill\":{\"color\":\"#C8D4E3\"},\"line\":{\"color\":\"white\"}},\"type\":\"table\"}]},\"layout\":{\"annotationdefaults\":{\"arrowcolor\":\"#2a3f5f\",\"arrowhead\":0,\"arrowwidth\":1},\"autotypenumbers\":\"strict\",\"coloraxis\":{\"colorbar\":{\"outlinewidth\":0,\"ticks\":\"\"}},\"colorscale\":{\"diverging\":[[0,\"#8e0152\"],[0.1,\"#c51b7d\"],[0.2,\"#de77ae\"],[0.3,\"#f1b6da\"],[0.4,\"#fde0ef\"],[0.5,\"#f7f7f7\"],[0.6,\"#e6f5d0\"],[0.7,\"#b8e186\"],[0.8,\"#7fbc41\"],[0.9,\"#4d9221\"],[1,\"#276419\"]],\"sequential\":[[0.0,\"#0d0887\"],[0.1111111111111111,\"#46039f\"],[0.2222222222222222,\"#7201a8\"],[0.3333333333333333,\"#9c179e\"],[0.4444444444444444,\"#bd3786\"],[0.5555555555555556,\"#d8576b\"],[0.6666666666666666,\"#ed7953\"],[0.7777777777777778,\"#fb9f3a\"],[0.8888888888888888,\"#fdca26\"],[1.0,\"#f0f921\"]],\"sequentialminus\":[[0.0,\"#0d0887\"],[0.1111111111111111,\"#46039f\"],[0.2222222222222222,\"#7201a8\"],[0.3333333333333333,\"#9c179e\"],[0.4444444444444444,\"#bd3786\"],[0.5555555555555556,\"#d8576b\"],[0.6666666666666666,\"#ed7953\"],[0.7777777777777778,\"#fb9f3a\"],[0.8888888888888888,\"#fdca26\"],[1.0,\"#f0f921\"]]},\"colorway\":[\"#636efa\",\"#EF553B\",\"#00cc96\",\"#ab63fa\",\"#FFA15A\",\"#19d3f3\",\"#FF6692\",\"#B6E880\",\"#FF97FF\",\"#FECB52\"],\"font\":{\"color\":\"#2a3f5f\"},\"geo\":{\"bgcolor\":\"white\",\"lakecolor\":\"white\",\"landcolor\":\"#E5ECF6\",\"showlakes\":true,\"showland\":true,\"subunitcolor\":\"white\"},\"hoverlabel\":{\"align\":\"left\"},\"hovermode\":\"closest\",\"mapbox\":{\"style\":\"light\"},\"paper_bgcolor\":\"white\",\"plot_bgcolor\":\"#E5ECF6\",\"polar\":{\"angularaxis\":{\"gridcolor\":\"white\",\"linecolor\":\"white\",\"ticks\":\"\"},\"bgcolor\":\"#E5ECF6\",\"radialaxis\":{\"gridcolor\":\"white\",\"linecolor\":\"white\",\"ticks\":\"\"}},\"scene\":{\"xaxis\":{\"backgroundcolor\":\"#E5ECF6\",\"gridcolor\":\"white\",\"gridwidth\":2,\"linecolor\":\"white\",\"showbackground\":true,\"ticks\":\"\",\"zerolinecolor\":\"white\"},\"yaxis\":{\"backgroundcolor\":\"#E5ECF6\",\"gridcolor\":\"white\",\"gridwidth\":2,\"linecolor\":\"white\",\"showbackground\":true,\"ticks\":\"\",\"zerolinecolor\":\"white\"},\"zaxis\":{\"backgroundcolor\":\"#E5ECF6\",\"gridcolor\":\"white\",\"gridwidth\":2,\"linecolor\":\"white\",\"showbackground\":true,\"ticks\":\"\",\"zerolinecolor\":\"white\"}},\"shapedefaults\":{\"line\":{\"color\":\"#2a3f5f\"}},\"ternary\":{\"aaxis\":{\"gridcolor\":\"white\",\"linecolor\":\"white\",\"ticks\":\"\"},\"baxis\":{\"gridcolor\":\"white\",\"linecolor\":\"white\",\"ticks\":\"\"},\"bgcolor\":\"#E5ECF6\",\"caxis\":{\"gridcolor\":\"white\",\"linecolor\":\"white\",\"ticks\":\"\"}},\"title\":{\"x\":0.05},\"xaxis\":{\"automargin\":true,\"gridcolor\":\"white\",\"linecolor\":\"white\",\"ticks\":\"\",\"title\":{\"standoff\":15},\"zerolinecolor\":\"white\",\"zerolinewidth\":2},\"yaxis\":{\"automargin\":true,\"gridcolor\":\"white\",\"linecolor\":\"white\",\"ticks\":\"\",\"title\":{\"standoff\":15},\"zerolinecolor\":\"white\",\"zerolinewidth\":2}}},\"legend\":{\"tracegroupgap\":0},\"title\":{\"text\":\" Almost 12% of unicorns are in Software,E-commerce and Mobile markets\"},\"piecolorway\":[\"rgb(103,0,31)\",\"rgb(178,24,43)\",\"rgb(214,96,77)\",\"rgb(244,165,130)\",\"rgb(253,219,199)\",\"rgb(247,247,247)\",\"rgb(209,229,240)\",\"rgb(146,197,222)\",\"rgb(67,147,195)\",\"rgb(33,102,172)\",\"rgb(5,48,97)\"]},                        {\"responsive\": true}                    ).then(function(){\n",
              "                            \n",
              "var gd = document.getElementById('3055ea4e-07db-4e7d-828f-761573d76202');\n",
              "var x = new MutationObserver(function (mutations, observer) {{\n",
              "        var display = window.getComputedStyle(gd).display;\n",
              "        if (!display || display === 'none') {{\n",
              "            console.log([gd, 'removed!']);\n",
              "            Plotly.purge(gd);\n",
              "            observer.disconnect();\n",
              "        }}\n",
              "}});\n",
              "\n",
              "// Listen for the removal of the full notebook cells\n",
              "var notebookContainer = gd.closest('#notebook-container');\n",
              "if (notebookContainer) {{\n",
              "    x.observe(notebookContainer, {childList: true});\n",
              "}}\n",
              "\n",
              "// Listen for the clearing of the current output cell\n",
              "var outputEl = gd.closest('.output');\n",
              "if (outputEl) {{\n",
              "    x.observe(outputEl, {childList: true});\n",
              "}}\n",
              "\n",
              "                        })                };                            </script>        </div>\n",
              "</body>\n",
              "</html>"
            ]
          },
          "metadata": {}
        }
      ]
    },
    {
      "cell_type": "code",
      "metadata": {
        "colab": {
          "base_uri": "https://localhost:8080/",
          "height": 542
        },
        "id": "fL_i4kNsm7ab",
        "outputId": "ed922ae9-bc90-4929-f66f-a043d752f0ca"
      },
      "source": [
        "un_country = df_unicorn.groupby('country_code').count()['name'].reset_index().sort_values(by = \"name\",ascending = False)['country_code'][:10].tolist()\n",
        "df_unicorn['new_country'] = df_unicorn['country_code'].apply(lambda x : \"Others\" if x not in un_country else x)\n",
        "df_uc_country = df_unicorn.groupby(['new_country'])['name'].count().reset_index()\n",
        "df_uc_country.rename({'name': 'count'}, axis=1, inplace=True)\n",
        "df_uc_country.sort_values(by = 'count',ascending = False).head()\n",
        "fig = px.pie(df_uc_country, values='count', names='new_country', \n",
        "             color_discrete_sequence=px.colors.sequential.RdBu, title=' Over 60% of unicorns are in USA, followed by China, UK, Israel and India')\n",
        "fig.show()"
      ],
      "execution_count": 37,
      "outputs": [
        {
          "output_type": "display_data",
          "data": {
            "text/html": [
              "<html>\n",
              "<head><meta charset=\"utf-8\" /></head>\n",
              "<body>\n",
              "    <div>            <script src=\"https://cdnjs.cloudflare.com/ajax/libs/mathjax/2.7.5/MathJax.js?config=TeX-AMS-MML_SVG\"></script><script type=\"text/javascript\">if (window.MathJax) {MathJax.Hub.Config({SVG: {font: \"STIX-Web\"}});}</script>                <script type=\"text/javascript\">window.PlotlyConfig = {MathJaxConfig: 'local'};</script>\n",
              "        <script src=\"https://cdn.plot.ly/plotly-2.8.3.min.js\"></script>                <div id=\"e7a3a5b0-2235-492f-bdde-e5a448614ac1\" class=\"plotly-graph-div\" style=\"height:525px; width:100%;\"></div>            <script type=\"text/javascript\">                                    window.PLOTLYENV=window.PLOTLYENV || {};                                    if (document.getElementById(\"e7a3a5b0-2235-492f-bdde-e5a448614ac1\")) {                    Plotly.newPlot(                        \"e7a3a5b0-2235-492f-bdde-e5a448614ac1\",                        [{\"domain\":{\"x\":[0.0,1.0],\"y\":[0.0,1.0]},\"hovertemplate\":\"new_country=%{label}<br>count=%{value}<extra></extra>\",\"labels\":[\"BRA\",\"CHE\",\"CHN\",\"FRA\",\"GBR\",\"IND\",\"ISR\",\"KOR\",\"Others\",\"SWE\",\"USA\"],\"legendgroup\":\"\",\"name\":\"\",\"showlegend\":true,\"values\":[3,2,8,3,6,5,6,1,20,1,89],\"type\":\"pie\"}],                        {\"template\":{\"data\":{\"bar\":[{\"error_x\":{\"color\":\"#2a3f5f\"},\"error_y\":{\"color\":\"#2a3f5f\"},\"marker\":{\"line\":{\"color\":\"#E5ECF6\",\"width\":0.5},\"pattern\":{\"fillmode\":\"overlay\",\"size\":10,\"solidity\":0.2}},\"type\":\"bar\"}],\"barpolar\":[{\"marker\":{\"line\":{\"color\":\"#E5ECF6\",\"width\":0.5},\"pattern\":{\"fillmode\":\"overlay\",\"size\":10,\"solidity\":0.2}},\"type\":\"barpolar\"}],\"carpet\":[{\"aaxis\":{\"endlinecolor\":\"#2a3f5f\",\"gridcolor\":\"white\",\"linecolor\":\"white\",\"minorgridcolor\":\"white\",\"startlinecolor\":\"#2a3f5f\"},\"baxis\":{\"endlinecolor\":\"#2a3f5f\",\"gridcolor\":\"white\",\"linecolor\":\"white\",\"minorgridcolor\":\"white\",\"startlinecolor\":\"#2a3f5f\"},\"type\":\"carpet\"}],\"choropleth\":[{\"colorbar\":{\"outlinewidth\":0,\"ticks\":\"\"},\"type\":\"choropleth\"}],\"contour\":[{\"colorbar\":{\"outlinewidth\":0,\"ticks\":\"\"},\"colorscale\":[[0.0,\"#0d0887\"],[0.1111111111111111,\"#46039f\"],[0.2222222222222222,\"#7201a8\"],[0.3333333333333333,\"#9c179e\"],[0.4444444444444444,\"#bd3786\"],[0.5555555555555556,\"#d8576b\"],[0.6666666666666666,\"#ed7953\"],[0.7777777777777778,\"#fb9f3a\"],[0.8888888888888888,\"#fdca26\"],[1.0,\"#f0f921\"]],\"type\":\"contour\"}],\"contourcarpet\":[{\"colorbar\":{\"outlinewidth\":0,\"ticks\":\"\"},\"type\":\"contourcarpet\"}],\"heatmap\":[{\"colorbar\":{\"outlinewidth\":0,\"ticks\":\"\"},\"colorscale\":[[0.0,\"#0d0887\"],[0.1111111111111111,\"#46039f\"],[0.2222222222222222,\"#7201a8\"],[0.3333333333333333,\"#9c179e\"],[0.4444444444444444,\"#bd3786\"],[0.5555555555555556,\"#d8576b\"],[0.6666666666666666,\"#ed7953\"],[0.7777777777777778,\"#fb9f3a\"],[0.8888888888888888,\"#fdca26\"],[1.0,\"#f0f921\"]],\"type\":\"heatmap\"}],\"heatmapgl\":[{\"colorbar\":{\"outlinewidth\":0,\"ticks\":\"\"},\"colorscale\":[[0.0,\"#0d0887\"],[0.1111111111111111,\"#46039f\"],[0.2222222222222222,\"#7201a8\"],[0.3333333333333333,\"#9c179e\"],[0.4444444444444444,\"#bd3786\"],[0.5555555555555556,\"#d8576b\"],[0.6666666666666666,\"#ed7953\"],[0.7777777777777778,\"#fb9f3a\"],[0.8888888888888888,\"#fdca26\"],[1.0,\"#f0f921\"]],\"type\":\"heatmapgl\"}],\"histogram\":[{\"marker\":{\"pattern\":{\"fillmode\":\"overlay\",\"size\":10,\"solidity\":0.2}},\"type\":\"histogram\"}],\"histogram2d\":[{\"colorbar\":{\"outlinewidth\":0,\"ticks\":\"\"},\"colorscale\":[[0.0,\"#0d0887\"],[0.1111111111111111,\"#46039f\"],[0.2222222222222222,\"#7201a8\"],[0.3333333333333333,\"#9c179e\"],[0.4444444444444444,\"#bd3786\"],[0.5555555555555556,\"#d8576b\"],[0.6666666666666666,\"#ed7953\"],[0.7777777777777778,\"#fb9f3a\"],[0.8888888888888888,\"#fdca26\"],[1.0,\"#f0f921\"]],\"type\":\"histogram2d\"}],\"histogram2dcontour\":[{\"colorbar\":{\"outlinewidth\":0,\"ticks\":\"\"},\"colorscale\":[[0.0,\"#0d0887\"],[0.1111111111111111,\"#46039f\"],[0.2222222222222222,\"#7201a8\"],[0.3333333333333333,\"#9c179e\"],[0.4444444444444444,\"#bd3786\"],[0.5555555555555556,\"#d8576b\"],[0.6666666666666666,\"#ed7953\"],[0.7777777777777778,\"#fb9f3a\"],[0.8888888888888888,\"#fdca26\"],[1.0,\"#f0f921\"]],\"type\":\"histogram2dcontour\"}],\"mesh3d\":[{\"colorbar\":{\"outlinewidth\":0,\"ticks\":\"\"},\"type\":\"mesh3d\"}],\"parcoords\":[{\"line\":{\"colorbar\":{\"outlinewidth\":0,\"ticks\":\"\"}},\"type\":\"parcoords\"}],\"pie\":[{\"automargin\":true,\"type\":\"pie\"}],\"scatter\":[{\"marker\":{\"colorbar\":{\"outlinewidth\":0,\"ticks\":\"\"}},\"type\":\"scatter\"}],\"scatter3d\":[{\"line\":{\"colorbar\":{\"outlinewidth\":0,\"ticks\":\"\"}},\"marker\":{\"colorbar\":{\"outlinewidth\":0,\"ticks\":\"\"}},\"type\":\"scatter3d\"}],\"scattercarpet\":[{\"marker\":{\"colorbar\":{\"outlinewidth\":0,\"ticks\":\"\"}},\"type\":\"scattercarpet\"}],\"scattergeo\":[{\"marker\":{\"colorbar\":{\"outlinewidth\":0,\"ticks\":\"\"}},\"type\":\"scattergeo\"}],\"scattergl\":[{\"marker\":{\"colorbar\":{\"outlinewidth\":0,\"ticks\":\"\"}},\"type\":\"scattergl\"}],\"scattermapbox\":[{\"marker\":{\"colorbar\":{\"outlinewidth\":0,\"ticks\":\"\"}},\"type\":\"scattermapbox\"}],\"scatterpolar\":[{\"marker\":{\"colorbar\":{\"outlinewidth\":0,\"ticks\":\"\"}},\"type\":\"scatterpolar\"}],\"scatterpolargl\":[{\"marker\":{\"colorbar\":{\"outlinewidth\":0,\"ticks\":\"\"}},\"type\":\"scatterpolargl\"}],\"scatterternary\":[{\"marker\":{\"colorbar\":{\"outlinewidth\":0,\"ticks\":\"\"}},\"type\":\"scatterternary\"}],\"surface\":[{\"colorbar\":{\"outlinewidth\":0,\"ticks\":\"\"},\"colorscale\":[[0.0,\"#0d0887\"],[0.1111111111111111,\"#46039f\"],[0.2222222222222222,\"#7201a8\"],[0.3333333333333333,\"#9c179e\"],[0.4444444444444444,\"#bd3786\"],[0.5555555555555556,\"#d8576b\"],[0.6666666666666666,\"#ed7953\"],[0.7777777777777778,\"#fb9f3a\"],[0.8888888888888888,\"#fdca26\"],[1.0,\"#f0f921\"]],\"type\":\"surface\"}],\"table\":[{\"cells\":{\"fill\":{\"color\":\"#EBF0F8\"},\"line\":{\"color\":\"white\"}},\"header\":{\"fill\":{\"color\":\"#C8D4E3\"},\"line\":{\"color\":\"white\"}},\"type\":\"table\"}]},\"layout\":{\"annotationdefaults\":{\"arrowcolor\":\"#2a3f5f\",\"arrowhead\":0,\"arrowwidth\":1},\"autotypenumbers\":\"strict\",\"coloraxis\":{\"colorbar\":{\"outlinewidth\":0,\"ticks\":\"\"}},\"colorscale\":{\"diverging\":[[0,\"#8e0152\"],[0.1,\"#c51b7d\"],[0.2,\"#de77ae\"],[0.3,\"#f1b6da\"],[0.4,\"#fde0ef\"],[0.5,\"#f7f7f7\"],[0.6,\"#e6f5d0\"],[0.7,\"#b8e186\"],[0.8,\"#7fbc41\"],[0.9,\"#4d9221\"],[1,\"#276419\"]],\"sequential\":[[0.0,\"#0d0887\"],[0.1111111111111111,\"#46039f\"],[0.2222222222222222,\"#7201a8\"],[0.3333333333333333,\"#9c179e\"],[0.4444444444444444,\"#bd3786\"],[0.5555555555555556,\"#d8576b\"],[0.6666666666666666,\"#ed7953\"],[0.7777777777777778,\"#fb9f3a\"],[0.8888888888888888,\"#fdca26\"],[1.0,\"#f0f921\"]],\"sequentialminus\":[[0.0,\"#0d0887\"],[0.1111111111111111,\"#46039f\"],[0.2222222222222222,\"#7201a8\"],[0.3333333333333333,\"#9c179e\"],[0.4444444444444444,\"#bd3786\"],[0.5555555555555556,\"#d8576b\"],[0.6666666666666666,\"#ed7953\"],[0.7777777777777778,\"#fb9f3a\"],[0.8888888888888888,\"#fdca26\"],[1.0,\"#f0f921\"]]},\"colorway\":[\"#636efa\",\"#EF553B\",\"#00cc96\",\"#ab63fa\",\"#FFA15A\",\"#19d3f3\",\"#FF6692\",\"#B6E880\",\"#FF97FF\",\"#FECB52\"],\"font\":{\"color\":\"#2a3f5f\"},\"geo\":{\"bgcolor\":\"white\",\"lakecolor\":\"white\",\"landcolor\":\"#E5ECF6\",\"showlakes\":true,\"showland\":true,\"subunitcolor\":\"white\"},\"hoverlabel\":{\"align\":\"left\"},\"hovermode\":\"closest\",\"mapbox\":{\"style\":\"light\"},\"paper_bgcolor\":\"white\",\"plot_bgcolor\":\"#E5ECF6\",\"polar\":{\"angularaxis\":{\"gridcolor\":\"white\",\"linecolor\":\"white\",\"ticks\":\"\"},\"bgcolor\":\"#E5ECF6\",\"radialaxis\":{\"gridcolor\":\"white\",\"linecolor\":\"white\",\"ticks\":\"\"}},\"scene\":{\"xaxis\":{\"backgroundcolor\":\"#E5ECF6\",\"gridcolor\":\"white\",\"gridwidth\":2,\"linecolor\":\"white\",\"showbackground\":true,\"ticks\":\"\",\"zerolinecolor\":\"white\"},\"yaxis\":{\"backgroundcolor\":\"#E5ECF6\",\"gridcolor\":\"white\",\"gridwidth\":2,\"linecolor\":\"white\",\"showbackground\":true,\"ticks\":\"\",\"zerolinecolor\":\"white\"},\"zaxis\":{\"backgroundcolor\":\"#E5ECF6\",\"gridcolor\":\"white\",\"gridwidth\":2,\"linecolor\":\"white\",\"showbackground\":true,\"ticks\":\"\",\"zerolinecolor\":\"white\"}},\"shapedefaults\":{\"line\":{\"color\":\"#2a3f5f\"}},\"ternary\":{\"aaxis\":{\"gridcolor\":\"white\",\"linecolor\":\"white\",\"ticks\":\"\"},\"baxis\":{\"gridcolor\":\"white\",\"linecolor\":\"white\",\"ticks\":\"\"},\"bgcolor\":\"#E5ECF6\",\"caxis\":{\"gridcolor\":\"white\",\"linecolor\":\"white\",\"ticks\":\"\"}},\"title\":{\"x\":0.05},\"xaxis\":{\"automargin\":true,\"gridcolor\":\"white\",\"linecolor\":\"white\",\"ticks\":\"\",\"title\":{\"standoff\":15},\"zerolinecolor\":\"white\",\"zerolinewidth\":2},\"yaxis\":{\"automargin\":true,\"gridcolor\":\"white\",\"linecolor\":\"white\",\"ticks\":\"\",\"title\":{\"standoff\":15},\"zerolinecolor\":\"white\",\"zerolinewidth\":2}}},\"legend\":{\"tracegroupgap\":0},\"title\":{\"text\":\" Over 60% of unicorns are in USA, followed by China, UK, Israel and India\"},\"piecolorway\":[\"rgb(103,0,31)\",\"rgb(178,24,43)\",\"rgb(214,96,77)\",\"rgb(244,165,130)\",\"rgb(253,219,199)\",\"rgb(247,247,247)\",\"rgb(209,229,240)\",\"rgb(146,197,222)\",\"rgb(67,147,195)\",\"rgb(33,102,172)\",\"rgb(5,48,97)\"]},                        {\"responsive\": true}                    ).then(function(){\n",
              "                            \n",
              "var gd = document.getElementById('e7a3a5b0-2235-492f-bdde-e5a448614ac1');\n",
              "var x = new MutationObserver(function (mutations, observer) {{\n",
              "        var display = window.getComputedStyle(gd).display;\n",
              "        if (!display || display === 'none') {{\n",
              "            console.log([gd, 'removed!']);\n",
              "            Plotly.purge(gd);\n",
              "            observer.disconnect();\n",
              "        }}\n",
              "}});\n",
              "\n",
              "// Listen for the removal of the full notebook cells\n",
              "var notebookContainer = gd.closest('#notebook-container');\n",
              "if (notebookContainer) {{\n",
              "    x.observe(notebookContainer, {childList: true});\n",
              "}}\n",
              "\n",
              "// Listen for the clearing of the current output cell\n",
              "var outputEl = gd.closest('.output');\n",
              "if (outputEl) {{\n",
              "    x.observe(outputEl, {childList: true});\n",
              "}}\n",
              "\n",
              "                        })                };                            </script>        </div>\n",
              "</body>\n",
              "</html>"
            ]
          },
          "metadata": {}
        }
      ]
    },
    {
      "cell_type": "code",
      "metadata": {
        "id": "RRRY_VBxk-WV",
        "colab": {
          "base_uri": "https://localhost:8080/",
          "height": 485
        },
        "outputId": "03bd72e0-e6f6-4fa5-ed61-ff689949272f"
      },
      "source": [
        "def unicorn_by_country(df,start,end):\n",
        "  df_subset = df[(df['founded_year']>start)&(df['founded_year']<end)]\n",
        "  df_subset = df_subset.groupby(['founded_year','country_code'])['name'].count().reset_index().sort_values(by = \"name\",ascending = False)\n",
        "  df_subset.rename({'name': 'count'}, axis=1, inplace=True)\n",
        "  result = alt.Chart(df_subset).mark_bar().encode(\n",
        "      alt.X('founded_year:N', axis=alt.Axis(labelAngle=0)),\n",
        "      alt.Y('count:Q'),\n",
        "      alt.Color('country_code:N'),\n",
        "      tooltip=['country_code','founded_year','count']\n",
        "  ).properties(title=\"Number of unicorns during \"+str(start)+\" - \"+str(end),width=1000,height=380).interactive()\n",
        "\n",
        "  return result\n",
        "unicorn_by_country(df_unicorn,1990, 2011)"
      ],
      "execution_count": 38,
      "outputs": [
        {
          "output_type": "execute_result",
          "data": {
            "text/plain": [
              "alt.Chart(...)"
            ],
            "text/html": [
              "\n",
              "<div id=\"altair-viz-c0cf1a34e142463f80a1d3e8950c7afc\"></div>\n",
              "<script type=\"text/javascript\">\n",
              "  var VEGA_DEBUG = (typeof VEGA_DEBUG == \"undefined\") ? {} : VEGA_DEBUG;\n",
              "  (function(spec, embedOpt){\n",
              "    let outputDiv = document.currentScript.previousElementSibling;\n",
              "    if (outputDiv.id !== \"altair-viz-c0cf1a34e142463f80a1d3e8950c7afc\") {\n",
              "      outputDiv = document.getElementById(\"altair-viz-c0cf1a34e142463f80a1d3e8950c7afc\");\n",
              "    }\n",
              "    const paths = {\n",
              "      \"vega\": \"https://cdn.jsdelivr.net/npm//vega@5?noext\",\n",
              "      \"vega-lib\": \"https://cdn.jsdelivr.net/npm//vega-lib?noext\",\n",
              "      \"vega-lite\": \"https://cdn.jsdelivr.net/npm//vega-lite@4.17.0?noext\",\n",
              "      \"vega-embed\": \"https://cdn.jsdelivr.net/npm//vega-embed@6?noext\",\n",
              "    };\n",
              "\n",
              "    function maybeLoadScript(lib, version) {\n",
              "      var key = `${lib.replace(\"-\", \"\")}_version`;\n",
              "      return (VEGA_DEBUG[key] == version) ?\n",
              "        Promise.resolve(paths[lib]) :\n",
              "        new Promise(function(resolve, reject) {\n",
              "          var s = document.createElement('script');\n",
              "          document.getElementsByTagName(\"head\")[0].appendChild(s);\n",
              "          s.async = true;\n",
              "          s.onload = () => {\n",
              "            VEGA_DEBUG[key] = version;\n",
              "            return resolve(paths[lib]);\n",
              "          };\n",
              "          s.onerror = () => reject(`Error loading script: ${paths[lib]}`);\n",
              "          s.src = paths[lib];\n",
              "        });\n",
              "    }\n",
              "\n",
              "    function showError(err) {\n",
              "      outputDiv.innerHTML = `<div class=\"error\" style=\"color:red;\">${err}</div>`;\n",
              "      throw err;\n",
              "    }\n",
              "\n",
              "    function displayChart(vegaEmbed) {\n",
              "      vegaEmbed(outputDiv, spec, embedOpt)\n",
              "        .catch(err => showError(`Javascript Error: ${err.message}<br>This usually means there's a typo in your chart specification. See the javascript console for the full traceback.`));\n",
              "    }\n",
              "\n",
              "    if(typeof define === \"function\" && define.amd) {\n",
              "      requirejs.config({paths});\n",
              "      require([\"vega-embed\"], displayChart, err => showError(`Error loading script: ${err.message}`));\n",
              "    } else {\n",
              "      maybeLoadScript(\"vega\", \"5\")\n",
              "        .then(() => maybeLoadScript(\"vega-lite\", \"4.17.0\"))\n",
              "        .then(() => maybeLoadScript(\"vega-embed\", \"6\"))\n",
              "        .catch(showError)\n",
              "        .then(() => displayChart(vegaEmbed));\n",
              "    }\n",
              "  })({\"config\": {\"view\": {\"continuousWidth\": 400, \"continuousHeight\": 300}}, \"data\": {\"name\": \"data-c1837046f37d8c4c8d1a174448bced80\"}, \"mark\": \"bar\", \"encoding\": {\"color\": {\"field\": \"country_code\", \"type\": \"nominal\"}, \"tooltip\": [{\"field\": \"country_code\", \"type\": \"nominal\"}, {\"field\": \"founded_year\", \"type\": \"quantitative\"}, {\"field\": \"count\", \"type\": \"quantitative\"}], \"x\": {\"axis\": {\"labelAngle\": 0}, \"field\": \"founded_year\", \"type\": \"nominal\"}, \"y\": {\"field\": \"count\", \"type\": \"quantitative\"}}, \"height\": 380, \"selection\": {\"selector010\": {\"type\": \"interval\", \"bind\": \"scales\", \"encodings\": [\"x\", \"y\"]}}, \"title\": \"Number of unicorns during 1990 - 2011\", \"width\": 1000, \"$schema\": \"https://vega.github.io/schema/vega-lite/v4.17.0.json\", \"datasets\": {\"data-c1837046f37d8c4c8d1a174448bced80\": [{\"founded_year\": 2010.0, \"country_code\": \"USA\", \"count\": 10}, {\"founded_year\": 2009.0, \"country_code\": \"USA\", \"count\": 10}, {\"founded_year\": 2007.0, \"country_code\": \"USA\", \"count\": 8}, {\"founded_year\": 2008.0, \"country_code\": \"USA\", \"count\": 4}, {\"founded_year\": 2004.0, \"country_code\": \"USA\", \"count\": 3}, {\"founded_year\": 2008.0, \"country_code\": \"CHN\", \"count\": 3}, {\"founded_year\": 2005.0, \"country_code\": \"USA\", \"count\": 3}, {\"founded_year\": 2010.0, \"country_code\": \"ISR\", \"count\": 2}, {\"founded_year\": 2008.0, \"country_code\": \"IND\", \"count\": 2}, {\"founded_year\": 2006.0, \"country_code\": \"USA\", \"count\": 2}, {\"founded_year\": 1995.0, \"country_code\": \"USA\", \"count\": 2}, {\"founded_year\": 1999.0, \"country_code\": \"USA\", \"count\": 2}, {\"founded_year\": 2000.0, \"country_code\": \"USA\", \"count\": 2}, {\"founded_year\": 2004.0, \"country_code\": \"CHE\", \"count\": 1}, {\"founded_year\": 2009.0, \"country_code\": \"CHE\", \"count\": 1}, {\"founded_year\": 1999.0, \"country_code\": \"BRA\", \"count\": 1}, {\"founded_year\": 2010.0, \"country_code\": \"IND\", \"count\": 1}, {\"founded_year\": 2010.0, \"country_code\": \"CHN\", \"count\": 1}, {\"founded_year\": 2009.0, \"country_code\": \"SWE\", \"count\": 1}, {\"founded_year\": 2009.0, \"country_code\": \"LTU\", \"count\": 1}, {\"founded_year\": 2009.0, \"country_code\": \"IDN\", \"count\": 1}, {\"founded_year\": 2009.0, \"country_code\": \"GBR\", \"count\": 1}, {\"founded_year\": 2009.0, \"country_code\": \"BRA\", \"count\": 1}, {\"founded_year\": 2005.0, \"country_code\": \"GBR\", \"count\": 1}, {\"founded_year\": 2000.0, \"country_code\": \"IND\", \"count\": 1}, {\"founded_year\": 2001.0, \"country_code\": \"ISR\", \"count\": 1}, {\"founded_year\": 2001.0, \"country_code\": \"USA\", \"count\": 1}, {\"founded_year\": 2007.0, \"country_code\": \"GBR\", \"count\": 1}, {\"founded_year\": 1997.0, \"country_code\": \"USA\", \"count\": 1}, {\"founded_year\": 2002.0, \"country_code\": \"SGP\", \"count\": 1}, {\"founded_year\": 2006.0, \"country_code\": \"FRA\", \"count\": 1}, {\"founded_year\": 2003.0, \"country_code\": \"USA\", \"count\": 1}, {\"founded_year\": 2007.0, \"country_code\": \"CHN\", \"count\": 1}]}}, {\"mode\": \"vega-lite\"});\n",
              "</script>"
            ]
          },
          "metadata": {},
          "execution_count": 38
        }
      ]
    },
    {
      "cell_type": "code",
      "metadata": {
        "colab": {
          "base_uri": "https://localhost:8080/",
          "height": 206
        },
        "id": "aSxGR74OJBIh",
        "outputId": "87c01e23-08a6-4fd0-82fe-9244befa6a61"
      },
      "source": [
        "topmarkets = df_unicorn.groupby('market')['name'].count().reset_index().sort_values(by = 'market')\n",
        "allmarkets = df[df['market'].isin(topmarkets['market'].tolist())].groupby('market')['name'].count().reset_index().sort_values(by = 'market')\n",
        "topmarkets['successful rate'] = round(topmarkets['name']/allmarkets['name'],3)\n",
        "topmarkets.head()"
      ],
      "execution_count": 39,
      "outputs": [
        {
          "output_type": "execute_result",
          "data": {
            "text/html": [
              "\n",
              "  <div id=\"df-fcc11a9c-7eab-4df5-931f-9b016236af14\">\n",
              "    <div class=\"colab-df-container\">\n",
              "      <div>\n",
              "<style scoped>\n",
              "    .dataframe tbody tr th:only-of-type {\n",
              "        vertical-align: middle;\n",
              "    }\n",
              "\n",
              "    .dataframe tbody tr th {\n",
              "        vertical-align: top;\n",
              "    }\n",
              "\n",
              "    .dataframe thead th {\n",
              "        text-align: right;\n",
              "    }\n",
              "</style>\n",
              "<table border=\"1\" class=\"dataframe\">\n",
              "  <thead>\n",
              "    <tr style=\"text-align: right;\">\n",
              "      <th></th>\n",
              "      <th>market</th>\n",
              "      <th>name</th>\n",
              "      <th>successful rate</th>\n",
              "    </tr>\n",
              "  </thead>\n",
              "  <tbody>\n",
              "    <tr>\n",
              "      <th>0</th>\n",
              "      <td>3DPrinting</td>\n",
              "      <td>1</td>\n",
              "      <td>0.143</td>\n",
              "    </tr>\n",
              "    <tr>\n",
              "      <th>1</th>\n",
              "      <td>Analytics</td>\n",
              "      <td>4</td>\n",
              "      <td>0.008</td>\n",
              "    </tr>\n",
              "    <tr>\n",
              "      <th>2</th>\n",
              "      <td>Apps</td>\n",
              "      <td>2</td>\n",
              "      <td>0.011</td>\n",
              "    </tr>\n",
              "    <tr>\n",
              "      <th>3</th>\n",
              "      <td>Biotechnology</td>\n",
              "      <td>3</td>\n",
              "      <td>0.001</td>\n",
              "    </tr>\n",
              "    <tr>\n",
              "      <th>4</th>\n",
              "      <td>Bitcoin</td>\n",
              "      <td>1</td>\n",
              "      <td>0.027</td>\n",
              "    </tr>\n",
              "  </tbody>\n",
              "</table>\n",
              "</div>\n",
              "      <button class=\"colab-df-convert\" onclick=\"convertToInteractive('df-fcc11a9c-7eab-4df5-931f-9b016236af14')\"\n",
              "              title=\"Convert this dataframe to an interactive table.\"\n",
              "              style=\"display:none;\">\n",
              "        \n",
              "  <svg xmlns=\"http://www.w3.org/2000/svg\" height=\"24px\"viewBox=\"0 0 24 24\"\n",
              "       width=\"24px\">\n",
              "    <path d=\"M0 0h24v24H0V0z\" fill=\"none\"/>\n",
              "    <path d=\"M18.56 5.44l.94 2.06.94-2.06 2.06-.94-2.06-.94-.94-2.06-.94 2.06-2.06.94zm-11 1L8.5 8.5l.94-2.06 2.06-.94-2.06-.94L8.5 2.5l-.94 2.06-2.06.94zm10 10l.94 2.06.94-2.06 2.06-.94-2.06-.94-.94-2.06-.94 2.06-2.06.94z\"/><path d=\"M17.41 7.96l-1.37-1.37c-.4-.4-.92-.59-1.43-.59-.52 0-1.04.2-1.43.59L10.3 9.45l-7.72 7.72c-.78.78-.78 2.05 0 2.83L4 21.41c.39.39.9.59 1.41.59.51 0 1.02-.2 1.41-.59l7.78-7.78 2.81-2.81c.8-.78.8-2.07 0-2.86zM5.41 20L4 18.59l7.72-7.72 1.47 1.35L5.41 20z\"/>\n",
              "  </svg>\n",
              "      </button>\n",
              "      \n",
              "  <style>\n",
              "    .colab-df-container {\n",
              "      display:flex;\n",
              "      flex-wrap:wrap;\n",
              "      gap: 12px;\n",
              "    }\n",
              "\n",
              "    .colab-df-convert {\n",
              "      background-color: #E8F0FE;\n",
              "      border: none;\n",
              "      border-radius: 50%;\n",
              "      cursor: pointer;\n",
              "      display: none;\n",
              "      fill: #1967D2;\n",
              "      height: 32px;\n",
              "      padding: 0 0 0 0;\n",
              "      width: 32px;\n",
              "    }\n",
              "\n",
              "    .colab-df-convert:hover {\n",
              "      background-color: #E2EBFA;\n",
              "      box-shadow: 0px 1px 2px rgba(60, 64, 67, 0.3), 0px 1px 3px 1px rgba(60, 64, 67, 0.15);\n",
              "      fill: #174EA6;\n",
              "    }\n",
              "\n",
              "    [theme=dark] .colab-df-convert {\n",
              "      background-color: #3B4455;\n",
              "      fill: #D2E3FC;\n",
              "    }\n",
              "\n",
              "    [theme=dark] .colab-df-convert:hover {\n",
              "      background-color: #434B5C;\n",
              "      box-shadow: 0px 1px 3px 1px rgba(0, 0, 0, 0.15);\n",
              "      filter: drop-shadow(0px 1px 2px rgba(0, 0, 0, 0.3));\n",
              "      fill: #FFFFFF;\n",
              "    }\n",
              "  </style>\n",
              "\n",
              "      <script>\n",
              "        const buttonEl =\n",
              "          document.querySelector('#df-fcc11a9c-7eab-4df5-931f-9b016236af14 button.colab-df-convert');\n",
              "        buttonEl.style.display =\n",
              "          google.colab.kernel.accessAllowed ? 'block' : 'none';\n",
              "\n",
              "        async function convertToInteractive(key) {\n",
              "          const element = document.querySelector('#df-fcc11a9c-7eab-4df5-931f-9b016236af14');\n",
              "          const dataTable =\n",
              "            await google.colab.kernel.invokeFunction('convertToInteractive',\n",
              "                                                     [key], {});\n",
              "          if (!dataTable) return;\n",
              "\n",
              "          const docLinkHtml = 'Like what you see? Visit the ' +\n",
              "            '<a target=\"_blank\" href=https://colab.research.google.com/notebooks/data_table.ipynb>data table notebook</a>'\n",
              "            + ' to learn more about interactive tables.';\n",
              "          element.innerHTML = '';\n",
              "          dataTable['output_type'] = 'display_data';\n",
              "          await google.colab.output.renderOutput(dataTable, element);\n",
              "          const docLink = document.createElement('div');\n",
              "          docLink.innerHTML = docLinkHtml;\n",
              "          element.appendChild(docLink);\n",
              "        }\n",
              "      </script>\n",
              "    </div>\n",
              "  </div>\n",
              "  "
            ],
            "text/plain": [
              "          market  name  successful rate\n",
              "0     3DPrinting     1            0.143\n",
              "1      Analytics     4            0.008\n",
              "2           Apps     2            0.011\n",
              "3  Biotechnology     3            0.001\n",
              "4        Bitcoin     1            0.027"
            ]
          },
          "metadata": {},
          "execution_count": 39
        }
      ]
    },
    {
      "cell_type": "code",
      "metadata": {
        "colab": {
          "base_uri": "https://localhost:8080/",
          "height": 206
        },
        "id": "m4UR5Iw4JBIi",
        "outputId": "46f300a2-0885-4e82-982b-0eb9d6b59c9f"
      },
      "source": [
        "top15 = topmarkets.sort_values(by = 'successful rate',ascending = False)[:15]\n",
        "top15.rename({'name': 'count'}, axis=1, inplace=True)\n",
        "top15.head()"
      ],
      "execution_count": 40,
      "outputs": [
        {
          "output_type": "execute_result",
          "data": {
            "text/html": [
              "\n",
              "  <div id=\"df-24f3c858-5d8b-4fd0-999e-92cfb4ebaa87\">\n",
              "    <div class=\"colab-df-container\">\n",
              "      <div>\n",
              "<style scoped>\n",
              "    .dataframe tbody tr th:only-of-type {\n",
              "        vertical-align: middle;\n",
              "    }\n",
              "\n",
              "    .dataframe tbody tr th {\n",
              "        vertical-align: top;\n",
              "    }\n",
              "\n",
              "    .dataframe thead th {\n",
              "        text-align: right;\n",
              "    }\n",
              "</style>\n",
              "<table border=\"1\" class=\"dataframe\">\n",
              "  <thead>\n",
              "    <tr style=\"text-align: right;\">\n",
              "      <th></th>\n",
              "      <th>market</th>\n",
              "      <th>count</th>\n",
              "      <th>successful rate</th>\n",
              "    </tr>\n",
              "  </thead>\n",
              "  <tbody>\n",
              "    <tr>\n",
              "      <th>10</th>\n",
              "      <td>DataPrivacy</td>\n",
              "      <td>1</td>\n",
              "      <td>0.500</td>\n",
              "    </tr>\n",
              "    <tr>\n",
              "      <th>54</th>\n",
              "      <td>SharedServices</td>\n",
              "      <td>1</td>\n",
              "      <td>0.333</td>\n",
              "    </tr>\n",
              "    <tr>\n",
              "      <th>63</th>\n",
              "      <td>Taxis</td>\n",
              "      <td>1</td>\n",
              "      <td>0.250</td>\n",
              "    </tr>\n",
              "    <tr>\n",
              "      <th>35</th>\n",
              "      <td>MobileEnterprise</td>\n",
              "      <td>1</td>\n",
              "      <td>0.250</td>\n",
              "    </tr>\n",
              "    <tr>\n",
              "      <th>22</th>\n",
              "      <td>Geospatial</td>\n",
              "      <td>1</td>\n",
              "      <td>0.250</td>\n",
              "    </tr>\n",
              "  </tbody>\n",
              "</table>\n",
              "</div>\n",
              "      <button class=\"colab-df-convert\" onclick=\"convertToInteractive('df-24f3c858-5d8b-4fd0-999e-92cfb4ebaa87')\"\n",
              "              title=\"Convert this dataframe to an interactive table.\"\n",
              "              style=\"display:none;\">\n",
              "        \n",
              "  <svg xmlns=\"http://www.w3.org/2000/svg\" height=\"24px\"viewBox=\"0 0 24 24\"\n",
              "       width=\"24px\">\n",
              "    <path d=\"M0 0h24v24H0V0z\" fill=\"none\"/>\n",
              "    <path d=\"M18.56 5.44l.94 2.06.94-2.06 2.06-.94-2.06-.94-.94-2.06-.94 2.06-2.06.94zm-11 1L8.5 8.5l.94-2.06 2.06-.94-2.06-.94L8.5 2.5l-.94 2.06-2.06.94zm10 10l.94 2.06.94-2.06 2.06-.94-2.06-.94-.94-2.06-.94 2.06-2.06.94z\"/><path d=\"M17.41 7.96l-1.37-1.37c-.4-.4-.92-.59-1.43-.59-.52 0-1.04.2-1.43.59L10.3 9.45l-7.72 7.72c-.78.78-.78 2.05 0 2.83L4 21.41c.39.39.9.59 1.41.59.51 0 1.02-.2 1.41-.59l7.78-7.78 2.81-2.81c.8-.78.8-2.07 0-2.86zM5.41 20L4 18.59l7.72-7.72 1.47 1.35L5.41 20z\"/>\n",
              "  </svg>\n",
              "      </button>\n",
              "      \n",
              "  <style>\n",
              "    .colab-df-container {\n",
              "      display:flex;\n",
              "      flex-wrap:wrap;\n",
              "      gap: 12px;\n",
              "    }\n",
              "\n",
              "    .colab-df-convert {\n",
              "      background-color: #E8F0FE;\n",
              "      border: none;\n",
              "      border-radius: 50%;\n",
              "      cursor: pointer;\n",
              "      display: none;\n",
              "      fill: #1967D2;\n",
              "      height: 32px;\n",
              "      padding: 0 0 0 0;\n",
              "      width: 32px;\n",
              "    }\n",
              "\n",
              "    .colab-df-convert:hover {\n",
              "      background-color: #E2EBFA;\n",
              "      box-shadow: 0px 1px 2px rgba(60, 64, 67, 0.3), 0px 1px 3px 1px rgba(60, 64, 67, 0.15);\n",
              "      fill: #174EA6;\n",
              "    }\n",
              "\n",
              "    [theme=dark] .colab-df-convert {\n",
              "      background-color: #3B4455;\n",
              "      fill: #D2E3FC;\n",
              "    }\n",
              "\n",
              "    [theme=dark] .colab-df-convert:hover {\n",
              "      background-color: #434B5C;\n",
              "      box-shadow: 0px 1px 3px 1px rgba(0, 0, 0, 0.15);\n",
              "      filter: drop-shadow(0px 1px 2px rgba(0, 0, 0, 0.3));\n",
              "      fill: #FFFFFF;\n",
              "    }\n",
              "  </style>\n",
              "\n",
              "      <script>\n",
              "        const buttonEl =\n",
              "          document.querySelector('#df-24f3c858-5d8b-4fd0-999e-92cfb4ebaa87 button.colab-df-convert');\n",
              "        buttonEl.style.display =\n",
              "          google.colab.kernel.accessAllowed ? 'block' : 'none';\n",
              "\n",
              "        async function convertToInteractive(key) {\n",
              "          const element = document.querySelector('#df-24f3c858-5d8b-4fd0-999e-92cfb4ebaa87');\n",
              "          const dataTable =\n",
              "            await google.colab.kernel.invokeFunction('convertToInteractive',\n",
              "                                                     [key], {});\n",
              "          if (!dataTable) return;\n",
              "\n",
              "          const docLinkHtml = 'Like what you see? Visit the ' +\n",
              "            '<a target=\"_blank\" href=https://colab.research.google.com/notebooks/data_table.ipynb>data table notebook</a>'\n",
              "            + ' to learn more about interactive tables.';\n",
              "          element.innerHTML = '';\n",
              "          dataTable['output_type'] = 'display_data';\n",
              "          await google.colab.output.renderOutput(dataTable, element);\n",
              "          const docLink = document.createElement('div');\n",
              "          docLink.innerHTML = docLinkHtml;\n",
              "          element.appendChild(docLink);\n",
              "        }\n",
              "      </script>\n",
              "    </div>\n",
              "  </div>\n",
              "  "
            ],
            "text/plain": [
              "              market  count  successful rate\n",
              "10       DataPrivacy      1            0.500\n",
              "54    SharedServices      1            0.333\n",
              "63             Taxis      1            0.250\n",
              "35  MobileEnterprise      1            0.250\n",
              "22        Geospatial      1            0.250"
            ]
          },
          "metadata": {},
          "execution_count": 40
        }
      ]
    },
    {
      "cell_type": "code",
      "metadata": {
        "colab": {
          "base_uri": "https://localhost:8080/",
          "height": 206
        },
        "id": "lX4mC-MbJBIi",
        "outputId": "0d591394-8fc8-42ef-bc0d-8025bd13e992"
      },
      "source": [
        "top15f = topmarkets[topmarkets['name'] >= 3].sort_values(by = 'successful rate',ascending = False)[:15]\n",
        "top15f.rename({'name': 'count'}, axis=1, inplace=True)\n",
        "top15f.head()"
      ],
      "execution_count": 41,
      "outputs": [
        {
          "output_type": "execute_result",
          "data": {
            "text/html": [
              "\n",
              "  <div id=\"df-20060628-6bd3-44fd-bdbc-0cc199f15fbb\">\n",
              "    <div class=\"colab-df-container\">\n",
              "      <div>\n",
              "<style scoped>\n",
              "    .dataframe tbody tr th:only-of-type {\n",
              "        vertical-align: middle;\n",
              "    }\n",
              "\n",
              "    .dataframe tbody tr th {\n",
              "        vertical-align: top;\n",
              "    }\n",
              "\n",
              "    .dataframe thead th {\n",
              "        text-align: right;\n",
              "    }\n",
              "</style>\n",
              "<table border=\"1\" class=\"dataframe\">\n",
              "  <thead>\n",
              "    <tr style=\"text-align: right;\">\n",
              "      <th></th>\n",
              "      <th>market</th>\n",
              "      <th>count</th>\n",
              "      <th>successful rate</th>\n",
              "    </tr>\n",
              "  </thead>\n",
              "  <tbody>\n",
              "    <tr>\n",
              "      <th>46</th>\n",
              "      <td>Restaurants</td>\n",
              "      <td>3</td>\n",
              "      <td>0.056</td>\n",
              "    </tr>\n",
              "    <tr>\n",
              "      <th>31</th>\n",
              "      <td>Marketplaces</td>\n",
              "      <td>4</td>\n",
              "      <td>0.024</td>\n",
              "    </tr>\n",
              "    <tr>\n",
              "      <th>48</th>\n",
              "      <td>SaaS</td>\n",
              "      <td>3</td>\n",
              "      <td>0.014</td>\n",
              "    </tr>\n",
              "    <tr>\n",
              "      <th>12</th>\n",
              "      <td>E-Commerce</td>\n",
              "      <td>12</td>\n",
              "      <td>0.009</td>\n",
              "    </tr>\n",
              "    <tr>\n",
              "      <th>14</th>\n",
              "      <td>EnterpriseSoftware</td>\n",
              "      <td>9</td>\n",
              "      <td>0.009</td>\n",
              "    </tr>\n",
              "  </tbody>\n",
              "</table>\n",
              "</div>\n",
              "      <button class=\"colab-df-convert\" onclick=\"convertToInteractive('df-20060628-6bd3-44fd-bdbc-0cc199f15fbb')\"\n",
              "              title=\"Convert this dataframe to an interactive table.\"\n",
              "              style=\"display:none;\">\n",
              "        \n",
              "  <svg xmlns=\"http://www.w3.org/2000/svg\" height=\"24px\"viewBox=\"0 0 24 24\"\n",
              "       width=\"24px\">\n",
              "    <path d=\"M0 0h24v24H0V0z\" fill=\"none\"/>\n",
              "    <path d=\"M18.56 5.44l.94 2.06.94-2.06 2.06-.94-2.06-.94-.94-2.06-.94 2.06-2.06.94zm-11 1L8.5 8.5l.94-2.06 2.06-.94-2.06-.94L8.5 2.5l-.94 2.06-2.06.94zm10 10l.94 2.06.94-2.06 2.06-.94-2.06-.94-.94-2.06-.94 2.06-2.06.94z\"/><path d=\"M17.41 7.96l-1.37-1.37c-.4-.4-.92-.59-1.43-.59-.52 0-1.04.2-1.43.59L10.3 9.45l-7.72 7.72c-.78.78-.78 2.05 0 2.83L4 21.41c.39.39.9.59 1.41.59.51 0 1.02-.2 1.41-.59l7.78-7.78 2.81-2.81c.8-.78.8-2.07 0-2.86zM5.41 20L4 18.59l7.72-7.72 1.47 1.35L5.41 20z\"/>\n",
              "  </svg>\n",
              "      </button>\n",
              "      \n",
              "  <style>\n",
              "    .colab-df-container {\n",
              "      display:flex;\n",
              "      flex-wrap:wrap;\n",
              "      gap: 12px;\n",
              "    }\n",
              "\n",
              "    .colab-df-convert {\n",
              "      background-color: #E8F0FE;\n",
              "      border: none;\n",
              "      border-radius: 50%;\n",
              "      cursor: pointer;\n",
              "      display: none;\n",
              "      fill: #1967D2;\n",
              "      height: 32px;\n",
              "      padding: 0 0 0 0;\n",
              "      width: 32px;\n",
              "    }\n",
              "\n",
              "    .colab-df-convert:hover {\n",
              "      background-color: #E2EBFA;\n",
              "      box-shadow: 0px 1px 2px rgba(60, 64, 67, 0.3), 0px 1px 3px 1px rgba(60, 64, 67, 0.15);\n",
              "      fill: #174EA6;\n",
              "    }\n",
              "\n",
              "    [theme=dark] .colab-df-convert {\n",
              "      background-color: #3B4455;\n",
              "      fill: #D2E3FC;\n",
              "    }\n",
              "\n",
              "    [theme=dark] .colab-df-convert:hover {\n",
              "      background-color: #434B5C;\n",
              "      box-shadow: 0px 1px 3px 1px rgba(0, 0, 0, 0.15);\n",
              "      filter: drop-shadow(0px 1px 2px rgba(0, 0, 0, 0.3));\n",
              "      fill: #FFFFFF;\n",
              "    }\n",
              "  </style>\n",
              "\n",
              "      <script>\n",
              "        const buttonEl =\n",
              "          document.querySelector('#df-20060628-6bd3-44fd-bdbc-0cc199f15fbb button.colab-df-convert');\n",
              "        buttonEl.style.display =\n",
              "          google.colab.kernel.accessAllowed ? 'block' : 'none';\n",
              "\n",
              "        async function convertToInteractive(key) {\n",
              "          const element = document.querySelector('#df-20060628-6bd3-44fd-bdbc-0cc199f15fbb');\n",
              "          const dataTable =\n",
              "            await google.colab.kernel.invokeFunction('convertToInteractive',\n",
              "                                                     [key], {});\n",
              "          if (!dataTable) return;\n",
              "\n",
              "          const docLinkHtml = 'Like what you see? Visit the ' +\n",
              "            '<a target=\"_blank\" href=https://colab.research.google.com/notebooks/data_table.ipynb>data table notebook</a>'\n",
              "            + ' to learn more about interactive tables.';\n",
              "          element.innerHTML = '';\n",
              "          dataTable['output_type'] = 'display_data';\n",
              "          await google.colab.output.renderOutput(dataTable, element);\n",
              "          const docLink = document.createElement('div');\n",
              "          docLink.innerHTML = docLinkHtml;\n",
              "          element.appendChild(docLink);\n",
              "        }\n",
              "      </script>\n",
              "    </div>\n",
              "  </div>\n",
              "  "
            ],
            "text/plain": [
              "                market  count  successful rate\n",
              "46         Restaurants      3            0.056\n",
              "31        Marketplaces      4            0.024\n",
              "48                SaaS      3            0.014\n",
              "12          E-Commerce     12            0.009\n",
              "14  EnterpriseSoftware      9            0.009"
            ]
          },
          "metadata": {},
          "execution_count": 41
        }
      ]
    },
    {
      "cell_type": "code",
      "metadata": {
        "id": "Zt1rFLbXJBIi"
      },
      "source": [
        "import altair as alt\n",
        "def successfulrate(source):\n",
        "  result = alt.Chart(source).mark_circle(\n",
        "      opacity=0.8,\n",
        "      stroke='black',\n",
        "      strokeWidth=1\n",
        "  ).encode(\n",
        "      alt.X('successful rate:O', axis=alt.Axis(labelAngle=0)),\n",
        "      alt.Y('market:N'),\n",
        "      alt.Size('count:Q',\n",
        "          scale=alt.Scale(range=[0, 4000]),\n",
        "          legend=alt.Legend(title='Number of Unicorns')\n",
        "      ),\n",
        "      alt.Color('market:N', legend=None),\n",
        "      tooltip=['market','count:Q']\n",
        "  ).properties(title = \"In which markets the startups have higher possibility to become an unicorn?\",\n",
        "      width=600,\n",
        "      height=500\n",
        "  ).interactive()\n",
        "  result.encoding.x.title = 'Successful Rate'\n",
        "  result.encoding.y.title = 'Market'  \n",
        "  return result"
      ],
      "execution_count": 42,
      "outputs": []
    },
    {
      "cell_type": "code",
      "metadata": {
        "colab": {
          "base_uri": "https://localhost:8080/",
          "height": 587
        },
        "id": "aGq776SzJBIj",
        "outputId": "1e0de0de-0e79-43e4-f86a-e7e7d08a6d3d"
      },
      "source": [
        "successfulrate(top15)"
      ],
      "execution_count": 43,
      "outputs": [
        {
          "output_type": "execute_result",
          "data": {
            "text/plain": [
              "alt.Chart(...)"
            ],
            "text/html": [
              "\n",
              "<div id=\"altair-viz-40fa2f4bd513486ebbe91af147b5f961\"></div>\n",
              "<script type=\"text/javascript\">\n",
              "  var VEGA_DEBUG = (typeof VEGA_DEBUG == \"undefined\") ? {} : VEGA_DEBUG;\n",
              "  (function(spec, embedOpt){\n",
              "    let outputDiv = document.currentScript.previousElementSibling;\n",
              "    if (outputDiv.id !== \"altair-viz-40fa2f4bd513486ebbe91af147b5f961\") {\n",
              "      outputDiv = document.getElementById(\"altair-viz-40fa2f4bd513486ebbe91af147b5f961\");\n",
              "    }\n",
              "    const paths = {\n",
              "      \"vega\": \"https://cdn.jsdelivr.net/npm//vega@5?noext\",\n",
              "      \"vega-lib\": \"https://cdn.jsdelivr.net/npm//vega-lib?noext\",\n",
              "      \"vega-lite\": \"https://cdn.jsdelivr.net/npm//vega-lite@4.17.0?noext\",\n",
              "      \"vega-embed\": \"https://cdn.jsdelivr.net/npm//vega-embed@6?noext\",\n",
              "    };\n",
              "\n",
              "    function maybeLoadScript(lib, version) {\n",
              "      var key = `${lib.replace(\"-\", \"\")}_version`;\n",
              "      return (VEGA_DEBUG[key] == version) ?\n",
              "        Promise.resolve(paths[lib]) :\n",
              "        new Promise(function(resolve, reject) {\n",
              "          var s = document.createElement('script');\n",
              "          document.getElementsByTagName(\"head\")[0].appendChild(s);\n",
              "          s.async = true;\n",
              "          s.onload = () => {\n",
              "            VEGA_DEBUG[key] = version;\n",
              "            return resolve(paths[lib]);\n",
              "          };\n",
              "          s.onerror = () => reject(`Error loading script: ${paths[lib]}`);\n",
              "          s.src = paths[lib];\n",
              "        });\n",
              "    }\n",
              "\n",
              "    function showError(err) {\n",
              "      outputDiv.innerHTML = `<div class=\"error\" style=\"color:red;\">${err}</div>`;\n",
              "      throw err;\n",
              "    }\n",
              "\n",
              "    function displayChart(vegaEmbed) {\n",
              "      vegaEmbed(outputDiv, spec, embedOpt)\n",
              "        .catch(err => showError(`Javascript Error: ${err.message}<br>This usually means there's a typo in your chart specification. See the javascript console for the full traceback.`));\n",
              "    }\n",
              "\n",
              "    if(typeof define === \"function\" && define.amd) {\n",
              "      requirejs.config({paths});\n",
              "      require([\"vega-embed\"], displayChart, err => showError(`Error loading script: ${err.message}`));\n",
              "    } else {\n",
              "      maybeLoadScript(\"vega\", \"5\")\n",
              "        .then(() => maybeLoadScript(\"vega-lite\", \"4.17.0\"))\n",
              "        .then(() => maybeLoadScript(\"vega-embed\", \"6\"))\n",
              "        .catch(showError)\n",
              "        .then(() => displayChart(vegaEmbed));\n",
              "    }\n",
              "  })({\"config\": {\"view\": {\"continuousWidth\": 400, \"continuousHeight\": 300}}, \"data\": {\"name\": \"data-ee7ac6d51dce5be0a7b4aae8daf182fd\"}, \"mark\": {\"type\": \"circle\", \"opacity\": 0.8, \"stroke\": \"black\", \"strokeWidth\": 1}, \"encoding\": {\"color\": {\"field\": \"market\", \"legend\": null, \"type\": \"nominal\"}, \"size\": {\"field\": \"count\", \"legend\": {\"title\": \"Number of Unicorns\"}, \"scale\": {\"range\": [0, 4000]}, \"type\": \"quantitative\"}, \"tooltip\": [{\"field\": \"market\", \"type\": \"nominal\"}, {\"field\": \"count\", \"type\": \"quantitative\"}], \"x\": {\"axis\": {\"labelAngle\": 0}, \"field\": \"successful rate\", \"title\": \"Successful Rate\", \"type\": \"ordinal\"}, \"y\": {\"field\": \"market\", \"title\": \"Market\", \"type\": \"nominal\"}}, \"height\": 500, \"selection\": {\"selector011\": {\"type\": \"interval\", \"bind\": \"scales\", \"encodings\": [\"x\", \"y\"]}}, \"title\": \"In which markets the startups have higher possibility to become an unicorn?\", \"width\": 600, \"$schema\": \"https://vega.github.io/schema/vega-lite/v4.17.0.json\", \"datasets\": {\"data-ee7ac6d51dce5be0a7b4aae8daf182fd\": [{\"market\": \"DataPrivacy\", \"count\": 1, \"successful rate\": 0.5}, {\"market\": \"SharedServices\", \"count\": 1, \"successful rate\": 0.333}, {\"market\": \"Taxis\", \"count\": 1, \"successful rate\": 0.25}, {\"market\": \"MobileEnterprise\", \"count\": 1, \"successful rate\": 0.25}, {\"market\": \"Geospatial\", \"count\": 1, \"successful rate\": 0.25}, {\"market\": \"ProductDesign\", \"count\": 1, \"successful rate\": 0.167}, {\"market\": \"CreditCards\", \"count\": 1, \"successful rate\": 0.167}, {\"market\": \"FreetoPlayGaming\", \"count\": 1, \"successful rate\": 0.167}, {\"market\": \"3DPrinting\", \"count\": 1, \"successful rate\": 0.143}, {\"market\": \"SalesAutomation\", \"count\": 2, \"successful rate\": 0.143}, {\"market\": \"ITandCybersecurity\", \"count\": 1, \"successful rate\": 0.125}, {\"market\": \"PersonalFinance\", \"count\": 2, \"successful rate\": 0.125}, {\"market\": \"SocialCRM\", \"count\": 1, \"successful rate\": 0.125}, {\"market\": \"SupplyChainManagement\", \"count\": 1, \"successful rate\": 0.111}, {\"market\": \"IaaS\", \"count\": 1, \"successful rate\": 0.1}]}}, {\"mode\": \"vega-lite\"});\n",
              "</script>"
            ]
          },
          "metadata": {},
          "execution_count": 43
        }
      ]
    },
    {
      "cell_type": "code",
      "metadata": {
        "colab": {
          "base_uri": "https://localhost:8080/",
          "height": 197
        },
        "id": "i_Zf_Xt5fz9n",
        "outputId": "955e7665-3fdf-455b-86a3-76205468b509"
      },
      "source": [
        "df[(df['name'].isin(unicorn_list))&(df['market']=='DataPrivacy')]"
      ],
      "execution_count": 44,
      "outputs": [
        {
          "output_type": "execute_result",
          "data": {
            "text/html": [
              "\n",
              "  <div id=\"df-fb557c0c-fcc7-4f11-b003-ff6dd0c1084f\">\n",
              "    <div class=\"colab-df-container\">\n",
              "      <div>\n",
              "<style scoped>\n",
              "    .dataframe tbody tr th:only-of-type {\n",
              "        vertical-align: middle;\n",
              "    }\n",
              "\n",
              "    .dataframe tbody tr th {\n",
              "        vertical-align: top;\n",
              "    }\n",
              "\n",
              "    .dataframe thead th {\n",
              "        text-align: right;\n",
              "    }\n",
              "</style>\n",
              "<table border=\"1\" class=\"dataframe\">\n",
              "  <thead>\n",
              "    <tr style=\"text-align: right;\">\n",
              "      <th></th>\n",
              "      <th>name</th>\n",
              "      <th>category_list</th>\n",
              "      <th>market</th>\n",
              "      <th>funding_total_usd</th>\n",
              "      <th>status</th>\n",
              "      <th>country_code</th>\n",
              "      <th>state_code</th>\n",
              "      <th>region</th>\n",
              "      <th>funding_rounds</th>\n",
              "      <th>founded_at</th>\n",
              "      <th>founded_month</th>\n",
              "      <th>founded_year</th>\n",
              "      <th>first_funding_at</th>\n",
              "      <th>last_funding_at</th>\n",
              "      <th>seed</th>\n",
              "      <th>venture</th>\n",
              "      <th>equity_crowdfunding</th>\n",
              "      <th>undisclosed</th>\n",
              "      <th>convertible_note</th>\n",
              "      <th>debt_financing</th>\n",
              "      <th>angel</th>\n",
              "      <th>grant</th>\n",
              "      <th>private_equity</th>\n",
              "      <th>post_ipo_equity</th>\n",
              "      <th>post_ipo_debt</th>\n",
              "      <th>secondary_market</th>\n",
              "      <th>product_crowdfunding</th>\n",
              "      <th>round_A</th>\n",
              "      <th>round_B</th>\n",
              "      <th>round_C</th>\n",
              "      <th>round_D</th>\n",
              "      <th>round_E</th>\n",
              "      <th>round_F</th>\n",
              "      <th>round_G</th>\n",
              "      <th>round_H</th>\n",
              "      <th>lasting_year</th>\n",
              "      <th>Status_acquired</th>\n",
              "      <th>Status_closed</th>\n",
              "      <th>Status_operating</th>\n",
              "      <th>if_ipo</th>\n",
              "      <th>month</th>\n",
              "      <th>if_jan</th>\n",
              "      <th>found_fund_diff</th>\n",
              "      <th>fir_end_diff</th>\n",
              "      <th>founded_year_range</th>\n",
              "    </tr>\n",
              "  </thead>\n",
              "  <tbody>\n",
              "    <tr>\n",
              "      <th>19808</th>\n",
              "      <td>ID.me</td>\n",
              "      <td>|Data Privacy|Identity Management|Online Ident...</td>\n",
              "      <td>DataPrivacy</td>\n",
              "      <td>16665000.0</td>\n",
              "      <td>operating</td>\n",
              "      <td>USA</td>\n",
              "      <td>DC</td>\n",
              "      <td>Washington, D.C.</td>\n",
              "      <td>6.0</td>\n",
              "      <td>2010-01-01</td>\n",
              "      <td>2010-01</td>\n",
              "      <td>2010.0</td>\n",
              "      <td>2010-07-16</td>\n",
              "      <td>2014-04-01</td>\n",
              "      <td>140000.0</td>\n",
              "      <td>7500000.0</td>\n",
              "      <td>0.0</td>\n",
              "      <td>0.0</td>\n",
              "      <td>3000000.0</td>\n",
              "      <td>2500000.0</td>\n",
              "      <td>925000.0</td>\n",
              "      <td>2600000.0</td>\n",
              "      <td>0.0</td>\n",
              "      <td>0.0</td>\n",
              "      <td>0.0</td>\n",
              "      <td>0.0</td>\n",
              "      <td>0.0</td>\n",
              "      <td>7500000.0</td>\n",
              "      <td>0.0</td>\n",
              "      <td>0.0</td>\n",
              "      <td>0.0</td>\n",
              "      <td>0.0</td>\n",
              "      <td>0.0</td>\n",
              "      <td>0.0</td>\n",
              "      <td>0.0</td>\n",
              "      <td>4.0</td>\n",
              "      <td>0</td>\n",
              "      <td>0</td>\n",
              "      <td>1</td>\n",
              "      <td>0</td>\n",
              "      <td>1.0</td>\n",
              "      <td>1</td>\n",
              "      <td>196.0</td>\n",
              "      <td>1355.0</td>\n",
              "      <td>[2010, 2020)</td>\n",
              "    </tr>\n",
              "  </tbody>\n",
              "</table>\n",
              "</div>\n",
              "      <button class=\"colab-df-convert\" onclick=\"convertToInteractive('df-fb557c0c-fcc7-4f11-b003-ff6dd0c1084f')\"\n",
              "              title=\"Convert this dataframe to an interactive table.\"\n",
              "              style=\"display:none;\">\n",
              "        \n",
              "  <svg xmlns=\"http://www.w3.org/2000/svg\" height=\"24px\"viewBox=\"0 0 24 24\"\n",
              "       width=\"24px\">\n",
              "    <path d=\"M0 0h24v24H0V0z\" fill=\"none\"/>\n",
              "    <path d=\"M18.56 5.44l.94 2.06.94-2.06 2.06-.94-2.06-.94-.94-2.06-.94 2.06-2.06.94zm-11 1L8.5 8.5l.94-2.06 2.06-.94-2.06-.94L8.5 2.5l-.94 2.06-2.06.94zm10 10l.94 2.06.94-2.06 2.06-.94-2.06-.94-.94-2.06-.94 2.06-2.06.94z\"/><path d=\"M17.41 7.96l-1.37-1.37c-.4-.4-.92-.59-1.43-.59-.52 0-1.04.2-1.43.59L10.3 9.45l-7.72 7.72c-.78.78-.78 2.05 0 2.83L4 21.41c.39.39.9.59 1.41.59.51 0 1.02-.2 1.41-.59l7.78-7.78 2.81-2.81c.8-.78.8-2.07 0-2.86zM5.41 20L4 18.59l7.72-7.72 1.47 1.35L5.41 20z\"/>\n",
              "  </svg>\n",
              "      </button>\n",
              "      \n",
              "  <style>\n",
              "    .colab-df-container {\n",
              "      display:flex;\n",
              "      flex-wrap:wrap;\n",
              "      gap: 12px;\n",
              "    }\n",
              "\n",
              "    .colab-df-convert {\n",
              "      background-color: #E8F0FE;\n",
              "      border: none;\n",
              "      border-radius: 50%;\n",
              "      cursor: pointer;\n",
              "      display: none;\n",
              "      fill: #1967D2;\n",
              "      height: 32px;\n",
              "      padding: 0 0 0 0;\n",
              "      width: 32px;\n",
              "    }\n",
              "\n",
              "    .colab-df-convert:hover {\n",
              "      background-color: #E2EBFA;\n",
              "      box-shadow: 0px 1px 2px rgba(60, 64, 67, 0.3), 0px 1px 3px 1px rgba(60, 64, 67, 0.15);\n",
              "      fill: #174EA6;\n",
              "    }\n",
              "\n",
              "    [theme=dark] .colab-df-convert {\n",
              "      background-color: #3B4455;\n",
              "      fill: #D2E3FC;\n",
              "    }\n",
              "\n",
              "    [theme=dark] .colab-df-convert:hover {\n",
              "      background-color: #434B5C;\n",
              "      box-shadow: 0px 1px 3px 1px rgba(0, 0, 0, 0.15);\n",
              "      filter: drop-shadow(0px 1px 2px rgba(0, 0, 0, 0.3));\n",
              "      fill: #FFFFFF;\n",
              "    }\n",
              "  </style>\n",
              "\n",
              "      <script>\n",
              "        const buttonEl =\n",
              "          document.querySelector('#df-fb557c0c-fcc7-4f11-b003-ff6dd0c1084f button.colab-df-convert');\n",
              "        buttonEl.style.display =\n",
              "          google.colab.kernel.accessAllowed ? 'block' : 'none';\n",
              "\n",
              "        async function convertToInteractive(key) {\n",
              "          const element = document.querySelector('#df-fb557c0c-fcc7-4f11-b003-ff6dd0c1084f');\n",
              "          const dataTable =\n",
              "            await google.colab.kernel.invokeFunction('convertToInteractive',\n",
              "                                                     [key], {});\n",
              "          if (!dataTable) return;\n",
              "\n",
              "          const docLinkHtml = 'Like what you see? Visit the ' +\n",
              "            '<a target=\"_blank\" href=https://colab.research.google.com/notebooks/data_table.ipynb>data table notebook</a>'\n",
              "            + ' to learn more about interactive tables.';\n",
              "          element.innerHTML = '';\n",
              "          dataTable['output_type'] = 'display_data';\n",
              "          await google.colab.output.renderOutput(dataTable, element);\n",
              "          const docLink = document.createElement('div');\n",
              "          docLink.innerHTML = docLinkHtml;\n",
              "          element.appendChild(docLink);\n",
              "        }\n",
              "      </script>\n",
              "    </div>\n",
              "  </div>\n",
              "  "
            ],
            "text/plain": [
              "        name  ... founded_year_range\n",
              "19808  ID.me  ...       [2010, 2020)\n",
              "\n",
              "[1 rows x 45 columns]"
            ]
          },
          "metadata": {},
          "execution_count": 44
        }
      ]
    },
    {
      "cell_type": "code",
      "metadata": {
        "colab": {
          "base_uri": "https://localhost:8080/",
          "height": 162
        },
        "id": "gFc_7PPJekX6",
        "outputId": "38ea8288-2ff5-4246-91f8-135efce9dad8"
      },
      "source": [
        "df[(df['name'].isin(unicorn_list))&(df['market']=='SharedServices')]"
      ],
      "execution_count": 45,
      "outputs": [
        {
          "output_type": "execute_result",
          "data": {
            "text/html": [
              "\n",
              "  <div id=\"df-99b7e92a-979b-4e42-9453-966dd5c41ab1\">\n",
              "    <div class=\"colab-df-container\">\n",
              "      <div>\n",
              "<style scoped>\n",
              "    .dataframe tbody tr th:only-of-type {\n",
              "        vertical-align: middle;\n",
              "    }\n",
              "\n",
              "    .dataframe tbody tr th {\n",
              "        vertical-align: top;\n",
              "    }\n",
              "\n",
              "    .dataframe thead th {\n",
              "        text-align: right;\n",
              "    }\n",
              "</style>\n",
              "<table border=\"1\" class=\"dataframe\">\n",
              "  <thead>\n",
              "    <tr style=\"text-align: right;\">\n",
              "      <th></th>\n",
              "      <th>name</th>\n",
              "      <th>category_list</th>\n",
              "      <th>market</th>\n",
              "      <th>funding_total_usd</th>\n",
              "      <th>status</th>\n",
              "      <th>country_code</th>\n",
              "      <th>state_code</th>\n",
              "      <th>region</th>\n",
              "      <th>funding_rounds</th>\n",
              "      <th>founded_at</th>\n",
              "      <th>founded_month</th>\n",
              "      <th>founded_year</th>\n",
              "      <th>first_funding_at</th>\n",
              "      <th>last_funding_at</th>\n",
              "      <th>seed</th>\n",
              "      <th>venture</th>\n",
              "      <th>equity_crowdfunding</th>\n",
              "      <th>undisclosed</th>\n",
              "      <th>convertible_note</th>\n",
              "      <th>debt_financing</th>\n",
              "      <th>angel</th>\n",
              "      <th>grant</th>\n",
              "      <th>private_equity</th>\n",
              "      <th>post_ipo_equity</th>\n",
              "      <th>post_ipo_debt</th>\n",
              "      <th>secondary_market</th>\n",
              "      <th>product_crowdfunding</th>\n",
              "      <th>round_A</th>\n",
              "      <th>round_B</th>\n",
              "      <th>round_C</th>\n",
              "      <th>round_D</th>\n",
              "      <th>round_E</th>\n",
              "      <th>round_F</th>\n",
              "      <th>round_G</th>\n",
              "      <th>round_H</th>\n",
              "      <th>lasting_year</th>\n",
              "      <th>Status_acquired</th>\n",
              "      <th>Status_closed</th>\n",
              "      <th>Status_operating</th>\n",
              "      <th>if_ipo</th>\n",
              "      <th>month</th>\n",
              "      <th>if_jan</th>\n",
              "      <th>found_fund_diff</th>\n",
              "      <th>fir_end_diff</th>\n",
              "      <th>founded_year_range</th>\n",
              "    </tr>\n",
              "  </thead>\n",
              "  <tbody>\n",
              "    <tr>\n",
              "      <th>39232</th>\n",
              "      <td>Socar</td>\n",
              "      <td>|Travel|Shared Services|</td>\n",
              "      <td>SharedServices</td>\n",
              "      <td>18000000.0</td>\n",
              "      <td>operating</td>\n",
              "      <td>KOR</td>\n",
              "      <td>NaN</td>\n",
              "      <td>Busan</td>\n",
              "      <td>1.0</td>\n",
              "      <td>2011-11-10</td>\n",
              "      <td>2011-11</td>\n",
              "      <td>2011.0</td>\n",
              "      <td>2014-10-14</td>\n",
              "      <td>2014-10-14</td>\n",
              "      <td>0.0</td>\n",
              "      <td>18000000.0</td>\n",
              "      <td>0.0</td>\n",
              "      <td>0.0</td>\n",
              "      <td>0.0</td>\n",
              "      <td>0.0</td>\n",
              "      <td>0.0</td>\n",
              "      <td>0.0</td>\n",
              "      <td>0.0</td>\n",
              "      <td>0.0</td>\n",
              "      <td>0.0</td>\n",
              "      <td>0.0</td>\n",
              "      <td>0.0</td>\n",
              "      <td>18000000.0</td>\n",
              "      <td>0.0</td>\n",
              "      <td>0.0</td>\n",
              "      <td>0.0</td>\n",
              "      <td>0.0</td>\n",
              "      <td>0.0</td>\n",
              "      <td>0.0</td>\n",
              "      <td>0.0</td>\n",
              "      <td>3.0</td>\n",
              "      <td>0</td>\n",
              "      <td>0</td>\n",
              "      <td>1</td>\n",
              "      <td>0</td>\n",
              "      <td>11.0</td>\n",
              "      <td>0</td>\n",
              "      <td>1069.0</td>\n",
              "      <td>0.0</td>\n",
              "      <td>[2010, 2020)</td>\n",
              "    </tr>\n",
              "  </tbody>\n",
              "</table>\n",
              "</div>\n",
              "      <button class=\"colab-df-convert\" onclick=\"convertToInteractive('df-99b7e92a-979b-4e42-9453-966dd5c41ab1')\"\n",
              "              title=\"Convert this dataframe to an interactive table.\"\n",
              "              style=\"display:none;\">\n",
              "        \n",
              "  <svg xmlns=\"http://www.w3.org/2000/svg\" height=\"24px\"viewBox=\"0 0 24 24\"\n",
              "       width=\"24px\">\n",
              "    <path d=\"M0 0h24v24H0V0z\" fill=\"none\"/>\n",
              "    <path d=\"M18.56 5.44l.94 2.06.94-2.06 2.06-.94-2.06-.94-.94-2.06-.94 2.06-2.06.94zm-11 1L8.5 8.5l.94-2.06 2.06-.94-2.06-.94L8.5 2.5l-.94 2.06-2.06.94zm10 10l.94 2.06.94-2.06 2.06-.94-2.06-.94-.94-2.06-.94 2.06-2.06.94z\"/><path d=\"M17.41 7.96l-1.37-1.37c-.4-.4-.92-.59-1.43-.59-.52 0-1.04.2-1.43.59L10.3 9.45l-7.72 7.72c-.78.78-.78 2.05 0 2.83L4 21.41c.39.39.9.59 1.41.59.51 0 1.02-.2 1.41-.59l7.78-7.78 2.81-2.81c.8-.78.8-2.07 0-2.86zM5.41 20L4 18.59l7.72-7.72 1.47 1.35L5.41 20z\"/>\n",
              "  </svg>\n",
              "      </button>\n",
              "      \n",
              "  <style>\n",
              "    .colab-df-container {\n",
              "      display:flex;\n",
              "      flex-wrap:wrap;\n",
              "      gap: 12px;\n",
              "    }\n",
              "\n",
              "    .colab-df-convert {\n",
              "      background-color: #E8F0FE;\n",
              "      border: none;\n",
              "      border-radius: 50%;\n",
              "      cursor: pointer;\n",
              "      display: none;\n",
              "      fill: #1967D2;\n",
              "      height: 32px;\n",
              "      padding: 0 0 0 0;\n",
              "      width: 32px;\n",
              "    }\n",
              "\n",
              "    .colab-df-convert:hover {\n",
              "      background-color: #E2EBFA;\n",
              "      box-shadow: 0px 1px 2px rgba(60, 64, 67, 0.3), 0px 1px 3px 1px rgba(60, 64, 67, 0.15);\n",
              "      fill: #174EA6;\n",
              "    }\n",
              "\n",
              "    [theme=dark] .colab-df-convert {\n",
              "      background-color: #3B4455;\n",
              "      fill: #D2E3FC;\n",
              "    }\n",
              "\n",
              "    [theme=dark] .colab-df-convert:hover {\n",
              "      background-color: #434B5C;\n",
              "      box-shadow: 0px 1px 3px 1px rgba(0, 0, 0, 0.15);\n",
              "      filter: drop-shadow(0px 1px 2px rgba(0, 0, 0, 0.3));\n",
              "      fill: #FFFFFF;\n",
              "    }\n",
              "  </style>\n",
              "\n",
              "      <script>\n",
              "        const buttonEl =\n",
              "          document.querySelector('#df-99b7e92a-979b-4e42-9453-966dd5c41ab1 button.colab-df-convert');\n",
              "        buttonEl.style.display =\n",
              "          google.colab.kernel.accessAllowed ? 'block' : 'none';\n",
              "\n",
              "        async function convertToInteractive(key) {\n",
              "          const element = document.querySelector('#df-99b7e92a-979b-4e42-9453-966dd5c41ab1');\n",
              "          const dataTable =\n",
              "            await google.colab.kernel.invokeFunction('convertToInteractive',\n",
              "                                                     [key], {});\n",
              "          if (!dataTable) return;\n",
              "\n",
              "          const docLinkHtml = 'Like what you see? Visit the ' +\n",
              "            '<a target=\"_blank\" href=https://colab.research.google.com/notebooks/data_table.ipynb>data table notebook</a>'\n",
              "            + ' to learn more about interactive tables.';\n",
              "          element.innerHTML = '';\n",
              "          dataTable['output_type'] = 'display_data';\n",
              "          await google.colab.output.renderOutput(dataTable, element);\n",
              "          const docLink = document.createElement('div');\n",
              "          docLink.innerHTML = docLinkHtml;\n",
              "          element.appendChild(docLink);\n",
              "        }\n",
              "      </script>\n",
              "    </div>\n",
              "  </div>\n",
              "  "
            ],
            "text/plain": [
              "        name             category_list  ... fir_end_diff  founded_year_range\n",
              "39232  Socar  |Travel|Shared Services|  ...          0.0        [2010, 2020)\n",
              "\n",
              "[1 rows x 45 columns]"
            ]
          },
          "metadata": {},
          "execution_count": 45
        }
      ]
    },
    {
      "cell_type": "code",
      "metadata": {
        "colab": {
          "base_uri": "https://localhost:8080/",
          "height": 580
        },
        "id": "oMMTc3ZLJBIk",
        "outputId": "60dbfa8b-43f2-42d9-dd7e-da667b768e57"
      },
      "source": [
        "successfulrate(top15f)"
      ],
      "execution_count": 46,
      "outputs": [
        {
          "output_type": "execute_result",
          "data": {
            "text/plain": [
              "alt.Chart(...)"
            ],
            "text/html": [
              "\n",
              "<div id=\"altair-viz-669594ec3914429ba7bf53ffab08d7a1\"></div>\n",
              "<script type=\"text/javascript\">\n",
              "  var VEGA_DEBUG = (typeof VEGA_DEBUG == \"undefined\") ? {} : VEGA_DEBUG;\n",
              "  (function(spec, embedOpt){\n",
              "    let outputDiv = document.currentScript.previousElementSibling;\n",
              "    if (outputDiv.id !== \"altair-viz-669594ec3914429ba7bf53ffab08d7a1\") {\n",
              "      outputDiv = document.getElementById(\"altair-viz-669594ec3914429ba7bf53ffab08d7a1\");\n",
              "    }\n",
              "    const paths = {\n",
              "      \"vega\": \"https://cdn.jsdelivr.net/npm//vega@5?noext\",\n",
              "      \"vega-lib\": \"https://cdn.jsdelivr.net/npm//vega-lib?noext\",\n",
              "      \"vega-lite\": \"https://cdn.jsdelivr.net/npm//vega-lite@4.17.0?noext\",\n",
              "      \"vega-embed\": \"https://cdn.jsdelivr.net/npm//vega-embed@6?noext\",\n",
              "    };\n",
              "\n",
              "    function maybeLoadScript(lib, version) {\n",
              "      var key = `${lib.replace(\"-\", \"\")}_version`;\n",
              "      return (VEGA_DEBUG[key] == version) ?\n",
              "        Promise.resolve(paths[lib]) :\n",
              "        new Promise(function(resolve, reject) {\n",
              "          var s = document.createElement('script');\n",
              "          document.getElementsByTagName(\"head\")[0].appendChild(s);\n",
              "          s.async = true;\n",
              "          s.onload = () => {\n",
              "            VEGA_DEBUG[key] = version;\n",
              "            return resolve(paths[lib]);\n",
              "          };\n",
              "          s.onerror = () => reject(`Error loading script: ${paths[lib]}`);\n",
              "          s.src = paths[lib];\n",
              "        });\n",
              "    }\n",
              "\n",
              "    function showError(err) {\n",
              "      outputDiv.innerHTML = `<div class=\"error\" style=\"color:red;\">${err}</div>`;\n",
              "      throw err;\n",
              "    }\n",
              "\n",
              "    function displayChart(vegaEmbed) {\n",
              "      vegaEmbed(outputDiv, spec, embedOpt)\n",
              "        .catch(err => showError(`Javascript Error: ${err.message}<br>This usually means there's a typo in your chart specification. See the javascript console for the full traceback.`));\n",
              "    }\n",
              "\n",
              "    if(typeof define === \"function\" && define.amd) {\n",
              "      requirejs.config({paths});\n",
              "      require([\"vega-embed\"], displayChart, err => showError(`Error loading script: ${err.message}`));\n",
              "    } else {\n",
              "      maybeLoadScript(\"vega\", \"5\")\n",
              "        .then(() => maybeLoadScript(\"vega-lite\", \"4.17.0\"))\n",
              "        .then(() => maybeLoadScript(\"vega-embed\", \"6\"))\n",
              "        .catch(showError)\n",
              "        .then(() => displayChart(vegaEmbed));\n",
              "    }\n",
              "  })({\"config\": {\"view\": {\"continuousWidth\": 400, \"continuousHeight\": 300}}, \"data\": {\"name\": \"data-f7d70a58e60e3d992be7a95aaf8a7fad\"}, \"mark\": {\"type\": \"circle\", \"opacity\": 0.8, \"stroke\": \"black\", \"strokeWidth\": 1}, \"encoding\": {\"color\": {\"field\": \"market\", \"legend\": null, \"type\": \"nominal\"}, \"size\": {\"field\": \"count\", \"legend\": {\"title\": \"Number of Unicorns\"}, \"scale\": {\"range\": [0, 4000]}, \"type\": \"quantitative\"}, \"tooltip\": [{\"field\": \"market\", \"type\": \"nominal\"}, {\"field\": \"count\", \"type\": \"quantitative\"}], \"x\": {\"axis\": {\"labelAngle\": 0}, \"field\": \"successful rate\", \"title\": \"Successful Rate\", \"type\": \"ordinal\"}, \"y\": {\"field\": \"market\", \"title\": \"Market\", \"type\": \"nominal\"}}, \"height\": 500, \"selection\": {\"selector012\": {\"type\": \"interval\", \"bind\": \"scales\", \"encodings\": [\"x\", \"y\"]}}, \"title\": \"In which markets the startups have higher possibility to become an unicorn?\", \"width\": 600, \"$schema\": \"https://vega.github.io/schema/vega-lite/v4.17.0.json\", \"datasets\": {\"data-f7d70a58e60e3d992be7a95aaf8a7fad\": [{\"market\": \"Restaurants\", \"count\": 3, \"successful rate\": 0.056}, {\"market\": \"Marketplaces\", \"count\": 4, \"successful rate\": 0.024}, {\"market\": \"SaaS\", \"count\": 3, \"successful rate\": 0.014}, {\"market\": \"E-Commerce\", \"count\": 12, \"successful rate\": 0.009}, {\"market\": \"EnterpriseSoftware\", \"count\": 9, \"successful rate\": 0.009}, {\"market\": \"Analytics\", \"count\": 4, \"successful rate\": 0.008}, {\"market\": \"Security\", \"count\": 3, \"successful rate\": 0.008}, {\"market\": \"Education\", \"count\": 4, \"successful rate\": 0.006}, {\"market\": \"CuratedWeb\", \"count\": 6, \"successful rate\": 0.005}, {\"market\": \"Finance\", \"count\": 3, \"successful rate\": 0.005}, {\"market\": \"Mobile\", \"count\": 8, \"successful rate\": 0.005}, {\"market\": \"Software\", \"count\": 14, \"successful rate\": 0.004}, {\"market\": \"Biotechnology\", \"count\": 3, \"successful rate\": 0.001}]}}, {\"mode\": \"vega-lite\"});\n",
              "</script>"
            ]
          },
          "metadata": {},
          "execution_count": 46
        }
      ]
    },
    {
      "cell_type": "code",
      "metadata": {
        "id": "6XT2WHAVJBIk"
      },
      "source": [
        "def Unicorn_Funding(df):\n",
        "  status_fund = df.groupby('market')['funding_total_usd'].mean()\n",
        "  # status_fund = df.groupby('market')['funding_total_usd'].median()\n",
        "  status_fund = status_fund.reset_index().sort_values(by=\"funding_total_usd\",ascending = False)\n",
        "  status_fund.rename({'market': 'Market','funding_total_usd': 'Average_Funding'}, axis=1, inplace=True)\n",
        "  \n",
        "  status_fund_plt = alt.Chart(status_fund, title = 'What are the avergae funding in differnent market').mark_bar().encode(\n",
        "                    alt.X('market:N', axis=alt.Axis(title=None, labels=False), sort=alt.EncodingSortField(order='descending')),\n",
        "                    alt.Y('Average_Funding:Q', title = 'Average Funding in USD'),\n",
        "                    column = 'Market:N',\n",
        "                    color = 'Market:N',\n",
        "                    tooltip = ['Market', 'Average_Funding']\n",
        "                    ).properties(width=70, height=300).interactive()\n",
        "  return status_fund_plt"
      ],
      "execution_count": 47,
      "outputs": []
    },
    {
      "cell_type": "code",
      "metadata": {
        "colab": {
          "base_uri": "https://localhost:8080/",
          "height": 524
        },
        "id": "ed0HntsFJBIk",
        "outputId": "0054fac7-1772-486a-89f8-4544ec579c03"
      },
      "source": [
        "Unicorn_Funding(df_unicorn)"
      ],
      "execution_count": 48,
      "outputs": [
        {
          "output_type": "execute_result",
          "data": {
            "text/plain": [
              "alt.Chart(...)"
            ],
            "text/html": [
              "\n",
              "<div id=\"altair-viz-0358a5f8f7244d0eb9c5cece5a06c26e\"></div>\n",
              "<script type=\"text/javascript\">\n",
              "  var VEGA_DEBUG = (typeof VEGA_DEBUG == \"undefined\") ? {} : VEGA_DEBUG;\n",
              "  (function(spec, embedOpt){\n",
              "    let outputDiv = document.currentScript.previousElementSibling;\n",
              "    if (outputDiv.id !== \"altair-viz-0358a5f8f7244d0eb9c5cece5a06c26e\") {\n",
              "      outputDiv = document.getElementById(\"altair-viz-0358a5f8f7244d0eb9c5cece5a06c26e\");\n",
              "    }\n",
              "    const paths = {\n",
              "      \"vega\": \"https://cdn.jsdelivr.net/npm//vega@5?noext\",\n",
              "      \"vega-lib\": \"https://cdn.jsdelivr.net/npm//vega-lib?noext\",\n",
              "      \"vega-lite\": \"https://cdn.jsdelivr.net/npm//vega-lite@4.17.0?noext\",\n",
              "      \"vega-embed\": \"https://cdn.jsdelivr.net/npm//vega-embed@6?noext\",\n",
              "    };\n",
              "\n",
              "    function maybeLoadScript(lib, version) {\n",
              "      var key = `${lib.replace(\"-\", \"\")}_version`;\n",
              "      return (VEGA_DEBUG[key] == version) ?\n",
              "        Promise.resolve(paths[lib]) :\n",
              "        new Promise(function(resolve, reject) {\n",
              "          var s = document.createElement('script');\n",
              "          document.getElementsByTagName(\"head\")[0].appendChild(s);\n",
              "          s.async = true;\n",
              "          s.onload = () => {\n",
              "            VEGA_DEBUG[key] = version;\n",
              "            return resolve(paths[lib]);\n",
              "          };\n",
              "          s.onerror = () => reject(`Error loading script: ${paths[lib]}`);\n",
              "          s.src = paths[lib];\n",
              "        });\n",
              "    }\n",
              "\n",
              "    function showError(err) {\n",
              "      outputDiv.innerHTML = `<div class=\"error\" style=\"color:red;\">${err}</div>`;\n",
              "      throw err;\n",
              "    }\n",
              "\n",
              "    function displayChart(vegaEmbed) {\n",
              "      vegaEmbed(outputDiv, spec, embedOpt)\n",
              "        .catch(err => showError(`Javascript Error: ${err.message}<br>This usually means there's a typo in your chart specification. See the javascript console for the full traceback.`));\n",
              "    }\n",
              "\n",
              "    if(typeof define === \"function\" && define.amd) {\n",
              "      requirejs.config({paths});\n",
              "      require([\"vega-embed\"], displayChart, err => showError(`Error loading script: ${err.message}`));\n",
              "    } else {\n",
              "      maybeLoadScript(\"vega\", \"5\")\n",
              "        .then(() => maybeLoadScript(\"vega-lite\", \"4.17.0\"))\n",
              "        .then(() => maybeLoadScript(\"vega-embed\", \"6\"))\n",
              "        .catch(showError)\n",
              "        .then(() => displayChart(vegaEmbed));\n",
              "    }\n",
              "  })({\"config\": {\"view\": {\"continuousWidth\": 400, \"continuousHeight\": 300}}, \"data\": {\"name\": \"data-c1459b4cccf8048a07b32c0d8a7399f8\"}, \"mark\": \"bar\", \"encoding\": {\"color\": {\"field\": \"Market\", \"type\": \"nominal\"}, \"column\": {\"field\": \"Market\", \"type\": \"nominal\"}, \"tooltip\": [{\"field\": \"Market\", \"type\": \"nominal\"}, {\"field\": \"Average_Funding\", \"type\": \"quantitative\"}], \"x\": {\"axis\": {\"labels\": false, \"title\": null}, \"field\": \"market\", \"sort\": {\"order\": \"descending\"}, \"type\": \"nominal\"}, \"y\": {\"field\": \"Average_Funding\", \"title\": \"Average Funding in USD\", \"type\": \"quantitative\"}}, \"height\": 300, \"selection\": {\"selector013\": {\"type\": \"interval\", \"bind\": \"scales\", \"encodings\": [\"x\", \"y\"]}}, \"title\": \"What are the avergae funding in differnent market\", \"width\": 70, \"$schema\": \"https://vega.github.io/schema/vega-lite/v4.17.0.json\", \"datasets\": {\"data-c1459b4cccf8048a07b32c0d8a7399f8\": [{\"Market\": \"Video\", \"Average_Funding\": 592000000.0}, {\"Market\": \"VideoStreaming\", \"Average_Funding\": 580000000.0}, {\"Market\": \"WebCMS\", \"Average_Funding\": 317300000.0}, {\"Market\": \"Biotechnology\", \"Average_Funding\": 223673951.66666666}, {\"Market\": \"Nanotechnology\", \"Average_Funding\": 211725149.0}, {\"Market\": \"E-Commerce\", \"Average_Funding\": 210612738.25}, {\"Market\": \"Technology\", \"Average_Funding\": 195000000.0}, {\"Market\": \"CreditCards\", \"Average_Funding\": 190000000.0}, {\"Market\": \"SemanticSearch\", \"Average_Funding\": 161000000.0}, {\"Market\": \"Entertainment\", \"Average_Funding\": 149300000.0}, {\"Market\": \"Legal\", \"Average_Funding\": 137560000.0}, {\"Market\": \"Retail\", \"Average_Funding\": 115500000.0}, {\"Market\": \"Transportation\", \"Average_Funding\": 110000000.0}, {\"Market\": \"Sports\", \"Average_Funding\": 107632220.0}, {\"Market\": \"Privacy\", \"Average_Funding\": 100200000.0}, {\"Market\": \"MedicalDevices\", \"Average_Funding\": 93400000.0}, {\"Market\": \"CuratedWeb\", \"Average_Funding\": 78037218.16666667}, {\"Market\": \"SocialCRM\", \"Average_Funding\": 77500000.0}, {\"Market\": \"Storage\", \"Average_Funding\": 67000000.0}, {\"Market\": \"Geospatial\", \"Average_Funding\": 65100000.0}, {\"Market\": \"SocialRecruiting\", \"Average_Funding\": 63000000.0}, {\"Market\": \"Telecommunications\", \"Average_Funding\": 56000000.0}, {\"Market\": \"PaaS\", \"Average_Funding\": 55750000.0}, {\"Market\": \"Mobile\", \"Average_Funding\": 52089110.0}, {\"Market\": \"HealthCare\", \"Average_Funding\": 51220001.0}, {\"Market\": \"Security\", \"Average_Funding\": 50073333.333333336}, {\"Market\": \"HumanResources\", \"Average_Funding\": 45300000.0}, {\"Market\": \"Marketplaces\", \"Average_Funding\": 44306262.5}, {\"Market\": \"FreetoPlayGaming\", \"Average_Funding\": 43500000.0}, {\"Market\": \"Education\", \"Average_Funding\": 42914043.5}, {\"Market\": \"SupplyChainManagement\", \"Average_Funding\": 42500000.0}, {\"Market\": \"CloudComputing\", \"Average_Funding\": 40205800.0}, {\"Market\": \"Hospitality\", \"Average_Funding\": 39772877.0}, {\"Market\": \"EnterpriseSoftware\", \"Average_Funding\": 35225610.777777776}, {\"Market\": \"ProductDesign\", \"Average_Funding\": 35200000.0}, {\"Market\": \"Search\", \"Average_Funding\": 34700000.0}, {\"Market\": \"iOS\", \"Average_Funding\": 34600000.0}, {\"Market\": \"InformationTechnology\", \"Average_Funding\": 34499960.0}, {\"Market\": \"Software\", \"Average_Funding\": 33007864.14285714}, {\"Market\": \"Virtualization\", \"Average_Funding\": 32372075.0}, {\"Market\": \"Analytics\", \"Average_Funding\": 30704000.0}, {\"Market\": \"Bitcoin\", \"Average_Funding\": 26000000.0}, {\"Market\": \"PersonalFinance\", \"Average_Funding\": 23854795.0}, {\"Market\": \"Finance\", \"Average_Funding\": 23433333.333333332}, {\"Market\": \"3DPrinting\", \"Average_Funding\": 22300000.0}, {\"Market\": \"Apps\", \"Average_Funding\": 22100000.0}, {\"Market\": \"SharedServices\", \"Average_Funding\": 18000000.0}, {\"Market\": \"Crowdsourcing\", \"Average_Funding\": 17393000.0}, {\"Market\": \"Music\", \"Average_Funding\": 17100000.0}, {\"Market\": \"DataPrivacy\", \"Average_Funding\": 16665000.0}, {\"Market\": \"HealthandWellness\", \"Average_Funding\": 15000000.0}, {\"Market\": \"Taxis\", \"Average_Funding\": 15000000.0}, {\"Market\": \"SalesAutomation\", \"Average_Funding\": 13409000.0}, {\"Market\": \"SocialCommerce\", \"Average_Funding\": 13000000.0}, {\"Market\": \"IaaS\", \"Average_Funding\": 13000000.0}, {\"Market\": \"FlashStorage\", \"Average_Funding\": 11000000.0}, {\"Market\": \"MobilePayments\", \"Average_Funding\": 10500000.0}, {\"Market\": \"WebHosting\", \"Average_Funding\": 7250000.0}, {\"Market\": \"Design\", \"Average_Funding\": 6955000.0}, {\"Market\": \"SaaS\", \"Average_Funding\": 6400000.0}, {\"Market\": \"Restaurants\", \"Average_Funding\": 6216666.666666667}, {\"Market\": \"SocialMedia\", \"Average_Funding\": 5000000.0}, {\"Market\": \"Film\", \"Average_Funding\": 5000000.0}, {\"Market\": \"ITandCybersecurity\", \"Average_Funding\": 4600000.0}, {\"Market\": \"FoodProcessing\", \"Average_Funding\": 4585753.0}, {\"Market\": \"Games\", \"Average_Funding\": 4000000.0}, {\"Market\": \"MobileEnterprise\", \"Average_Funding\": 3220000.0}, {\"Market\": \"PublicRelations\", \"Average_Funding\": 3000000.0}, {\"Market\": \"PublicTransportation\", \"Average_Funding\": 2300000.0}, {\"Market\": \"Messaging\", \"Average_Funding\": 2000000.0}, {\"Market\": \"Personalization\", \"Average_Funding\": 1000000.0}, {\"Market\": \"CustomerService\", \"Average_Funding\": 500000.0}, {\"Market\": \"SalesandMarketing\", \"Average_Funding\": 0.0}]}}, {\"mode\": \"vega-lite\"});\n",
              "</script>"
            ]
          },
          "metadata": {},
          "execution_count": 48
        }
      ]
    },
    {
      "cell_type": "code",
      "metadata": {
        "colab": {
          "base_uri": "https://localhost:8080/",
          "height": 568
        },
        "id": "1G8_P32uJBIk",
        "outputId": "df8d4516-3394-4cd8-b9bd-4b77f7df593f"
      },
      "source": [
        "result = alt.Chart(df_unicorn.drop('founded_year_range', 1)).mark_point().encode(\n",
        "      x='funding_rounds:Q',\n",
        "      y='funding_total_usd:Q',\n",
        "      color='market:N',\n",
        "      tooltip=['name','market','funding_total_usd','funding_rounds','founded_year']\n",
        "  ).properties(title=\"\",width=600,height=500).interactive()\n",
        "result.encoding.x.title = 'Funding_Rounds'\n",
        "result.encoding.y.title = 'Funding_Total' \n",
        "\n",
        "\n",
        "\n",
        "result"
      ],
      "execution_count": 49,
      "outputs": [
        {
          "output_type": "execute_result",
          "data": {
            "text/plain": [
              "alt.Chart(...)"
            ],
            "text/html": [
              "\n",
              "<div id=\"altair-viz-f77ee44677c34884b5baab0ad9254d9d\"></div>\n",
              "<script type=\"text/javascript\">\n",
              "  var VEGA_DEBUG = (typeof VEGA_DEBUG == \"undefined\") ? {} : VEGA_DEBUG;\n",
              "  (function(spec, embedOpt){\n",
              "    let outputDiv = document.currentScript.previousElementSibling;\n",
              "    if (outputDiv.id !== \"altair-viz-f77ee44677c34884b5baab0ad9254d9d\") {\n",
              "      outputDiv = document.getElementById(\"altair-viz-f77ee44677c34884b5baab0ad9254d9d\");\n",
              "    }\n",
              "    const paths = {\n",
              "      \"vega\": \"https://cdn.jsdelivr.net/npm//vega@5?noext\",\n",
              "      \"vega-lib\": \"https://cdn.jsdelivr.net/npm//vega-lib?noext\",\n",
              "      \"vega-lite\": \"https://cdn.jsdelivr.net/npm//vega-lite@4.17.0?noext\",\n",
              "      \"vega-embed\": \"https://cdn.jsdelivr.net/npm//vega-embed@6?noext\",\n",
              "    };\n",
              "\n",
              "    function maybeLoadScript(lib, version) {\n",
              "      var key = `${lib.replace(\"-\", \"\")}_version`;\n",
              "      return (VEGA_DEBUG[key] == version) ?\n",
              "        Promise.resolve(paths[lib]) :\n",
              "        new Promise(function(resolve, reject) {\n",
              "          var s = document.createElement('script');\n",
              "          document.getElementsByTagName(\"head\")[0].appendChild(s);\n",
              "          s.async = true;\n",
              "          s.onload = () => {\n",
              "            VEGA_DEBUG[key] = version;\n",
              "            return resolve(paths[lib]);\n",
              "          };\n",
              "          s.onerror = () => reject(`Error loading script: ${paths[lib]}`);\n",
              "          s.src = paths[lib];\n",
              "        });\n",
              "    }\n",
              "\n",
              "    function showError(err) {\n",
              "      outputDiv.innerHTML = `<div class=\"error\" style=\"color:red;\">${err}</div>`;\n",
              "      throw err;\n",
              "    }\n",
              "\n",
              "    function displayChart(vegaEmbed) {\n",
              "      vegaEmbed(outputDiv, spec, embedOpt)\n",
              "        .catch(err => showError(`Javascript Error: ${err.message}<br>This usually means there's a typo in your chart specification. See the javascript console for the full traceback.`));\n",
              "    }\n",
              "\n",
              "    if(typeof define === \"function\" && define.amd) {\n",
              "      requirejs.config({paths});\n",
              "      require([\"vega-embed\"], displayChart, err => showError(`Error loading script: ${err.message}`));\n",
              "    } else {\n",
              "      maybeLoadScript(\"vega\", \"5\")\n",
              "        .then(() => maybeLoadScript(\"vega-lite\", \"4.17.0\"))\n",
              "        .then(() => maybeLoadScript(\"vega-embed\", \"6\"))\n",
              "        .catch(showError)\n",
              "        .then(() => displayChart(vegaEmbed));\n",
              "    }\n",
              "  })({\"config\": {\"view\": {\"continuousWidth\": 400, \"continuousHeight\": 300}}, \"data\": {\"name\": \"data-89e847a1a2d9a69d62a10f6f8c85a77a\"}, \"mark\": \"point\", \"encoding\": {\"color\": {\"field\": \"market\", \"type\": \"nominal\"}, \"tooltip\": [{\"field\": \"name\", \"type\": \"nominal\"}, {\"field\": \"market\", \"type\": \"nominal\"}, {\"field\": \"funding_total_usd\", \"type\": \"quantitative\"}, {\"field\": \"funding_rounds\", \"type\": \"quantitative\"}, {\"field\": \"founded_year\", \"type\": \"quantitative\"}], \"x\": {\"field\": \"funding_rounds\", \"title\": \"Funding_Rounds\", \"type\": \"quantitative\"}, \"y\": {\"field\": \"funding_total_usd\", \"title\": \"Funding_Total\", \"type\": \"quantitative\"}}, \"height\": 500, \"selection\": {\"selector014\": {\"type\": \"interval\", \"bind\": \"scales\", \"encodings\": [\"x\", \"y\"]}}, \"title\": \"\", \"width\": 600, \"$schema\": \"https://vega.github.io/schema/vega-lite/v4.17.0.json\", \"datasets\": {\"data-89e847a1a2d9a69d62a10f6f8c85a77a\": [{\"name\": \"Acronis\", \"category_list\": \"|Homeland Security|Storage|Flash Storage|Web Hosting|\", \"market\": \"FlashStorage\", \"funding_total_usd\": 11000000.0, \"status\": \"operating\", \"country_code\": \"SGP\", \"state_code\": null, \"region\": \"Singapore\", \"funding_rounds\": 1.0, \"founded_at\": \"2002-01-01\", \"founded_month\": \"2002-01\", \"founded_year\": 2002.0, \"first_funding_at\": \"2004-01-01\", \"last_funding_at\": \"2004-01-01\", \"seed\": 0.0, \"venture\": 11000000.0, \"equity_crowdfunding\": 0.0, \"undisclosed\": 0.0, \"convertible_note\": 0.0, \"debt_financing\": 0.0, \"angel\": 0.0, \"grant\": 0.0, \"private_equity\": 0.0, \"post_ipo_equity\": 0.0, \"post_ipo_debt\": 0.0, \"secondary_market\": 0.0, \"product_crowdfunding\": 0.0, \"round_A\": 0.0, \"round_B\": 0.0, \"round_C\": 0.0, \"round_D\": 0.0, \"round_E\": 0.0, \"round_F\": 0.0, \"round_G\": 0.0, \"round_H\": 0.0, \"lasting_year\": 12.0, \"Status_acquired\": 0, \"Status_closed\": 0, \"Status_operating\": 1, \"if_ipo\": 0, \"month\": 1.0, \"if_jan\": 1, \"found_fund_diff\": 730.0, \"fir_end_diff\": 0.0, \"new_market\": \"Others\", \"new_country\": \"Others\"}, {\"name\": \"Age of Learning\", \"category_list\": \"|Education|\", \"market\": \"Education\", \"funding_total_usd\": 31500000.0, \"status\": \"operating\", \"country_code\": \"USA\", \"state_code\": \"CA\", \"region\": \"Los Angeles\", \"funding_rounds\": 2.0, \"founded_at\": \"2007-01-01\", \"founded_month\": \"2007-01\", \"founded_year\": 2007.0, \"first_funding_at\": \"2011-06-17\", \"last_funding_at\": \"2012-04-12\", \"seed\": 0.0, \"venture\": 0.0, \"equity_crowdfunding\": 0.0, \"undisclosed\": 0.0, \"convertible_note\": 0.0, \"debt_financing\": 31500000.0, \"angel\": 0.0, \"grant\": 0.0, \"private_equity\": 0.0, \"post_ipo_equity\": 0.0, \"post_ipo_debt\": 0.0, \"secondary_market\": 0.0, \"product_crowdfunding\": 0.0, \"round_A\": 0.0, \"round_B\": 0.0, \"round_C\": 0.0, \"round_D\": 0.0, \"round_E\": 0.0, \"round_F\": 0.0, \"round_G\": 0.0, \"round_H\": 0.0, \"lasting_year\": 7.0, \"Status_acquired\": 0, \"Status_closed\": 0, \"Status_operating\": 1, \"if_ipo\": 0, \"month\": 1.0, \"if_jan\": 1, \"found_fund_diff\": 1628.0, \"fir_end_diff\": 300.0, \"new_market\": \"Education\", \"new_country\": \"USA\"}, {\"name\": \"Aledade\", \"category_list\": \"|Hospitality|Health Care|\", \"market\": \"HealthCare\", \"funding_total_usd\": 4500000.0, \"status\": \"operating\", \"country_code\": \"USA\", \"state_code\": \"MD\", \"region\": \"Washington, D.C.\", \"funding_rounds\": 1.0, \"founded_at\": \"2014-01-01\", \"founded_month\": \"2014-01\", \"founded_year\": 2014.0, \"first_funding_at\": \"2014-06-18\", \"last_funding_at\": \"2014-06-18\", \"seed\": 0.0, \"venture\": 4500000.0, \"equity_crowdfunding\": 0.0, \"undisclosed\": 0.0, \"convertible_note\": 0.0, \"debt_financing\": 0.0, \"angel\": 0.0, \"grant\": 0.0, \"private_equity\": 0.0, \"post_ipo_equity\": 0.0, \"post_ipo_debt\": 0.0, \"secondary_market\": 0.0, \"product_crowdfunding\": 0.0, \"round_A\": 0.0, \"round_B\": 0.0, \"round_C\": 0.0, \"round_D\": 0.0, \"round_E\": 0.0, \"round_F\": 0.0, \"round_G\": 0.0, \"round_H\": 0.0, \"lasting_year\": 0.0, \"Status_acquired\": 0, \"Status_closed\": 0, \"Status_operating\": 1, \"if_ipo\": 0, \"month\": 1.0, \"if_jan\": 1, \"found_fund_diff\": 168.0, \"fir_end_diff\": 0.0, \"new_market\": \"Others\", \"new_country\": \"USA\"}, {\"name\": \"Alkami Technology\", \"category_list\": \"|Financial Services|Software|\", \"market\": \"Software\", \"funding_total_usd\": 43000000.0, \"status\": \"operating\", \"country_code\": \"USA\", \"state_code\": \"TX\", \"region\": \"Dallas\", \"funding_rounds\": 4.0, \"founded_at\": \"2009-11-01\", \"founded_month\": \"2009-11\", \"founded_year\": 2009.0, \"first_funding_at\": \"2011-09-06\", \"last_funding_at\": \"2014-10-30\", \"seed\": 0.0, \"venture\": 43000000.0, \"equity_crowdfunding\": 0.0, \"undisclosed\": 0.0, \"convertible_note\": 0.0, \"debt_financing\": 0.0, \"angel\": 0.0, \"grant\": 0.0, \"private_equity\": 0.0, \"post_ipo_equity\": 0.0, \"post_ipo_debt\": 0.0, \"secondary_market\": 0.0, \"product_crowdfunding\": 0.0, \"round_A\": 8500000.0, \"round_B\": 13800000.0, \"round_C\": 0.0, \"round_D\": 0.0, \"round_E\": 0.0, \"round_F\": 0.0, \"round_G\": 0.0, \"round_H\": 0.0, \"lasting_year\": 5.0, \"Status_acquired\": 0, \"Status_closed\": 0, \"Status_operating\": 1, \"if_ipo\": 0, \"month\": 11.0, \"if_jan\": 0, \"found_fund_diff\": 674.0, \"fir_end_diff\": 1150.0, \"new_market\": \"Software\", \"new_country\": \"USA\"}, {\"name\": \"AppDirect\", \"category_list\": \"|Apps|PaaS|IaaS|SaaS|Enterprise Software|\", \"market\": \"PaaS\", \"funding_total_usd\": 55750000.0, \"status\": \"operating\", \"country_code\": \"USA\", \"state_code\": \"CA\", \"region\": \"SF Bay Area\", \"funding_rounds\": 4.0, \"founded_at\": \"2009-07-17\", \"founded_month\": \"2009-07\", \"founded_year\": 2009.0, \"first_funding_at\": \"2011-04-28\", \"last_funding_at\": \"2014-04-10\", \"seed\": 3250000.0, \"venture\": 52500000.0, \"equity_crowdfunding\": 0.0, \"undisclosed\": 0.0, \"convertible_note\": 0.0, \"debt_financing\": 0.0, \"angel\": 0.0, \"grant\": 0.0, \"private_equity\": 0.0, \"post_ipo_equity\": 0.0, \"post_ipo_debt\": 0.0, \"secondary_market\": 0.0, \"product_crowdfunding\": 0.0, \"round_A\": 8500000.0, \"round_B\": 9000000.0, \"round_C\": 35000000.0, \"round_D\": 0.0, \"round_E\": 0.0, \"round_F\": 0.0, \"round_G\": 0.0, \"round_H\": 0.0, \"lasting_year\": 5.0, \"Status_acquired\": 0, \"Status_closed\": 0, \"Status_operating\": 1, \"if_ipo\": 0, \"month\": 7.0, \"if_jan\": 0, \"found_fund_diff\": 650.0, \"fir_end_diff\": 1078.0, \"new_market\": \"Others\", \"new_country\": \"USA\"}, {\"name\": \"AppLovin\", \"category_list\": \"|Mobile Commerce|Ad Targeting|Apps|\", \"market\": \"Apps\", \"funding_total_usd\": 4000000.0, \"status\": \"operating\", \"country_code\": \"USA\", \"state_code\": \"CA\", \"region\": \"SF Bay Area\", \"funding_rounds\": 2.0, \"founded_at\": \"2012-03-01\", \"founded_month\": \"2012-03\", \"founded_year\": 2012.0, \"first_funding_at\": \"2012-12-05\", \"last_funding_at\": \"2014-07-31\", \"seed\": 4000000.0, \"venture\": 0.0, \"equity_crowdfunding\": 0.0, \"undisclosed\": 0.0, \"convertible_note\": 0.0, \"debt_financing\": 0.0, \"angel\": 0.0, \"grant\": 0.0, \"private_equity\": 0.0, \"post_ipo_equity\": 0.0, \"post_ipo_debt\": 0.0, \"secondary_market\": 0.0, \"product_crowdfunding\": 0.0, \"round_A\": 0.0, \"round_B\": 0.0, \"round_C\": 0.0, \"round_D\": 0.0, \"round_E\": 0.0, \"round_F\": 0.0, \"round_G\": 0.0, \"round_H\": 0.0, \"lasting_year\": 2.0, \"Status_acquired\": 0, \"Status_closed\": 0, \"Status_operating\": 1, \"if_ipo\": 0, \"month\": 3.0, \"if_jan\": 0, \"found_fund_diff\": 279.0, \"fir_end_diff\": 603.0, \"new_market\": \"Others\", \"new_country\": \"USA\"}, {\"name\": \"AppsFlyer\", \"category_list\": \"|Sales and Marketing|Android|Apps|App Stores|iOS|Mobile|Advertising|\", \"market\": \"Mobile\", \"funding_total_usd\": 7100000.0, \"status\": \"operating\", \"country_code\": \"USA\", \"state_code\": \"NY\", \"region\": \"New York City\", \"funding_rounds\": 3.0, \"founded_at\": \"2011-04-01\", \"founded_month\": \"2011-04\", \"founded_year\": 2011.0, \"first_funding_at\": \"2012-01-01\", \"last_funding_at\": \"2014-03-05\", \"seed\": 0.0, \"venture\": 7100000.0, \"equity_crowdfunding\": 0.0, \"undisclosed\": 0.0, \"convertible_note\": 0.0, \"debt_financing\": 0.0, \"angel\": 0.0, \"grant\": 0.0, \"private_equity\": 0.0, \"post_ipo_equity\": 0.0, \"post_ipo_debt\": 0.0, \"secondary_market\": 0.0, \"product_crowdfunding\": 0.0, \"round_A\": 7100000.0, \"round_B\": 0.0, \"round_C\": 0.0, \"round_D\": 0.0, \"round_E\": 0.0, \"round_F\": 0.0, \"round_G\": 0.0, \"round_H\": 0.0, \"lasting_year\": 3.0, \"Status_acquired\": 0, \"Status_closed\": 0, \"Status_operating\": 1, \"if_ipo\": 0, \"month\": 4.0, \"if_jan\": 0, \"found_fund_diff\": 275.0, \"fir_end_diff\": 794.0, \"new_market\": \"Mobile\", \"new_country\": \"USA\"}, {\"name\": \"Arctic Wolf Networks\", \"category_list\": \"|Network Security|Web Hosting|\", \"market\": \"WebHosting\", \"funding_total_usd\": 7250000.0, \"status\": \"operating\", \"country_code\": \"CAN\", \"state_code\": \"ON\", \"region\": \"Toronto\", \"funding_rounds\": 1.0, \"founded_at\": \"2012-01-01\", \"founded_month\": \"2012-01\", \"founded_year\": 2012.0, \"first_funding_at\": \"2012-05-01\", \"last_funding_at\": \"2012-05-01\", \"seed\": 0.0, \"venture\": 7250000.0, \"equity_crowdfunding\": 0.0, \"undisclosed\": 0.0, \"convertible_note\": 0.0, \"debt_financing\": 0.0, \"angel\": 0.0, \"grant\": 0.0, \"private_equity\": 0.0, \"post_ipo_equity\": 0.0, \"post_ipo_debt\": 0.0, \"secondary_market\": 0.0, \"product_crowdfunding\": 0.0, \"round_A\": 7250000.0, \"round_B\": 0.0, \"round_C\": 0.0, \"round_D\": 0.0, \"round_E\": 0.0, \"round_F\": 0.0, \"round_G\": 0.0, \"round_H\": 0.0, \"lasting_year\": 2.0, \"Status_acquired\": 0, \"Status_closed\": 0, \"Status_operating\": 1, \"if_ipo\": 0, \"month\": 1.0, \"if_jan\": 1, \"found_fund_diff\": 121.0, \"fir_end_diff\": 0.0, \"new_market\": \"Others\", \"new_country\": \"Others\"}, {\"name\": \"Automattic\", \"category_list\": \"|Web CMS|Content|Forums|Blogging Platforms|Curated Web|\", \"market\": \"WebCMS\", \"funding_total_usd\": 317300000.0, \"status\": \"operating\", \"country_code\": \"USA\", \"state_code\": \"CA\", \"region\": \"SF Bay Area\", \"funding_rounds\": 5.0, \"founded_at\": \"2005-07-01\", \"founded_month\": \"2005-07\", \"founded_year\": 2005.0, \"first_funding_at\": \"2005-10-01\", \"last_funding_at\": \"2014-05-05\", \"seed\": 0.0, \"venture\": 190600000.0, \"equity_crowdfunding\": 0.0, \"undisclosed\": 0.0, \"convertible_note\": 0.0, \"debt_financing\": 0.0, \"angel\": 0.0, \"grant\": 0.0, \"private_equity\": 0.0, \"post_ipo_equity\": 0.0, \"post_ipo_debt\": 0.0, \"secondary_market\": 126700000.0, \"product_crowdfunding\": 0.0, \"round_A\": 1100000.0, \"round_B\": 29500000.0, \"round_C\": 160000000.0, \"round_D\": 0.0, \"round_E\": 0.0, \"round_F\": 0.0, \"round_G\": 0.0, \"round_H\": 0.0, \"lasting_year\": 9.0, \"Status_acquired\": 0, \"Status_closed\": 0, \"Status_operating\": 1, \"if_ipo\": 1, \"month\": 7.0, \"if_jan\": 0, \"found_fund_diff\": 92.0, \"fir_end_diff\": 3138.0, \"new_market\": \"Others\", \"new_country\": \"USA\"}, {\"name\": \"BlaBlaCar\", \"category_list\": \"|Transportation|Peer-to-Peer|Collaborative Consumption|Travel|\", \"market\": \"Transportation\", \"funding_total_usd\": 110000000.0, \"status\": \"operating\", \"country_code\": null, \"state_code\": null, \"region\": null, \"funding_rounds\": 2.0, \"founded_at\": \"2006-01-01\", \"founded_month\": \"2006-01\", \"founded_year\": 2006.0, \"first_funding_at\": \"2012-01-16\", \"last_funding_at\": \"2014-07-01\", \"seed\": 0.0, \"venture\": 110000000.0, \"equity_crowdfunding\": 0.0, \"undisclosed\": 0.0, \"convertible_note\": 0.0, \"debt_financing\": 0.0, \"angel\": 0.0, \"grant\": 0.0, \"private_equity\": 0.0, \"post_ipo_equity\": 0.0, \"post_ipo_debt\": 0.0, \"secondary_market\": 0.0, \"product_crowdfunding\": 0.0, \"round_A\": 0.0, \"round_B\": 10000000.0, \"round_C\": 100000000.0, \"round_D\": 0.0, \"round_E\": 0.0, \"round_F\": 0.0, \"round_G\": 0.0, \"round_H\": 0.0, \"lasting_year\": 8.0, \"Status_acquired\": 0, \"Status_closed\": 0, \"Status_operating\": 1, \"if_ipo\": 0, \"month\": 1.0, \"if_jan\": 1, \"found_fund_diff\": 2206.0, \"fir_end_diff\": 897.0, \"new_market\": \"Others\", \"new_country\": \"Others\"}, {\"name\": \"Branch\", \"category_list\": \"|Messaging|Curated Web|\", \"market\": \"Messaging\", \"funding_total_usd\": 2000000.0, \"status\": \"acquired\", \"country_code\": \"USA\", \"state_code\": \"NY\", \"region\": \"New York City\", \"funding_rounds\": 1.0, \"founded_at\": \"2011-09-01\", \"founded_month\": \"2011-09\", \"founded_year\": 2011.0, \"first_funding_at\": \"2012-03-06\", \"last_funding_at\": \"2012-03-06\", \"seed\": 2000000.0, \"venture\": 0.0, \"equity_crowdfunding\": 0.0, \"undisclosed\": 0.0, \"convertible_note\": 0.0, \"debt_financing\": 0.0, \"angel\": 0.0, \"grant\": 0.0, \"private_equity\": 0.0, \"post_ipo_equity\": 0.0, \"post_ipo_debt\": 0.0, \"secondary_market\": 0.0, \"product_crowdfunding\": 0.0, \"round_A\": 0.0, \"round_B\": 0.0, \"round_C\": 0.0, \"round_D\": 0.0, \"round_E\": 0.0, \"round_F\": 0.0, \"round_G\": 0.0, \"round_H\": 0.0, \"lasting_year\": 3.0, \"Status_acquired\": 1, \"Status_closed\": 0, \"Status_operating\": 0, \"if_ipo\": 0, \"month\": 9.0, \"if_jan\": 0, \"found_fund_diff\": 187.0, \"fir_end_diff\": 0.0, \"new_market\": \"Others\", \"new_country\": \"USA\"}, {\"name\": \"BrewDog\", \"category_list\": \"|Hospitality|\", \"market\": \"Hospitality\", \"funding_total_usd\": 4545754.0, \"status\": \"operating\", \"country_code\": \"GBR\", \"state_code\": null, \"region\": \"Aberdeenshire\", \"funding_rounds\": 1.0, \"founded_at\": \"2007-04-01\", \"founded_month\": \"2007-04\", \"founded_year\": 2007.0, \"first_funding_at\": \"2013-09-03\", \"last_funding_at\": \"2013-09-03\", \"seed\": 0.0, \"venture\": 0.0, \"equity_crowdfunding\": 0.0, \"undisclosed\": 0.0, \"convertible_note\": 0.0, \"debt_financing\": 0.0, \"angel\": 0.0, \"grant\": 0.0, \"private_equity\": 0.0, \"post_ipo_equity\": 0.0, \"post_ipo_debt\": 0.0, \"secondary_market\": 0.0, \"product_crowdfunding\": 4545754.0, \"round_A\": 0.0, \"round_B\": 0.0, \"round_C\": 0.0, \"round_D\": 0.0, \"round_E\": 0.0, \"round_F\": 0.0, \"round_G\": 0.0, \"round_H\": 0.0, \"lasting_year\": 7.0, \"Status_acquired\": 0, \"Status_closed\": 0, \"Status_operating\": 1, \"if_ipo\": 0, \"month\": 4.0, \"if_jan\": 0, \"found_fund_diff\": 2347.0, \"fir_end_diff\": 0.0, \"new_market\": \"Others\", \"new_country\": \"GBR\"}, {\"name\": \"C2FO\", \"category_list\": \"|Finance|B2B|Marketplaces|Hardware + Software|Enterprise Software|SaaS|Software|\", \"market\": \"Finance\", \"funding_total_usd\": 30700000.0, \"status\": \"operating\", \"country_code\": \"USA\", \"state_code\": \"KS\", \"region\": \"KS - Other\", \"funding_rounds\": 3.0, \"founded_at\": \"2008-02-01\", \"founded_month\": \"2008-02\", \"founded_year\": 2008.0, \"first_funding_at\": \"2011-03-08\", \"last_funding_at\": \"2013-07-23\", \"seed\": 0.0, \"venture\": 30700000.0, \"equity_crowdfunding\": 0.0, \"undisclosed\": 0.0, \"convertible_note\": 0.0, \"debt_financing\": 0.0, \"angel\": 0.0, \"grant\": 0.0, \"private_equity\": 0.0, \"post_ipo_equity\": 0.0, \"post_ipo_debt\": 0.0, \"secondary_market\": 0.0, \"product_crowdfunding\": 0.0, \"round_A\": 3600000.0, \"round_B\": 9100000.0, \"round_C\": 18000000.0, \"round_D\": 0.0, \"round_E\": 0.0, \"round_F\": 0.0, \"round_G\": 0.0, \"round_H\": 0.0, \"lasting_year\": 6.0, \"Status_acquired\": 0, \"Status_closed\": 0, \"Status_operating\": 1, \"if_ipo\": 0, \"month\": 2.0, \"if_jan\": 0, \"found_fund_diff\": 1131.0, \"fir_end_diff\": 868.0, \"new_market\": \"Others\", \"new_country\": \"USA\"}, {\"name\": \"Cabify\", \"category_list\": \"|Taxis|Internet|Mobile|\", \"market\": \"Taxis\", \"funding_total_usd\": 15000000.0, \"status\": \"operating\", \"country_code\": \"ESP\", \"state_code\": null, \"region\": \"Madrid\", \"funding_rounds\": 3.0, \"founded_at\": \"2011-12-01\", \"founded_month\": \"2011-12\", \"founded_year\": 2011.0, \"first_funding_at\": \"2012-09-16\", \"last_funding_at\": \"2014-10-16\", \"seed\": 3000000.0, \"venture\": 12000000.0, \"equity_crowdfunding\": 0.0, \"undisclosed\": 0.0, \"convertible_note\": 0.0, \"debt_financing\": 0.0, \"angel\": 0.0, \"grant\": 0.0, \"private_equity\": 0.0, \"post_ipo_equity\": 0.0, \"post_ipo_debt\": 0.0, \"secondary_market\": 0.0, \"product_crowdfunding\": 0.0, \"round_A\": 8000000.0, \"round_B\": 4000000.0, \"round_C\": 0.0, \"round_D\": 0.0, \"round_E\": 0.0, \"round_F\": 0.0, \"round_G\": 0.0, \"round_H\": 0.0, \"lasting_year\": 3.0, \"Status_acquired\": 0, \"Status_closed\": 0, \"Status_operating\": 1, \"if_ipo\": 0, \"month\": 12.0, \"if_jan\": 0, \"found_fund_diff\": 290.0, \"fir_end_diff\": 760.0, \"new_market\": \"Others\", \"new_country\": \"Others\"}, {\"name\": \"Calm\", \"category_list\": \"|Curated Web|\", \"market\": \"CuratedWeb\", \"funding_total_usd\": 1043000.0, \"status\": \"operating\", \"country_code\": \"USA\", \"state_code\": \"CA\", \"region\": \"SF Bay Area\", \"funding_rounds\": 2.0, \"founded_at\": \"2012-05-04\", \"founded_month\": \"2012-05\", \"founded_year\": 2012.0, \"first_funding_at\": \"2013-02-26\", \"last_funding_at\": \"2014-06-18\", \"seed\": 1043000.0, \"venture\": 0.0, \"equity_crowdfunding\": 0.0, \"undisclosed\": 0.0, \"convertible_note\": 0.0, \"debt_financing\": 0.0, \"angel\": 0.0, \"grant\": 0.0, \"private_equity\": 0.0, \"post_ipo_equity\": 0.0, \"post_ipo_debt\": 0.0, \"secondary_market\": 0.0, \"product_crowdfunding\": 0.0, \"round_A\": 0.0, \"round_B\": 0.0, \"round_C\": 0.0, \"round_D\": 0.0, \"round_E\": 0.0, \"round_F\": 0.0, \"round_G\": 0.0, \"round_H\": 0.0, \"lasting_year\": 2.0, \"Status_acquired\": 0, \"Status_closed\": 0, \"Status_operating\": 1, \"if_ipo\": 0, \"month\": 5.0, \"if_jan\": 0, \"found_fund_diff\": 298.0, \"fir_end_diff\": 477.0, \"new_market\": \"CuratedWeb\", \"new_country\": \"USA\"}, {\"name\": \"Canva\", \"category_list\": \"|Design|\", \"market\": \"Design\", \"funding_total_usd\": 6955000.0, \"status\": \"operating\", \"country_code\": \"AUS\", \"state_code\": null, \"region\": \"Sydney\", \"funding_rounds\": 4.0, \"founded_at\": \"2012-01-01\", \"founded_month\": \"2012-01\", \"founded_year\": 2012.0, \"first_funding_at\": \"2013-03-08\", \"last_funding_at\": \"2014-07-21\", \"seed\": 3000000.0, \"venture\": 3600000.0, \"equity_crowdfunding\": 0.0, \"undisclosed\": 0.0, \"convertible_note\": 0.0, \"debt_financing\": 355000.0, \"angel\": 0.0, \"grant\": 0.0, \"private_equity\": 0.0, \"post_ipo_equity\": 0.0, \"post_ipo_debt\": 0.0, \"secondary_market\": 0.0, \"product_crowdfunding\": 0.0, \"round_A\": 3600000.0, \"round_B\": 0.0, \"round_C\": 0.0, \"round_D\": 0.0, \"round_E\": 0.0, \"round_F\": 0.0, \"round_G\": 0.0, \"round_H\": 0.0, \"lasting_year\": 2.0, \"Status_acquired\": 0, \"Status_closed\": 0, \"Status_operating\": 1, \"if_ipo\": 0, \"month\": 1.0, \"if_jan\": 1, \"found_fund_diff\": 432.0, \"fir_end_diff\": 500.0, \"new_market\": \"Others\", \"new_country\": \"Others\"}, {\"name\": \"Checkr\", \"category_list\": \"|Software|Legal|\", \"market\": \"Legal\", \"funding_total_usd\": 9120000.0, \"status\": \"operating\", \"country_code\": null, \"state_code\": null, \"region\": null, \"funding_rounds\": 2.0, \"founded_at\": \"2014-01-01\", \"founded_month\": \"2014-01\", \"founded_year\": 2014.0, \"first_funding_at\": \"2014-07-16\", \"last_funding_at\": \"2014-10-14\", \"seed\": 120000.0, \"venture\": 9000000.0, \"equity_crowdfunding\": 0.0, \"undisclosed\": 0.0, \"convertible_note\": 0.0, \"debt_financing\": 0.0, \"angel\": 0.0, \"grant\": 0.0, \"private_equity\": 0.0, \"post_ipo_equity\": 0.0, \"post_ipo_debt\": 0.0, \"secondary_market\": 0.0, \"product_crowdfunding\": 0.0, \"round_A\": 9000000.0, \"round_B\": 0.0, \"round_C\": 0.0, \"round_D\": 0.0, \"round_E\": 0.0, \"round_F\": 0.0, \"round_G\": 0.0, \"round_H\": 0.0, \"lasting_year\": 0.0, \"Status_acquired\": 0, \"Status_closed\": 0, \"Status_operating\": 1, \"if_ipo\": 0, \"month\": 1.0, \"if_jan\": 1, \"found_fund_diff\": 196.0, \"fir_end_diff\": 90.0, \"new_market\": \"Others\", \"new_country\": \"Others\"}, {\"name\": \"Chime\", \"category_list\": \"|Payments|Mobile|E-Commerce|Mobile Payments|\", \"market\": \"Mobile\", \"funding_total_usd\": 8000000.0, \"status\": \"operating\", \"country_code\": \"USA\", \"state_code\": \"CA\", \"region\": \"SF Bay Area\", \"funding_rounds\": 1.0, \"founded_at\": \"2013-01-01\", \"founded_month\": \"2013-01\", \"founded_year\": 2013.0, \"first_funding_at\": \"2014-11-05\", \"last_funding_at\": \"2014-11-05\", \"seed\": 0.0, \"venture\": 8000000.0, \"equity_crowdfunding\": 0.0, \"undisclosed\": 0.0, \"convertible_note\": 0.0, \"debt_financing\": 0.0, \"angel\": 0.0, \"grant\": 0.0, \"private_equity\": 0.0, \"post_ipo_equity\": 0.0, \"post_ipo_debt\": 0.0, \"secondary_market\": 0.0, \"product_crowdfunding\": 0.0, \"round_A\": 0.0, \"round_B\": 0.0, \"round_C\": 0.0, \"round_D\": 0.0, \"round_E\": 0.0, \"round_F\": 0.0, \"round_G\": 0.0, \"round_H\": 0.0, \"lasting_year\": 1.0, \"Status_acquired\": 0, \"Status_closed\": 0, \"Status_operating\": 1, \"if_ipo\": 0, \"month\": 1.0, \"if_jan\": 1, \"found_fund_diff\": 673.0, \"fir_end_diff\": 0.0, \"new_market\": \"Mobile\", \"new_country\": \"USA\"}, {\"name\": \"Circle Internet Financial\", \"category_list\": \"|Bitcoin|\", \"market\": \"Bitcoin\", \"funding_total_usd\": 26000000.0, \"status\": \"operating\", \"country_code\": \"USA\", \"state_code\": \"MA\", \"region\": \"Boston\", \"funding_rounds\": 2.0, \"founded_at\": \"2013-01-01\", \"founded_month\": \"2013-01\", \"founded_year\": 2013.0, \"first_funding_at\": \"2013-10-30\", \"last_funding_at\": \"2014-03-26\", \"seed\": 0.0, \"venture\": 26000000.0, \"equity_crowdfunding\": 0.0, \"undisclosed\": 0.0, \"convertible_note\": 0.0, \"debt_financing\": 0.0, \"angel\": 0.0, \"grant\": 0.0, \"private_equity\": 0.0, \"post_ipo_equity\": 0.0, \"post_ipo_debt\": 0.0, \"secondary_market\": 0.0, \"product_crowdfunding\": 0.0, \"round_A\": 9000000.0, \"round_B\": 17000000.0, \"round_C\": 0.0, \"round_D\": 0.0, \"round_E\": 0.0, \"round_F\": 0.0, \"round_G\": 0.0, \"round_H\": 0.0, \"lasting_year\": 1.0, \"Status_acquired\": 0, \"Status_closed\": 0, \"Status_operating\": 1, \"if_ipo\": 0, \"month\": 1.0, \"if_jan\": 1, \"found_fund_diff\": 302.0, \"fir_end_diff\": 147.0, \"new_market\": \"Others\", \"new_country\": \"USA\"}, {\"name\": \"Clari\", \"category_list\": \"|Enterprise Software|Productivity Software|Big Data|Social CRM|CRM|Mobile Software Tools|Cloud Data Services|Direct Sales|Sales Automation|Sales and Marketing|Mobile|\", \"market\": \"SalesAutomation\", \"funding_total_usd\": 26000000.0, \"status\": \"operating\", \"country_code\": \"USA\", \"state_code\": \"CA\", \"region\": \"SF Bay Area\", \"funding_rounds\": 2.0, \"founded_at\": \"2012-01-01\", \"founded_month\": \"2012-01\", \"founded_year\": 2012.0, \"first_funding_at\": \"2014-04-03\", \"last_funding_at\": \"2014-06-17\", \"seed\": 0.0, \"venture\": 26000000.0, \"equity_crowdfunding\": 0.0, \"undisclosed\": 0.0, \"convertible_note\": 0.0, \"debt_financing\": 0.0, \"angel\": 0.0, \"grant\": 0.0, \"private_equity\": 0.0, \"post_ipo_equity\": 0.0, \"post_ipo_debt\": 0.0, \"secondary_market\": 0.0, \"product_crowdfunding\": 0.0, \"round_A\": 6000000.0, \"round_B\": 20000000.0, \"round_C\": 0.0, \"round_D\": 0.0, \"round_E\": 0.0, \"round_F\": 0.0, \"round_G\": 0.0, \"round_H\": 0.0, \"lasting_year\": 2.0, \"Status_acquired\": 0, \"Status_closed\": 0, \"Status_operating\": 1, \"if_ipo\": 0, \"month\": 1.0, \"if_jan\": 1, \"found_fund_diff\": 823.0, \"fir_end_diff\": 75.0, \"new_market\": \"Others\", \"new_country\": \"USA\"}, {\"name\": \"Coinbase\", \"category_list\": \"|Personal Finance|Bitcoin|E-Commerce|\", \"market\": \"PersonalFinance\", \"funding_total_usd\": 31709590.0, \"status\": \"operating\", \"country_code\": \"USA\", \"state_code\": \"CA\", \"region\": \"SF Bay Area\", \"funding_rounds\": 3.0, \"founded_at\": \"2012-06-01\", \"founded_month\": \"2012-06\", \"founded_year\": 2012.0, \"first_funding_at\": \"2012-09-12\", \"last_funding_at\": \"2013-12-12\", \"seed\": 600000.0, \"venture\": 31109590.0, \"equity_crowdfunding\": 0.0, \"undisclosed\": 0.0, \"convertible_note\": 0.0, \"debt_financing\": 0.0, \"angel\": 0.0, \"grant\": 0.0, \"private_equity\": 0.0, \"post_ipo_equity\": 0.0, \"post_ipo_debt\": 0.0, \"secondary_market\": 0.0, \"product_crowdfunding\": 0.0, \"round_A\": 6109590.0, \"round_B\": 25000000.0, \"round_C\": 0.0, \"round_D\": 0.0, \"round_E\": 0.0, \"round_F\": 0.0, \"round_G\": 0.0, \"round_H\": 0.0, \"lasting_year\": 2.0, \"Status_acquired\": 0, \"Status_closed\": 0, \"Status_operating\": 1, \"if_ipo\": 0, \"month\": 6.0, \"if_jan\": 0, \"found_fund_diff\": 103.0, \"fir_end_diff\": 456.0, \"new_market\": \"Others\", \"new_country\": \"USA\"}, {\"name\": \"Collective Health\", \"category_list\": \"|Software|\", \"market\": \"Software\", \"funding_total_usd\": 0.0, \"status\": \"operating\", \"country_code\": \"USA\", \"state_code\": \"CA\", \"region\": \"SF Bay Area\", \"funding_rounds\": 2.0, \"founded_at\": \"2013-01-01\", \"founded_month\": \"2013-01\", \"founded_year\": 2013.0, \"first_funding_at\": \"2014-01-31\", \"last_funding_at\": \"2014-08-12\", \"seed\": 0.0, \"venture\": 0.0, \"equity_crowdfunding\": 0.0, \"undisclosed\": 0.0, \"convertible_note\": 0.0, \"debt_financing\": 0.0, \"angel\": 0.0, \"grant\": 0.0, \"private_equity\": 0.0, \"post_ipo_equity\": 0.0, \"post_ipo_debt\": 0.0, \"secondary_market\": 0.0, \"product_crowdfunding\": 0.0, \"round_A\": 0.0, \"round_B\": 0.0, \"round_C\": 0.0, \"round_D\": 0.0, \"round_E\": 0.0, \"round_F\": 0.0, \"round_G\": 0.0, \"round_H\": 0.0, \"lasting_year\": 1.0, \"Status_acquired\": 0, \"Status_closed\": 0, \"Status_operating\": 1, \"if_ipo\": 0, \"month\": 1.0, \"if_jan\": 1, \"found_fund_diff\": 395.0, \"fir_end_diff\": 193.0, \"new_market\": \"Software\", \"new_country\": \"USA\"}, {\"name\": \"Compass\", \"category_list\": \"|Marketplaces|\", \"market\": \"Marketplaces\", \"funding_total_usd\": 0.0, \"status\": \"operating\", \"country_code\": \"USA\", \"state_code\": \"CA\", \"region\": \"Los Angeles\", \"funding_rounds\": 1.0, \"founded_at\": \"2010-05-07\", \"founded_month\": \"2010-05\", \"founded_year\": 2010.0, \"first_funding_at\": \"2013-01-21\", \"last_funding_at\": \"2013-01-21\", \"seed\": 0.0, \"venture\": 0.0, \"equity_crowdfunding\": 0.0, \"undisclosed\": 0.0, \"convertible_note\": 0.0, \"debt_financing\": 0.0, \"angel\": 0.0, \"grant\": 0.0, \"private_equity\": 0.0, \"post_ipo_equity\": 0.0, \"post_ipo_debt\": 0.0, \"secondary_market\": 0.0, \"product_crowdfunding\": 0.0, \"round_A\": 0.0, \"round_B\": 0.0, \"round_C\": 0.0, \"round_D\": 0.0, \"round_E\": 0.0, \"round_F\": 0.0, \"round_G\": 0.0, \"round_H\": 0.0, \"lasting_year\": 4.0, \"Status_acquired\": 0, \"Status_closed\": 0, \"Status_operating\": 1, \"if_ipo\": 0, \"month\": 5.0, \"if_jan\": 0, \"found_fund_diff\": 990.0, \"fir_end_diff\": 0.0, \"new_market\": \"Marketplaces\", \"new_country\": \"USA\"}, {\"name\": \"Course Hero\", \"category_list\": \"|Marketplaces|Crowdsourcing|Education|\", \"market\": \"Crowdsourcing\", \"funding_total_usd\": 17393000.0, \"status\": \"operating\", \"country_code\": \"USA\", \"state_code\": \"CA\", \"region\": \"SF Bay Area\", \"funding_rounds\": 6.0, \"founded_at\": \"2006-10-01\", \"founded_month\": \"2006-10\", \"founded_year\": 2006.0, \"first_funding_at\": \"2006-10-31\", \"last_funding_at\": \"2014-11-11\", \"seed\": 2183000.0, \"venture\": 15000000.0, \"equity_crowdfunding\": 0.0, \"undisclosed\": 0.0, \"convertible_note\": 0.0, \"debt_financing\": 0.0, \"angel\": 210000.0, \"grant\": 0.0, \"private_equity\": 0.0, \"post_ipo_equity\": 0.0, \"post_ipo_debt\": 0.0, \"secondary_market\": 0.0, \"product_crowdfunding\": 0.0, \"round_A\": 15000000.0, \"round_B\": 0.0, \"round_C\": 0.0, \"round_D\": 0.0, \"round_E\": 0.0, \"round_F\": 0.0, \"round_G\": 0.0, \"round_H\": 0.0, \"lasting_year\": 8.0, \"Status_acquired\": 0, \"Status_closed\": 0, \"Status_operating\": 1, \"if_ipo\": 0, \"month\": 10.0, \"if_jan\": 0, \"found_fund_diff\": 30.0, \"fir_end_diff\": 2933.0, \"new_market\": \"Others\", \"new_country\": \"USA\"}, {\"name\": \"Coursera\", \"category_list\": \"|Education|\", \"market\": \"Education\", \"funding_total_usd\": 85000000.0, \"status\": \"operating\", \"country_code\": \"USA\", \"state_code\": \"CA\", \"region\": \"SF Bay Area\", \"funding_rounds\": 4.0, \"founded_at\": \"2012-01-01\", \"founded_month\": \"2012-01\", \"founded_year\": 2012.0, \"first_funding_at\": \"2012-04-18\", \"last_funding_at\": \"2013-11-24\", \"seed\": 0.0, \"venture\": 85000000.0, \"equity_crowdfunding\": 0.0, \"undisclosed\": 0.0, \"convertible_note\": 0.0, \"debt_financing\": 0.0, \"angel\": 0.0, \"grant\": 0.0, \"private_equity\": 0.0, \"post_ipo_equity\": 0.0, \"post_ipo_debt\": 0.0, \"secondary_market\": 0.0, \"product_crowdfunding\": 0.0, \"round_A\": 6000000.0, \"round_B\": 63000000.0, \"round_C\": 0.0, \"round_D\": 0.0, \"round_E\": 0.0, \"round_F\": 0.0, \"round_G\": 0.0, \"round_H\": 0.0, \"lasting_year\": 2.0, \"Status_acquired\": 0, \"Status_closed\": 0, \"Status_operating\": 1, \"if_ipo\": 0, \"month\": 1.0, \"if_jan\": 1, \"found_fund_diff\": 108.0, \"fir_end_diff\": 585.0, \"new_market\": \"Education\", \"new_country\": \"USA\"}, {\"name\": \"Coveo\", \"category_list\": \"|Search|Enterprise Software|\", \"market\": \"Search\", \"funding_total_usd\": 34700000.0, \"status\": \"operating\", \"country_code\": \"USA\", \"state_code\": \"IL\", \"region\": \"Chicago\", \"funding_rounds\": 4.0, \"founded_at\": \"2005-01-01\", \"founded_month\": \"2005-01\", \"founded_year\": 2005.0, \"first_funding_at\": \"2006-10-25\", \"last_funding_at\": \"2012-12-10\", \"seed\": 0.0, \"venture\": 34700000.0, \"equity_crowdfunding\": 0.0, \"undisclosed\": 0.0, \"convertible_note\": 0.0, \"debt_financing\": 0.0, \"angel\": 0.0, \"grant\": 0.0, \"private_equity\": 0.0, \"post_ipo_equity\": 0.0, \"post_ipo_debt\": 0.0, \"secondary_market\": 0.0, \"product_crowdfunding\": 0.0, \"round_A\": 8500000.0, \"round_B\": 8200000.0, \"round_C\": 0.0, \"round_D\": 0.0, \"round_E\": 0.0, \"round_F\": 0.0, \"round_G\": 0.0, \"round_H\": 0.0, \"lasting_year\": 9.0, \"Status_acquired\": 0, \"Status_closed\": 0, \"Status_operating\": 1, \"if_ipo\": 0, \"month\": 1.0, \"if_jan\": 1, \"found_fund_diff\": 662.0, \"fir_end_diff\": 2238.0, \"new_market\": \"Others\", \"new_country\": \"USA\"}, {\"name\": \"Cybereason\", \"category_list\": \"|Cyber Security|IT and Cybersecurity|\", \"market\": \"ITandCybersecurity\", \"funding_total_usd\": 4600000.0, \"status\": \"operating\", \"country_code\": \"USA\", \"state_code\": \"MA\", \"region\": \"Boston\", \"funding_rounds\": 1.0, \"founded_at\": \"2012-01-01\", \"founded_month\": \"2012-01\", \"founded_year\": 2012.0, \"first_funding_at\": \"2014-02-11\", \"last_funding_at\": \"2014-02-11\", \"seed\": 0.0, \"venture\": 4600000.0, \"equity_crowdfunding\": 0.0, \"undisclosed\": 0.0, \"convertible_note\": 0.0, \"debt_financing\": 0.0, \"angel\": 0.0, \"grant\": 0.0, \"private_equity\": 0.0, \"post_ipo_equity\": 0.0, \"post_ipo_debt\": 0.0, \"secondary_market\": 0.0, \"product_crowdfunding\": 0.0, \"round_A\": 4600000.0, \"round_B\": 0.0, \"round_C\": 0.0, \"round_D\": 0.0, \"round_E\": 0.0, \"round_F\": 0.0, \"round_G\": 0.0, \"round_H\": 0.0, \"lasting_year\": 2.0, \"Status_acquired\": 0, \"Status_closed\": 0, \"Status_operating\": 1, \"if_ipo\": 0, \"month\": 1.0, \"if_jan\": 1, \"found_fund_diff\": 772.0, \"fir_end_diff\": 0.0, \"new_market\": \"Others\", \"new_country\": \"USA\"}, {\"name\": \"Databricks\", \"category_list\": \"|Analytics|\", \"market\": \"Analytics\", \"funding_total_usd\": 47000000.0, \"status\": \"operating\", \"country_code\": \"USA\", \"state_code\": \"CA\", \"region\": \"SF Bay Area\", \"funding_rounds\": 2.0, \"founded_at\": \"2013-01-01\", \"founded_month\": \"2013-01\", \"founded_year\": 2013.0, \"first_funding_at\": \"2013-09-25\", \"last_funding_at\": \"2014-06-30\", \"seed\": 0.0, \"venture\": 47000000.0, \"equity_crowdfunding\": 0.0, \"undisclosed\": 0.0, \"convertible_note\": 0.0, \"debt_financing\": 0.0, \"angel\": 0.0, \"grant\": 0.0, \"private_equity\": 0.0, \"post_ipo_equity\": 0.0, \"post_ipo_debt\": 0.0, \"secondary_market\": 0.0, \"product_crowdfunding\": 0.0, \"round_A\": 0.0, \"round_B\": 33000000.0, \"round_C\": 0.0, \"round_D\": 0.0, \"round_E\": 0.0, \"round_F\": 0.0, \"round_G\": 0.0, \"round_H\": 0.0, \"lasting_year\": 1.0, \"Status_acquired\": 0, \"Status_closed\": 0, \"Status_operating\": 1, \"if_ipo\": 0, \"month\": 1.0, \"if_jan\": 1, \"found_fund_diff\": 267.0, \"fir_end_diff\": 278.0, \"new_market\": \"Analytics\", \"new_country\": \"USA\"}, {\"name\": \"Dataminr\", \"category_list\": \"|Analytics|\", \"market\": \"Analytics\", \"funding_total_usd\": 49566000.0, \"status\": \"operating\", \"country_code\": \"USA\", \"state_code\": \"NY\", \"region\": \"New York City\", \"funding_rounds\": 4.0, \"founded_at\": \"2009-01-01\", \"founded_month\": \"2009-01\", \"founded_year\": 2009.0, \"first_funding_at\": \"2010-08-17\", \"last_funding_at\": \"2013-06-12\", \"seed\": 0.0, \"venture\": 49566000.0, \"equity_crowdfunding\": 0.0, \"undisclosed\": 0.0, \"convertible_note\": 0.0, \"debt_financing\": 0.0, \"angel\": 0.0, \"grant\": 0.0, \"private_equity\": 0.0, \"post_ipo_equity\": 0.0, \"post_ipo_debt\": 0.0, \"secondary_market\": 0.0, \"product_crowdfunding\": 0.0, \"round_A\": 1086000.0, \"round_B\": 16500000.0, \"round_C\": 30000000.0, \"round_D\": 0.0, \"round_E\": 0.0, \"round_F\": 0.0, \"round_G\": 0.0, \"round_H\": 0.0, \"lasting_year\": 5.0, \"Status_acquired\": 0, \"Status_closed\": 0, \"Status_operating\": 1, \"if_ipo\": 0, \"month\": 1.0, \"if_jan\": 1, \"found_fund_diff\": 593.0, \"fir_end_diff\": 1030.0, \"new_market\": \"Analytics\", \"new_country\": \"USA\"}, {\"name\": \"DataRobot\", \"category_list\": \"|Enterprise Software|\", \"market\": \"EnterpriseSoftware\", \"funding_total_usd\": 24418000.0, \"status\": \"operating\", \"country_code\": \"USA\", \"state_code\": \"MA\", \"region\": \"Boston\", \"funding_rounds\": 3.0, \"founded_at\": \"2012-06-01\", \"founded_month\": \"2012-06\", \"founded_year\": 2012.0, \"first_funding_at\": \"2013-01-14\", \"last_funding_at\": \"2014-08-15\", \"seed\": 3418000.0, \"venture\": 21000000.0, \"equity_crowdfunding\": 0.0, \"undisclosed\": 0.0, \"convertible_note\": 0.0, \"debt_financing\": 0.0, \"angel\": 0.0, \"grant\": 0.0, \"private_equity\": 0.0, \"post_ipo_equity\": 0.0, \"post_ipo_debt\": 0.0, \"secondary_market\": 0.0, \"product_crowdfunding\": 0.0, \"round_A\": 21000000.0, \"round_B\": 0.0, \"round_C\": 0.0, \"round_D\": 0.0, \"round_E\": 0.0, \"round_F\": 0.0, \"round_G\": 0.0, \"round_H\": 0.0, \"lasting_year\": 2.0, \"Status_acquired\": 0, \"Status_closed\": 0, \"Status_operating\": 1, \"if_ipo\": 0, \"month\": 6.0, \"if_jan\": 0, \"found_fund_diff\": 227.0, \"fir_end_diff\": 578.0, \"new_market\": \"EnterpriseSoftware\", \"new_country\": \"USA\"}, {\"name\": \"Deezer\", \"category_list\": \"|Entertainment|Journalism|Facebook Applications|Social Media|File Sharing|Web Development|Music|\", \"market\": \"Entertainment\", \"funding_total_usd\": 149300000.0, \"status\": \"operating\", \"country_code\": \"FRA\", \"state_code\": null, \"region\": \"Paris\", \"funding_rounds\": 3.0, \"founded_at\": \"2006-08-01\", \"founded_month\": \"2006-08\", \"founded_year\": 2006.0, \"first_funding_at\": \"2008-07-01\", \"last_funding_at\": \"2012-10-07\", \"seed\": 0.0, \"venture\": 149300000.0, \"equity_crowdfunding\": 0.0, \"undisclosed\": 0.0, \"convertible_note\": 0.0, \"debt_financing\": 0.0, \"angel\": 0.0, \"grant\": 0.0, \"private_equity\": 0.0, \"post_ipo_equity\": 0.0, \"post_ipo_debt\": 0.0, \"secondary_market\": 0.0, \"product_crowdfunding\": 0.0, \"round_A\": 6800000.0, \"round_B\": 12500000.0, \"round_C\": 0.0, \"round_D\": 130000000.0, \"round_E\": 0.0, \"round_F\": 0.0, \"round_G\": 0.0, \"round_H\": 0.0, \"lasting_year\": 8.0, \"Status_acquired\": 0, \"Status_closed\": 0, \"Status_operating\": 1, \"if_ipo\": 0, \"month\": 8.0, \"if_jan\": 0, \"found_fund_diff\": 700.0, \"fir_end_diff\": 1559.0, \"new_market\": \"Others\", \"new_country\": \"FRA\"}, {\"name\": \"Delhivery\", \"category_list\": \"|Logistics|Supply Chain Management|\", \"market\": \"SupplyChainManagement\", \"funding_total_usd\": 42500000.0, \"status\": \"operating\", \"country_code\": \"IND\", \"state_code\": null, \"region\": \"New Delhi\", \"funding_rounds\": 3.0, \"founded_at\": \"2011-01-01\", \"founded_month\": \"2011-01\", \"founded_year\": 2011.0, \"first_funding_at\": \"2012-08-01\", \"last_funding_at\": \"2014-09-08\", \"seed\": 0.0, \"venture\": 42500000.0, \"equity_crowdfunding\": 0.0, \"undisclosed\": 0.0, \"convertible_note\": 0.0, \"debt_financing\": 0.0, \"angel\": 0.0, \"grant\": 0.0, \"private_equity\": 0.0, \"post_ipo_equity\": 0.0, \"post_ipo_debt\": 0.0, \"secondary_market\": 0.0, \"product_crowdfunding\": 0.0, \"round_A\": 1500000.0, \"round_B\": 6000000.0, \"round_C\": 35000000.0, \"round_D\": 0.0, \"round_E\": 0.0, \"round_F\": 0.0, \"round_G\": 0.0, \"round_H\": 0.0, \"lasting_year\": 3.0, \"Status_acquired\": 0, \"Status_closed\": 0, \"Status_operating\": 1, \"if_ipo\": 0, \"month\": 1.0, \"if_jan\": 1, \"found_fund_diff\": 578.0, \"fir_end_diff\": 768.0, \"new_market\": \"Others\", \"new_country\": \"IND\"}, {\"name\": \"Deliveroo\", \"category_list\": \"|Food Processing|\", \"market\": \"FoodProcessing\", \"funding_total_usd\": 4585753.0, \"status\": \"operating\", \"country_code\": \"GBR\", \"state_code\": null, \"region\": \"London\", \"funding_rounds\": 1.0, \"founded_at\": \"2012-01-01\", \"founded_month\": \"2012-01\", \"founded_year\": 2012.0, \"first_funding_at\": \"2014-06-26\", \"last_funding_at\": \"2014-06-26\", \"seed\": 0.0, \"venture\": 4585753.0, \"equity_crowdfunding\": 0.0, \"undisclosed\": 0.0, \"convertible_note\": 0.0, \"debt_financing\": 0.0, \"angel\": 0.0, \"grant\": 0.0, \"private_equity\": 0.0, \"post_ipo_equity\": 0.0, \"post_ipo_debt\": 0.0, \"secondary_market\": 0.0, \"product_crowdfunding\": 0.0, \"round_A\": 4585753.0, \"round_B\": 0.0, \"round_C\": 0.0, \"round_D\": 0.0, \"round_E\": 0.0, \"round_F\": 0.0, \"round_G\": 0.0, \"round_H\": 0.0, \"lasting_year\": 2.0, \"Status_acquired\": 0, \"Status_closed\": 0, \"Status_operating\": 1, \"if_ipo\": 0, \"month\": 1.0, \"if_jan\": 1, \"found_fund_diff\": 907.0, \"fir_end_diff\": 0.0, \"new_market\": \"Others\", \"new_country\": \"GBR\"}, {\"name\": \"DigitalOcean\", \"category_list\": \"|Finance|Virtualization|Networking|Cloud Computing|Web Hosting|\", \"market\": \"CloudComputing\", \"funding_total_usd\": 40205800.0, \"status\": \"operating\", \"country_code\": \"USA\", \"state_code\": \"NY\", \"region\": \"New York City\", \"funding_rounds\": 4.0, \"founded_at\": \"2011-06-24\", \"founded_month\": \"2011-06\", \"founded_year\": 2011.0, \"first_funding_at\": \"2012-05-17\", \"last_funding_at\": \"2014-03-06\", \"seed\": 3205800.0, \"venture\": 37000000.0, \"equity_crowdfunding\": 0.0, \"undisclosed\": 0.0, \"convertible_note\": 0.0, \"debt_financing\": 0.0, \"angel\": 0.0, \"grant\": 0.0, \"private_equity\": 0.0, \"post_ipo_equity\": 0.0, \"post_ipo_debt\": 0.0, \"secondary_market\": 0.0, \"product_crowdfunding\": 0.0, \"round_A\": 37000000.0, \"round_B\": 0.0, \"round_C\": 0.0, \"round_D\": 0.0, \"round_E\": 0.0, \"round_F\": 0.0, \"round_G\": 0.0, \"round_H\": 0.0, \"lasting_year\": 3.0, \"Status_acquired\": 0, \"Status_closed\": 0, \"Status_operating\": 1, \"if_ipo\": 0, \"month\": 6.0, \"if_jan\": 0, \"found_fund_diff\": 328.0, \"fir_end_diff\": 658.0, \"new_market\": \"Others\", \"new_country\": \"USA\"}, {\"name\": \"Doctolib\", \"category_list\": \"|Dental|Doctors|Curated Web|\", \"market\": \"CuratedWeb\", \"funding_total_usd\": 6362409.0, \"status\": \"operating\", \"country_code\": \"FRA\", \"state_code\": null, \"region\": \"Paris\", \"funding_rounds\": 2.0, \"founded_at\": \"2013-10-01\", \"founded_month\": \"2013-10\", \"founded_year\": 2013.0, \"first_funding_at\": \"2014-01-01\", \"last_funding_at\": \"2014-11-25\", \"seed\": 0.0, \"venture\": 6362409.0, \"equity_crowdfunding\": 0.0, \"undisclosed\": 0.0, \"convertible_note\": 0.0, \"debt_financing\": 0.0, \"angel\": 0.0, \"grant\": 0.0, \"private_equity\": 0.0, \"post_ipo_equity\": 0.0, \"post_ipo_debt\": 0.0, \"secondary_market\": 0.0, \"product_crowdfunding\": 0.0, \"round_A\": 1400000.0, \"round_B\": 4962409.0, \"round_C\": 0.0, \"round_D\": 0.0, \"round_E\": 0.0, \"round_F\": 0.0, \"round_G\": 0.0, \"round_H\": 0.0, \"lasting_year\": 1.0, \"Status_acquired\": 0, \"Status_closed\": 0, \"Status_operating\": 1, \"if_ipo\": 0, \"month\": 10.0, \"if_jan\": 0, \"found_fund_diff\": 92.0, \"fir_end_diff\": 328.0, \"new_market\": \"CuratedWeb\", \"new_country\": \"FRA\"}, {\"name\": \"Druva\", \"category_list\": \"|Storage|Mobility|File Sharing|Enterprise Software|\", \"market\": \"Storage\", \"funding_total_usd\": 67000000.0, \"status\": \"operating\", \"country_code\": \"USA\", \"state_code\": \"CA\", \"region\": \"SF Bay Area\", \"funding_rounds\": 4.0, \"founded_at\": \"2008-08-02\", \"founded_month\": \"2008-08\", \"founded_year\": 2008.0, \"first_funding_at\": \"2010-04-07\", \"last_funding_at\": \"2014-08-06\", \"seed\": 0.0, \"venture\": 67000000.0, \"equity_crowdfunding\": 0.0, \"undisclosed\": 0.0, \"convertible_note\": 0.0, \"debt_financing\": 0.0, \"angel\": 0.0, \"grant\": 0.0, \"private_equity\": 0.0, \"post_ipo_equity\": 0.0, \"post_ipo_debt\": 0.0, \"secondary_market\": 0.0, \"product_crowdfunding\": 0.0, \"round_A\": 5000000.0, \"round_B\": 12000000.0, \"round_C\": 25000000.0, \"round_D\": 25000000.0, \"round_E\": 0.0, \"round_F\": 0.0, \"round_G\": 0.0, \"round_H\": 0.0, \"lasting_year\": 6.0, \"Status_acquired\": 0, \"Status_closed\": 0, \"Status_operating\": 1, \"if_ipo\": 0, \"month\": 8.0, \"if_jan\": 0, \"found_fund_diff\": 613.0, \"fir_end_diff\": 1582.0, \"new_market\": \"Others\", \"new_country\": \"USA\"}, {\"name\": \"Earnix\", \"category_list\": \"|Price Comparison|Financial Services|Banking|Insurance|Analytics|Finance|\", \"market\": \"Finance\", \"funding_total_usd\": 10000000.0, \"status\": \"operating\", \"country_code\": \"ISR\", \"state_code\": null, \"region\": \"Tel Aviv\", \"funding_rounds\": 2.0, \"founded_at\": \"2001-01-01\", \"founded_month\": \"2001-01\", \"founded_year\": 2001.0, \"first_funding_at\": \"2005-09-13\", \"last_funding_at\": \"2008-09-04\", \"seed\": 0.0, \"venture\": 7000000.0, \"equity_crowdfunding\": 0.0, \"undisclosed\": 0.0, \"convertible_note\": 0.0, \"debt_financing\": 3000000.0, \"angel\": 0.0, \"grant\": 0.0, \"private_equity\": 0.0, \"post_ipo_equity\": 0.0, \"post_ipo_debt\": 0.0, \"secondary_market\": 0.0, \"product_crowdfunding\": 0.0, \"round_A\": 0.0, \"round_B\": 7000000.0, \"round_C\": 0.0, \"round_D\": 0.0, \"round_E\": 0.0, \"round_F\": 0.0, \"round_G\": 0.0, \"round_H\": 0.0, \"lasting_year\": 13.0, \"Status_acquired\": 0, \"Status_closed\": 0, \"Status_operating\": 1, \"if_ipo\": 0, \"month\": 1.0, \"if_jan\": 1, \"found_fund_diff\": 1716.0, \"fir_end_diff\": 1087.0, \"new_market\": \"Others\", \"new_country\": \"ISR\"}, {\"name\": \"Epidemic Sound\", \"category_list\": \"|Film|Television|Music|\", \"market\": \"Film\", \"funding_total_usd\": 5000000.0, \"status\": \"operating\", \"country_code\": \"SWE\", \"state_code\": null, \"region\": \"Stockholm\", \"funding_rounds\": 1.0, \"founded_at\": \"2009-01-01\", \"founded_month\": \"2009-01\", \"founded_year\": 2009.0, \"first_funding_at\": \"2014-05-19\", \"last_funding_at\": \"2014-05-19\", \"seed\": 0.0, \"venture\": 5000000.0, \"equity_crowdfunding\": 0.0, \"undisclosed\": 0.0, \"convertible_note\": 0.0, \"debt_financing\": 0.0, \"angel\": 0.0, \"grant\": 0.0, \"private_equity\": 0.0, \"post_ipo_equity\": 0.0, \"post_ipo_debt\": 0.0, \"secondary_market\": 0.0, \"product_crowdfunding\": 0.0, \"round_A\": 5000000.0, \"round_B\": 0.0, \"round_C\": 0.0, \"round_D\": 0.0, \"round_E\": 0.0, \"round_F\": 0.0, \"round_G\": 0.0, \"round_H\": 0.0, \"lasting_year\": 5.0, \"Status_acquired\": 0, \"Status_closed\": 0, \"Status_operating\": 1, \"if_ipo\": 0, \"month\": 1.0, \"if_jan\": 1, \"found_fund_diff\": 1964.0, \"fir_end_diff\": 0.0, \"new_market\": \"Others\", \"new_country\": \"SWE\"}, {\"name\": \"ezCater\", \"category_list\": \"|Restaurants|Startups|Office Space|Hospitality|Curated Web|\", \"market\": \"Restaurants\", \"funding_total_usd\": 6790000.0, \"status\": \"operating\", \"country_code\": \"USA\", \"state_code\": \"MA\", \"region\": \"Boston\", \"funding_rounds\": 3.0, \"founded_at\": \"2007-08-01\", \"founded_month\": \"2007-08\", \"founded_year\": 2007.0, \"first_funding_at\": \"2011-10-05\", \"last_funding_at\": \"2014-04-15\", \"seed\": 630000.0, \"venture\": 6160000.0, \"equity_crowdfunding\": 0.0, \"undisclosed\": 0.0, \"convertible_note\": 0.0, \"debt_financing\": 0.0, \"angel\": 0.0, \"grant\": 0.0, \"private_equity\": 0.0, \"post_ipo_equity\": 0.0, \"post_ipo_debt\": 0.0, \"secondary_market\": 0.0, \"product_crowdfunding\": 0.0, \"round_A\": 0.0, \"round_B\": 0.0, \"round_C\": 0.0, \"round_D\": 0.0, \"round_E\": 0.0, \"round_F\": 0.0, \"round_G\": 0.0, \"round_H\": 0.0, \"lasting_year\": 7.0, \"Status_acquired\": 0, \"Status_closed\": 0, \"Status_operating\": 1, \"if_ipo\": 0, \"month\": 8.0, \"if_jan\": 0, \"found_fund_diff\": 1526.0, \"fir_end_diff\": 923.0, \"new_market\": \"Restaurants\", \"new_country\": \"USA\"}, {\"name\": \"Fanatics\", \"category_list\": \"|E-Commerce|\", \"market\": \"E-Commerce\", \"funding_total_usd\": 395000000.0, \"status\": \"acquired\", \"country_code\": \"USA\", \"state_code\": \"FL\", \"region\": \"Jacksonville\", \"funding_rounds\": 2.0, \"founded_at\": \"1995-01-01\", \"founded_month\": \"1995-01\", \"founded_year\": 1995.0, \"first_funding_at\": \"2012-06-07\", \"last_funding_at\": \"2013-06-06\", \"seed\": 0.0, \"venture\": 0.0, \"equity_crowdfunding\": 0.0, \"undisclosed\": 0.0, \"convertible_note\": 0.0, \"debt_financing\": 0.0, \"angel\": 0.0, \"grant\": 0.0, \"private_equity\": 395000000.0, \"post_ipo_equity\": 0.0, \"post_ipo_debt\": 0.0, \"secondary_market\": 0.0, \"product_crowdfunding\": 0.0, \"round_A\": 0.0, \"round_B\": 0.0, \"round_C\": 0.0, \"round_D\": 0.0, \"round_E\": 0.0, \"round_F\": 0.0, \"round_G\": 0.0, \"round_H\": 0.0, \"lasting_year\": 19.0, \"Status_acquired\": 1, \"Status_closed\": 0, \"Status_operating\": 0, \"if_ipo\": 0, \"month\": 1.0, \"if_jan\": 1, \"found_fund_diff\": 6367.0, \"fir_end_diff\": 364.0, \"new_market\": \"E-Commerce\", \"new_country\": \"USA\"}, {\"name\": \"Formlabs\", \"category_list\": \"|3D Printing|Hardware + Software|\", \"market\": \"3DPrinting\", \"funding_total_usd\": 22300000.0, \"status\": \"operating\", \"country_code\": \"USA\", \"state_code\": \"MA\", \"region\": \"Boston\", \"funding_rounds\": 3.0, \"founded_at\": \"2011-01-01\", \"founded_month\": \"2011-01\", \"founded_year\": 2011.0, \"first_funding_at\": \"2011-11-23\", \"last_funding_at\": \"2013-10-24\", \"seed\": 0.0, \"venture\": 19500000.0, \"equity_crowdfunding\": 0.0, \"undisclosed\": 0.0, \"convertible_note\": 0.0, \"debt_financing\": 0.0, \"angel\": 0.0, \"grant\": 0.0, \"private_equity\": 0.0, \"post_ipo_equity\": 0.0, \"post_ipo_debt\": 0.0, \"secondary_market\": 0.0, \"product_crowdfunding\": 2800000.0, \"round_A\": 19000000.0, \"round_B\": 0.0, \"round_C\": 0.0, \"round_D\": 0.0, \"round_E\": 0.0, \"round_F\": 0.0, \"round_G\": 0.0, \"round_H\": 0.0, \"lasting_year\": 3.0, \"Status_acquired\": 0, \"Status_closed\": 0, \"Status_operating\": 1, \"if_ipo\": 0, \"month\": 1.0, \"if_jan\": 1, \"found_fund_diff\": 326.0, \"fir_end_diff\": 701.0, \"new_market\": \"Others\", \"new_country\": \"USA\"}, {\"name\": \"Forter\", \"category_list\": \"|SaaS|Fraud Detection|Analytics|\", \"market\": \"SaaS\", \"funding_total_usd\": 18000000.0, \"status\": \"operating\", \"country_code\": \"ISR\", \"state_code\": null, \"region\": \"Tel Aviv\", \"funding_rounds\": 2.0, \"founded_at\": \"2013-07-29\", \"founded_month\": \"2013-07\", \"founded_year\": 2013.0, \"first_funding_at\": \"2014-03-25\", \"last_funding_at\": \"2014-11-11\", \"seed\": 0.0, \"venture\": 18000000.0, \"equity_crowdfunding\": 0.0, \"undisclosed\": 0.0, \"convertible_note\": 0.0, \"debt_financing\": 0.0, \"angel\": 0.0, \"grant\": 0.0, \"private_equity\": 0.0, \"post_ipo_equity\": 0.0, \"post_ipo_debt\": 0.0, \"secondary_market\": 0.0, \"product_crowdfunding\": 0.0, \"round_A\": 3000000.0, \"round_B\": 15000000.0, \"round_C\": 0.0, \"round_D\": 0.0, \"round_E\": 0.0, \"round_F\": 0.0, \"round_G\": 0.0, \"round_H\": 0.0, \"lasting_year\": 1.0, \"Status_acquired\": 0, \"Status_closed\": 0, \"Status_operating\": 1, \"if_ipo\": 0, \"month\": 7.0, \"if_jan\": 0, \"found_fund_diff\": 239.0, \"fir_end_diff\": 231.0, \"new_market\": \"SaaS\", \"new_country\": \"ISR\"}, {\"name\": \"GetYourGuide\", \"category_list\": \"|Marketplaces|Tourism|Internet|Online Travel|Travel|\", \"market\": \"Marketplaces\", \"funding_total_usd\": 45500000.0, \"status\": \"operating\", \"country_code\": \"CHE\", \"state_code\": null, \"region\": \"Zurich\", \"funding_rounds\": 4.0, \"founded_at\": \"2009-06-01\", \"founded_month\": \"2009-06\", \"founded_year\": 2009.0, \"first_funding_at\": \"2012-03-07\", \"last_funding_at\": \"2014-07-31\", \"seed\": 2000000.0, \"venture\": 43500000.0, \"equity_crowdfunding\": 0.0, \"undisclosed\": 0.0, \"convertible_note\": 0.0, \"debt_financing\": 0.0, \"angel\": 0.0, \"grant\": 0.0, \"private_equity\": 0.0, \"post_ipo_equity\": 0.0, \"post_ipo_debt\": 0.0, \"secondary_market\": 0.0, \"product_crowdfunding\": 0.0, \"round_A\": 18500000.0, \"round_B\": 25000000.0, \"round_C\": 0.0, \"round_D\": 0.0, \"round_E\": 0.0, \"round_F\": 0.0, \"round_G\": 0.0, \"round_H\": 0.0, \"lasting_year\": 5.0, \"Status_acquired\": 0, \"Status_closed\": 0, \"Status_operating\": 1, \"if_ipo\": 0, \"month\": 6.0, \"if_jan\": 0, \"found_fund_diff\": 1010.0, \"fir_end_diff\": 876.0, \"new_market\": \"Marketplaces\", \"new_country\": \"CHE\"}, {\"name\": \"Gousto\", \"category_list\": \"|E-Commerce|\", \"market\": \"E-Commerce\", \"funding_total_usd\": 11408356.0, \"status\": \"operating\", \"country_code\": \"GBR\", \"state_code\": null, \"region\": \"London\", \"funding_rounds\": 4.0, \"founded_at\": \"2012-01-01\", \"founded_month\": \"2012-01\", \"founded_year\": 2012.0, \"first_funding_at\": \"2013-09-23\", \"last_funding_at\": \"2014-09-15\", \"seed\": 2000000.0, \"venture\": 8300000.0, \"equity_crowdfunding\": 0.0, \"undisclosed\": 0.0, \"convertible_note\": 0.0, \"debt_financing\": 0.0, \"angel\": 1108356.0, \"grant\": 0.0, \"private_equity\": 0.0, \"post_ipo_equity\": 0.0, \"post_ipo_debt\": 0.0, \"secondary_market\": 0.0, \"product_crowdfunding\": 0.0, \"round_A\": 8300000.0, \"round_B\": 0.0, \"round_C\": 0.0, \"round_D\": 0.0, \"round_E\": 0.0, \"round_F\": 0.0, \"round_G\": 0.0, \"round_H\": 0.0, \"lasting_year\": 2.0, \"Status_acquired\": 0, \"Status_closed\": 0, \"Status_operating\": 1, \"if_ipo\": 0, \"month\": 1.0, \"if_jan\": 1, \"found_fund_diff\": 631.0, \"fir_end_diff\": 357.0, \"new_market\": \"E-Commerce\", \"new_country\": \"GBR\"}, {\"name\": \"Gusto\", \"category_list\": \"|Mobile|\", \"market\": \"Mobile\", \"funding_total_usd\": 1800000.0, \"status\": \"operating\", \"country_code\": \"USA\", \"state_code\": \"IN\", \"region\": \"Indianapolis\", \"funding_rounds\": 2.0, \"founded_at\": \"2012-07-01\", \"founded_month\": \"2012-07\", \"founded_year\": 2012.0, \"first_funding_at\": \"2014-04-13\", \"last_funding_at\": \"2014-08-29\", \"seed\": 1300000.0, \"venture\": 500000.0, \"equity_crowdfunding\": 0.0, \"undisclosed\": 0.0, \"convertible_note\": 0.0, \"debt_financing\": 0.0, \"angel\": 0.0, \"grant\": 0.0, \"private_equity\": 0.0, \"post_ipo_equity\": 0.0, \"post_ipo_debt\": 0.0, \"secondary_market\": 0.0, \"product_crowdfunding\": 0.0, \"round_A\": 0.0, \"round_B\": 0.0, \"round_C\": 0.0, \"round_D\": 0.0, \"round_E\": 0.0, \"round_F\": 0.0, \"round_G\": 0.0, \"round_H\": 0.0, \"lasting_year\": 2.0, \"Status_acquired\": 0, \"Status_closed\": 0, \"Status_operating\": 1, \"if_ipo\": 0, \"month\": 7.0, \"if_jan\": 0, \"found_fund_diff\": 651.0, \"fir_end_diff\": 138.0, \"new_market\": \"Mobile\", \"new_country\": \"USA\"}, {\"name\": \"HeartFlow\", \"category_list\": \"|Biotechnology|\", \"market\": \"Biotechnology\", \"funding_total_usd\": 136715918.0, \"status\": \"operating\", \"country_code\": \"USA\", \"state_code\": \"CA\", \"region\": \"SF Bay Area\", \"funding_rounds\": 4.0, \"founded_at\": \"2007-01-01\", \"founded_month\": \"2007-01\", \"founded_year\": 2007.0, \"first_funding_at\": \"2010-04-19\", \"last_funding_at\": \"2014-02-27\", \"seed\": 0.0, \"venture\": 22016022.0, \"equity_crowdfunding\": 0.0, \"undisclosed\": 0.0, \"convertible_note\": 0.0, \"debt_financing\": 10000000.0, \"angel\": 0.0, \"grant\": 0.0, \"private_equity\": 104699896.0, \"post_ipo_equity\": 0.0, \"post_ipo_debt\": 0.0, \"secondary_market\": 0.0, \"product_crowdfunding\": 0.0, \"round_A\": 0.0, \"round_B\": 0.0, \"round_C\": 0.0, \"round_D\": 0.0, \"round_E\": 0.0, \"round_F\": 0.0, \"round_G\": 0.0, \"round_H\": 0.0, \"lasting_year\": 7.0, \"Status_acquired\": 0, \"Status_closed\": 0, \"Status_operating\": 1, \"if_ipo\": 0, \"month\": 1.0, \"if_jan\": 1, \"found_fund_diff\": 1204.0, \"fir_end_diff\": 1410.0, \"new_market\": \"Others\", \"new_country\": \"USA\"}, {\"name\": \"Highspot\", \"category_list\": \"|Sales and Marketing|Enterprise Software|\", \"market\": \"EnterpriseSoftware\", \"funding_total_usd\": 9600000.0, \"status\": \"operating\", \"country_code\": \"USA\", \"state_code\": \"WA\", \"region\": \"Seattle\", \"funding_rounds\": 1.0, \"founded_at\": \"2012-01-01\", \"founded_month\": \"2012-01\", \"founded_year\": 2012.0, \"first_funding_at\": \"2014-11-07\", \"last_funding_at\": \"2014-11-07\", \"seed\": 0.0, \"venture\": 9600000.0, \"equity_crowdfunding\": 0.0, \"undisclosed\": 0.0, \"convertible_note\": 0.0, \"debt_financing\": 0.0, \"angel\": 0.0, \"grant\": 0.0, \"private_equity\": 0.0, \"post_ipo_equity\": 0.0, \"post_ipo_debt\": 0.0, \"secondary_market\": 0.0, \"product_crowdfunding\": 0.0, \"round_A\": 9600000.0, \"round_B\": 0.0, \"round_C\": 0.0, \"round_D\": 0.0, \"round_E\": 0.0, \"round_F\": 0.0, \"round_G\": 0.0, \"round_H\": 0.0, \"lasting_year\": 2.0, \"Status_acquired\": 0, \"Status_closed\": 0, \"Status_operating\": 1, \"if_ipo\": 0, \"month\": 1.0, \"if_jan\": 1, \"found_fund_diff\": 1041.0, \"fir_end_diff\": 0.0, \"new_market\": \"EnterpriseSoftware\", \"new_country\": \"USA\"}, {\"name\": \"Houzz\", \"category_list\": \"|Home Renovation|Design|Curated Web|\", \"market\": \"CuratedWeb\", \"funding_total_usd\": 213600000.0, \"status\": \"operating\", \"country_code\": \"USA\", \"state_code\": \"CA\", \"region\": \"SF Bay Area\", \"funding_rounds\": 4.0, \"founded_at\": \"2009-01-01\", \"founded_month\": \"2009-01\", \"founded_year\": 2009.0, \"first_funding_at\": \"2010-11-11\", \"last_funding_at\": \"2014-10-01\", \"seed\": 0.0, \"venture\": 213600000.0, \"equity_crowdfunding\": 0.0, \"undisclosed\": 0.0, \"convertible_note\": 0.0, \"debt_financing\": 0.0, \"angel\": 0.0, \"grant\": 0.0, \"private_equity\": 0.0, \"post_ipo_equity\": 0.0, \"post_ipo_debt\": 0.0, \"secondary_market\": 0.0, \"product_crowdfunding\": 0.0, \"round_A\": 2000000.0, \"round_B\": 11600000.0, \"round_C\": 35000000.0, \"round_D\": 165000000.0, \"round_E\": 0.0, \"round_F\": 0.0, \"round_G\": 0.0, \"round_H\": 0.0, \"lasting_year\": 5.0, \"Status_acquired\": 0, \"Status_closed\": 0, \"Status_operating\": 1, \"if_ipo\": 0, \"month\": 1.0, \"if_jan\": 1, \"found_fund_diff\": 679.0, \"fir_end_diff\": 1420.0, \"new_market\": \"CuratedWeb\", \"new_country\": \"USA\"}, {\"name\": \"Huitongda\", \"category_list\": \"|E-Commerce|\", \"market\": \"E-Commerce\", \"funding_total_usd\": 0.0, \"status\": \"operating\", \"country_code\": \"CHN\", \"state_code\": null, \"region\": \"Nanjing\", \"funding_rounds\": 1.0, \"founded_at\": \"2008-01-01\", \"founded_month\": \"2008-01\", \"founded_year\": 2008.0, \"first_funding_at\": \"2011-12-01\", \"last_funding_at\": \"2011-12-01\", \"seed\": 0.0, \"venture\": 0.0, \"equity_crowdfunding\": 0.0, \"undisclosed\": 0.0, \"convertible_note\": 0.0, \"debt_financing\": 0.0, \"angel\": 0.0, \"grant\": 0.0, \"private_equity\": 0.0, \"post_ipo_equity\": 0.0, \"post_ipo_debt\": 0.0, \"secondary_market\": 0.0, \"product_crowdfunding\": 0.0, \"round_A\": 0.0, \"round_B\": 0.0, \"round_C\": 0.0, \"round_D\": 0.0, \"round_E\": 0.0, \"round_F\": 0.0, \"round_G\": 0.0, \"round_H\": 0.0, \"lasting_year\": 6.0, \"Status_acquired\": 0, \"Status_closed\": 0, \"Status_operating\": 1, \"if_ipo\": 0, \"month\": 1.0, \"if_jan\": 1, \"found_fund_diff\": 1430.0, \"fir_end_diff\": 0.0, \"new_market\": \"E-Commerce\", \"new_country\": \"CHN\"}, {\"name\": \"ID.me\", \"category_list\": \"|Data Privacy|Identity Management|Online Identity|E-Commerce Platforms|\", \"market\": \"DataPrivacy\", \"funding_total_usd\": 16665000.0, \"status\": \"operating\", \"country_code\": \"USA\", \"state_code\": \"DC\", \"region\": \"Washington, D.C.\", \"funding_rounds\": 6.0, \"founded_at\": \"2010-01-01\", \"founded_month\": \"2010-01\", \"founded_year\": 2010.0, \"first_funding_at\": \"2010-07-16\", \"last_funding_at\": \"2014-04-01\", \"seed\": 140000.0, \"venture\": 7500000.0, \"equity_crowdfunding\": 0.0, \"undisclosed\": 0.0, \"convertible_note\": 3000000.0, \"debt_financing\": 2500000.0, \"angel\": 925000.0, \"grant\": 2600000.0, \"private_equity\": 0.0, \"post_ipo_equity\": 0.0, \"post_ipo_debt\": 0.0, \"secondary_market\": 0.0, \"product_crowdfunding\": 0.0, \"round_A\": 7500000.0, \"round_B\": 0.0, \"round_C\": 0.0, \"round_D\": 0.0, \"round_E\": 0.0, \"round_F\": 0.0, \"round_G\": 0.0, \"round_H\": 0.0, \"lasting_year\": 4.0, \"Status_acquired\": 0, \"Status_closed\": 0, \"Status_operating\": 1, \"if_ipo\": 0, \"month\": 1.0, \"if_jan\": 1, \"found_fund_diff\": 196.0, \"fir_end_diff\": 1355.0, \"new_market\": \"Others\", \"new_country\": \"USA\"}, {\"name\": \"iFood\", \"category_list\": \"|Restaurants|Mobile Commerce|Hospitality|\", \"market\": \"Restaurants\", \"funding_total_usd\": 11860000.0, \"status\": \"operating\", \"country_code\": \"BRA\", \"state_code\": null, \"region\": \"Sao Paulo\", \"funding_rounds\": 4.0, \"founded_at\": \"2011-05-15\", \"founded_month\": \"2011-05\", \"founded_year\": 2011.0, \"first_funding_at\": \"2011-08-02\", \"last_funding_at\": \"2014-09-01\", \"seed\": 0.0, \"venture\": 11860000.0, \"equity_crowdfunding\": 0.0, \"undisclosed\": 0.0, \"convertible_note\": 0.0, \"debt_financing\": 0.0, \"angel\": 0.0, \"grant\": 0.0, \"private_equity\": 0.0, \"post_ipo_equity\": 0.0, \"post_ipo_debt\": 0.0, \"secondary_market\": 0.0, \"product_crowdfunding\": 0.0, \"round_A\": 1560000.0, \"round_B\": 2600000.0, \"round_C\": 2000000.0, \"round_D\": 5700000.0, \"round_E\": 0.0, \"round_F\": 0.0, \"round_G\": 0.0, \"round_H\": 0.0, \"lasting_year\": 3.0, \"Status_acquired\": 0, \"Status_closed\": 0, \"Status_operating\": 1, \"if_ipo\": 0, \"month\": 5.0, \"if_jan\": 0, \"found_fund_diff\": 79.0, \"fir_end_diff\": 1126.0, \"new_market\": \"Restaurants\", \"new_country\": \"BRA\"}, {\"name\": \"Illumio\", \"category_list\": \"|Enterprise Software|\", \"market\": \"EnterpriseSoftware\", \"funding_total_usd\": 42500000.0, \"status\": \"operating\", \"country_code\": null, \"state_code\": null, \"region\": null, \"funding_rounds\": 2.0, \"founded_at\": \"2013-01-01\", \"founded_month\": \"2013-01\", \"founded_year\": 2013.0, \"first_funding_at\": \"2013-01-14\", \"last_funding_at\": \"2013-09-20\", \"seed\": 0.0, \"venture\": 42500000.0, \"equity_crowdfunding\": 0.0, \"undisclosed\": 0.0, \"convertible_note\": 0.0, \"debt_financing\": 0.0, \"angel\": 0.0, \"grant\": 0.0, \"private_equity\": 0.0, \"post_ipo_equity\": 0.0, \"post_ipo_debt\": 0.0, \"secondary_market\": 0.0, \"product_crowdfunding\": 0.0, \"round_A\": 8000000.0, \"round_B\": 34500000.0, \"round_C\": 0.0, \"round_D\": 0.0, \"round_E\": 0.0, \"round_F\": 0.0, \"round_G\": 0.0, \"round_H\": 0.0, \"lasting_year\": 1.0, \"Status_acquired\": 0, \"Status_closed\": 0, \"Status_operating\": 1, \"if_ipo\": 0, \"month\": 1.0, \"if_jan\": 1, \"found_fund_diff\": 13.0, \"fir_end_diff\": 249.0, \"new_market\": \"EnterpriseSoftware\", \"new_country\": \"Others\"}, {\"name\": \"Impossible Foods\", \"category_list\": \"|Hospitality|\", \"market\": \"Hospitality\", \"funding_total_usd\": 75000000.0, \"status\": \"operating\", \"country_code\": null, \"state_code\": null, \"region\": null, \"funding_rounds\": 1.0, \"founded_at\": \"2011-01-01\", \"founded_month\": \"2011-01\", \"founded_year\": 2011.0, \"first_funding_at\": \"2014-10-14\", \"last_funding_at\": \"2014-10-14\", \"seed\": 0.0, \"venture\": 75000000.0, \"equity_crowdfunding\": 0.0, \"undisclosed\": 0.0, \"convertible_note\": 0.0, \"debt_financing\": 0.0, \"angel\": 0.0, \"grant\": 0.0, \"private_equity\": 0.0, \"post_ipo_equity\": 0.0, \"post_ipo_debt\": 0.0, \"secondary_market\": 0.0, \"product_crowdfunding\": 0.0, \"round_A\": 75000000.0, \"round_B\": 0.0, \"round_C\": 0.0, \"round_D\": 0.0, \"round_E\": 0.0, \"round_F\": 0.0, \"round_G\": 0.0, \"round_H\": 0.0, \"lasting_year\": 3.0, \"Status_acquired\": 0, \"Status_closed\": 0, \"Status_operating\": 1, \"if_ipo\": 0, \"month\": 1.0, \"if_jan\": 1, \"found_fund_diff\": 1382.0, \"fir_end_diff\": 0.0, \"new_market\": \"Others\", \"new_country\": \"Others\"}, {\"name\": \"InMobi\", \"category_list\": \"|Advertising|Mobile|\", \"market\": \"Mobile\", \"funding_total_usd\": 220600000.0, \"status\": \"operating\", \"country_code\": \"USA\", \"state_code\": \"CA\", \"region\": \"SF Bay Area\", \"funding_rounds\": 5.0, \"founded_at\": \"2007-01-01\", \"founded_month\": \"2007-01\", \"founded_year\": 2007.0, \"first_funding_at\": \"2007-01-01\", \"last_funding_at\": \"2014-12-02\", \"seed\": 0.0, \"venture\": 220100000.0, \"equity_crowdfunding\": 0.0, \"undisclosed\": 0.0, \"convertible_note\": 0.0, \"debt_financing\": 0.0, \"angel\": 500000.0, \"grant\": 0.0, \"private_equity\": 0.0, \"post_ipo_equity\": 0.0, \"post_ipo_debt\": 0.0, \"secondary_market\": 0.0, \"product_crowdfunding\": 0.0, \"round_A\": 7100000.0, \"round_B\": 8000000.0, \"round_C\": 200000000.0, \"round_D\": 0.0, \"round_E\": 0.0, \"round_F\": 0.0, \"round_G\": 0.0, \"round_H\": 0.0, \"lasting_year\": 7.0, \"Status_acquired\": 0, \"Status_closed\": 0, \"Status_operating\": 1, \"if_ipo\": 0, \"month\": 1.0, \"if_jan\": 1, \"found_fund_diff\": 0.0, \"fir_end_diff\": 2892.0, \"new_market\": \"Mobile\", \"new_country\": \"USA\"}, {\"name\": \"InSightec\", \"category_list\": \"|Medical Devices|Health Care|\", \"market\": \"MedicalDevices\", \"funding_total_usd\": 93400000.0, \"status\": \"operating\", \"country_code\": \"USA\", \"state_code\": \"TX\", \"region\": \"Dallas\", \"funding_rounds\": 3.0, \"founded_at\": \"1999-01-01\", \"founded_month\": \"1999-01\", \"founded_year\": 1999.0, \"first_funding_at\": \"2012-12-11\", \"last_funding_at\": \"2014-09-14\", \"seed\": 0.0, \"venture\": 93400000.0, \"equity_crowdfunding\": 0.0, \"undisclosed\": 0.0, \"convertible_note\": 0.0, \"debt_financing\": 0.0, \"angel\": 0.0, \"grant\": 0.0, \"private_equity\": 0.0, \"post_ipo_equity\": 0.0, \"post_ipo_debt\": 0.0, \"secondary_market\": 0.0, \"product_crowdfunding\": 0.0, \"round_A\": 0.0, \"round_B\": 0.0, \"round_C\": 30900000.0, \"round_D\": 62500000.0, \"round_E\": 0.0, \"round_F\": 0.0, \"round_G\": 0.0, \"round_H\": 0.0, \"lasting_year\": 15.0, \"Status_acquired\": 0, \"Status_closed\": 0, \"Status_operating\": 1, \"if_ipo\": 0, \"month\": 1.0, \"if_jan\": 1, \"found_fund_diff\": 5093.0, \"fir_end_diff\": 642.0, \"new_market\": \"Others\", \"new_country\": \"USA\"}, {\"name\": \"Intarcia Therapeutics\", \"category_list\": \"|Biotechnology|\", \"market\": \"Biotechnology\", \"funding_total_usd\": 534305937.0, \"status\": \"operating\", \"country_code\": \"USA\", \"state_code\": \"CA\", \"region\": \"SF Bay Area\", \"funding_rounds\": 8.0, \"founded_at\": \"1997-01-01\", \"founded_month\": \"1997-01\", \"founded_year\": 1997.0, \"first_funding_at\": \"2007-03-20\", \"last_funding_at\": \"2014-04-01\", \"seed\": 0.0, \"venture\": 238514583.0, \"equity_crowdfunding\": 0.0, \"undisclosed\": 0.0, \"convertible_note\": 0.0, \"debt_financing\": 95791354.0, \"angel\": 0.0, \"grant\": 0.0, \"private_equity\": 200000000.0, \"post_ipo_equity\": 0.0, \"post_ipo_debt\": 0.0, \"secondary_market\": 0.0, \"product_crowdfunding\": 0.0, \"round_A\": 0.0, \"round_B\": 64026189.0, \"round_C\": 160000000.0, \"round_D\": 0.0, \"round_E\": 0.0, \"round_F\": 0.0, \"round_G\": 0.0, \"round_H\": 0.0, \"lasting_year\": 17.0, \"Status_acquired\": 0, \"Status_closed\": 0, \"Status_operating\": 1, \"if_ipo\": 0, \"month\": 1.0, \"if_jan\": 1, \"found_fund_diff\": 3730.0, \"fir_end_diff\": 2569.0, \"new_market\": \"Others\", \"new_country\": \"USA\"}, {\"name\": \"InVision\", \"category_list\": \"|New Product Development|Product Design|Interface Design|Design|Project Management|Web Development|Rapidly Expanding|User Experience Design|Web Tools|Software|\", \"market\": \"ProductDesign\", \"funding_total_usd\": 35200000.0, \"status\": \"operating\", \"country_code\": \"USA\", \"state_code\": \"NY\", \"region\": \"New York City\", \"funding_rounds\": 4.0, \"founded_at\": \"2011-01-01\", \"founded_month\": \"2011-01\", \"founded_year\": 2011.0, \"first_funding_at\": \"2012-02-22\", \"last_funding_at\": \"2014-08-06\", \"seed\": 1500000.0, \"venture\": 32600000.0, \"equity_crowdfunding\": 0.0, \"undisclosed\": 0.0, \"convertible_note\": 0.0, \"debt_financing\": 1100000.0, \"angel\": 0.0, \"grant\": 0.0, \"private_equity\": 0.0, \"post_ipo_equity\": 0.0, \"post_ipo_debt\": 0.0, \"secondary_market\": 0.0, \"product_crowdfunding\": 0.0, \"round_A\": 11600000.0, \"round_B\": 21000000.0, \"round_C\": 0.0, \"round_D\": 0.0, \"round_E\": 0.0, \"round_F\": 0.0, \"round_G\": 0.0, \"round_H\": 0.0, \"lasting_year\": 3.0, \"Status_acquired\": 0, \"Status_closed\": 0, \"Status_operating\": 1, \"if_ipo\": 0, \"month\": 1.0, \"if_jan\": 1, \"found_fund_diff\": 417.0, \"fir_end_diff\": 896.0, \"new_market\": \"Others\", \"new_country\": \"USA\"}, {\"name\": \"ironSource\", \"category_list\": \"|Software|\", \"market\": \"Software\", \"funding_total_usd\": 85000000.0, \"status\": \"operating\", \"country_code\": \"ISR\", \"state_code\": null, \"region\": \"Tel Aviv\", \"funding_rounds\": 1.0, \"founded_at\": \"2010-01-01\", \"founded_month\": \"2010-01\", \"founded_year\": 2010.0, \"first_funding_at\": \"2014-08-11\", \"last_funding_at\": \"2014-08-11\", \"seed\": 0.0, \"venture\": 85000000.0, \"equity_crowdfunding\": 0.0, \"undisclosed\": 0.0, \"convertible_note\": 0.0, \"debt_financing\": 0.0, \"angel\": 0.0, \"grant\": 0.0, \"private_equity\": 0.0, \"post_ipo_equity\": 0.0, \"post_ipo_debt\": 0.0, \"secondary_market\": 0.0, \"product_crowdfunding\": 0.0, \"round_A\": 0.0, \"round_B\": 0.0, \"round_C\": 0.0, \"round_D\": 0.0, \"round_E\": 0.0, \"round_F\": 0.0, \"round_G\": 0.0, \"round_H\": 0.0, \"lasting_year\": 4.0, \"Status_acquired\": 0, \"Status_closed\": 0, \"Status_operating\": 1, \"if_ipo\": 0, \"month\": 1.0, \"if_jan\": 1, \"found_fund_diff\": 1683.0, \"fir_end_diff\": 0.0, \"new_market\": \"Software\", \"new_country\": \"ISR\"}, {\"name\": \"Ivalua\", \"category_list\": \"|Software|\", \"market\": \"Software\", \"funding_total_usd\": 4444200.0, \"status\": \"operating\", \"country_code\": \"USA\", \"state_code\": \"CA\", \"region\": \"SF Bay Area\", \"funding_rounds\": 1.0, \"founded_at\": \"2000-01-01\", \"founded_month\": \"2000-01\", \"founded_year\": 2000.0, \"first_funding_at\": \"2011-05-05\", \"last_funding_at\": \"2011-05-05\", \"seed\": 0.0, \"venture\": 4444200.0, \"equity_crowdfunding\": 0.0, \"undisclosed\": 0.0, \"convertible_note\": 0.0, \"debt_financing\": 0.0, \"angel\": 0.0, \"grant\": 0.0, \"private_equity\": 0.0, \"post_ipo_equity\": 0.0, \"post_ipo_debt\": 0.0, \"secondary_market\": 0.0, \"product_crowdfunding\": 0.0, \"round_A\": 0.0, \"round_B\": 0.0, \"round_C\": 0.0, \"round_D\": 0.0, \"round_E\": 0.0, \"round_F\": 0.0, \"round_G\": 0.0, \"round_H\": 0.0, \"lasting_year\": 14.0, \"Status_acquired\": 0, \"Status_closed\": 0, \"Status_operating\": 1, \"if_ipo\": 0, \"month\": 1.0, \"if_jan\": 1, \"found_fund_diff\": 4142.0, \"fir_end_diff\": 0.0, \"new_market\": \"Software\", \"new_country\": \"USA\"}, {\"name\": \"Justworks\", \"category_list\": \"|Human Resources|\", \"market\": \"HumanResources\", \"funding_total_usd\": 7000000.0, \"status\": \"operating\", \"country_code\": \"USA\", \"state_code\": \"NY\", \"region\": \"New York City\", \"funding_rounds\": 2.0, \"founded_at\": \"2012-10-01\", \"founded_month\": \"2012-10\", \"founded_year\": 2012.0, \"first_funding_at\": \"2013-10-16\", \"last_funding_at\": \"2014-10-08\", \"seed\": 1000000.0, \"venture\": 6000000.0, \"equity_crowdfunding\": 0.0, \"undisclosed\": 0.0, \"convertible_note\": 0.0, \"debt_financing\": 0.0, \"angel\": 0.0, \"grant\": 0.0, \"private_equity\": 0.0, \"post_ipo_equity\": 0.0, \"post_ipo_debt\": 0.0, \"secondary_market\": 0.0, \"product_crowdfunding\": 0.0, \"round_A\": 6000000.0, \"round_B\": 0.0, \"round_C\": 0.0, \"round_D\": 0.0, \"round_E\": 0.0, \"round_F\": 0.0, \"round_G\": 0.0, \"round_H\": 0.0, \"lasting_year\": 2.0, \"Status_acquired\": 0, \"Status_closed\": 0, \"Status_operating\": 1, \"if_ipo\": 0, \"month\": 10.0, \"if_jan\": 0, \"found_fund_diff\": 380.0, \"fir_end_diff\": 357.0, \"new_market\": \"Others\", \"new_country\": \"USA\"}, {\"name\": \"Kaseya\", \"category_list\": \"|Services|Homeland Security|Flash Storage|Data Security|SaaS|Productivity Software|Data Centers|Software|\", \"market\": \"Software\", \"funding_total_usd\": 0.0, \"status\": \"operating\", \"country_code\": null, \"state_code\": null, \"region\": null, \"funding_rounds\": 1.0, \"founded_at\": \"2000-01-01\", \"founded_month\": \"2000-01\", \"founded_year\": 2000.0, \"first_funding_at\": \"2013-06-25\", \"last_funding_at\": \"2013-06-25\", \"seed\": 0.0, \"venture\": 0.0, \"equity_crowdfunding\": 0.0, \"undisclosed\": 0.0, \"convertible_note\": 0.0, \"debt_financing\": 0.0, \"angel\": 0.0, \"grant\": 0.0, \"private_equity\": 0.0, \"post_ipo_equity\": 0.0, \"post_ipo_debt\": 0.0, \"secondary_market\": 0.0, \"product_crowdfunding\": 0.0, \"round_A\": 0.0, \"round_B\": 0.0, \"round_C\": 0.0, \"round_D\": 0.0, \"round_E\": 0.0, \"round_F\": 0.0, \"round_G\": 0.0, \"round_H\": 0.0, \"lasting_year\": 14.0, \"Status_acquired\": 0, \"Status_closed\": 0, \"Status_operating\": 1, \"if_ipo\": 0, \"month\": 1.0, \"if_jan\": 1, \"found_fund_diff\": 4924.0, \"fir_end_diff\": 0.0, \"new_market\": \"Software\", \"new_country\": \"Others\"}, {\"name\": \"KeepTruckin\", \"category_list\": \"|Public Transportation|\", \"market\": \"PublicTransportation\", \"funding_total_usd\": 2300000.0, \"status\": \"operating\", \"country_code\": \"USA\", \"state_code\": \"CA\", \"region\": \"SF Bay Area\", \"funding_rounds\": 1.0, \"founded_at\": \"2013-01-01\", \"founded_month\": \"2013-01\", \"founded_year\": 2013.0, \"first_funding_at\": \"2013-07-01\", \"last_funding_at\": \"2013-07-01\", \"seed\": 2300000.0, \"venture\": 0.0, \"equity_crowdfunding\": 0.0, \"undisclosed\": 0.0, \"convertible_note\": 0.0, \"debt_financing\": 0.0, \"angel\": 0.0, \"grant\": 0.0, \"private_equity\": 0.0, \"post_ipo_equity\": 0.0, \"post_ipo_debt\": 0.0, \"secondary_market\": 0.0, \"product_crowdfunding\": 0.0, \"round_A\": 0.0, \"round_B\": 0.0, \"round_C\": 0.0, \"round_D\": 0.0, \"round_E\": 0.0, \"round_F\": 0.0, \"round_G\": 0.0, \"round_H\": 0.0, \"lasting_year\": 1.0, \"Status_acquired\": 0, \"Status_closed\": 0, \"Status_operating\": 1, \"if_ipo\": 0, \"month\": 1.0, \"if_jan\": 1, \"found_fund_diff\": 181.0, \"fir_end_diff\": 0.0, \"new_market\": \"Others\", \"new_country\": \"USA\"}, {\"name\": \"Koudai\", \"category_list\": \"|E-Commerce|\", \"market\": \"E-Commerce\", \"funding_total_usd\": 368000000.0, \"status\": \"operating\", \"country_code\": \"CHN\", \"state_code\": null, \"region\": \"Beijing\", \"funding_rounds\": 5.0, \"founded_at\": \"2010-01-01\", \"founded_month\": \"2010-01\", \"founded_year\": 2010.0, \"first_funding_at\": \"2010-01-01\", \"last_funding_at\": \"2014-10-23\", \"seed\": 0.0, \"venture\": 368000000.0, \"equity_crowdfunding\": 0.0, \"undisclosed\": 0.0, \"convertible_note\": 0.0, \"debt_financing\": 0.0, \"angel\": 0.0, \"grant\": 0.0, \"private_equity\": 0.0, \"post_ipo_equity\": 0.0, \"post_ipo_debt\": 0.0, \"secondary_market\": 0.0, \"product_crowdfunding\": 0.0, \"round_A\": 12000000.0, \"round_B\": 0.0, \"round_C\": 350000000.0, \"round_D\": 0.0, \"round_E\": 0.0, \"round_F\": 0.0, \"round_G\": 0.0, \"round_H\": 0.0, \"lasting_year\": 4.0, \"Status_acquired\": 0, \"Status_closed\": 0, \"Status_operating\": 1, \"if_ipo\": 0, \"month\": 1.0, \"if_jan\": 1, \"found_fund_diff\": 0.0, \"fir_end_diff\": 1756.0, \"new_market\": \"E-Commerce\", \"new_country\": \"CHN\"}, {\"name\": \"LegalZoom\", \"category_list\": \"|Legal|\", \"market\": \"Legal\", \"funding_total_usd\": 266000000.0, \"status\": \"operating\", \"country_code\": \"USA\", \"state_code\": \"CA\", \"region\": \"Los Angeles\", \"funding_rounds\": 2.0, \"founded_at\": \"1999-12-01\", \"founded_month\": \"1999-12\", \"founded_year\": 1999.0, \"first_funding_at\": \"2011-07-24\", \"last_funding_at\": \"2014-01-07\", \"seed\": 0.0, \"venture\": 66000000.0, \"equity_crowdfunding\": 0.0, \"undisclosed\": 0.0, \"convertible_note\": 0.0, \"debt_financing\": 0.0, \"angel\": 0.0, \"grant\": 0.0, \"private_equity\": 0.0, \"post_ipo_equity\": 0.0, \"post_ipo_debt\": 0.0, \"secondary_market\": 200000000.0, \"product_crowdfunding\": 0.0, \"round_A\": 0.0, \"round_B\": 66000000.0, \"round_C\": 0.0, \"round_D\": 0.0, \"round_E\": 0.0, \"round_F\": 0.0, \"round_G\": 0.0, \"round_H\": 0.0, \"lasting_year\": 15.0, \"Status_acquired\": 0, \"Status_closed\": 0, \"Status_operating\": 1, \"if_ipo\": 1, \"month\": 12.0, \"if_jan\": 0, \"found_fund_diff\": 4253.0, \"fir_end_diff\": 898.0, \"new_market\": \"Others\", \"new_country\": \"USA\"}, {\"name\": \"Liquid\", \"category_list\": \"|Mobile Analytics|Personalization|\", \"market\": \"Personalization\", \"funding_total_usd\": 1000000.0, \"status\": \"operating\", \"country_code\": null, \"state_code\": null, \"region\": null, \"funding_rounds\": 1.0, \"founded_at\": \"2014-01-01\", \"founded_month\": \"2014-01\", \"founded_year\": 2014.0, \"first_funding_at\": \"2014-04-30\", \"last_funding_at\": \"2014-04-30\", \"seed\": 1000000.0, \"venture\": 0.0, \"equity_crowdfunding\": 0.0, \"undisclosed\": 0.0, \"convertible_note\": 0.0, \"debt_financing\": 0.0, \"angel\": 0.0, \"grant\": 0.0, \"private_equity\": 0.0, \"post_ipo_equity\": 0.0, \"post_ipo_debt\": 0.0, \"secondary_market\": 0.0, \"product_crowdfunding\": 0.0, \"round_A\": 0.0, \"round_B\": 0.0, \"round_C\": 0.0, \"round_D\": 0.0, \"round_E\": 0.0, \"round_F\": 0.0, \"round_G\": 0.0, \"round_H\": 0.0, \"lasting_year\": 0.0, \"Status_acquired\": 0, \"Status_closed\": 0, \"Status_operating\": 1, \"if_ipo\": 0, \"month\": 1.0, \"if_jan\": 1, \"found_fund_diff\": 119.0, \"fir_end_diff\": 0.0, \"new_market\": \"Others\", \"new_country\": \"Others\"}, {\"name\": \"Lookout\", \"category_list\": \"|Mobile|Security|\", \"market\": \"Security\", \"funding_total_usd\": 131000000.0, \"status\": \"operating\", \"country_code\": \"USA\", \"state_code\": \"CA\", \"region\": \"SF Bay Area\", \"funding_rounds\": 7.0, \"founded_at\": \"2007-01-01\", \"founded_month\": \"2007-01\", \"founded_year\": 2007.0, \"first_funding_at\": \"2009-03-11\", \"last_funding_at\": \"2014-08-13\", \"seed\": 0.0, \"venture\": 131000000.0, \"equity_crowdfunding\": 0.0, \"undisclosed\": 0.0, \"convertible_note\": 0.0, \"debt_financing\": 0.0, \"angel\": 0.0, \"grant\": 0.0, \"private_equity\": 0.0, \"post_ipo_equity\": 0.0, \"post_ipo_debt\": 0.0, \"secondary_market\": 0.0, \"product_crowdfunding\": 0.0, \"round_A\": 5500000.0, \"round_B\": 11000000.0, \"round_C\": 19500000.0, \"round_D\": 0.0, \"round_E\": 55000000.0, \"round_F\": 0.0, \"round_G\": 0.0, \"round_H\": 0.0, \"lasting_year\": 7.0, \"Status_acquired\": 0, \"Status_closed\": 0, \"Status_operating\": 1, \"if_ipo\": 0, \"month\": 1.0, \"if_jan\": 1, \"found_fund_diff\": 800.0, \"fir_end_diff\": 1981.0, \"new_market\": \"Others\", \"new_country\": \"USA\"}, {\"name\": \"MadeiraMadeira\", \"category_list\": \"|E-Commerce|\", \"market\": \"E-Commerce\", \"funding_total_usd\": 0.0, \"status\": \"operating\", \"country_code\": \"BRA\", \"state_code\": null, \"region\": \"BRA - Other\", \"funding_rounds\": 2.0, \"founded_at\": \"2009-01-01\", \"founded_month\": \"2009-01\", \"founded_year\": 2009.0, \"first_funding_at\": \"2012-05-25\", \"last_funding_at\": \"2013-11-03\", \"seed\": 0.0, \"venture\": 0.0, \"equity_crowdfunding\": 0.0, \"undisclosed\": 0.0, \"convertible_note\": 0.0, \"debt_financing\": 0.0, \"angel\": 0.0, \"grant\": 0.0, \"private_equity\": 0.0, \"post_ipo_equity\": 0.0, \"post_ipo_debt\": 0.0, \"secondary_market\": 0.0, \"product_crowdfunding\": 0.0, \"round_A\": 0.0, \"round_B\": 0.0, \"round_C\": 0.0, \"round_D\": 0.0, \"round_E\": 0.0, \"round_F\": 0.0, \"round_G\": 0.0, \"round_H\": 0.0, \"lasting_year\": 5.0, \"Status_acquired\": 0, \"Status_closed\": 0, \"Status_operating\": 1, \"if_ipo\": 0, \"month\": 1.0, \"if_jan\": 1, \"found_fund_diff\": 1240.0, \"fir_end_diff\": 527.0, \"new_market\": \"E-Commerce\", \"new_country\": \"BRA\"}, {\"name\": \"Magic Leap\", \"category_list\": \"|Video|Augmented Reality|\", \"market\": \"Video\", \"funding_total_usd\": 592000000.0, \"status\": \"operating\", \"country_code\": \"USA\", \"state_code\": \"FL\", \"region\": \"Ft. Lauderdale\", \"funding_rounds\": 2.0, \"founded_at\": \"2011-01-01\", \"founded_month\": \"2011-01\", \"founded_year\": 2011.0, \"first_funding_at\": \"2014-02-05\", \"last_funding_at\": \"2014-10-21\", \"seed\": 0.0, \"venture\": 592000000.0, \"equity_crowdfunding\": 0.0, \"undisclosed\": 0.0, \"convertible_note\": 0.0, \"debt_financing\": 0.0, \"angel\": 0.0, \"grant\": 0.0, \"private_equity\": 0.0, \"post_ipo_equity\": 0.0, \"post_ipo_debt\": 0.0, \"secondary_market\": 0.0, \"product_crowdfunding\": 0.0, \"round_A\": 50000000.0, \"round_B\": 542000000.0, \"round_C\": 0.0, \"round_D\": 0.0, \"round_E\": 0.0, \"round_F\": 0.0, \"round_G\": 0.0, \"round_H\": 0.0, \"lasting_year\": 3.0, \"Status_acquired\": 0, \"Status_closed\": 0, \"Status_operating\": 1, \"if_ipo\": 0, \"month\": 1.0, \"if_jan\": 1, \"found_fund_diff\": 1131.0, \"fir_end_diff\": 258.0, \"new_market\": \"Others\", \"new_country\": \"USA\"}, {\"name\": \"Mambu\", \"category_list\": \"|Banking|Technology|Internet|Accounting|Cloud Computing|SaaS|Software|\", \"market\": \"Software\", \"funding_total_usd\": 1878026.0, \"status\": \"operating\", \"country_code\": \"DEU\", \"state_code\": null, \"region\": \"Berlin\", \"funding_rounds\": 2.0, \"founded_at\": \"2011-01-01\", \"founded_month\": \"2011-01\", \"founded_year\": 2011.0, \"first_funding_at\": \"2011-01-26\", \"last_funding_at\": \"2013-02-14\", \"seed\": 0.0, \"venture\": 1878026.0, \"equity_crowdfunding\": 0.0, \"undisclosed\": 0.0, \"convertible_note\": 0.0, \"debt_financing\": 0.0, \"angel\": 0.0, \"grant\": 0.0, \"private_equity\": 0.0, \"post_ipo_equity\": 0.0, \"post_ipo_debt\": 0.0, \"secondary_market\": 0.0, \"product_crowdfunding\": 0.0, \"round_A\": 1878026.0, \"round_B\": 0.0, \"round_C\": 0.0, \"round_D\": 0.0, \"round_E\": 0.0, \"round_F\": 0.0, \"round_G\": 0.0, \"round_H\": 0.0, \"lasting_year\": 3.0, \"Status_acquired\": 0, \"Status_closed\": 0, \"Status_operating\": 1, \"if_ipo\": 0, \"month\": 1.0, \"if_jan\": 1, \"found_fund_diff\": 25.0, \"fir_end_diff\": 750.0, \"new_market\": \"Software\", \"new_country\": \"Others\"}, {\"name\": \"Marqeta\", \"category_list\": \"|Curated Web|\", \"market\": \"CuratedWeb\", \"funding_total_usd\": 20517900.0, \"status\": \"operating\", \"country_code\": \"USA\", \"state_code\": \"CA\", \"region\": \"SF Bay Area\", \"funding_rounds\": 3.0, \"founded_at\": \"2010-01-01\", \"founded_month\": \"2010-01\", \"founded_year\": 2010.0, \"first_funding_at\": \"2011-06-14\", \"last_funding_at\": \"2013-05-15\", \"seed\": 0.0, \"venture\": 19567940.0, \"equity_crowdfunding\": 0.0, \"undisclosed\": 0.0, \"convertible_note\": 0.0, \"debt_financing\": 949960.0, \"angel\": 0.0, \"grant\": 0.0, \"private_equity\": 0.0, \"post_ipo_equity\": 0.0, \"post_ipo_debt\": 0.0, \"secondary_market\": 0.0, \"product_crowdfunding\": 0.0, \"round_A\": 5567940.0, \"round_B\": 14000000.0, \"round_C\": 0.0, \"round_D\": 0.0, \"round_E\": 0.0, \"round_F\": 0.0, \"round_G\": 0.0, \"round_H\": 0.0, \"lasting_year\": 4.0, \"Status_acquired\": 0, \"Status_closed\": 0, \"Status_operating\": 1, \"if_ipo\": 0, \"month\": 1.0, \"if_jan\": 1, \"found_fund_diff\": 529.0, \"fir_end_diff\": 701.0, \"new_market\": \"CuratedWeb\", \"new_country\": \"USA\"}, {\"name\": \"MediaMath\", \"category_list\": \"|Technology|Advertising|\", \"market\": \"Technology\", \"funding_total_usd\": 195000000.0, \"status\": \"operating\", \"country_code\": \"USA\", \"state_code\": \"NY\", \"region\": \"New York City\", \"funding_rounds\": 5.0, \"founded_at\": \"2007-01-01\", \"founded_month\": \"2007-01\", \"founded_year\": 2007.0, \"first_funding_at\": \"2008-03-05\", \"last_funding_at\": \"2014-06-03\", \"seed\": 0.0, \"venture\": 87500000.0, \"equity_crowdfunding\": 0.0, \"undisclosed\": 0.0, \"convertible_note\": 0.0, \"debt_financing\": 107500000.0, \"angel\": 0.0, \"grant\": 0.0, \"private_equity\": 0.0, \"post_ipo_equity\": 0.0, \"post_ipo_debt\": 0.0, \"secondary_market\": 0.0, \"product_crowdfunding\": 0.0, \"round_A\": 0.0, \"round_B\": 14000000.0, \"round_C\": 73500000.0, \"round_D\": 0.0, \"round_E\": 0.0, \"round_F\": 0.0, \"round_G\": 0.0, \"round_H\": 0.0, \"lasting_year\": 7.0, \"Status_acquired\": 0, \"Status_closed\": 0, \"Status_operating\": 1, \"if_ipo\": 0, \"month\": 1.0, \"if_jan\": 1, \"found_fund_diff\": 429.0, \"fir_end_diff\": 2281.0, \"new_market\": \"Others\", \"new_country\": \"USA\"}, {\"name\": \"Mirakl\", \"category_list\": \"|Software|\", \"market\": \"Software\", \"funding_total_usd\": 3000000.0, \"status\": \"operating\", \"country_code\": \"FRA\", \"state_code\": null, \"region\": \"Paris\", \"funding_rounds\": 1.0, \"founded_at\": \"2011-03-01\", \"founded_month\": \"2011-03\", \"founded_year\": 2011.0, \"first_funding_at\": \"2012-11-16\", \"last_funding_at\": \"2012-11-16\", \"seed\": 0.0, \"venture\": 3000000.0, \"equity_crowdfunding\": 0.0, \"undisclosed\": 0.0, \"convertible_note\": 0.0, \"debt_financing\": 0.0, \"angel\": 0.0, \"grant\": 0.0, \"private_equity\": 0.0, \"post_ipo_equity\": 0.0, \"post_ipo_debt\": 0.0, \"secondary_market\": 0.0, \"product_crowdfunding\": 0.0, \"round_A\": 3000000.0, \"round_B\": 0.0, \"round_C\": 0.0, \"round_D\": 0.0, \"round_E\": 0.0, \"round_F\": 0.0, \"round_G\": 0.0, \"round_H\": 0.0, \"lasting_year\": 3.0, \"Status_acquired\": 0, \"Status_closed\": 0, \"Status_operating\": 1, \"if_ipo\": 0, \"month\": 3.0, \"if_jan\": 0, \"found_fund_diff\": 626.0, \"fir_end_diff\": 0.0, \"new_market\": \"Software\", \"new_country\": \"FRA\"}, {\"name\": \"Mobvoi\", \"category_list\": \"|Mobile|\", \"market\": \"Mobile\", \"funding_total_usd\": 11620000.0, \"status\": \"operating\", \"country_code\": \"CHN\", \"state_code\": null, \"region\": \"Beijing\", \"funding_rounds\": 2.0, \"founded_at\": \"2012-01-01\", \"founded_month\": \"2012-01\", \"founded_year\": 2012.0, \"first_funding_at\": \"2012-01-01\", \"last_funding_at\": \"2014-02-24\", \"seed\": 0.0, \"venture\": 11620000.0, \"equity_crowdfunding\": 0.0, \"undisclosed\": 0.0, \"convertible_note\": 0.0, \"debt_financing\": 0.0, \"angel\": 0.0, \"grant\": 0.0, \"private_equity\": 0.0, \"post_ipo_equity\": 0.0, \"post_ipo_debt\": 0.0, \"secondary_market\": 0.0, \"product_crowdfunding\": 0.0, \"round_A\": 1620000.0, \"round_B\": 10000000.0, \"round_C\": 0.0, \"round_D\": 0.0, \"round_E\": 0.0, \"round_F\": 0.0, \"round_G\": 0.0, \"round_H\": 0.0, \"lasting_year\": 2.0, \"Status_acquired\": 0, \"Status_closed\": 0, \"Status_operating\": 1, \"if_ipo\": 0, \"month\": 1.0, \"if_jan\": 1, \"found_fund_diff\": 0.0, \"fir_end_diff\": 785.0, \"new_market\": \"Mobile\", \"new_country\": \"CHN\"}, {\"name\": \"Movile\", \"category_list\": \"|Mobile Commerce|Apps|Telecommunications|Mobile|\", \"market\": \"Telecommunications\", \"funding_total_usd\": 56000000.0, \"status\": \"operating\", \"country_code\": null, \"state_code\": null, \"region\": null, \"funding_rounds\": 4.0, \"founded_at\": \"1998-01-01\", \"founded_month\": \"1998-01\", \"founded_year\": 1998.0, \"first_funding_at\": \"2000-01-01\", \"last_funding_at\": \"2014-08-07\", \"seed\": 0.0, \"venture\": 56000000.0, \"equity_crowdfunding\": 0.0, \"undisclosed\": 0.0, \"convertible_note\": 0.0, \"debt_financing\": 0.0, \"angel\": 0.0, \"grant\": 0.0, \"private_equity\": 0.0, \"post_ipo_equity\": 0.0, \"post_ipo_debt\": 0.0, \"secondary_market\": 0.0, \"product_crowdfunding\": 0.0, \"round_A\": 1000000.0, \"round_B\": 0.0, \"round_C\": 0.0, \"round_D\": 55000000.0, \"round_E\": 0.0, \"round_F\": 0.0, \"round_G\": 0.0, \"round_H\": 0.0, \"lasting_year\": 16.0, \"Status_acquired\": 0, \"Status_closed\": 0, \"Status_operating\": 1, \"if_ipo\": 0, \"month\": 1.0, \"if_jan\": 1, \"found_fund_diff\": 730.0, \"fir_end_diff\": 5332.0, \"new_market\": \"Others\", \"new_country\": \"Others\"}, {\"name\": \"Mu Sigma\", \"category_list\": \"|Analytics|\", \"market\": \"Analytics\", \"funding_total_usd\": 25000000.0, \"status\": \"operating\", \"country_code\": \"USA\", \"state_code\": \"IL\", \"region\": \"Chicago\", \"funding_rounds\": 1.0, \"founded_at\": \"2004-01-01\", \"founded_month\": \"2004-01\", \"founded_year\": 2004.0, \"first_funding_at\": \"2011-06-06\", \"last_funding_at\": \"2011-06-06\", \"seed\": 0.0, \"venture\": 25000000.0, \"equity_crowdfunding\": 0.0, \"undisclosed\": 0.0, \"convertible_note\": 0.0, \"debt_financing\": 0.0, \"angel\": 0.0, \"grant\": 0.0, \"private_equity\": 0.0, \"post_ipo_equity\": 0.0, \"post_ipo_debt\": 0.0, \"secondary_market\": 0.0, \"product_crowdfunding\": 0.0, \"round_A\": 0.0, \"round_B\": 0.0, \"round_C\": 25000000.0, \"round_D\": 0.0, \"round_E\": 0.0, \"round_F\": 0.0, \"round_G\": 0.0, \"round_H\": 0.0, \"lasting_year\": 10.0, \"Status_acquired\": 0, \"Status_closed\": 0, \"Status_operating\": 1, \"if_ipo\": 0, \"month\": 1.0, \"if_jan\": 1, \"found_fund_diff\": 2713.0, \"fir_end_diff\": 0.0, \"new_market\": \"Analytics\", \"new_country\": \"USA\"}, {\"name\": \"Netskope\", \"category_list\": \"|Cloud Security|Software|\", \"market\": \"Software\", \"funding_total_usd\": 56400000.0, \"status\": \"operating\", \"country_code\": \"USA\", \"state_code\": \"CA\", \"region\": \"SF Bay Area\", \"funding_rounds\": 3.0, \"founded_at\": \"2012-10-08\", \"founded_month\": \"2012-10\", \"founded_year\": 2012.0, \"first_funding_at\": \"2013-01-01\", \"last_funding_at\": \"2014-05-15\", \"seed\": 0.0, \"venture\": 56400000.0, \"equity_crowdfunding\": 0.0, \"undisclosed\": 0.0, \"convertible_note\": 0.0, \"debt_financing\": 0.0, \"angel\": 0.0, \"grant\": 0.0, \"private_equity\": 0.0, \"post_ipo_equity\": 0.0, \"post_ipo_debt\": 0.0, \"secondary_market\": 0.0, \"product_crowdfunding\": 0.0, \"round_A\": 5500000.0, \"round_B\": 15900000.0, \"round_C\": 35000000.0, \"round_D\": 0.0, \"round_E\": 0.0, \"round_F\": 0.0, \"round_G\": 0.0, \"round_H\": 0.0, \"lasting_year\": 2.0, \"Status_acquired\": 0, \"Status_closed\": 0, \"Status_operating\": 1, \"if_ipo\": 0, \"month\": 10.0, \"if_jan\": 0, \"found_fund_diff\": 85.0, \"fir_end_diff\": 499.0, \"new_market\": \"Software\", \"new_country\": \"USA\"}, {\"name\": \"Newsela\", \"category_list\": \"|Education|\", \"market\": \"Education\", \"funding_total_usd\": 7156174.0, \"status\": \"operating\", \"country_code\": \"USA\", \"state_code\": \"NY\", \"region\": \"New York City\", \"funding_rounds\": 2.0, \"founded_at\": \"2013-10-01\", \"founded_month\": \"2013-10\", \"founded_year\": 2013.0, \"first_funding_at\": \"2013-10-09\", \"last_funding_at\": \"2014-09-24\", \"seed\": 1200000.0, \"venture\": 5956174.0, \"equity_crowdfunding\": 0.0, \"undisclosed\": 0.0, \"convertible_note\": 0.0, \"debt_financing\": 0.0, \"angel\": 0.0, \"grant\": 0.0, \"private_equity\": 0.0, \"post_ipo_equity\": 0.0, \"post_ipo_debt\": 0.0, \"secondary_market\": 0.0, \"product_crowdfunding\": 0.0, \"round_A\": 5956174.0, \"round_B\": 0.0, \"round_C\": 0.0, \"round_D\": 0.0, \"round_E\": 0.0, \"round_F\": 0.0, \"round_G\": 0.0, \"round_H\": 0.0, \"lasting_year\": 1.0, \"Status_acquired\": 0, \"Status_closed\": 0, \"Status_operating\": 1, \"if_ipo\": 0, \"month\": 10.0, \"if_jan\": 0, \"found_fund_diff\": 8.0, \"fir_end_diff\": 350.0, \"new_market\": \"Education\", \"new_country\": \"USA\"}, {\"name\": \"Nextdoor\", \"category_list\": \"|Privacy|Social Media|\", \"market\": \"Privacy\", \"funding_total_usd\": 100200000.0, \"status\": \"operating\", \"country_code\": \"USA\", \"state_code\": \"CA\", \"region\": \"SF Bay Area\", \"funding_rounds\": 3.0, \"founded_at\": \"2010-01-01\", \"founded_month\": \"2010-01\", \"founded_year\": 2010.0, \"first_funding_at\": \"2012-07-24\", \"last_funding_at\": \"2013-10-29\", \"seed\": 0.0, \"venture\": 100200000.0, \"equity_crowdfunding\": 0.0, \"undisclosed\": 0.0, \"convertible_note\": 0.0, \"debt_financing\": 0.0, \"angel\": 0.0, \"grant\": 0.0, \"private_equity\": 0.0, \"post_ipo_equity\": 0.0, \"post_ipo_debt\": 0.0, \"secondary_market\": 0.0, \"product_crowdfunding\": 0.0, \"round_A\": 18600000.0, \"round_B\": 21600000.0, \"round_C\": 60000000.0, \"round_D\": 0.0, \"round_E\": 0.0, \"round_F\": 0.0, \"round_G\": 0.0, \"round_H\": 0.0, \"lasting_year\": 4.0, \"Status_acquired\": 0, \"Status_closed\": 0, \"Status_operating\": 1, \"if_ipo\": 0, \"month\": 1.0, \"if_jan\": 1, \"found_fund_diff\": 935.0, \"fir_end_diff\": 462.0, \"new_market\": \"Others\", \"new_country\": \"USA\"}, {\"name\": \"Nexthink\", \"category_list\": \"|Software|\", \"market\": \"Software\", \"funding_total_usd\": 19187880.0, \"status\": \"operating\", \"country_code\": \"CHE\", \"state_code\": null, \"region\": \"Lausanne\", \"funding_rounds\": 4.0, \"founded_at\": \"2004-09-01\", \"founded_month\": \"2004-09\", \"founded_year\": 2004.0, \"first_funding_at\": \"2007-03-07\", \"last_funding_at\": \"2014-06-26\", \"seed\": 0.0, \"venture\": 19187880.0, \"equity_crowdfunding\": 0.0, \"undisclosed\": 0.0, \"convertible_note\": 0.0, \"debt_financing\": 0.0, \"angel\": 0.0, \"grant\": 0.0, \"private_equity\": 0.0, \"post_ipo_equity\": 0.0, \"post_ipo_debt\": 0.0, \"secondary_market\": 0.0, \"product_crowdfunding\": 0.0, \"round_A\": 0.0, \"round_B\": 4910000.0, \"round_C\": 5500000.0, \"round_D\": 0.0, \"round_E\": 0.0, \"round_F\": 0.0, \"round_G\": 0.0, \"round_H\": 0.0, \"lasting_year\": 10.0, \"Status_acquired\": 0, \"Status_closed\": 0, \"Status_operating\": 1, \"if_ipo\": 0, \"month\": 9.0, \"if_jan\": 0, \"found_fund_diff\": 917.0, \"fir_end_diff\": 2668.0, \"new_market\": \"Software\", \"new_country\": \"CHE\"}, {\"name\": \"o9 Solutions\", \"category_list\": \"|Enterprise Software|\", \"market\": \"EnterpriseSoftware\", \"funding_total_usd\": 9000000.0, \"status\": \"operating\", \"country_code\": \"USA\", \"state_code\": \"TX\", \"region\": \"Dallas\", \"funding_rounds\": 3.0, \"founded_at\": \"2009-01-01\", \"founded_month\": \"2009-01\", \"founded_year\": 2009.0, \"first_funding_at\": \"2012-12-06\", \"last_funding_at\": \"2014-10-14\", \"seed\": 3000000.0, \"venture\": 6000000.0, \"equity_crowdfunding\": 0.0, \"undisclosed\": 0.0, \"convertible_note\": 0.0, \"debt_financing\": 0.0, \"angel\": 0.0, \"grant\": 0.0, \"private_equity\": 0.0, \"post_ipo_equity\": 0.0, \"post_ipo_debt\": 0.0, \"secondary_market\": 0.0, \"product_crowdfunding\": 0.0, \"round_A\": 0.0, \"round_B\": 0.0, \"round_C\": 0.0, \"round_D\": 0.0, \"round_E\": 0.0, \"round_F\": 0.0, \"round_G\": 0.0, \"round_H\": 0.0, \"lasting_year\": 5.0, \"Status_acquired\": 0, \"Status_closed\": 0, \"Status_operating\": 1, \"if_ipo\": 0, \"month\": 1.0, \"if_jan\": 1, \"found_fund_diff\": 1435.0, \"fir_end_diff\": 677.0, \"new_market\": \"EnterpriseSoftware\", \"new_country\": \"USA\"}, {\"name\": \"One97 Communications\", \"category_list\": \"|Mobile|\", \"market\": \"Mobile\", \"funding_total_usd\": 35000000.0, \"status\": \"operating\", \"country_code\": \"IND\", \"state_code\": null, \"region\": \"New Delhi\", \"funding_rounds\": 3.0, \"founded_at\": \"2000-12-23\", \"founded_month\": \"2000-12\", \"founded_year\": 2000.0, \"first_funding_at\": \"2008-10-23\", \"last_funding_at\": \"2011-10-10\", \"seed\": 0.0, \"venture\": 35000000.0, \"equity_crowdfunding\": 0.0, \"undisclosed\": 0.0, \"convertible_note\": 0.0, \"debt_financing\": 0.0, \"angel\": 0.0, \"grant\": 0.0, \"private_equity\": 0.0, \"post_ipo_equity\": 0.0, \"post_ipo_debt\": 0.0, \"secondary_market\": 0.0, \"product_crowdfunding\": 0.0, \"round_A\": 0.0, \"round_B\": 0.0, \"round_C\": 0.0, \"round_D\": 0.0, \"round_E\": 0.0, \"round_F\": 0.0, \"round_G\": 0.0, \"round_H\": 0.0, \"lasting_year\": 14.0, \"Status_acquired\": 0, \"Status_closed\": 0, \"Status_operating\": 1, \"if_ipo\": 0, \"month\": 12.0, \"if_jan\": 0, \"found_fund_diff\": 2861.0, \"fir_end_diff\": 1082.0, \"new_market\": \"Mobile\", \"new_country\": \"IND\"}, {\"name\": \"OrCam Technologies\", \"category_list\": \"|Health and Wellness|\", \"market\": \"HealthandWellness\", \"funding_total_usd\": 15000000.0, \"status\": \"operating\", \"country_code\": \"ISR\", \"state_code\": null, \"region\": \"Tel Aviv\", \"funding_rounds\": 1.0, \"founded_at\": \"2010-01-01\", \"founded_month\": \"2010-01\", \"founded_year\": 2010.0, \"first_funding_at\": \"2014-03-27\", \"last_funding_at\": \"2014-03-27\", \"seed\": 0.0, \"venture\": 15000000.0, \"equity_crowdfunding\": 0.0, \"undisclosed\": 0.0, \"convertible_note\": 0.0, \"debt_financing\": 0.0, \"angel\": 0.0, \"grant\": 0.0, \"private_equity\": 0.0, \"post_ipo_equity\": 0.0, \"post_ipo_debt\": 0.0, \"secondary_market\": 0.0, \"product_crowdfunding\": 0.0, \"round_A\": 0.0, \"round_B\": 0.0, \"round_C\": 0.0, \"round_D\": 0.0, \"round_E\": 0.0, \"round_F\": 0.0, \"round_G\": 0.0, \"round_H\": 0.0, \"lasting_year\": 4.0, \"Status_acquired\": 0, \"Status_closed\": 0, \"Status_operating\": 1, \"if_ipo\": 0, \"month\": 1.0, \"if_jan\": 1, \"found_fund_diff\": 1546.0, \"fir_end_diff\": 0.0, \"new_market\": \"Others\", \"new_country\": \"ISR\"}, {\"name\": \"OutSystems\", \"category_list\": \"|Mobile Software Tools|Mobile Enterprise|Web Development|Mobile|PaaS|Enterprise Software|\", \"market\": \"MobileEnterprise\", \"funding_total_usd\": 3220000.0, \"status\": \"operating\", \"country_code\": \"USA\", \"state_code\": \"GA\", \"region\": \"Atlanta\", \"funding_rounds\": 1.0, \"founded_at\": \"2001-03-01\", \"founded_month\": \"2001-03\", \"founded_year\": 2001.0, \"first_funding_at\": \"2007-06-21\", \"last_funding_at\": \"2007-06-21\", \"seed\": 0.0, \"venture\": 3220000.0, \"equity_crowdfunding\": 0.0, \"undisclosed\": 0.0, \"convertible_note\": 0.0, \"debt_financing\": 0.0, \"angel\": 0.0, \"grant\": 0.0, \"private_equity\": 0.0, \"post_ipo_equity\": 0.0, \"post_ipo_debt\": 0.0, \"secondary_market\": 0.0, \"product_crowdfunding\": 0.0, \"round_A\": 0.0, \"round_B\": 3220000.0, \"round_C\": 0.0, \"round_D\": 0.0, \"round_E\": 0.0, \"round_F\": 0.0, \"round_G\": 0.0, \"round_H\": 0.0, \"lasting_year\": 13.0, \"Status_acquired\": 0, \"Status_closed\": 0, \"Status_operating\": 1, \"if_ipo\": 0, \"month\": 3.0, \"if_jan\": 0, \"found_fund_diff\": 2303.0, \"fir_end_diff\": 0.0, \"new_market\": \"Others\", \"new_country\": \"USA\"}, {\"name\": \"Oxford Nanopore Technologies\", \"category_list\": \"|Nanotechnology|\", \"market\": \"Nanotechnology\", \"funding_total_usd\": 211725149.0, \"status\": \"operating\", \"country_code\": \"GBR\", \"state_code\": null, \"region\": \"London\", \"funding_rounds\": 8.0, \"founded_at\": \"2005-01-01\", \"founded_month\": \"2005-01\", \"founded_year\": 2005.0, \"first_funding_at\": \"2005-05-23\", \"last_funding_at\": \"2014-08-12\", \"seed\": 0.0, \"venture\": 100321601.0, \"equity_crowdfunding\": 0.0, \"undisclosed\": 50793491.0, \"convertible_note\": 0.0, \"debt_financing\": 0.0, \"angel\": 0.0, \"grant\": 0.0, \"private_equity\": 60610057.0, \"post_ipo_equity\": 0.0, \"post_ipo_debt\": 0.0, \"secondary_market\": 0.0, \"product_crowdfunding\": 0.0, \"round_A\": 0.0, \"round_B\": 10260000.0, \"round_C\": 28000000.0, \"round_D\": 41190892.0, \"round_E\": 0.0, \"round_F\": 0.0, \"round_G\": 0.0, \"round_H\": 0.0, \"lasting_year\": 9.0, \"Status_acquired\": 0, \"Status_closed\": 0, \"Status_operating\": 1, \"if_ipo\": 0, \"month\": 1.0, \"if_jan\": 1, \"found_fund_diff\": 142.0, \"fir_end_diff\": 3368.0, \"new_market\": \"Others\", \"new_country\": \"GBR\"}, {\"name\": \"Patreon\", \"category_list\": \"|Video|Music|Artists Globally|Curated Web|\", \"market\": \"Music\", \"funding_total_usd\": 17100000.0, \"status\": \"operating\", \"country_code\": \"USA\", \"state_code\": \"CA\", \"region\": \"SF Bay Area\", \"funding_rounds\": 2.0, \"founded_at\": \"2013-05-07\", \"founded_month\": \"2013-05\", \"founded_year\": 2013.0, \"first_funding_at\": \"2013-08-01\", \"last_funding_at\": \"2014-06-23\", \"seed\": 2100000.0, \"venture\": 15000000.0, \"equity_crowdfunding\": 0.0, \"undisclosed\": 0.0, \"convertible_note\": 0.0, \"debt_financing\": 0.0, \"angel\": 0.0, \"grant\": 0.0, \"private_equity\": 0.0, \"post_ipo_equity\": 0.0, \"post_ipo_debt\": 0.0, \"secondary_market\": 0.0, \"product_crowdfunding\": 0.0, \"round_A\": 15000000.0, \"round_B\": 0.0, \"round_C\": 0.0, \"round_D\": 0.0, \"round_E\": 0.0, \"round_F\": 0.0, \"round_G\": 0.0, \"round_H\": 0.0, \"lasting_year\": 1.0, \"Status_acquired\": 0, \"Status_closed\": 0, \"Status_operating\": 1, \"if_ipo\": 0, \"month\": 5.0, \"if_jan\": 0, \"found_fund_diff\": 86.0, \"fir_end_diff\": 326.0, \"new_market\": \"Others\", \"new_country\": \"USA\"}, {\"name\": \"Planet Labs\", \"category_list\": \"|Geospatial|Aerospace|\", \"market\": \"Geospatial\", \"funding_total_usd\": 65100000.0, \"status\": \"operating\", \"country_code\": \"USA\", \"state_code\": \"CA\", \"region\": \"SF Bay Area\", \"funding_rounds\": 2.0, \"founded_at\": \"2010-12-29\", \"founded_month\": \"2010-12\", \"founded_year\": 2010.0, \"first_funding_at\": \"2013-06-25\", \"last_funding_at\": \"2013-12-18\", \"seed\": 0.0, \"venture\": 65100000.0, \"equity_crowdfunding\": 0.0, \"undisclosed\": 0.0, \"convertible_note\": 0.0, \"debt_financing\": 0.0, \"angel\": 0.0, \"grant\": 0.0, \"private_equity\": 0.0, \"post_ipo_equity\": 0.0, \"post_ipo_debt\": 0.0, \"secondary_market\": 0.0, \"product_crowdfunding\": 0.0, \"round_A\": 13100000.0, \"round_B\": 52000000.0, \"round_C\": 0.0, \"round_D\": 0.0, \"round_E\": 0.0, \"round_F\": 0.0, \"round_G\": 0.0, \"round_H\": 0.0, \"lasting_year\": 4.0, \"Status_acquired\": 0, \"Status_closed\": 0, \"Status_operating\": 1, \"if_ipo\": 0, \"month\": 12.0, \"if_jan\": 0, \"found_fund_diff\": 909.0, \"fir_end_diff\": 176.0, \"new_market\": \"Others\", \"new_country\": \"USA\"}, {\"name\": \"PolicyBazaar\", \"category_list\": \"|Finance|\", \"market\": \"Finance\", \"funding_total_usd\": 29600000.0, \"status\": \"operating\", \"country_code\": \"IND\", \"state_code\": null, \"region\": \"New Delhi\", \"funding_rounds\": 4.0, \"founded_at\": \"2008-01-01\", \"founded_month\": \"2008-01\", \"founded_year\": 2008.0, \"first_funding_at\": \"2011-05-25\", \"last_funding_at\": \"2014-05-26\", \"seed\": 0.0, \"venture\": 29600000.0, \"equity_crowdfunding\": 0.0, \"undisclosed\": 0.0, \"convertible_note\": 0.0, \"debt_financing\": 0.0, \"angel\": 0.0, \"grant\": 0.0, \"private_equity\": 0.0, \"post_ipo_equity\": 0.0, \"post_ipo_debt\": 0.0, \"secondary_market\": 0.0, \"product_crowdfunding\": 0.0, \"round_A\": 4600000.0, \"round_B\": 5000000.0, \"round_C\": 20000000.0, \"round_D\": 0.0, \"round_E\": 0.0, \"round_F\": 0.0, \"round_G\": 0.0, \"round_H\": 0.0, \"lasting_year\": 6.0, \"Status_acquired\": 0, \"Status_closed\": 0, \"Status_operating\": 1, \"if_ipo\": 0, \"month\": 1.0, \"if_jan\": 1, \"found_fund_diff\": 1240.0, \"fir_end_diff\": 1097.0, \"new_market\": \"Others\", \"new_country\": \"IND\"}, {\"name\": \"Quanergy Systems\", \"category_list\": \"|Information Services|Information Technology|\", \"market\": \"InformationTechnology\", \"funding_total_usd\": 34499960.0, \"status\": \"operating\", \"country_code\": \"USA\", \"state_code\": \"CA\", \"region\": \"SF Bay Area\", \"funding_rounds\": 2.0, \"founded_at\": \"2012-11-01\", \"founded_month\": \"2012-11\", \"founded_year\": 2012.0, \"first_funding_at\": \"2014-05-16\", \"last_funding_at\": \"2014-10-31\", \"seed\": 0.0, \"venture\": 34499960.0, \"equity_crowdfunding\": 0.0, \"undisclosed\": 0.0, \"convertible_note\": 0.0, \"debt_financing\": 0.0, \"angel\": 0.0, \"grant\": 0.0, \"private_equity\": 0.0, \"post_ipo_equity\": 0.0, \"post_ipo_debt\": 0.0, \"secondary_market\": 0.0, \"product_crowdfunding\": 0.0, \"round_A\": 30000000.0, \"round_B\": 0.0, \"round_C\": 0.0, \"round_D\": 0.0, \"round_E\": 0.0, \"round_F\": 0.0, \"round_G\": 0.0, \"round_H\": 0.0, \"lasting_year\": 2.0, \"Status_acquired\": 0, \"Status_closed\": 0, \"Status_operating\": 1, \"if_ipo\": 0, \"month\": 11.0, \"if_jan\": 0, \"found_fund_diff\": 561.0, \"fir_end_diff\": 168.0, \"new_market\": \"Others\", \"new_country\": \"USA\"}, {\"name\": \"Quora\", \"category_list\": \"|Semantic Search|Curated Web|\", \"market\": \"SemanticSearch\", \"funding_total_usd\": 161000000.0, \"status\": \"operating\", \"country_code\": \"USA\", \"state_code\": \"CA\", \"region\": \"SF Bay Area\", \"funding_rounds\": 3.0, \"founded_at\": \"2009-06-01\", \"founded_month\": \"2009-06\", \"founded_year\": 2009.0, \"first_funding_at\": \"2010-03-28\", \"last_funding_at\": \"2014-04-09\", \"seed\": 0.0, \"venture\": 161000000.0, \"equity_crowdfunding\": 0.0, \"undisclosed\": 0.0, \"convertible_note\": 0.0, \"debt_financing\": 0.0, \"angel\": 0.0, \"grant\": 0.0, \"private_equity\": 0.0, \"post_ipo_equity\": 0.0, \"post_ipo_debt\": 0.0, \"secondary_market\": 0.0, \"product_crowdfunding\": 0.0, \"round_A\": 11000000.0, \"round_B\": 50000000.0, \"round_C\": 100000000.0, \"round_D\": 0.0, \"round_E\": 0.0, \"round_F\": 0.0, \"round_G\": 0.0, \"round_H\": 0.0, \"lasting_year\": 5.0, \"Status_acquired\": 0, \"Status_closed\": 0, \"Status_operating\": 1, \"if_ipo\": 0, \"month\": 6.0, \"if_jan\": 0, \"found_fund_diff\": 300.0, \"fir_end_diff\": 1473.0, \"new_market\": \"Others\", \"new_country\": \"USA\"}, {\"name\": \"Red Ventures\", \"category_list\": \"|Technology|Search Marketing|Sales and Marketing|Internet Marketing|SEO|Web Development|Advertising|\", \"market\": \"SalesandMarketing\", \"funding_total_usd\": 0.0, \"status\": \"operating\", \"country_code\": \"USA\", \"state_code\": \"SC\", \"region\": \"SC - Other\", \"funding_rounds\": 1.0, \"founded_at\": \"2000-01-01\", \"founded_month\": \"2000-01\", \"founded_year\": 2000.0, \"first_funding_at\": \"2011-01-01\", \"last_funding_at\": \"2011-01-01\", \"seed\": 0.0, \"venture\": 0.0, \"equity_crowdfunding\": 0.0, \"undisclosed\": 0.0, \"convertible_note\": 0.0, \"debt_financing\": 0.0, \"angel\": 0.0, \"grant\": 0.0, \"private_equity\": 0.0, \"post_ipo_equity\": 0.0, \"post_ipo_debt\": 0.0, \"secondary_market\": 0.0, \"product_crowdfunding\": 0.0, \"round_A\": 0.0, \"round_B\": 0.0, \"round_C\": 0.0, \"round_D\": 0.0, \"round_E\": 0.0, \"round_F\": 0.0, \"round_G\": 0.0, \"round_H\": 0.0, \"lasting_year\": 14.0, \"Status_acquired\": 0, \"Status_closed\": 0, \"Status_operating\": 1, \"if_ipo\": 0, \"month\": 1.0, \"if_jan\": 1, \"found_fund_diff\": 4018.0, \"fir_end_diff\": 0.0, \"new_market\": \"Others\", \"new_country\": \"USA\"}, {\"name\": \"Redis Labs\", \"category_list\": \"|PaaS|SaaS|IaaS|Open Source|Databases|Cloud Data Services|Networking|Big Data|Enterprise Software|\", \"market\": \"IaaS\", \"funding_total_usd\": 13000000.0, \"status\": \"operating\", \"country_code\": \"USA\", \"state_code\": \"CA\", \"region\": \"SF Bay Area\", \"funding_rounds\": 2.0, \"founded_at\": \"2011-01-01\", \"founded_month\": \"2011-01\", \"founded_year\": 2011.0, \"first_funding_at\": \"2012-08-08\", \"last_funding_at\": \"2013-11-05\", \"seed\": 4000000.0, \"venture\": 9000000.0, \"equity_crowdfunding\": 0.0, \"undisclosed\": 0.0, \"convertible_note\": 0.0, \"debt_financing\": 0.0, \"angel\": 0.0, \"grant\": 0.0, \"private_equity\": 0.0, \"post_ipo_equity\": 0.0, \"post_ipo_debt\": 0.0, \"secondary_market\": 0.0, \"product_crowdfunding\": 0.0, \"round_A\": 9000000.0, \"round_B\": 0.0, \"round_C\": 0.0, \"round_D\": 0.0, \"round_E\": 0.0, \"round_F\": 0.0, \"round_G\": 0.0, \"round_H\": 0.0, \"lasting_year\": 3.0, \"Status_acquired\": 0, \"Status_closed\": 0, \"Status_operating\": 1, \"if_ipo\": 0, \"month\": 1.0, \"if_jan\": 1, \"found_fund_diff\": 585.0, \"fir_end_diff\": 454.0, \"new_market\": \"Others\", \"new_country\": \"USA\"}, {\"name\": \"Remitly\", \"category_list\": \"|Finance|Mobile Payments|Mobile|\", \"market\": \"MobilePayments\", \"funding_total_usd\": 10500000.0, \"status\": \"operating\", \"country_code\": \"USA\", \"state_code\": \"WA\", \"region\": \"Seattle\", \"funding_rounds\": 5.0, \"founded_at\": \"2011-05-23\", \"founded_month\": \"2011-05\", \"founded_year\": 2011.0, \"first_funding_at\": \"2011-10-27\", \"last_funding_at\": \"2014-01-06\", \"seed\": 2400000.0, \"venture\": 8100000.0, \"equity_crowdfunding\": 0.0, \"undisclosed\": 0.0, \"convertible_note\": 0.0, \"debt_financing\": 0.0, \"angel\": 0.0, \"grant\": 0.0, \"private_equity\": 0.0, \"post_ipo_equity\": 0.0, \"post_ipo_debt\": 0.0, \"secondary_market\": 0.0, \"product_crowdfunding\": 0.0, \"round_A\": 8100000.0, \"round_B\": 0.0, \"round_C\": 0.0, \"round_D\": 0.0, \"round_E\": 0.0, \"round_F\": 0.0, \"round_G\": 0.0, \"round_H\": 0.0, \"lasting_year\": 3.0, \"Status_acquired\": 0, \"Status_closed\": 0, \"Status_operating\": 1, \"if_ipo\": 0, \"month\": 5.0, \"if_jan\": 0, \"found_fund_diff\": 157.0, \"fir_end_diff\": 802.0, \"new_market\": \"Others\", \"new_country\": \"USA\"}, {\"name\": \"Rent the Runway\", \"category_list\": \"|Fashion|E-Commerce|\", \"market\": \"E-Commerce\", \"funding_total_usd\": 54400000.0, \"status\": \"operating\", \"country_code\": \"USA\", \"state_code\": \"NY\", \"region\": \"New York City\", \"funding_rounds\": 3.0, \"founded_at\": \"2009-11-09\", \"founded_month\": \"2009-11\", \"founded_year\": 2009.0, \"first_funding_at\": \"2010-02-25\", \"last_funding_at\": \"2013-03-20\", \"seed\": 0.0, \"venture\": 54400000.0, \"equity_crowdfunding\": 0.0, \"undisclosed\": 0.0, \"convertible_note\": 0.0, \"debt_financing\": 0.0, \"angel\": 0.0, \"grant\": 0.0, \"private_equity\": 0.0, \"post_ipo_equity\": 0.0, \"post_ipo_debt\": 0.0, \"secondary_market\": 0.0, \"product_crowdfunding\": 0.0, \"round_A\": 15000000.0, \"round_B\": 15000000.0, \"round_C\": 24400000.0, \"round_D\": 0.0, \"round_E\": 0.0, \"round_F\": 0.0, \"round_G\": 0.0, \"round_H\": 0.0, \"lasting_year\": 5.0, \"Status_acquired\": 0, \"Status_closed\": 0, \"Status_operating\": 1, \"if_ipo\": 0, \"month\": 11.0, \"if_jan\": 0, \"found_fund_diff\": 108.0, \"fir_end_diff\": 1119.0, \"new_market\": \"E-Commerce\", \"new_country\": \"USA\"}, {\"name\": \"Revolut\", \"category_list\": \"|Customer Service|Financial Services|Information Technology|\", \"market\": \"CustomerService\", \"funding_total_usd\": 500000.0, \"status\": \"operating\", \"country_code\": \"GBR\", \"state_code\": null, \"region\": \"London\", \"funding_rounds\": 1.0, \"founded_at\": \"2014-01-01\", \"founded_month\": \"2014-01\", \"founded_year\": 2014.0, \"first_funding_at\": \"2014-06-28\", \"last_funding_at\": \"2014-06-28\", \"seed\": 500000.0, \"venture\": 0.0, \"equity_crowdfunding\": 0.0, \"undisclosed\": 0.0, \"convertible_note\": 0.0, \"debt_financing\": 0.0, \"angel\": 0.0, \"grant\": 0.0, \"private_equity\": 0.0, \"post_ipo_equity\": 0.0, \"post_ipo_debt\": 0.0, \"secondary_market\": 0.0, \"product_crowdfunding\": 0.0, \"round_A\": 0.0, \"round_B\": 0.0, \"round_C\": 0.0, \"round_D\": 0.0, \"round_E\": 0.0, \"round_F\": 0.0, \"round_G\": 0.0, \"round_H\": 0.0, \"lasting_year\": 0.0, \"Status_acquired\": 0, \"Status_closed\": 0, \"Status_operating\": 1, \"if_ipo\": 0, \"month\": 1.0, \"if_jan\": 1, \"found_fund_diff\": 178.0, \"fir_end_diff\": 0.0, \"new_market\": \"Others\", \"new_country\": \"GBR\"}, {\"name\": \"Riskified\", \"category_list\": \"|Fraud Detection|E-Commerce|\", \"market\": \"E-Commerce\", \"funding_total_usd\": 5650000.0, \"status\": \"operating\", \"country_code\": \"ISR\", \"state_code\": null, \"region\": \"Tel Aviv\", \"funding_rounds\": 2.0, \"founded_at\": \"2012-01-01\", \"founded_month\": \"2012-01\", \"founded_year\": 2012.0, \"first_funding_at\": \"2013-07-08\", \"last_funding_at\": \"2014-02-01\", \"seed\": 1650000.0, \"venture\": 4000000.0, \"equity_crowdfunding\": 0.0, \"undisclosed\": 0.0, \"convertible_note\": 0.0, \"debt_financing\": 0.0, \"angel\": 0.0, \"grant\": 0.0, \"private_equity\": 0.0, \"post_ipo_equity\": 0.0, \"post_ipo_debt\": 0.0, \"secondary_market\": 0.0, \"product_crowdfunding\": 0.0, \"round_A\": 4000000.0, \"round_B\": 0.0, \"round_C\": 0.0, \"round_D\": 0.0, \"round_E\": 0.0, \"round_F\": 0.0, \"round_G\": 0.0, \"round_H\": 0.0, \"lasting_year\": 2.0, \"Status_acquired\": 0, \"Status_closed\": 0, \"Status_operating\": 1, \"if_ipo\": 0, \"month\": 1.0, \"if_jan\": 1, \"found_fund_diff\": 554.0, \"fir_end_diff\": 208.0, \"new_market\": \"E-Commerce\", \"new_country\": \"ISR\"}, {\"name\": \"Robinhood\", \"category_list\": \"|Personal Finance|Stock Exchanges|Finance|Mobile|\", \"market\": \"PersonalFinance\", \"funding_total_usd\": 16000000.0, \"status\": \"operating\", \"country_code\": \"USA\", \"state_code\": \"CA\", \"region\": \"SF Bay Area\", \"funding_rounds\": 3.0, \"founded_at\": \"2013-01-01\", \"founded_month\": \"2013-01\", \"founded_year\": 2013.0, \"first_funding_at\": \"2013-04-18\", \"last_funding_at\": \"2014-09-23\", \"seed\": 3000000.0, \"venture\": 13000000.0, \"equity_crowdfunding\": 0.0, \"undisclosed\": 0.0, \"convertible_note\": 0.0, \"debt_financing\": 0.0, \"angel\": 0.0, \"grant\": 0.0, \"private_equity\": 0.0, \"post_ipo_equity\": 0.0, \"post_ipo_debt\": 0.0, \"secondary_market\": 0.0, \"product_crowdfunding\": 0.0, \"round_A\": 13000000.0, \"round_B\": 0.0, \"round_C\": 0.0, \"round_D\": 0.0, \"round_E\": 0.0, \"round_F\": 0.0, \"round_G\": 0.0, \"round_H\": 0.0, \"lasting_year\": 1.0, \"Status_acquired\": 0, \"Status_closed\": 0, \"Status_operating\": 1, \"if_ipo\": 0, \"month\": 1.0, \"if_jan\": 1, \"found_fund_diff\": 107.0, \"fir_end_diff\": 523.0, \"new_market\": \"Others\", \"new_country\": \"USA\"}, {\"name\": \"SalesLoft\", \"category_list\": \"|Sales Automation|Sales and Marketing|Lead Generation|B2B|SaaS|Software|\", \"market\": \"SalesAutomation\", \"funding_total_usd\": 818000.0, \"status\": \"operating\", \"country_code\": \"USA\", \"state_code\": \"CO\", \"region\": \"Denver\", \"funding_rounds\": 3.0, \"founded_at\": \"2011-09-12\", \"founded_month\": \"2011-09\", \"founded_year\": 2011.0, \"first_funding_at\": \"2011-09-12\", \"last_funding_at\": \"2014-08-14\", \"seed\": 18000.0, \"venture\": 800000.0, \"equity_crowdfunding\": 0.0, \"undisclosed\": 0.0, \"convertible_note\": 0.0, \"debt_financing\": 0.0, \"angel\": 0.0, \"grant\": 0.0, \"private_equity\": 0.0, \"post_ipo_equity\": 0.0, \"post_ipo_debt\": 0.0, \"secondary_market\": 0.0, \"product_crowdfunding\": 0.0, \"round_A\": 800000.0, \"round_B\": 0.0, \"round_C\": 0.0, \"round_D\": 0.0, \"round_E\": 0.0, \"round_F\": 0.0, \"round_G\": 0.0, \"round_H\": 0.0, \"lasting_year\": 3.0, \"Status_acquired\": 0, \"Status_closed\": 0, \"Status_operating\": 1, \"if_ipo\": 0, \"month\": 9.0, \"if_jan\": 0, \"found_fund_diff\": 0.0, \"fir_end_diff\": 1067.0, \"new_market\": \"Others\", \"new_country\": \"USA\"}, {\"name\": \"Scopely\", \"category_list\": \"|Publishing|Mobile Games|FreetoPlay Gaming|Mobile|\", \"market\": \"FreetoPlayGaming\", \"funding_total_usd\": 43500000.0, \"status\": \"operating\", \"country_code\": \"USA\", \"state_code\": \"CA\", \"region\": \"Los Angeles\", \"funding_rounds\": 3.0, \"founded_at\": \"2011-01-26\", \"founded_month\": \"2011-01\", \"founded_year\": 2011.0, \"first_funding_at\": \"2011-04-17\", \"last_funding_at\": \"2014-11-13\", \"seed\": 0.0, \"venture\": 43500000.0, \"equity_crowdfunding\": 0.0, \"undisclosed\": 0.0, \"convertible_note\": 0.0, \"debt_financing\": 0.0, \"angel\": 0.0, \"grant\": 0.0, \"private_equity\": 0.0, \"post_ipo_equity\": 0.0, \"post_ipo_debt\": 0.0, \"secondary_market\": 0.0, \"product_crowdfunding\": 0.0, \"round_A\": 35000000.0, \"round_B\": 0.0, \"round_C\": 0.0, \"round_D\": 0.0, \"round_E\": 0.0, \"round_F\": 0.0, \"round_G\": 0.0, \"round_H\": 0.0, \"lasting_year\": 3.0, \"Status_acquired\": 0, \"Status_closed\": 0, \"Status_operating\": 1, \"if_ipo\": 0, \"month\": 1.0, \"if_jan\": 1, \"found_fund_diff\": 81.0, \"fir_end_diff\": 1306.0, \"new_market\": \"Others\", \"new_country\": \"USA\"}, {\"name\": \"SentinelOne\", \"category_list\": \"|Security|\", \"market\": \"Security\", \"funding_total_usd\": 14520000.0, \"status\": \"operating\", \"country_code\": null, \"state_code\": null, \"region\": null, \"funding_rounds\": 3.0, \"founded_at\": \"2013-01-01\", \"founded_month\": \"2013-01\", \"founded_year\": 2013.0, \"first_funding_at\": \"2013-03-15\", \"last_funding_at\": \"2014-04-23\", \"seed\": 2520000.0, \"venture\": 12000000.0, \"equity_crowdfunding\": 0.0, \"undisclosed\": 0.0, \"convertible_note\": 0.0, \"debt_financing\": 0.0, \"angel\": 0.0, \"grant\": 0.0, \"private_equity\": 0.0, \"post_ipo_equity\": 0.0, \"post_ipo_debt\": 0.0, \"secondary_market\": 0.0, \"product_crowdfunding\": 0.0, \"round_A\": 12000000.0, \"round_B\": 0.0, \"round_C\": 0.0, \"round_D\": 0.0, \"round_E\": 0.0, \"round_F\": 0.0, \"round_G\": 0.0, \"round_H\": 0.0, \"lasting_year\": 1.0, \"Status_acquired\": 0, \"Status_closed\": 0, \"Status_operating\": 1, \"if_ipo\": 0, \"month\": 1.0, \"if_jan\": 1, \"found_fund_diff\": 73.0, \"fir_end_diff\": 404.0, \"new_market\": \"Others\", \"new_country\": \"Others\"}, {\"name\": \"ServiceTitan\", \"category_list\": \"|Software|\", \"market\": \"Software\", \"funding_total_usd\": 0.0, \"status\": \"operating\", \"country_code\": null, \"state_code\": null, \"region\": null, \"funding_rounds\": 1.0, \"founded_at\": \"2013-01-01\", \"founded_month\": \"2013-01\", \"founded_year\": 2013.0, \"first_funding_at\": \"2014-01-23\", \"last_funding_at\": \"2014-01-23\", \"seed\": 0.0, \"venture\": 0.0, \"equity_crowdfunding\": 0.0, \"undisclosed\": 0.0, \"convertible_note\": 0.0, \"debt_financing\": 0.0, \"angel\": 0.0, \"grant\": 0.0, \"private_equity\": 0.0, \"post_ipo_equity\": 0.0, \"post_ipo_debt\": 0.0, \"secondary_market\": 0.0, \"product_crowdfunding\": 0.0, \"round_A\": 0.0, \"round_B\": 0.0, \"round_C\": 0.0, \"round_D\": 0.0, \"round_E\": 0.0, \"round_F\": 0.0, \"round_G\": 0.0, \"round_H\": 0.0, \"lasting_year\": 1.0, \"Status_acquired\": 0, \"Status_closed\": 0, \"Status_operating\": 1, \"if_ipo\": 0, \"month\": 1.0, \"if_jan\": 1, \"found_fund_diff\": 387.0, \"fir_end_diff\": 0.0, \"new_market\": \"Software\", \"new_country\": \"Others\"}, {\"name\": \"SmartNews\", \"category_list\": \"|News|Apps|Software|\", \"market\": \"Apps\", \"funding_total_usd\": 40200000.0, \"status\": \"operating\", \"country_code\": \"JPN\", \"state_code\": null, \"region\": \"Tokyo\", \"funding_rounds\": 2.0, \"founded_at\": \"2012-06-15\", \"founded_month\": \"2012-06\", \"founded_year\": 2012.0, \"first_funding_at\": \"2013-08-14\", \"last_funding_at\": \"2014-08-07\", \"seed\": 0.0, \"venture\": 40200000.0, \"equity_crowdfunding\": 0.0, \"undisclosed\": 0.0, \"convertible_note\": 0.0, \"debt_financing\": 0.0, \"angel\": 0.0, \"grant\": 0.0, \"private_equity\": 0.0, \"post_ipo_equity\": 0.0, \"post_ipo_debt\": 0.0, \"secondary_market\": 0.0, \"product_crowdfunding\": 0.0, \"round_A\": 4200000.0, \"round_B\": 36000000.0, \"round_C\": 0.0, \"round_D\": 0.0, \"round_E\": 0.0, \"round_F\": 0.0, \"round_G\": 0.0, \"round_H\": 0.0, \"lasting_year\": 2.0, \"Status_acquired\": 0, \"Status_closed\": 0, \"Status_operating\": 1, \"if_ipo\": 0, \"month\": 6.0, \"if_jan\": 0, \"found_fund_diff\": 425.0, \"fir_end_diff\": 358.0, \"new_market\": \"Others\", \"new_country\": \"Others\"}, {\"name\": \"SMS Assist\", \"category_list\": \"|Enterprise Software|\", \"market\": \"EnterpriseSoftware\", \"funding_total_usd\": 60000000.0, \"status\": \"operating\", \"country_code\": \"USA\", \"state_code\": \"IL\", \"region\": \"Chicago\", \"funding_rounds\": 2.0, \"founded_at\": \"1995-01-01\", \"founded_month\": \"1995-01\", \"founded_year\": 1995.0, \"first_funding_at\": \"2011-06-22\", \"last_funding_at\": \"2013-10-22\", \"seed\": 0.0, \"venture\": 60000000.0, \"equity_crowdfunding\": 0.0, \"undisclosed\": 0.0, \"convertible_note\": 0.0, \"debt_financing\": 0.0, \"angel\": 0.0, \"grant\": 0.0, \"private_equity\": 0.0, \"post_ipo_equity\": 0.0, \"post_ipo_debt\": 0.0, \"secondary_market\": 0.0, \"product_crowdfunding\": 0.0, \"round_A\": 0.0, \"round_B\": 0.0, \"round_C\": 0.0, \"round_D\": 0.0, \"round_E\": 0.0, \"round_F\": 0.0, \"round_G\": 0.0, \"round_H\": 0.0, \"lasting_year\": 19.0, \"Status_acquired\": 0, \"Status_closed\": 0, \"Status_operating\": 1, \"if_ipo\": 0, \"month\": 1.0, \"if_jan\": 1, \"found_fund_diff\": 6016.0, \"fir_end_diff\": 853.0, \"new_market\": \"EnterpriseSoftware\", \"new_country\": \"USA\"}, {\"name\": \"Snapdeal\", \"category_list\": \"|E-Commerce|\", \"market\": \"E-Commerce\", \"funding_total_usd\": 1062700000.0, \"status\": \"operating\", \"country_code\": \"IND\", \"state_code\": null, \"region\": \"New Delhi\", \"funding_rounds\": 8.0, \"founded_at\": \"2010-01-01\", \"founded_month\": \"2010-01\", \"founded_year\": 2010.0, \"first_funding_at\": \"2011-01-01\", \"last_funding_at\": \"2014-10-27\", \"seed\": 0.0, \"venture\": 335700000.0, \"equity_crowdfunding\": 0.0, \"undisclosed\": 0.0, \"convertible_note\": 0.0, \"debt_financing\": 0.0, \"angel\": 0.0, \"grant\": 0.0, \"private_equity\": 727000000.0, \"post_ipo_equity\": 0.0, \"post_ipo_debt\": 0.0, \"secondary_market\": 0.0, \"product_crowdfunding\": 0.0, \"round_A\": 12000000.0, \"round_B\": 40000000.0, \"round_C\": 0.0, \"round_D\": 75000000.0, \"round_E\": 75000000.0, \"round_F\": 133700000.0, \"round_G\": 0.0, \"round_H\": 0.0, \"lasting_year\": 4.0, \"Status_acquired\": 0, \"Status_closed\": 0, \"Status_operating\": 1, \"if_ipo\": 0, \"month\": 1.0, \"if_jan\": 1, \"found_fund_diff\": 365.0, \"fir_end_diff\": 1395.0, \"new_market\": \"E-Commerce\", \"new_country\": \"IND\"}, {\"name\": \"Socar\", \"category_list\": \"|Travel|Shared Services|\", \"market\": \"SharedServices\", \"funding_total_usd\": 18000000.0, \"status\": \"operating\", \"country_code\": \"KOR\", \"state_code\": null, \"region\": \"Busan\", \"funding_rounds\": 1.0, \"founded_at\": \"2011-11-10\", \"founded_month\": \"2011-11\", \"founded_year\": 2011.0, \"first_funding_at\": \"2014-10-14\", \"last_funding_at\": \"2014-10-14\", \"seed\": 0.0, \"venture\": 18000000.0, \"equity_crowdfunding\": 0.0, \"undisclosed\": 0.0, \"convertible_note\": 0.0, \"debt_financing\": 0.0, \"angel\": 0.0, \"grant\": 0.0, \"private_equity\": 0.0, \"post_ipo_equity\": 0.0, \"post_ipo_debt\": 0.0, \"secondary_market\": 0.0, \"product_crowdfunding\": 0.0, \"round_A\": 18000000.0, \"round_B\": 0.0, \"round_C\": 0.0, \"round_D\": 0.0, \"round_E\": 0.0, \"round_F\": 0.0, \"round_G\": 0.0, \"round_H\": 0.0, \"lasting_year\": 3.0, \"Status_acquired\": 0, \"Status_closed\": 0, \"Status_operating\": 1, \"if_ipo\": 0, \"month\": 11.0, \"if_jan\": 0, \"found_fund_diff\": 1069.0, \"fir_end_diff\": 0.0, \"new_market\": \"Others\", \"new_country\": \"KOR\"}, {\"name\": \"Socure\", \"category_list\": \"|Machine Learning|Social Media|Security|\", \"market\": \"Security\", \"funding_total_usd\": 4700000.0, \"status\": \"operating\", \"country_code\": \"USA\", \"state_code\": \"NY\", \"region\": \"New York City\", \"funding_rounds\": 2.0, \"founded_at\": \"2012-09-01\", \"founded_month\": \"2012-09\", \"founded_year\": 2012.0, \"first_funding_at\": \"2014-03-01\", \"last_funding_at\": \"2014-10-28\", \"seed\": 2200000.0, \"venture\": 2500000.0, \"equity_crowdfunding\": 0.0, \"undisclosed\": 0.0, \"convertible_note\": 0.0, \"debt_financing\": 0.0, \"angel\": 0.0, \"grant\": 0.0, \"private_equity\": 0.0, \"post_ipo_equity\": 0.0, \"post_ipo_debt\": 0.0, \"secondary_market\": 0.0, \"product_crowdfunding\": 0.0, \"round_A\": 2500000.0, \"round_B\": 0.0, \"round_C\": 0.0, \"round_D\": 0.0, \"round_E\": 0.0, \"round_F\": 0.0, \"round_G\": 0.0, \"round_H\": 0.0, \"lasting_year\": 2.0, \"Status_acquired\": 0, \"Status_closed\": 0, \"Status_operating\": 1, \"if_ipo\": 0, \"month\": 9.0, \"if_jan\": 0, \"found_fund_diff\": 546.0, \"fir_end_diff\": 241.0, \"new_market\": \"Others\", \"new_country\": \"USA\"}, {\"name\": \"SoundHound\", \"category_list\": \"|Games|\", \"market\": \"Games\", \"funding_total_usd\": 4000000.0, \"status\": \"operating\", \"country_code\": \"USA\", \"state_code\": \"CA\", \"region\": \"SF Bay Area\", \"funding_rounds\": 6.0, \"founded_at\": \"2005-09-01\", \"founded_month\": \"2005-09\", \"founded_year\": 2005.0, \"first_funding_at\": \"2006-05-31\", \"last_funding_at\": \"2013-12-09\", \"seed\": 0.0, \"venture\": 4000000.0, \"equity_crowdfunding\": 0.0, \"undisclosed\": 0.0, \"convertible_note\": 0.0, \"debt_financing\": 0.0, \"angel\": 0.0, \"grant\": 0.0, \"private_equity\": 0.0, \"post_ipo_equity\": 0.0, \"post_ipo_debt\": 0.0, \"secondary_market\": 0.0, \"product_crowdfunding\": 0.0, \"round_A\": 0.0, \"round_B\": 0.0, \"round_C\": 0.0, \"round_D\": 0.0, \"round_E\": 0.0, \"round_F\": 0.0, \"round_G\": 0.0, \"round_H\": 0.0, \"lasting_year\": 9.0, \"Status_acquired\": 0, \"Status_closed\": 0, \"Status_operating\": 1, \"if_ipo\": 0, \"month\": 9.0, \"if_jan\": 0, \"found_fund_diff\": 272.0, \"fir_end_diff\": 2749.0, \"new_market\": \"Others\", \"new_country\": \"USA\"}, {\"name\": \"Sprinklr\", \"category_list\": \"|Analytics|Advertising|Social CRM|Blogging Platforms|Social Media|Social Media Management|Twitter Applications|Facebook Applications|Social Media Marketing|Enterprise Software|\", \"market\": \"SocialCRM\", \"funding_total_usd\": 77500000.0, \"status\": \"operating\", \"country_code\": \"USA\", \"state_code\": \"NY\", \"region\": \"New York City\", \"funding_rounds\": 4.0, \"founded_at\": \"2009-09-01\", \"founded_month\": \"2009-09\", \"founded_year\": 2009.0, \"first_funding_at\": \"2012-03-07\", \"last_funding_at\": \"2014-04-29\", \"seed\": 0.0, \"venture\": 77500000.0, \"equity_crowdfunding\": 0.0, \"undisclosed\": 0.0, \"convertible_note\": 0.0, \"debt_financing\": 0.0, \"angel\": 0.0, \"grant\": 0.0, \"private_equity\": 0.0, \"post_ipo_equity\": 0.0, \"post_ipo_debt\": 0.0, \"secondary_market\": 0.0, \"product_crowdfunding\": 0.0, \"round_A\": 5000000.0, \"round_B\": 15000000.0, \"round_C\": 17500000.0, \"round_D\": 40000000.0, \"round_E\": 0.0, \"round_F\": 0.0, \"round_G\": 0.0, \"round_H\": 0.0, \"lasting_year\": 5.0, \"Status_acquired\": 0, \"Status_closed\": 0, \"Status_operating\": 1, \"if_ipo\": 0, \"month\": 9.0, \"if_jan\": 0, \"found_fund_diff\": 918.0, \"fir_end_diff\": 783.0, \"new_market\": \"Others\", \"new_country\": \"USA\"}, {\"name\": \"Squarespace\", \"category_list\": \"|Content|Blogging Platforms|Web CMS|Web Design|Software|Curated Web|\", \"market\": \"CuratedWeb\", \"funding_total_usd\": 78500000.0, \"status\": \"operating\", \"country_code\": \"USA\", \"state_code\": \"NY\", \"region\": \"New York City\", \"funding_rounds\": 2.0, \"founded_at\": \"2004-01-01\", \"founded_month\": \"2004-01\", \"founded_year\": 2004.0, \"first_funding_at\": \"2010-07-13\", \"last_funding_at\": \"2014-04-15\", \"seed\": 0.0, \"venture\": 78500000.0, \"equity_crowdfunding\": 0.0, \"undisclosed\": 0.0, \"convertible_note\": 0.0, \"debt_financing\": 0.0, \"angel\": 0.0, \"grant\": 0.0, \"private_equity\": 0.0, \"post_ipo_equity\": 0.0, \"post_ipo_debt\": 0.0, \"secondary_market\": 0.0, \"product_crowdfunding\": 0.0, \"round_A\": 38500000.0, \"round_B\": 40000000.0, \"round_C\": 0.0, \"round_D\": 0.0, \"round_E\": 0.0, \"round_F\": 0.0, \"round_G\": 0.0, \"round_H\": 0.0, \"lasting_year\": 10.0, \"Status_acquired\": 0, \"Status_closed\": 0, \"Status_operating\": 1, \"if_ipo\": 0, \"month\": 1.0, \"if_jan\": 1, \"found_fund_diff\": 2385.0, \"fir_end_diff\": 1372.0, \"new_market\": \"CuratedWeb\", \"new_country\": \"USA\"}, {\"name\": \"Strava\", \"category_list\": \"|iOS|Startups|Technology|Mobile|Android|iPhone|Sports|Gps|Fitness|Health and Wellness|Hardware + Software|\", \"market\": \"iOS\", \"funding_total_usd\": 34600000.0, \"status\": \"operating\", \"country_code\": \"USA\", \"state_code\": \"CA\", \"region\": \"SF Bay Area\", \"funding_rounds\": 4.0, \"founded_at\": \"2009-01-01\", \"founded_month\": \"2009-01\", \"founded_year\": 2009.0, \"first_funding_at\": \"2010-10-01\", \"last_funding_at\": \"2014-10-29\", \"seed\": 0.0, \"venture\": 34600000.0, \"equity_crowdfunding\": 0.0, \"undisclosed\": 0.0, \"convertible_note\": 0.0, \"debt_financing\": 0.0, \"angel\": 0.0, \"grant\": 0.0, \"private_equity\": 0.0, \"post_ipo_equity\": 0.0, \"post_ipo_debt\": 0.0, \"secondary_market\": 0.0, \"product_crowdfunding\": 0.0, \"round_A\": 3500000.0, \"round_B\": 12600000.0, \"round_C\": 0.0, \"round_D\": 18500000.0, \"round_E\": 0.0, \"round_F\": 0.0, \"round_G\": 0.0, \"round_H\": 0.0, \"lasting_year\": 5.0, \"Status_acquired\": 0, \"Status_closed\": 0, \"Status_operating\": 1, \"if_ipo\": 0, \"month\": 1.0, \"if_jan\": 1, \"found_fund_diff\": 638.0, \"fir_end_diff\": 1489.0, \"new_market\": \"Others\", \"new_country\": \"USA\"}, {\"name\": \"Stripe\", \"category_list\": \"|Credit Cards|Payments|Software|\", \"market\": \"CreditCards\", \"funding_total_usd\": 190000000.0, \"status\": \"operating\", \"country_code\": \"USA\", \"state_code\": \"CA\", \"region\": \"SF Bay Area\", \"funding_rounds\": 5.0, \"founded_at\": \"2010-01-01\", \"founded_month\": \"2010-01\", \"founded_year\": 2010.0, \"first_funding_at\": \"2010-08-02\", \"last_funding_at\": \"2014-01-22\", \"seed\": 2000000.0, \"venture\": 188000000.0, \"equity_crowdfunding\": 0.0, \"undisclosed\": 0.0, \"convertible_note\": 0.0, \"debt_financing\": 0.0, \"angel\": 0.0, \"grant\": 0.0, \"private_equity\": 0.0, \"post_ipo_equity\": 0.0, \"post_ipo_debt\": 0.0, \"secondary_market\": 0.0, \"product_crowdfunding\": 0.0, \"round_A\": 18000000.0, \"round_B\": 20000000.0, \"round_C\": 80000000.0, \"round_D\": 70000000.0, \"round_E\": 0.0, \"round_F\": 0.0, \"round_G\": 0.0, \"round_H\": 0.0, \"lasting_year\": 4.0, \"Status_acquired\": 0, \"Status_closed\": 0, \"Status_operating\": 1, \"if_ipo\": 0, \"month\": 1.0, \"if_jan\": 1, \"found_fund_diff\": 213.0, \"fir_end_diff\": 1269.0, \"new_market\": \"Others\", \"new_country\": \"USA\"}, {\"name\": \"Talkdesk\", \"category_list\": \"|Public Relations|\", \"market\": \"PublicRelations\", \"funding_total_usd\": 3000000.0, \"status\": \"operating\", \"country_code\": \"USA\", \"state_code\": \"CA\", \"region\": \"SF Bay Area\", \"funding_rounds\": 2.0, \"founded_at\": \"2011-10-10\", \"founded_month\": \"2011-10\", \"founded_year\": 2011.0, \"first_funding_at\": \"2011-10-26\", \"last_funding_at\": \"2014-09-16\", \"seed\": 3000000.0, \"venture\": 0.0, \"equity_crowdfunding\": 0.0, \"undisclosed\": 0.0, \"convertible_note\": 0.0, \"debt_financing\": 0.0, \"angel\": 0.0, \"grant\": 0.0, \"private_equity\": 0.0, \"post_ipo_equity\": 0.0, \"post_ipo_debt\": 0.0, \"secondary_market\": 0.0, \"product_crowdfunding\": 0.0, \"round_A\": 0.0, \"round_B\": 0.0, \"round_C\": 0.0, \"round_D\": 0.0, \"round_E\": 0.0, \"round_F\": 0.0, \"round_G\": 0.0, \"round_H\": 0.0, \"lasting_year\": 3.0, \"Status_acquired\": 0, \"Status_closed\": 0, \"Status_operating\": 1, \"if_ipo\": 0, \"month\": 10.0, \"if_jan\": 0, \"found_fund_diff\": 16.0, \"fir_end_diff\": 1056.0, \"new_market\": \"Others\", \"new_country\": \"USA\"}, {\"name\": \"Tanium\", \"category_list\": \"|Enterprise Software|\", \"market\": \"EnterpriseSoftware\", \"funding_total_usd\": 90812497.0, \"status\": \"operating\", \"country_code\": \"USA\", \"state_code\": \"CA\", \"region\": \"SF Bay Area\", \"funding_rounds\": 2.0, \"founded_at\": \"2007-01-01\", \"founded_month\": \"2007-01\", \"founded_year\": 2007.0, \"first_funding_at\": \"2010-05-06\", \"last_funding_at\": \"2014-06-22\", \"seed\": 0.0, \"venture\": 90812497.0, \"equity_crowdfunding\": 0.0, \"undisclosed\": 0.0, \"convertible_note\": 0.0, \"debt_financing\": 0.0, \"angel\": 0.0, \"grant\": 0.0, \"private_equity\": 0.0, \"post_ipo_equity\": 0.0, \"post_ipo_debt\": 0.0, \"secondary_market\": 0.0, \"product_crowdfunding\": 0.0, \"round_A\": 0.0, \"round_B\": 0.0, \"round_C\": 0.0, \"round_D\": 0.0, \"round_E\": 0.0, \"round_F\": 0.0, \"round_G\": 0.0, \"round_H\": 0.0, \"lasting_year\": 7.0, \"Status_acquired\": 0, \"Status_closed\": 0, \"Status_operating\": 1, \"if_ipo\": 0, \"month\": 1.0, \"if_jan\": 1, \"found_fund_diff\": 1221.0, \"fir_end_diff\": 1508.0, \"new_market\": \"EnterpriseSoftware\", \"new_country\": \"USA\"}, {\"name\": \"Tealium\", \"category_list\": \"|Enterprise Software|\", \"market\": \"EnterpriseSoftware\", \"funding_total_usd\": 47200000.0, \"status\": \"operating\", \"country_code\": \"USA\", \"state_code\": \"CA\", \"region\": \"San Diego\", \"funding_rounds\": 4.0, \"founded_at\": \"2008-03-01\", \"founded_month\": \"2008-03\", \"founded_year\": 2008.0, \"first_funding_at\": \"2012-01-10\", \"last_funding_at\": \"2014-04-29\", \"seed\": 0.0, \"venture\": 47200000.0, \"equity_crowdfunding\": 0.0, \"undisclosed\": 0.0, \"convertible_note\": 0.0, \"debt_financing\": 0.0, \"angel\": 0.0, \"grant\": 0.0, \"private_equity\": 0.0, \"post_ipo_equity\": 0.0, \"post_ipo_debt\": 0.0, \"secondary_market\": 0.0, \"product_crowdfunding\": 0.0, \"round_A\": 1100000.0, \"round_B\": 10500000.0, \"round_C\": 15600000.0, \"round_D\": 20000000.0, \"round_E\": 0.0, \"round_F\": 0.0, \"round_G\": 0.0, \"round_H\": 0.0, \"lasting_year\": 6.0, \"Status_acquired\": 0, \"Status_closed\": 0, \"Status_operating\": 1, \"if_ipo\": 0, \"month\": 3.0, \"if_jan\": 0, \"found_fund_diff\": 1410.0, \"fir_end_diff\": 840.0, \"new_market\": \"EnterpriseSoftware\", \"new_country\": \"USA\"}, {\"name\": \"ThoughtSpot\", \"category_list\": \"|Software|\", \"market\": \"Software\", \"funding_total_usd\": 40700000.0, \"status\": \"operating\", \"country_code\": null, \"state_code\": null, \"region\": null, \"funding_rounds\": 2.0, \"founded_at\": \"2012-06-01\", \"founded_month\": \"2012-06\", \"founded_year\": 2012.0, \"first_funding_at\": \"2012-06-16\", \"last_funding_at\": \"2014-06-18\", \"seed\": 0.0, \"venture\": 40700000.0, \"equity_crowdfunding\": 0.0, \"undisclosed\": 0.0, \"convertible_note\": 0.0, \"debt_financing\": 0.0, \"angel\": 0.0, \"grant\": 0.0, \"private_equity\": 0.0, \"post_ipo_equity\": 0.0, \"post_ipo_debt\": 0.0, \"secondary_market\": 0.0, \"product_crowdfunding\": 0.0, \"round_A\": 10700000.0, \"round_B\": 30000000.0, \"round_C\": 0.0, \"round_D\": 0.0, \"round_E\": 0.0, \"round_F\": 0.0, \"round_G\": 0.0, \"round_H\": 0.0, \"lasting_year\": 2.0, \"Status_acquired\": 0, \"Status_closed\": 0, \"Status_operating\": 1, \"if_ipo\": 0, \"month\": 6.0, \"if_jan\": 0, \"found_fund_diff\": 15.0, \"fir_end_diff\": 732.0, \"new_market\": \"Software\", \"new_country\": \"Others\"}, {\"name\": \"Thumbtack\", \"category_list\": \"|Service Providers|Curated Web|\", \"market\": \"CuratedWeb\", \"funding_total_usd\": 148200000.0, \"status\": \"operating\", \"country_code\": \"USA\", \"state_code\": \"CA\", \"region\": \"SF Bay Area\", \"funding_rounds\": 5.0, \"founded_at\": \"2008-01-01\", \"founded_month\": \"2008-01\", \"founded_year\": 2008.0, \"first_funding_at\": \"2010-06-09\", \"last_funding_at\": \"2014-08-20\", \"seed\": 0.0, \"venture\": 147000000.0, \"equity_crowdfunding\": 0.0, \"undisclosed\": 0.0, \"convertible_note\": 0.0, \"debt_financing\": 0.0, \"angel\": 1200000.0, \"grant\": 0.0, \"private_equity\": 0.0, \"post_ipo_equity\": 0.0, \"post_ipo_debt\": 0.0, \"secondary_market\": 0.0, \"product_crowdfunding\": 0.0, \"round_A\": 4500000.0, \"round_B\": 12500000.0, \"round_C\": 30000000.0, \"round_D\": 100000000.0, \"round_E\": 0.0, \"round_F\": 0.0, \"round_G\": 0.0, \"round_H\": 0.0, \"lasting_year\": 6.0, \"Status_acquired\": 0, \"Status_closed\": 0, \"Status_operating\": 1, \"if_ipo\": 0, \"month\": 1.0, \"if_jan\": 1, \"found_fund_diff\": 890.0, \"fir_end_diff\": 1533.0, \"new_market\": \"CuratedWeb\", \"new_country\": \"USA\"}, {\"name\": \"Tipalti\", \"category_list\": \"|Payments|E-Commerce|\", \"market\": \"E-Commerce\", \"funding_total_usd\": 13000000.0, \"status\": \"operating\", \"country_code\": \"USA\", \"state_code\": \"CA\", \"region\": \"Los Angeles\", \"funding_rounds\": 1.0, \"founded_at\": \"2010-01-01\", \"founded_month\": \"2010-01\", \"founded_year\": 2010.0, \"first_funding_at\": \"2014-10-22\", \"last_funding_at\": \"2014-10-22\", \"seed\": 0.0, \"venture\": 13000000.0, \"equity_crowdfunding\": 0.0, \"undisclosed\": 0.0, \"convertible_note\": 0.0, \"debt_financing\": 0.0, \"angel\": 0.0, \"grant\": 0.0, \"private_equity\": 0.0, \"post_ipo_equity\": 0.0, \"post_ipo_debt\": 0.0, \"secondary_market\": 0.0, \"product_crowdfunding\": 0.0, \"round_A\": 0.0, \"round_B\": 13000000.0, \"round_C\": 0.0, \"round_D\": 0.0, \"round_E\": 0.0, \"round_F\": 0.0, \"round_G\": 0.0, \"round_H\": 0.0, \"lasting_year\": 4.0, \"Status_acquired\": 0, \"Status_closed\": 0, \"Status_operating\": 1, \"if_ipo\": 0, \"month\": 1.0, \"if_jan\": 1, \"found_fund_diff\": 1755.0, \"fir_end_diff\": 0.0, \"new_market\": \"E-Commerce\", \"new_country\": \"USA\"}, {\"name\": \"Tokopedia\", \"category_list\": \"|Marketplaces|E-Commerce|\", \"market\": \"Marketplaces\", \"funding_total_usd\": 100000000.0, \"status\": \"operating\", \"country_code\": \"IDN\", \"state_code\": null, \"region\": \"Jakarta\", \"funding_rounds\": 5.0, \"founded_at\": \"2009-01-01\", \"founded_month\": \"2009-01\", \"founded_year\": 2009.0, \"first_funding_at\": \"2010-03-15\", \"last_funding_at\": \"2014-10-21\", \"seed\": 0.0, \"venture\": 100000000.0, \"equity_crowdfunding\": 0.0, \"undisclosed\": 0.0, \"convertible_note\": 0.0, \"debt_financing\": 0.0, \"angel\": 0.0, \"grant\": 0.0, \"private_equity\": 0.0, \"post_ipo_equity\": 0.0, \"post_ipo_debt\": 0.0, \"secondary_market\": 0.0, \"product_crowdfunding\": 0.0, \"round_A\": 0.0, \"round_B\": 0.0, \"round_C\": 0.0, \"round_D\": 0.0, \"round_E\": 100000000.0, \"round_F\": 0.0, \"round_G\": 0.0, \"round_H\": 0.0, \"lasting_year\": 5.0, \"Status_acquired\": 0, \"Status_closed\": 0, \"Status_operating\": 1, \"if_ipo\": 0, \"month\": 1.0, \"if_jan\": 1, \"found_fund_diff\": 438.0, \"fir_end_diff\": 1681.0, \"new_market\": \"Marketplaces\", \"new_country\": \"Others\"}, {\"name\": \"Tradeshift\", \"category_list\": \"|Cloud Computing|Enterprise Software|Software|\", \"market\": \"Software\", \"funding_total_usd\": 128999992.0, \"status\": \"operating\", \"country_code\": \"USA\", \"state_code\": \"CA\", \"region\": \"SF Bay Area\", \"funding_rounds\": 4.0, \"founded_at\": \"2009-07-01\", \"founded_month\": \"2009-07\", \"founded_year\": 2009.0, \"first_funding_at\": \"2011-05-16\", \"last_funding_at\": \"2014-05-08\", \"seed\": 0.0, \"venture\": 128999992.0, \"equity_crowdfunding\": 0.0, \"undisclosed\": 0.0, \"convertible_note\": 0.0, \"debt_financing\": 0.0, \"angel\": 0.0, \"grant\": 0.0, \"private_equity\": 0.0, \"post_ipo_equity\": 0.0, \"post_ipo_debt\": 0.0, \"secondary_market\": 0.0, \"product_crowdfunding\": 0.0, \"round_A\": 0.0, \"round_B\": 17000000.0, \"round_C\": 75000000.0, \"round_D\": 0.0, \"round_E\": 0.0, \"round_F\": 0.0, \"round_G\": 0.0, \"round_H\": 0.0, \"lasting_year\": 5.0, \"Status_acquired\": 0, \"Status_closed\": 0, \"Status_operating\": 1, \"if_ipo\": 0, \"month\": 7.0, \"if_jan\": 0, \"found_fund_diff\": 684.0, \"fir_end_diff\": 1088.0, \"new_market\": \"Software\", \"new_country\": \"USA\"}, {\"name\": \"TransferWise\", \"category_list\": \"|Virtualization|Finance|\", \"market\": \"Virtualization\", \"funding_total_usd\": 32372075.0, \"status\": \"operating\", \"country_code\": null, \"state_code\": null, \"region\": null, \"funding_rounds\": 4.0, \"founded_at\": \"2010-03-01\", \"founded_month\": \"2010-03\", \"founded_year\": 2010.0, \"first_funding_at\": \"2011-08-01\", \"last_funding_at\": \"2014-06-09\", \"seed\": 1372075.0, \"venture\": 31000000.0, \"equity_crowdfunding\": 0.0, \"undisclosed\": 0.0, \"convertible_note\": 0.0, \"debt_financing\": 0.0, \"angel\": 0.0, \"grant\": 0.0, \"private_equity\": 0.0, \"post_ipo_equity\": 0.0, \"post_ipo_debt\": 0.0, \"secondary_market\": 0.0, \"product_crowdfunding\": 0.0, \"round_A\": 6000000.0, \"round_B\": 25000000.0, \"round_C\": 0.0, \"round_D\": 0.0, \"round_E\": 0.0, \"round_F\": 0.0, \"round_G\": 0.0, \"round_H\": 0.0, \"lasting_year\": 4.0, \"Status_acquired\": 0, \"Status_closed\": 0, \"Status_operating\": 1, \"if_ipo\": 0, \"month\": 3.0, \"if_jan\": 0, \"found_fund_diff\": 518.0, \"fir_end_diff\": 1043.0, \"new_market\": \"Others\", \"new_country\": \"Others\"}, {\"name\": \"Tresata\", \"category_list\": \"|Analytics|\", \"market\": \"Analytics\", \"funding_total_usd\": 1250000.0, \"status\": \"operating\", \"country_code\": \"USA\", \"state_code\": \"NC\", \"region\": \"Charlotte\", \"funding_rounds\": 2.0, \"founded_at\": \"2011-01-01\", \"founded_month\": \"2011-01\", \"founded_year\": 2011.0, \"first_funding_at\": \"2011-05-31\", \"last_funding_at\": \"2012-12-04\", \"seed\": 750000.0, \"venture\": 500000.0, \"equity_crowdfunding\": 0.0, \"undisclosed\": 0.0, \"convertible_note\": 0.0, \"debt_financing\": 0.0, \"angel\": 0.0, \"grant\": 0.0, \"private_equity\": 0.0, \"post_ipo_equity\": 0.0, \"post_ipo_debt\": 0.0, \"secondary_market\": 0.0, \"product_crowdfunding\": 0.0, \"round_A\": 0.0, \"round_B\": 0.0, \"round_C\": 0.0, \"round_D\": 0.0, \"round_E\": 0.0, \"round_F\": 0.0, \"round_G\": 0.0, \"round_H\": 0.0, \"lasting_year\": 3.0, \"Status_acquired\": 0, \"Status_closed\": 0, \"Status_operating\": 1, \"if_ipo\": 0, \"month\": 1.0, \"if_jan\": 1, \"found_fund_diff\": 150.0, \"fir_end_diff\": 553.0, \"new_market\": \"Analytics\", \"new_country\": \"USA\"}, {\"name\": \"Udemy\", \"category_list\": \"|Education|\", \"market\": \"Education\", \"funding_total_usd\": 48000000.0, \"status\": \"operating\", \"country_code\": \"USA\", \"state_code\": \"CA\", \"region\": \"SF Bay Area\", \"funding_rounds\": 4.0, \"founded_at\": \"2010-02-01\", \"founded_month\": \"2010-02\", \"founded_year\": 2010.0, \"first_funding_at\": \"2010-08-31\", \"last_funding_at\": \"2014-05-08\", \"seed\": 1000000.0, \"venture\": 47000000.0, \"equity_crowdfunding\": 0.0, \"undisclosed\": 0.0, \"convertible_note\": 0.0, \"debt_financing\": 0.0, \"angel\": 0.0, \"grant\": 0.0, \"private_equity\": 0.0, \"post_ipo_equity\": 0.0, \"post_ipo_debt\": 0.0, \"secondary_market\": 0.0, \"product_crowdfunding\": 0.0, \"round_A\": 3000000.0, \"round_B\": 12000000.0, \"round_C\": 32000000.0, \"round_D\": 0.0, \"round_E\": 0.0, \"round_F\": 0.0, \"round_G\": 0.0, \"round_H\": 0.0, \"lasting_year\": 4.0, \"Status_acquired\": 0, \"Status_closed\": 0, \"Status_operating\": 1, \"if_ipo\": 0, \"month\": 2.0, \"if_jan\": 0, \"found_fund_diff\": 211.0, \"fir_end_diff\": 1346.0, \"new_market\": \"Education\", \"new_country\": \"USA\"}, {\"name\": \"Unite Us\", \"category_list\": \"|Social Media|\", \"market\": \"SocialMedia\", \"funding_total_usd\": 2000000.0, \"status\": \"operating\", \"country_code\": \"USA\", \"state_code\": \"NY\", \"region\": \"New York City\", \"funding_rounds\": 1.0, \"founded_at\": \"2013-01-01\", \"founded_month\": \"2013-01\", \"founded_year\": 2013.0, \"first_funding_at\": \"2013-08-21\", \"last_funding_at\": \"2013-08-21\", \"seed\": 2000000.0, \"venture\": 0.0, \"equity_crowdfunding\": 0.0, \"undisclosed\": 0.0, \"convertible_note\": 0.0, \"debt_financing\": 0.0, \"angel\": 0.0, \"grant\": 0.0, \"private_equity\": 0.0, \"post_ipo_equity\": 0.0, \"post_ipo_debt\": 0.0, \"secondary_market\": 0.0, \"product_crowdfunding\": 0.0, \"round_A\": 0.0, \"round_B\": 0.0, \"round_C\": 0.0, \"round_D\": 0.0, \"round_E\": 0.0, \"round_F\": 0.0, \"round_G\": 0.0, \"round_H\": 0.0, \"lasting_year\": 1.0, \"Status_acquired\": 0, \"Status_closed\": 0, \"Status_operating\": 1, \"if_ipo\": 0, \"month\": 1.0, \"if_jan\": 1, \"found_fund_diff\": 232.0, \"fir_end_diff\": 0.0, \"new_market\": \"Others\", \"new_country\": \"USA\"}, {\"name\": \"VANCL\", \"category_list\": \"|E-Commerce|\", \"market\": \"E-Commerce\", \"funding_total_usd\": 470000000.0, \"status\": \"operating\", \"country_code\": \"CHN\", \"state_code\": null, \"region\": \"Beijing\", \"funding_rounds\": 4.0, \"founded_at\": \"2007-01-01\", \"founded_month\": \"2007-01\", \"founded_year\": 2007.0, \"first_funding_at\": \"2010-04-01\", \"last_funding_at\": \"2013-11-01\", \"seed\": 0.0, \"venture\": 470000000.0, \"equity_crowdfunding\": 0.0, \"undisclosed\": 0.0, \"convertible_note\": 0.0, \"debt_financing\": 0.0, \"angel\": 0.0, \"grant\": 0.0, \"private_equity\": 0.0, \"post_ipo_equity\": 0.0, \"post_ipo_debt\": 0.0, \"secondary_market\": 0.0, \"product_crowdfunding\": 0.0, \"round_A\": 0.0, \"round_B\": 0.0, \"round_C\": 0.0, \"round_D\": 40000000.0, \"round_E\": 100000000.0, \"round_F\": 230000000.0, \"round_G\": 100000000.0, \"round_H\": 0.0, \"lasting_year\": 7.0, \"Status_acquired\": 0, \"Status_closed\": 0, \"Status_operating\": 1, \"if_ipo\": 0, \"month\": 1.0, \"if_jan\": 1, \"found_fund_diff\": 1186.0, \"fir_end_diff\": 1310.0, \"new_market\": \"E-Commerce\", \"new_country\": \"CHN\"}, {\"name\": \"Venafi\", \"category_list\": \"|Data Security|Enterprise Software|\", \"market\": \"EnterpriseSoftware\", \"funding_total_usd\": 16000000.0, \"status\": \"operating\", \"country_code\": \"USA\", \"state_code\": \"UT\", \"region\": \"Salt Lake City\", \"funding_rounds\": 2.0, \"founded_at\": \"2004-01-01\", \"founded_month\": \"2004-01\", \"founded_year\": 2004.0, \"first_funding_at\": \"2006-11-13\", \"last_funding_at\": \"2006-11-13\", \"seed\": 0.0, \"venture\": 16000000.0, \"equity_crowdfunding\": 0.0, \"undisclosed\": 0.0, \"convertible_note\": 0.0, \"debt_financing\": 0.0, \"angel\": 0.0, \"grant\": 0.0, \"private_equity\": 0.0, \"post_ipo_equity\": 0.0, \"post_ipo_debt\": 0.0, \"secondary_market\": 0.0, \"product_crowdfunding\": 0.0, \"round_A\": 0.0, \"round_B\": 16000000.0, \"round_C\": 0.0, \"round_D\": 0.0, \"round_E\": 0.0, \"round_F\": 0.0, \"round_G\": 0.0, \"round_H\": 0.0, \"lasting_year\": 10.0, \"Status_acquired\": 0, \"Status_closed\": 0, \"Status_operating\": 1, \"if_ipo\": 0, \"month\": 1.0, \"if_jan\": 1, \"found_fund_diff\": 1047.0, \"fir_end_diff\": 0.0, \"new_market\": \"EnterpriseSoftware\", \"new_country\": \"USA\"}, {\"name\": \"Vestiaire Collective\", \"category_list\": \"|Marketplaces|Fashion|E-Commerce|\", \"market\": \"Marketplaces\", \"funding_total_usd\": 31725050.0, \"status\": \"operating\", \"country_code\": \"GBR\", \"state_code\": null, \"region\": \"London\", \"funding_rounds\": 3.0, \"founded_at\": \"2009-01-01\", \"founded_month\": \"2009-01\", \"founded_year\": 2009.0, \"first_funding_at\": \"2010-06-24\", \"last_funding_at\": \"2013-09-02\", \"seed\": 0.0, \"venture\": 31725050.0, \"equity_crowdfunding\": 0.0, \"undisclosed\": 0.0, \"convertible_note\": 0.0, \"debt_financing\": 0.0, \"angel\": 0.0, \"grant\": 0.0, \"private_equity\": 0.0, \"post_ipo_equity\": 0.0, \"post_ipo_debt\": 0.0, \"secondary_market\": 0.0, \"product_crowdfunding\": 0.0, \"round_A\": 1839300.0, \"round_B\": 9885750.0, \"round_C\": 20000000.0, \"round_D\": 0.0, \"round_E\": 0.0, \"round_F\": 0.0, \"round_G\": 0.0, \"round_H\": 0.0, \"lasting_year\": 5.0, \"Status_acquired\": 0, \"Status_closed\": 0, \"Status_operating\": 1, \"if_ipo\": 0, \"month\": 1.0, \"if_jan\": 1, \"found_fund_diff\": 539.0, \"fir_end_diff\": 1166.0, \"new_market\": \"Marketplaces\", \"new_country\": \"GBR\"}, {\"name\": \"Vice Media\", \"category_list\": \"|Video|Video Streaming|Television|News|\", \"market\": \"VideoStreaming\", \"funding_total_usd\": 580000000.0, \"status\": \"operating\", \"country_code\": \"USA\", \"state_code\": \"NY\", \"region\": \"New York City\", \"funding_rounds\": 4.0, \"founded_at\": \"2006-12-01\", \"founded_month\": \"2006-12\", \"founded_year\": 2006.0, \"first_funding_at\": \"2006-12-01\", \"last_funding_at\": \"2014-09-04\", \"seed\": 0.0, \"venture\": 10000000.0, \"equity_crowdfunding\": 0.0, \"undisclosed\": 0.0, \"convertible_note\": 0.0, \"debt_financing\": 0.0, \"angel\": 0.0, \"grant\": 0.0, \"private_equity\": 570000000.0, \"post_ipo_equity\": 0.0, \"post_ipo_debt\": 0.0, \"secondary_market\": 0.0, \"product_crowdfunding\": 0.0, \"round_A\": 0.0, \"round_B\": 0.0, \"round_C\": 0.0, \"round_D\": 0.0, \"round_E\": 0.0, \"round_F\": 0.0, \"round_G\": 0.0, \"round_H\": 0.0, \"lasting_year\": 8.0, \"Status_acquired\": 0, \"Status_closed\": 0, \"Status_operating\": 1, \"if_ipo\": 0, \"month\": 12.0, \"if_jan\": 0, \"found_fund_diff\": 0.0, \"fir_end_diff\": 2834.0, \"new_market\": \"Others\", \"new_country\": \"USA\"}, {\"name\": \"Vinted\", \"category_list\": \"|Social Media|Marketplaces|Social Buying|Peer-to-Peer|Mobile|Fashion|\", \"market\": \"Mobile\", \"funding_total_usd\": 32592880.0, \"status\": \"operating\", \"country_code\": \"LTU\", \"state_code\": null, \"region\": \"Vilnius\", \"funding_rounds\": 2.0, \"founded_at\": \"2009-01-01\", \"founded_month\": \"2009-01\", \"founded_year\": 2009.0, \"first_funding_at\": \"2013-01-01\", \"last_funding_at\": \"2014-01-31\", \"seed\": 0.0, \"venture\": 32592880.0, \"equity_crowdfunding\": 0.0, \"undisclosed\": 0.0, \"convertible_note\": 0.0, \"debt_financing\": 0.0, \"angel\": 0.0, \"grant\": 0.0, \"private_equity\": 0.0, \"post_ipo_equity\": 0.0, \"post_ipo_debt\": 0.0, \"secondary_market\": 0.0, \"product_crowdfunding\": 0.0, \"round_A\": 6860880.0, \"round_B\": 25732000.0, \"round_C\": 0.0, \"round_D\": 0.0, \"round_E\": 0.0, \"round_F\": 0.0, \"round_G\": 0.0, \"round_H\": 0.0, \"lasting_year\": 5.0, \"Status_acquired\": 0, \"Status_closed\": 0, \"Status_operating\": 1, \"if_ipo\": 0, \"month\": 1.0, \"if_jan\": 1, \"found_fund_diff\": 1461.0, \"fir_end_diff\": 395.0, \"new_market\": \"Mobile\", \"new_country\": \"Others\"}, {\"name\": \"Vox Media\", \"category_list\": \"|Sports|Blogging Platforms|News|\", \"market\": \"Sports\", \"funding_total_usd\": 107632220.0, \"status\": \"operating\", \"country_code\": \"USA\", \"state_code\": \"DC\", \"region\": \"Washington, D.C.\", \"funding_rounds\": 7.0, \"founded_at\": \"2003-01-01\", \"founded_month\": \"2003-01\", \"founded_year\": 2003.0, \"first_funding_at\": \"2008-10-27\", \"last_funding_at\": \"2014-12-01\", \"seed\": 0.0, \"venture\": 104000000.0, \"equity_crowdfunding\": 0.0, \"undisclosed\": 0.0, \"convertible_note\": 0.0, \"debt_financing\": 0.0, \"angel\": 0.0, \"grant\": 0.0, \"private_equity\": 3632220.0, \"post_ipo_equity\": 0.0, \"post_ipo_debt\": 0.0, \"secondary_market\": 0.0, \"product_crowdfunding\": 0.0, \"round_A\": 0.0, \"round_B\": 8000000.0, \"round_C\": 10500000.0, \"round_D\": 34000000.0, \"round_E\": 46500000.0, \"round_F\": 0.0, \"round_G\": 0.0, \"round_H\": 0.0, \"lasting_year\": 11.0, \"Status_acquired\": 0, \"Status_closed\": 0, \"Status_operating\": 1, \"if_ipo\": 0, \"month\": 1.0, \"if_jan\": 1, \"found_fund_diff\": 2126.0, \"fir_end_diff\": 2226.0, \"new_market\": \"Others\", \"new_country\": \"USA\"}, {\"name\": \"VTEX\", \"category_list\": \"|Information Technology|SaaS|E-Commerce|\", \"market\": \"SaaS\", \"funding_total_usd\": 0.0, \"status\": \"operating\", \"country_code\": \"BRA\", \"state_code\": null, \"region\": \"Sao Paulo\", \"funding_rounds\": 1.0, \"founded_at\": \"1999-01-01\", \"founded_month\": \"1999-01\", \"founded_year\": 1999.0, \"first_funding_at\": \"2012-09-04\", \"last_funding_at\": \"2012-09-04\", \"seed\": 0.0, \"venture\": 0.0, \"equity_crowdfunding\": 0.0, \"undisclosed\": 0.0, \"convertible_note\": 0.0, \"debt_financing\": 0.0, \"angel\": 0.0, \"grant\": 0.0, \"private_equity\": 0.0, \"post_ipo_equity\": 0.0, \"post_ipo_debt\": 0.0, \"secondary_market\": 0.0, \"product_crowdfunding\": 0.0, \"round_A\": 0.0, \"round_B\": 0.0, \"round_C\": 0.0, \"round_D\": 0.0, \"round_E\": 0.0, \"round_F\": 0.0, \"round_G\": 0.0, \"round_H\": 0.0, \"lasting_year\": 15.0, \"Status_acquired\": 0, \"Status_closed\": 0, \"Status_operating\": 1, \"if_ipo\": 0, \"month\": 1.0, \"if_jan\": 1, \"found_fund_diff\": 4995.0, \"fir_end_diff\": 0.0, \"new_market\": \"SaaS\", \"new_country\": \"BRA\"}, {\"name\": \"Wacai\", \"category_list\": \"|Software|\", \"market\": \"Software\", \"funding_total_usd\": 78000000.0, \"status\": \"operating\", \"country_code\": \"CHN\", \"state_code\": null, \"region\": \"Hangzhou\", \"funding_rounds\": 4.0, \"founded_at\": \"2008-01-01\", \"founded_month\": \"2008-01\", \"founded_year\": 2008.0, \"first_funding_at\": \"2013-09-23\", \"last_funding_at\": \"2014-12-01\", \"seed\": 0.0, \"venture\": 78000000.0, \"equity_crowdfunding\": 0.0, \"undisclosed\": 0.0, \"convertible_note\": 0.0, \"debt_financing\": 0.0, \"angel\": 0.0, \"grant\": 0.0, \"private_equity\": 0.0, \"post_ipo_equity\": 0.0, \"post_ipo_debt\": 0.0, \"secondary_market\": 0.0, \"product_crowdfunding\": 0.0, \"round_A\": 25000000.0, \"round_B\": 50000000.0, \"round_C\": 0.0, \"round_D\": 0.0, \"round_E\": 0.0, \"round_F\": 0.0, \"round_G\": 0.0, \"round_H\": 0.0, \"lasting_year\": 6.0, \"Status_acquired\": 0, \"Status_closed\": 0, \"Status_operating\": 1, \"if_ipo\": 0, \"month\": 1.0, \"if_jan\": 1, \"found_fund_diff\": 2092.0, \"fir_end_diff\": 434.0, \"new_market\": \"Software\", \"new_country\": \"CHN\"}, {\"name\": \"WalkMe\", \"category_list\": \"|Enterprise Software|\", \"market\": \"EnterpriseSoftware\", \"funding_total_usd\": 17500000.0, \"status\": \"operating\", \"country_code\": \"USA\", \"state_code\": \"CA\", \"region\": \"SF Bay Area\", \"funding_rounds\": 3.0, \"founded_at\": \"2012-01-01\", \"founded_month\": \"2012-01\", \"founded_year\": 2012.0, \"first_funding_at\": \"2012-04-12\", \"last_funding_at\": \"2014-04-01\", \"seed\": 0.0, \"venture\": 17500000.0, \"equity_crowdfunding\": 0.0, \"undisclosed\": 0.0, \"convertible_note\": 0.0, \"debt_financing\": 0.0, \"angel\": 0.0, \"grant\": 0.0, \"private_equity\": 0.0, \"post_ipo_equity\": 0.0, \"post_ipo_debt\": 0.0, \"secondary_market\": 0.0, \"product_crowdfunding\": 0.0, \"round_A\": 0.0, \"round_B\": 5500000.0, \"round_C\": 11000000.0, \"round_D\": 0.0, \"round_E\": 0.0, \"round_F\": 0.0, \"round_G\": 0.0, \"round_H\": 0.0, \"lasting_year\": 2.0, \"Status_acquired\": 0, \"Status_closed\": 0, \"Status_operating\": 1, \"if_ipo\": 0, \"month\": 1.0, \"if_jan\": 1, \"found_fund_diff\": 102.0, \"fir_end_diff\": 719.0, \"new_market\": \"EnterpriseSoftware\", \"new_country\": \"USA\"}, {\"name\": \"Warby Parker\", \"category_list\": \"|Fashion|Retail|E-Commerce|\", \"market\": \"Retail\", \"funding_total_usd\": 115500000.0, \"status\": \"operating\", \"country_code\": \"USA\", \"state_code\": \"NY\", \"region\": \"New York City\", \"funding_rounds\": 5.0, \"founded_at\": \"2010-01-01\", \"founded_month\": \"2010-01\", \"founded_year\": 2010.0, \"first_funding_at\": \"2010-10-27\", \"last_funding_at\": \"2013-12-20\", \"seed\": 1500000.0, \"venture\": 113500000.0, \"equity_crowdfunding\": 0.0, \"undisclosed\": 0.0, \"convertible_note\": 0.0, \"debt_financing\": 500000.0, \"angel\": 0.0, \"grant\": 0.0, \"private_equity\": 0.0, \"post_ipo_equity\": 0.0, \"post_ipo_debt\": 0.0, \"secondary_market\": 0.0, \"product_crowdfunding\": 0.0, \"round_A\": 12000000.0, \"round_B\": 41500000.0, \"round_C\": 60000000.0, \"round_D\": 0.0, \"round_E\": 0.0, \"round_F\": 0.0, \"round_G\": 0.0, \"round_H\": 0.0, \"lasting_year\": 4.0, \"Status_acquired\": 0, \"Status_closed\": 0, \"Status_operating\": 1, \"if_ipo\": 0, \"month\": 1.0, \"if_jan\": 1, \"found_fund_diff\": 299.0, \"fir_end_diff\": 1150.0, \"new_market\": \"Others\", \"new_country\": \"USA\"}, {\"name\": \"Webflow\", \"category_list\": \"|Software|\", \"market\": \"Software\", \"funding_total_usd\": 1500000.0, \"status\": \"operating\", \"country_code\": \"USA\", \"state_code\": \"CA\", \"region\": \"SF Bay Area\", \"funding_rounds\": 3.0, \"founded_at\": \"2012-01-01\", \"founded_month\": \"2012-01\", \"founded_year\": 2012.0, \"first_funding_at\": \"2013-03-01\", \"last_funding_at\": \"2014-03-11\", \"seed\": 1500000.0, \"venture\": 0.0, \"equity_crowdfunding\": 0.0, \"undisclosed\": 0.0, \"convertible_note\": 0.0, \"debt_financing\": 0.0, \"angel\": 0.0, \"grant\": 0.0, \"private_equity\": 0.0, \"post_ipo_equity\": 0.0, \"post_ipo_debt\": 0.0, \"secondary_market\": 0.0, \"product_crowdfunding\": 0.0, \"round_A\": 0.0, \"round_B\": 0.0, \"round_C\": 0.0, \"round_D\": 0.0, \"round_E\": 0.0, \"round_F\": 0.0, \"round_G\": 0.0, \"round_H\": 0.0, \"lasting_year\": 2.0, \"Status_acquired\": 0, \"Status_closed\": 0, \"Status_operating\": 1, \"if_ipo\": 0, \"month\": 1.0, \"if_jan\": 1, \"found_fund_diff\": 425.0, \"fir_end_diff\": 375.0, \"new_market\": \"Software\", \"new_country\": \"USA\"}, {\"name\": \"Womai\", \"category_list\": \"|E-Commerce|\", \"market\": \"E-Commerce\", \"funding_total_usd\": 110000000.0, \"status\": \"operating\", \"country_code\": \"CHN\", \"state_code\": null, \"region\": \"Beijing\", \"funding_rounds\": 2.0, \"founded_at\": \"2008-01-01\", \"founded_month\": \"2008-01\", \"founded_year\": 2008.0, \"first_funding_at\": \"2013-07-29\", \"last_funding_at\": \"2014-08-05\", \"seed\": 0.0, \"venture\": 110000000.0, \"equity_crowdfunding\": 0.0, \"undisclosed\": 0.0, \"convertible_note\": 0.0, \"debt_financing\": 0.0, \"angel\": 0.0, \"grant\": 0.0, \"private_equity\": 0.0, \"post_ipo_equity\": 0.0, \"post_ipo_debt\": 0.0, \"secondary_market\": 0.0, \"product_crowdfunding\": 0.0, \"round_A\": 10000000.0, \"round_B\": 100000000.0, \"round_C\": 0.0, \"round_D\": 0.0, \"round_E\": 0.0, \"round_F\": 0.0, \"round_G\": 0.0, \"round_H\": 0.0, \"lasting_year\": 6.0, \"Status_acquired\": 0, \"Status_closed\": 0, \"Status_operating\": 1, \"if_ipo\": 0, \"month\": 1.0, \"if_jan\": 1, \"found_fund_diff\": 2036.0, \"fir_end_diff\": 372.0, \"new_market\": \"E-Commerce\", \"new_country\": \"CHN\"}, {\"name\": \"Yello Mobile\", \"category_list\": \"|Mobile|\", \"market\": \"Mobile\", \"funding_total_usd\": 100000000.0, \"status\": \"operating\", \"country_code\": null, \"state_code\": null, \"region\": null, \"funding_rounds\": 1.0, \"founded_at\": \"2012-08-01\", \"founded_month\": \"2012-08\", \"founded_year\": 2012.0, \"first_funding_at\": \"2014-11-10\", \"last_funding_at\": \"2014-11-10\", \"seed\": 0.0, \"venture\": 0.0, \"equity_crowdfunding\": 0.0, \"undisclosed\": 0.0, \"convertible_note\": 0.0, \"debt_financing\": 0.0, \"angel\": 0.0, \"grant\": 0.0, \"private_equity\": 100000000.0, \"post_ipo_equity\": 0.0, \"post_ipo_debt\": 0.0, \"secondary_market\": 0.0, \"product_crowdfunding\": 0.0, \"round_A\": 0.0, \"round_B\": 0.0, \"round_C\": 0.0, \"round_D\": 0.0, \"round_E\": 0.0, \"round_F\": 0.0, \"round_G\": 0.0, \"round_H\": 0.0, \"lasting_year\": 2.0, \"Status_acquired\": 0, \"Status_closed\": 0, \"Status_operating\": 1, \"if_ipo\": 0, \"month\": 8.0, \"if_jan\": 0, \"found_fund_diff\": 831.0, \"fir_end_diff\": 0.0, \"new_market\": \"Mobile\", \"new_country\": \"Others\"}, {\"name\": \"Yotpo\", \"category_list\": \"|Social Commerce|Reviews and Recommendations|E-Commerce|\", \"market\": \"SocialCommerce\", \"funding_total_usd\": 13000000.0, \"status\": \"operating\", \"country_code\": \"ISR\", \"state_code\": null, \"region\": \"Tel Aviv\", \"funding_rounds\": 4.0, \"founded_at\": \"2011-01-06\", \"founded_month\": \"2011-01\", \"founded_year\": 2011.0, \"first_funding_at\": \"2011-04-18\", \"last_funding_at\": \"2014-09-10\", \"seed\": 800000.0, \"venture\": 12200000.0, \"equity_crowdfunding\": 0.0, \"undisclosed\": 0.0, \"convertible_note\": 0.0, \"debt_financing\": 0.0, \"angel\": 0.0, \"grant\": 0.0, \"private_equity\": 0.0, \"post_ipo_equity\": 0.0, \"post_ipo_debt\": 0.0, \"secondary_market\": 0.0, \"product_crowdfunding\": 0.0, \"round_A\": 10700000.0, \"round_B\": 0.0, \"round_C\": 0.0, \"round_D\": 0.0, \"round_E\": 0.0, \"round_F\": 0.0, \"round_G\": 0.0, \"round_H\": 0.0, \"lasting_year\": 3.0, \"Status_acquired\": 0, \"Status_closed\": 0, \"Status_operating\": 1, \"if_ipo\": 0, \"month\": 1.0, \"if_jan\": 1, \"found_fund_diff\": 102.0, \"fir_end_diff\": 1241.0, \"new_market\": \"Others\", \"new_country\": \"ISR\"}, {\"name\": \"Zapier\", \"category_list\": \"|Data Integration|Cloud Computing|SaaS|Software|\", \"market\": \"SaaS\", \"funding_total_usd\": 1200000.0, \"status\": \"operating\", \"country_code\": \"USA\", \"state_code\": \"CA\", \"region\": \"SF Bay Area\", \"funding_rounds\": 2.0, \"founded_at\": \"2011-10-01\", \"founded_month\": \"2011-10\", \"founded_year\": 2011.0, \"first_funding_at\": \"2012-05-20\", \"last_funding_at\": \"2012-10-31\", \"seed\": 1200000.0, \"venture\": 0.0, \"equity_crowdfunding\": 0.0, \"undisclosed\": 0.0, \"convertible_note\": 0.0, \"debt_financing\": 0.0, \"angel\": 0.0, \"grant\": 0.0, \"private_equity\": 0.0, \"post_ipo_equity\": 0.0, \"post_ipo_debt\": 0.0, \"secondary_market\": 0.0, \"product_crowdfunding\": 0.0, \"round_A\": 0.0, \"round_B\": 0.0, \"round_C\": 0.0, \"round_D\": 0.0, \"round_E\": 0.0, \"round_F\": 0.0, \"round_G\": 0.0, \"round_H\": 0.0, \"lasting_year\": 3.0, \"Status_acquired\": 0, \"Status_closed\": 0, \"Status_operating\": 1, \"if_ipo\": 0, \"month\": 10.0, \"if_jan\": 0, \"found_fund_diff\": 232.0, \"fir_end_diff\": 164.0, \"new_market\": \"SaaS\", \"new_country\": \"USA\"}, {\"name\": \"Zenefits\", \"category_list\": \"|Health and Insurance|Human Resources|Enterprise Software|\", \"market\": \"HumanResources\", \"funding_total_usd\": 83600000.0, \"status\": \"operating\", \"country_code\": \"USA\", \"state_code\": \"CA\", \"region\": \"SF Bay Area\", \"funding_rounds\": 3.0, \"founded_at\": \"2013-01-01\", \"founded_month\": \"2013-01\", \"founded_year\": 2013.0, \"first_funding_at\": \"2013-07-26\", \"last_funding_at\": \"2014-06-03\", \"seed\": 2100000.0, \"venture\": 81500000.0, \"equity_crowdfunding\": 0.0, \"undisclosed\": 0.0, \"convertible_note\": 0.0, \"debt_financing\": 0.0, \"angel\": 0.0, \"grant\": 0.0, \"private_equity\": 0.0, \"post_ipo_equity\": 0.0, \"post_ipo_debt\": 0.0, \"secondary_market\": 0.0, \"product_crowdfunding\": 0.0, \"round_A\": 15000000.0, \"round_B\": 66500000.0, \"round_C\": 0.0, \"round_D\": 0.0, \"round_E\": 0.0, \"round_F\": 0.0, \"round_G\": 0.0, \"round_H\": 0.0, \"lasting_year\": 1.0, \"Status_acquired\": 0, \"Status_closed\": 0, \"Status_operating\": 1, \"if_ipo\": 0, \"month\": 1.0, \"if_jan\": 1, \"found_fund_diff\": 206.0, \"fir_end_diff\": 312.0, \"new_market\": \"Others\", \"new_country\": \"USA\"}, {\"name\": \"Zhaogang\", \"category_list\": \"|E-Commerce|\", \"market\": \"E-Commerce\", \"funding_total_usd\": 37194503.0, \"status\": \"operating\", \"country_code\": \"CHN\", \"state_code\": null, \"region\": \"Beijing\", \"funding_rounds\": 3.0, \"founded_at\": \"2012-01-01\", \"founded_month\": \"2012-01\", \"founded_year\": 2012.0, \"first_funding_at\": \"2012-01-01\", \"last_funding_at\": \"2013-12-01\", \"seed\": 0.0, \"venture\": 37194503.0, \"equity_crowdfunding\": 0.0, \"undisclosed\": 0.0, \"convertible_note\": 0.0, \"debt_financing\": 0.0, \"angel\": 0.0, \"grant\": 0.0, \"private_equity\": 0.0, \"post_ipo_equity\": 0.0, \"post_ipo_debt\": 0.0, \"secondary_market\": 0.0, \"product_crowdfunding\": 0.0, \"round_A\": 793650.0, \"round_B\": 1600853.0, \"round_C\": 34800000.0, \"round_D\": 0.0, \"round_E\": 0.0, \"round_F\": 0.0, \"round_G\": 0.0, \"round_H\": 0.0, \"lasting_year\": 2.0, \"Status_acquired\": 0, \"Status_closed\": 0, \"Status_operating\": 1, \"if_ipo\": 0, \"month\": 1.0, \"if_jan\": 1, \"found_fund_diff\": 0.0, \"fir_end_diff\": 700.0, \"new_market\": \"E-Commerce\", \"new_country\": \"CHN\"}, {\"name\": \"Zhihu\", \"category_list\": \"|Social Media|\", \"market\": \"SocialMedia\", \"funding_total_usd\": 8000000.0, \"status\": \"operating\", \"country_code\": \"CHN\", \"state_code\": null, \"region\": \"Beijing\", \"funding_rounds\": 2.0, \"founded_at\": \"2011-01-26\", \"founded_month\": \"2011-01\", \"founded_year\": 2011.0, \"first_funding_at\": \"2011-11-01\", \"last_funding_at\": \"2014-06-16\", \"seed\": 0.0, \"venture\": 8000000.0, \"equity_crowdfunding\": 0.0, \"undisclosed\": 0.0, \"convertible_note\": 0.0, \"debt_financing\": 0.0, \"angel\": 0.0, \"grant\": 0.0, \"private_equity\": 0.0, \"post_ipo_equity\": 0.0, \"post_ipo_debt\": 0.0, \"secondary_market\": 0.0, \"product_crowdfunding\": 0.0, \"round_A\": 8000000.0, \"round_B\": 0.0, \"round_C\": 0.0, \"round_D\": 0.0, \"round_E\": 0.0, \"round_F\": 0.0, \"round_G\": 0.0, \"round_H\": 0.0, \"lasting_year\": 3.0, \"Status_acquired\": 0, \"Status_closed\": 0, \"Status_operating\": 1, \"if_ipo\": 0, \"month\": 1.0, \"if_jan\": 1, \"found_fund_diff\": 279.0, \"fir_end_diff\": 958.0, \"new_market\": \"Others\", \"new_country\": \"CHN\"}, {\"name\": \"ZipRecruiter\", \"category_list\": \"|Social Recruiting|Recruiting|Human Resources|Employment|\", \"market\": \"SocialRecruiting\", \"funding_total_usd\": 63000000.0, \"status\": \"operating\", \"country_code\": \"USA\", \"state_code\": \"CA\", \"region\": \"Los Angeles\", \"funding_rounds\": 1.0, \"founded_at\": \"2010-03-01\", \"founded_month\": \"2010-03\", \"founded_year\": 2010.0, \"first_funding_at\": \"2014-08-26\", \"last_funding_at\": \"2014-08-26\", \"seed\": 0.0, \"venture\": 63000000.0, \"equity_crowdfunding\": 0.0, \"undisclosed\": 0.0, \"convertible_note\": 0.0, \"debt_financing\": 0.0, \"angel\": 0.0, \"grant\": 0.0, \"private_equity\": 0.0, \"post_ipo_equity\": 0.0, \"post_ipo_debt\": 0.0, \"secondary_market\": 0.0, \"product_crowdfunding\": 0.0, \"round_A\": 63000000.0, \"round_B\": 0.0, \"round_C\": 0.0, \"round_D\": 0.0, \"round_E\": 0.0, \"round_F\": 0.0, \"round_G\": 0.0, \"round_H\": 0.0, \"lasting_year\": 4.0, \"Status_acquired\": 0, \"Status_closed\": 0, \"Status_operating\": 1, \"if_ipo\": 0, \"month\": 3.0, \"if_jan\": 0, \"found_fund_diff\": 1639.0, \"fir_end_diff\": 0.0, \"new_market\": \"Others\", \"new_country\": \"USA\"}, {\"name\": \"ZocDoc\", \"category_list\": \"|Health Care|Dental|Doctors|Health and Wellness|\", \"market\": \"HealthCare\", \"funding_total_usd\": 97940002.0, \"status\": \"operating\", \"country_code\": \"USA\", \"state_code\": \"NY\", \"region\": \"New York City\", \"funding_rounds\": 5.0, \"founded_at\": \"2007-09-18\", \"founded_month\": \"2007-09\", \"founded_year\": 2007.0, \"first_funding_at\": \"2008-08-18\", \"last_funding_at\": \"2013-06-24\", \"seed\": 0.0, \"venture\": 95940002.0, \"equity_crowdfunding\": 0.0, \"undisclosed\": 0.0, \"convertible_note\": 0.0, \"debt_financing\": 2000000.0, \"angel\": 0.0, \"grant\": 0.0, \"private_equity\": 0.0, \"post_ipo_equity\": 0.0, \"post_ipo_debt\": 0.0, \"secondary_market\": 0.0, \"product_crowdfunding\": 0.0, \"round_A\": 5000000.0, \"round_B\": 15000000.0, \"round_C\": 75000000.0, \"round_D\": 0.0, \"round_E\": 0.0, \"round_F\": 0.0, \"round_G\": 0.0, \"round_H\": 0.0, \"lasting_year\": 7.0, \"Status_acquired\": 0, \"Status_closed\": 0, \"Status_operating\": 1, \"if_ipo\": 0, \"month\": 9.0, \"if_jan\": 0, \"found_fund_diff\": 335.0, \"fir_end_diff\": 1771.0, \"new_market\": \"Others\", \"new_country\": \"USA\"}, {\"name\": \"Zomato\", \"category_list\": \"|Content Discovery|Restaurants|Local Search|Reviews and Recommendations|Hospitality|\", \"market\": \"Restaurants\", \"funding_total_usd\": 0.0, \"status\": \"operating\", \"country_code\": \"IND\", \"state_code\": null, \"region\": \"New Delhi\", \"funding_rounds\": 6.0, \"founded_at\": \"2008-07-10\", \"founded_month\": \"2008-07\", \"founded_year\": 2008.0, \"first_funding_at\": \"2010-08-01\", \"last_funding_at\": \"2014-11-18\", \"seed\": 0.0, \"venture\": 0.0, \"equity_crowdfunding\": 0.0, \"undisclosed\": 0.0, \"convertible_note\": 0.0, \"debt_financing\": 0.0, \"angel\": 0.0, \"grant\": 0.0, \"private_equity\": 0.0, \"post_ipo_equity\": 0.0, \"post_ipo_debt\": 0.0, \"secondary_market\": 0.0, \"product_crowdfunding\": 0.0, \"round_A\": 0.0, \"round_B\": 0.0, \"round_C\": 0.0, \"round_D\": 0.0, \"round_E\": 0.0, \"round_F\": 0.0, \"round_G\": 0.0, \"round_H\": 0.0, \"lasting_year\": 6.0, \"Status_acquired\": 0, \"Status_closed\": 0, \"Status_operating\": 1, \"if_ipo\": 0, \"month\": 7.0, \"if_jan\": 0, \"found_fund_diff\": 752.0, \"fir_end_diff\": 1570.0, \"new_market\": \"Restaurants\", \"new_country\": \"IND\"}, {\"name\": \"Zymergen\", \"category_list\": \"|Biotechnology|\", \"market\": \"Biotechnology\", \"funding_total_usd\": 0.0, \"status\": \"operating\", \"country_code\": \"USA\", \"state_code\": \"CA\", \"region\": \"SF Bay Area\", \"funding_rounds\": 1.0, \"founded_at\": \"2013-01-01\", \"founded_month\": \"2013-01\", \"founded_year\": 2013.0, \"first_funding_at\": \"2014-01-01\", \"last_funding_at\": \"2014-01-01\", \"seed\": 0.0, \"venture\": 0.0, \"equity_crowdfunding\": 0.0, \"undisclosed\": 0.0, \"convertible_note\": 0.0, \"debt_financing\": 0.0, \"angel\": 0.0, \"grant\": 0.0, \"private_equity\": 0.0, \"post_ipo_equity\": 0.0, \"post_ipo_debt\": 0.0, \"secondary_market\": 0.0, \"product_crowdfunding\": 0.0, \"round_A\": 0.0, \"round_B\": 0.0, \"round_C\": 0.0, \"round_D\": 0.0, \"round_E\": 0.0, \"round_F\": 0.0, \"round_G\": 0.0, \"round_H\": 0.0, \"lasting_year\": 1.0, \"Status_acquired\": 0, \"Status_closed\": 0, \"Status_operating\": 1, \"if_ipo\": 0, \"month\": 1.0, \"if_jan\": 1, \"found_fund_diff\": 365.0, \"fir_end_diff\": 0.0, \"new_market\": \"Others\", \"new_country\": \"USA\"}]}}, {\"mode\": \"vega-lite\"});\n",
              "</script>"
            ]
          },
          "metadata": {},
          "execution_count": 49
        }
      ]
    },
    {
      "cell_type": "markdown",
      "metadata": {
        "id": "rjZq93eEga99"
      },
      "source": [
        "### Findings 2: IPO startups from 2000 to 2012\n",
        "\n",
        "According to [Investopedia](https://www.investopedia.com/terms/i/ipo.asp), an initial public offering (IPO) refers to the process of offering shares of a private corporation to the public in a new stock issuance. Being an IPO allows a company to raise capital from public investors. Not to mention, the transition from a private to a public company can be an important time for private investors to fully realize gains from their investment as it typically includes a share premium for current private investors. Meanwhile, being an IPO also allows public investors to participate in the offering.\n",
        "\n",
        "Based on our dataset, we flag a startup as proceeding to IPO if it gains post-IPO equity/post-IPO debt or enters the secondary market. For those startups/investors targeting to move to IPO, we have explored the features of the existing IPO startups from 2000 to 2012 in the United States. "
      ]
    },
    {
      "cell_type": "code",
      "metadata": {
        "id": "pPYV_pyam6SW"
      },
      "source": [
        " df_usa = df_usa[(df_usa['founded_year'] >= 2000) & (df_usa['founded_year'] <= 2012)]\n",
        " df_ipo = df_usa[df_usa['if_ipo'] == 1]"
      ],
      "execution_count": 50,
      "outputs": []
    },
    {
      "cell_type": "markdown",
      "metadata": {
        "id": "Nphjv7LhyOzr"
      },
      "source": [
        "- Propotion of startups proceeded to IPO in the United States from 2000 to 2012"
      ]
    },
    {
      "cell_type": "code",
      "metadata": {
        "colab": {
          "base_uri": "https://localhost:8080/"
        },
        "id": "rd3rcIYgguen",
        "outputId": "e98b55d1-3755-4cf7-ec47-ddc964c3d2a8"
      },
      "source": [
        "start_up_num = len(df_usa)\n",
        "ipo_num = sum(df_usa['if_ipo'])\n",
        "ipo_rate = round(ipo_num/start_up_num*100, 2)\n",
        "print('Among {} startups in the United States from 2000 to 2012, {} startups progressed along the road to becoming an IPO, which took {} % of total startups.'.\\\n",
        "      format(start_up_num, ipo_num, ipo_rate))"
      ],
      "execution_count": 51,
      "outputs": [
        {
          "output_type": "stream",
          "name": "stdout",
          "text": [
            "Among 17135 startups in the United States from 2000 to 2012, 92 startups progressed along the road to becoming an IPO, which took 0.54 % of total startups.\n"
          ]
        }
      ]
    },
    {
      "cell_type": "code",
      "metadata": {
        "colab": {
          "base_uri": "https://localhost:8080/",
          "height": 381
        },
        "id": "jHeZp18x1fDE",
        "outputId": "09d2a3e2-7668-43b1-8a3a-d360d705c051"
      },
      "source": [
        "df_ipo_cal = df_usa.groupby(['if_ipo'])['name'].count()\n",
        "df_ipo_cal = df_ipo_cal.reset_index()\n",
        "df_ipo_cal['Percentage'] = round(df_ipo_cal['name']/len(df_usa)*100,2)\n",
        "\n",
        "alt.Chart(df_ipo_cal, title= 'The startup progressed to IPO only takes 0.54% of total startups in the United States from 2000 to 2012').\\\n",
        "    mark_bar().encode(\n",
        "    alt.X('if_ipo:N', sort=alt.EncodingSortField(order='descending')),\n",
        "    alt.Y('Percentage:Q', title = 'Count of Records'),\n",
        "    alt.Color('if_ipo:N', sort=alt.EncodingSortField(order='descending')),\n",
        "    tooltip = ['if_ipo', 'Percentage']\n",
        ").properties(width = 300, height = 300).interactive()\n"
      ],
      "execution_count": 52,
      "outputs": [
        {
          "output_type": "execute_result",
          "data": {
            "text/plain": [
              "alt.Chart(...)"
            ],
            "text/html": [
              "\n",
              "<div id=\"altair-viz-4c2c56c664eb4a8594d980f9652ff27f\"></div>\n",
              "<script type=\"text/javascript\">\n",
              "  var VEGA_DEBUG = (typeof VEGA_DEBUG == \"undefined\") ? {} : VEGA_DEBUG;\n",
              "  (function(spec, embedOpt){\n",
              "    let outputDiv = document.currentScript.previousElementSibling;\n",
              "    if (outputDiv.id !== \"altair-viz-4c2c56c664eb4a8594d980f9652ff27f\") {\n",
              "      outputDiv = document.getElementById(\"altair-viz-4c2c56c664eb4a8594d980f9652ff27f\");\n",
              "    }\n",
              "    const paths = {\n",
              "      \"vega\": \"https://cdn.jsdelivr.net/npm//vega@5?noext\",\n",
              "      \"vega-lib\": \"https://cdn.jsdelivr.net/npm//vega-lib?noext\",\n",
              "      \"vega-lite\": \"https://cdn.jsdelivr.net/npm//vega-lite@4.17.0?noext\",\n",
              "      \"vega-embed\": \"https://cdn.jsdelivr.net/npm//vega-embed@6?noext\",\n",
              "    };\n",
              "\n",
              "    function maybeLoadScript(lib, version) {\n",
              "      var key = `${lib.replace(\"-\", \"\")}_version`;\n",
              "      return (VEGA_DEBUG[key] == version) ?\n",
              "        Promise.resolve(paths[lib]) :\n",
              "        new Promise(function(resolve, reject) {\n",
              "          var s = document.createElement('script');\n",
              "          document.getElementsByTagName(\"head\")[0].appendChild(s);\n",
              "          s.async = true;\n",
              "          s.onload = () => {\n",
              "            VEGA_DEBUG[key] = version;\n",
              "            return resolve(paths[lib]);\n",
              "          };\n",
              "          s.onerror = () => reject(`Error loading script: ${paths[lib]}`);\n",
              "          s.src = paths[lib];\n",
              "        });\n",
              "    }\n",
              "\n",
              "    function showError(err) {\n",
              "      outputDiv.innerHTML = `<div class=\"error\" style=\"color:red;\">${err}</div>`;\n",
              "      throw err;\n",
              "    }\n",
              "\n",
              "    function displayChart(vegaEmbed) {\n",
              "      vegaEmbed(outputDiv, spec, embedOpt)\n",
              "        .catch(err => showError(`Javascript Error: ${err.message}<br>This usually means there's a typo in your chart specification. See the javascript console for the full traceback.`));\n",
              "    }\n",
              "\n",
              "    if(typeof define === \"function\" && define.amd) {\n",
              "      requirejs.config({paths});\n",
              "      require([\"vega-embed\"], displayChart, err => showError(`Error loading script: ${err.message}`));\n",
              "    } else {\n",
              "      maybeLoadScript(\"vega\", \"5\")\n",
              "        .then(() => maybeLoadScript(\"vega-lite\", \"4.17.0\"))\n",
              "        .then(() => maybeLoadScript(\"vega-embed\", \"6\"))\n",
              "        .catch(showError)\n",
              "        .then(() => displayChart(vegaEmbed));\n",
              "    }\n",
              "  })({\"config\": {\"view\": {\"continuousWidth\": 400, \"continuousHeight\": 300}}, \"data\": {\"name\": \"data-4de1f584268fa43a1df9a6df6cd18676\"}, \"mark\": \"bar\", \"encoding\": {\"color\": {\"field\": \"if_ipo\", \"sort\": {\"order\": \"descending\"}, \"type\": \"nominal\"}, \"tooltip\": [{\"field\": \"if_ipo\", \"type\": \"quantitative\"}, {\"field\": \"Percentage\", \"type\": \"quantitative\"}], \"x\": {\"field\": \"if_ipo\", \"sort\": {\"order\": \"descending\"}, \"type\": \"nominal\"}, \"y\": {\"field\": \"Percentage\", \"title\": \"Count of Records\", \"type\": \"quantitative\"}}, \"height\": 300, \"selection\": {\"selector015\": {\"type\": \"interval\", \"bind\": \"scales\", \"encodings\": [\"x\", \"y\"]}}, \"title\": \"The startup progressed to IPO only takes 0.54% of total startups in the United States from 2000 to 2012\", \"width\": 300, \"$schema\": \"https://vega.github.io/schema/vega-lite/v4.17.0.json\", \"datasets\": {\"data-4de1f584268fa43a1df9a6df6cd18676\": [{\"if_ipo\": 0, \"name\": 17043, \"Percentage\": 99.46}, {\"if_ipo\": 1, \"name\": 92, \"Percentage\": 0.54}]}}, {\"mode\": \"vega-lite\"});\n",
              "</script>"
            ]
          },
          "metadata": {},
          "execution_count": 52
        }
      ]
    },
    {
      "cell_type": "markdown",
      "metadata": {
        "id": "xFcn0WyyyYsT"
      },
      "source": [
        "- Mapping the startups by state in the United States from 2000 to 2012"
      ]
    },
    {
      "cell_type": "code",
      "metadata": {
        "colab": {
          "base_uri": "https://localhost:8080/",
          "height": 542
        },
        "id": "qhryxLYkk4Aq",
        "outputId": "2e5c53b7-9bf9-4764-b852-94ce43769c24"
      },
      "source": [
        "# the USA map in terms of founded year for startups progressed to IPO - more detailed view\n",
        "df_map_ipo = df_ipo.groupby(['state_code','founded_year'])['name'].count()\n",
        "df_map_ipo = df_map_ipo.reset_index().sort_values('founded_year', ascending=True)\n",
        "df_map_ipo.rename({'name': 'Count_of_Records'}, axis=1, inplace=True)\n",
        "fig = px.choropleth(df_map_ipo,\n",
        "                    locations='state_code',\n",
        "                    color='Count_of_Records',\n",
        "                    color_continuous_scale='Rdbu',\n",
        "                    hover_name='state_code',\n",
        "                    animation_frame = 'founded_year',\n",
        "                    locationmode='USA-states',\n",
        "                    labels={'Count_of_Records':'Number of Startups'},\n",
        "                    scope='usa')\n",
        "\n",
        "\n",
        "fig.update_layout(\n",
        "    title={'text':'Number of startups progressed to IPO by State',\n",
        "           'xanchor':'center',\n",
        "           'yanchor':'top',\n",
        "           'x':0.5})\n",
        "fig.show()"
      ],
      "execution_count": 53,
      "outputs": [
        {
          "output_type": "display_data",
          "data": {
            "text/html": [
              "<html>\n",
              "<head><meta charset=\"utf-8\" /></head>\n",
              "<body>\n",
              "    <div>            <script src=\"https://cdnjs.cloudflare.com/ajax/libs/mathjax/2.7.5/MathJax.js?config=TeX-AMS-MML_SVG\"></script><script type=\"text/javascript\">if (window.MathJax) {MathJax.Hub.Config({SVG: {font: \"STIX-Web\"}});}</script>                <script type=\"text/javascript\">window.PlotlyConfig = {MathJaxConfig: 'local'};</script>\n",
              "        <script src=\"https://cdn.plot.ly/plotly-2.8.3.min.js\"></script>                <div id=\"368153b4-e8fb-45c9-8927-08f58cb061ba\" class=\"plotly-graph-div\" style=\"height:525px; width:100%;\"></div>            <script type=\"text/javascript\">                                    window.PLOTLYENV=window.PLOTLYENV || {};                                    if (document.getElementById(\"368153b4-e8fb-45c9-8927-08f58cb061ba\")) {                    Plotly.newPlot(                        \"368153b4-e8fb-45c9-8927-08f58cb061ba\",                        [{\"coloraxis\":\"coloraxis\",\"geo\":\"geo\",\"hovertemplate\":\"<b>%{hovertext}</b><br><br>founded_year=2000.0<br>state_code=%{location}<br>Number of Startups=%{z}<extra></extra>\",\"hovertext\":[\"MN\"],\"locationmode\":\"USA-states\",\"locations\":[\"MN\"],\"name\":\"\",\"z\":[1],\"type\":\"choropleth\"}],                        {\"template\":{\"data\":{\"bar\":[{\"error_x\":{\"color\":\"#2a3f5f\"},\"error_y\":{\"color\":\"#2a3f5f\"},\"marker\":{\"line\":{\"color\":\"#E5ECF6\",\"width\":0.5},\"pattern\":{\"fillmode\":\"overlay\",\"size\":10,\"solidity\":0.2}},\"type\":\"bar\"}],\"barpolar\":[{\"marker\":{\"line\":{\"color\":\"#E5ECF6\",\"width\":0.5},\"pattern\":{\"fillmode\":\"overlay\",\"size\":10,\"solidity\":0.2}},\"type\":\"barpolar\"}],\"carpet\":[{\"aaxis\":{\"endlinecolor\":\"#2a3f5f\",\"gridcolor\":\"white\",\"linecolor\":\"white\",\"minorgridcolor\":\"white\",\"startlinecolor\":\"#2a3f5f\"},\"baxis\":{\"endlinecolor\":\"#2a3f5f\",\"gridcolor\":\"white\",\"linecolor\":\"white\",\"minorgridcolor\":\"white\",\"startlinecolor\":\"#2a3f5f\"},\"type\":\"carpet\"}],\"choropleth\":[{\"colorbar\":{\"outlinewidth\":0,\"ticks\":\"\"},\"type\":\"choropleth\"}],\"contour\":[{\"colorbar\":{\"outlinewidth\":0,\"ticks\":\"\"},\"colorscale\":[[0.0,\"#0d0887\"],[0.1111111111111111,\"#46039f\"],[0.2222222222222222,\"#7201a8\"],[0.3333333333333333,\"#9c179e\"],[0.4444444444444444,\"#bd3786\"],[0.5555555555555556,\"#d8576b\"],[0.6666666666666666,\"#ed7953\"],[0.7777777777777778,\"#fb9f3a\"],[0.8888888888888888,\"#fdca26\"],[1.0,\"#f0f921\"]],\"type\":\"contour\"}],\"contourcarpet\":[{\"colorbar\":{\"outlinewidth\":0,\"ticks\":\"\"},\"type\":\"contourcarpet\"}],\"heatmap\":[{\"colorbar\":{\"outlinewidth\":0,\"ticks\":\"\"},\"colorscale\":[[0.0,\"#0d0887\"],[0.1111111111111111,\"#46039f\"],[0.2222222222222222,\"#7201a8\"],[0.3333333333333333,\"#9c179e\"],[0.4444444444444444,\"#bd3786\"],[0.5555555555555556,\"#d8576b\"],[0.6666666666666666,\"#ed7953\"],[0.7777777777777778,\"#fb9f3a\"],[0.8888888888888888,\"#fdca26\"],[1.0,\"#f0f921\"]],\"type\":\"heatmap\"}],\"heatmapgl\":[{\"colorbar\":{\"outlinewidth\":0,\"ticks\":\"\"},\"colorscale\":[[0.0,\"#0d0887\"],[0.1111111111111111,\"#46039f\"],[0.2222222222222222,\"#7201a8\"],[0.3333333333333333,\"#9c179e\"],[0.4444444444444444,\"#bd3786\"],[0.5555555555555556,\"#d8576b\"],[0.6666666666666666,\"#ed7953\"],[0.7777777777777778,\"#fb9f3a\"],[0.8888888888888888,\"#fdca26\"],[1.0,\"#f0f921\"]],\"type\":\"heatmapgl\"}],\"histogram\":[{\"marker\":{\"pattern\":{\"fillmode\":\"overlay\",\"size\":10,\"solidity\":0.2}},\"type\":\"histogram\"}],\"histogram2d\":[{\"colorbar\":{\"outlinewidth\":0,\"ticks\":\"\"},\"colorscale\":[[0.0,\"#0d0887\"],[0.1111111111111111,\"#46039f\"],[0.2222222222222222,\"#7201a8\"],[0.3333333333333333,\"#9c179e\"],[0.4444444444444444,\"#bd3786\"],[0.5555555555555556,\"#d8576b\"],[0.6666666666666666,\"#ed7953\"],[0.7777777777777778,\"#fb9f3a\"],[0.8888888888888888,\"#fdca26\"],[1.0,\"#f0f921\"]],\"type\":\"histogram2d\"}],\"histogram2dcontour\":[{\"colorbar\":{\"outlinewidth\":0,\"ticks\":\"\"},\"colorscale\":[[0.0,\"#0d0887\"],[0.1111111111111111,\"#46039f\"],[0.2222222222222222,\"#7201a8\"],[0.3333333333333333,\"#9c179e\"],[0.4444444444444444,\"#bd3786\"],[0.5555555555555556,\"#d8576b\"],[0.6666666666666666,\"#ed7953\"],[0.7777777777777778,\"#fb9f3a\"],[0.8888888888888888,\"#fdca26\"],[1.0,\"#f0f921\"]],\"type\":\"histogram2dcontour\"}],\"mesh3d\":[{\"colorbar\":{\"outlinewidth\":0,\"ticks\":\"\"},\"type\":\"mesh3d\"}],\"parcoords\":[{\"line\":{\"colorbar\":{\"outlinewidth\":0,\"ticks\":\"\"}},\"type\":\"parcoords\"}],\"pie\":[{\"automargin\":true,\"type\":\"pie\"}],\"scatter\":[{\"marker\":{\"colorbar\":{\"outlinewidth\":0,\"ticks\":\"\"}},\"type\":\"scatter\"}],\"scatter3d\":[{\"line\":{\"colorbar\":{\"outlinewidth\":0,\"ticks\":\"\"}},\"marker\":{\"colorbar\":{\"outlinewidth\":0,\"ticks\":\"\"}},\"type\":\"scatter3d\"}],\"scattercarpet\":[{\"marker\":{\"colorbar\":{\"outlinewidth\":0,\"ticks\":\"\"}},\"type\":\"scattercarpet\"}],\"scattergeo\":[{\"marker\":{\"colorbar\":{\"outlinewidth\":0,\"ticks\":\"\"}},\"type\":\"scattergeo\"}],\"scattergl\":[{\"marker\":{\"colorbar\":{\"outlinewidth\":0,\"ticks\":\"\"}},\"type\":\"scattergl\"}],\"scattermapbox\":[{\"marker\":{\"colorbar\":{\"outlinewidth\":0,\"ticks\":\"\"}},\"type\":\"scattermapbox\"}],\"scatterpolar\":[{\"marker\":{\"colorbar\":{\"outlinewidth\":0,\"ticks\":\"\"}},\"type\":\"scatterpolar\"}],\"scatterpolargl\":[{\"marker\":{\"colorbar\":{\"outlinewidth\":0,\"ticks\":\"\"}},\"type\":\"scatterpolargl\"}],\"scatterternary\":[{\"marker\":{\"colorbar\":{\"outlinewidth\":0,\"ticks\":\"\"}},\"type\":\"scatterternary\"}],\"surface\":[{\"colorbar\":{\"outlinewidth\":0,\"ticks\":\"\"},\"colorscale\":[[0.0,\"#0d0887\"],[0.1111111111111111,\"#46039f\"],[0.2222222222222222,\"#7201a8\"],[0.3333333333333333,\"#9c179e\"],[0.4444444444444444,\"#bd3786\"],[0.5555555555555556,\"#d8576b\"],[0.6666666666666666,\"#ed7953\"],[0.7777777777777778,\"#fb9f3a\"],[0.8888888888888888,\"#fdca26\"],[1.0,\"#f0f921\"]],\"type\":\"surface\"}],\"table\":[{\"cells\":{\"fill\":{\"color\":\"#EBF0F8\"},\"line\":{\"color\":\"white\"}},\"header\":{\"fill\":{\"color\":\"#C8D4E3\"},\"line\":{\"color\":\"white\"}},\"type\":\"table\"}]},\"layout\":{\"annotationdefaults\":{\"arrowcolor\":\"#2a3f5f\",\"arrowhead\":0,\"arrowwidth\":1},\"autotypenumbers\":\"strict\",\"coloraxis\":{\"colorbar\":{\"outlinewidth\":0,\"ticks\":\"\"}},\"colorscale\":{\"diverging\":[[0,\"#8e0152\"],[0.1,\"#c51b7d\"],[0.2,\"#de77ae\"],[0.3,\"#f1b6da\"],[0.4,\"#fde0ef\"],[0.5,\"#f7f7f7\"],[0.6,\"#e6f5d0\"],[0.7,\"#b8e186\"],[0.8,\"#7fbc41\"],[0.9,\"#4d9221\"],[1,\"#276419\"]],\"sequential\":[[0.0,\"#0d0887\"],[0.1111111111111111,\"#46039f\"],[0.2222222222222222,\"#7201a8\"],[0.3333333333333333,\"#9c179e\"],[0.4444444444444444,\"#bd3786\"],[0.5555555555555556,\"#d8576b\"],[0.6666666666666666,\"#ed7953\"],[0.7777777777777778,\"#fb9f3a\"],[0.8888888888888888,\"#fdca26\"],[1.0,\"#f0f921\"]],\"sequentialminus\":[[0.0,\"#0d0887\"],[0.1111111111111111,\"#46039f\"],[0.2222222222222222,\"#7201a8\"],[0.3333333333333333,\"#9c179e\"],[0.4444444444444444,\"#bd3786\"],[0.5555555555555556,\"#d8576b\"],[0.6666666666666666,\"#ed7953\"],[0.7777777777777778,\"#fb9f3a\"],[0.8888888888888888,\"#fdca26\"],[1.0,\"#f0f921\"]]},\"colorway\":[\"#636efa\",\"#EF553B\",\"#00cc96\",\"#ab63fa\",\"#FFA15A\",\"#19d3f3\",\"#FF6692\",\"#B6E880\",\"#FF97FF\",\"#FECB52\"],\"font\":{\"color\":\"#2a3f5f\"},\"geo\":{\"bgcolor\":\"white\",\"lakecolor\":\"white\",\"landcolor\":\"#E5ECF6\",\"showlakes\":true,\"showland\":true,\"subunitcolor\":\"white\"},\"hoverlabel\":{\"align\":\"left\"},\"hovermode\":\"closest\",\"mapbox\":{\"style\":\"light\"},\"paper_bgcolor\":\"white\",\"plot_bgcolor\":\"#E5ECF6\",\"polar\":{\"angularaxis\":{\"gridcolor\":\"white\",\"linecolor\":\"white\",\"ticks\":\"\"},\"bgcolor\":\"#E5ECF6\",\"radialaxis\":{\"gridcolor\":\"white\",\"linecolor\":\"white\",\"ticks\":\"\"}},\"scene\":{\"xaxis\":{\"backgroundcolor\":\"#E5ECF6\",\"gridcolor\":\"white\",\"gridwidth\":2,\"linecolor\":\"white\",\"showbackground\":true,\"ticks\":\"\",\"zerolinecolor\":\"white\"},\"yaxis\":{\"backgroundcolor\":\"#E5ECF6\",\"gridcolor\":\"white\",\"gridwidth\":2,\"linecolor\":\"white\",\"showbackground\":true,\"ticks\":\"\",\"zerolinecolor\":\"white\"},\"zaxis\":{\"backgroundcolor\":\"#E5ECF6\",\"gridcolor\":\"white\",\"gridwidth\":2,\"linecolor\":\"white\",\"showbackground\":true,\"ticks\":\"\",\"zerolinecolor\":\"white\"}},\"shapedefaults\":{\"line\":{\"color\":\"#2a3f5f\"}},\"ternary\":{\"aaxis\":{\"gridcolor\":\"white\",\"linecolor\":\"white\",\"ticks\":\"\"},\"baxis\":{\"gridcolor\":\"white\",\"linecolor\":\"white\",\"ticks\":\"\"},\"bgcolor\":\"#E5ECF6\",\"caxis\":{\"gridcolor\":\"white\",\"linecolor\":\"white\",\"ticks\":\"\"}},\"title\":{\"x\":0.05},\"xaxis\":{\"automargin\":true,\"gridcolor\":\"white\",\"linecolor\":\"white\",\"ticks\":\"\",\"title\":{\"standoff\":15},\"zerolinecolor\":\"white\",\"zerolinewidth\":2},\"yaxis\":{\"automargin\":true,\"gridcolor\":\"white\",\"linecolor\":\"white\",\"ticks\":\"\",\"title\":{\"standoff\":15},\"zerolinecolor\":\"white\",\"zerolinewidth\":2}}},\"geo\":{\"domain\":{\"x\":[0.0,1.0],\"y\":[0.0,1.0]},\"center\":{},\"scope\":\"usa\"},\"coloraxis\":{\"colorbar\":{\"title\":{\"text\":\"Number of Startups\"}},\"colorscale\":[[0.0,\"rgb(103,0,31)\"],[0.1,\"rgb(178,24,43)\"],[0.2,\"rgb(214,96,77)\"],[0.3,\"rgb(244,165,130)\"],[0.4,\"rgb(253,219,199)\"],[0.5,\"rgb(247,247,247)\"],[0.6,\"rgb(209,229,240)\"],[0.7,\"rgb(146,197,222)\"],[0.8,\"rgb(67,147,195)\"],[0.9,\"rgb(33,102,172)\"],[1.0,\"rgb(5,48,97)\"]]},\"legend\":{\"tracegroupgap\":0},\"margin\":{\"t\":60},\"updatemenus\":[{\"buttons\":[{\"args\":[null,{\"frame\":{\"duration\":500,\"redraw\":true},\"mode\":\"immediate\",\"fromcurrent\":true,\"transition\":{\"duration\":500,\"easing\":\"linear\"}}],\"label\":\"&#9654;\",\"method\":\"animate\"},{\"args\":[[null],{\"frame\":{\"duration\":0,\"redraw\":true},\"mode\":\"immediate\",\"fromcurrent\":true,\"transition\":{\"duration\":0,\"easing\":\"linear\"}}],\"label\":\"&#9724;\",\"method\":\"animate\"}],\"direction\":\"left\",\"pad\":{\"r\":10,\"t\":70},\"showactive\":false,\"type\":\"buttons\",\"x\":0.1,\"xanchor\":\"right\",\"y\":0,\"yanchor\":\"top\"}],\"sliders\":[{\"active\":0,\"currentvalue\":{\"prefix\":\"founded_year=\"},\"len\":0.9,\"pad\":{\"b\":10,\"t\":60},\"steps\":[{\"args\":[[\"2000.0\"],{\"frame\":{\"duration\":0,\"redraw\":true},\"mode\":\"immediate\",\"fromcurrent\":true,\"transition\":{\"duration\":0,\"easing\":\"linear\"}}],\"label\":\"2000.0\",\"method\":\"animate\"},{\"args\":[[\"2001.0\"],{\"frame\":{\"duration\":0,\"redraw\":true},\"mode\":\"immediate\",\"fromcurrent\":true,\"transition\":{\"duration\":0,\"easing\":\"linear\"}}],\"label\":\"2001.0\",\"method\":\"animate\"},{\"args\":[[\"2002.0\"],{\"frame\":{\"duration\":0,\"redraw\":true},\"mode\":\"immediate\",\"fromcurrent\":true,\"transition\":{\"duration\":0,\"easing\":\"linear\"}}],\"label\":\"2002.0\",\"method\":\"animate\"},{\"args\":[[\"2003.0\"],{\"frame\":{\"duration\":0,\"redraw\":true},\"mode\":\"immediate\",\"fromcurrent\":true,\"transition\":{\"duration\":0,\"easing\":\"linear\"}}],\"label\":\"2003.0\",\"method\":\"animate\"},{\"args\":[[\"2004.0\"],{\"frame\":{\"duration\":0,\"redraw\":true},\"mode\":\"immediate\",\"fromcurrent\":true,\"transition\":{\"duration\":0,\"easing\":\"linear\"}}],\"label\":\"2004.0\",\"method\":\"animate\"},{\"args\":[[\"2005.0\"],{\"frame\":{\"duration\":0,\"redraw\":true},\"mode\":\"immediate\",\"fromcurrent\":true,\"transition\":{\"duration\":0,\"easing\":\"linear\"}}],\"label\":\"2005.0\",\"method\":\"animate\"},{\"args\":[[\"2006.0\"],{\"frame\":{\"duration\":0,\"redraw\":true},\"mode\":\"immediate\",\"fromcurrent\":true,\"transition\":{\"duration\":0,\"easing\":\"linear\"}}],\"label\":\"2006.0\",\"method\":\"animate\"},{\"args\":[[\"2007.0\"],{\"frame\":{\"duration\":0,\"redraw\":true},\"mode\":\"immediate\",\"fromcurrent\":true,\"transition\":{\"duration\":0,\"easing\":\"linear\"}}],\"label\":\"2007.0\",\"method\":\"animate\"},{\"args\":[[\"2008.0\"],{\"frame\":{\"duration\":0,\"redraw\":true},\"mode\":\"immediate\",\"fromcurrent\":true,\"transition\":{\"duration\":0,\"easing\":\"linear\"}}],\"label\":\"2008.0\",\"method\":\"animate\"},{\"args\":[[\"2009.0\"],{\"frame\":{\"duration\":0,\"redraw\":true},\"mode\":\"immediate\",\"fromcurrent\":true,\"transition\":{\"duration\":0,\"easing\":\"linear\"}}],\"label\":\"2009.0\",\"method\":\"animate\"},{\"args\":[[\"2010.0\"],{\"frame\":{\"duration\":0,\"redraw\":true},\"mode\":\"immediate\",\"fromcurrent\":true,\"transition\":{\"duration\":0,\"easing\":\"linear\"}}],\"label\":\"2010.0\",\"method\":\"animate\"},{\"args\":[[\"2011.0\"],{\"frame\":{\"duration\":0,\"redraw\":true},\"mode\":\"immediate\",\"fromcurrent\":true,\"transition\":{\"duration\":0,\"easing\":\"linear\"}}],\"label\":\"2011.0\",\"method\":\"animate\"},{\"args\":[[\"2012.0\"],{\"frame\":{\"duration\":0,\"redraw\":true},\"mode\":\"immediate\",\"fromcurrent\":true,\"transition\":{\"duration\":0,\"easing\":\"linear\"}}],\"label\":\"2012.0\",\"method\":\"animate\"}],\"x\":0.1,\"xanchor\":\"left\",\"y\":0,\"yanchor\":\"top\"}],\"title\":{\"text\":\"Number of startups progressed to IPO by State\",\"xanchor\":\"center\",\"yanchor\":\"top\",\"x\":0.5}},                        {\"responsive\": true}                    ).then(function(){\n",
              "                            Plotly.addFrames('368153b4-e8fb-45c9-8927-08f58cb061ba', [{\"data\":[{\"coloraxis\":\"coloraxis\",\"geo\":\"geo\",\"hovertemplate\":\"<b>%{hovertext}</b><br><br>founded_year=2000.0<br>state_code=%{location}<br>Number of Startups=%{z}<extra></extra>\",\"hovertext\":[\"MN\"],\"locationmode\":\"USA-states\",\"locations\":[\"MN\"],\"name\":\"\",\"z\":[1],\"type\":\"choropleth\"}],\"name\":\"2000.0\"},{\"data\":[{\"coloraxis\":\"coloraxis\",\"geo\":\"geo\",\"hovertemplate\":\"<b>%{hovertext}</b><br><br>founded_year=2001.0<br>state_code=%{location}<br>Number of Startups=%{z}<extra></extra>\",\"hovertext\":[\"MA\",\"MD\",\"CA\",\"NC\"],\"locationmode\":\"USA-states\",\"locations\":[\"MA\",\"MD\",\"CA\",\"NC\"],\"name\":\"\",\"z\":[2,1,2,1],\"type\":\"choropleth\"}],\"name\":\"2001.0\"},{\"data\":[{\"coloraxis\":\"coloraxis\",\"geo\":\"geo\",\"hovertemplate\":\"<b>%{hovertext}</b><br><br>founded_year=2002.0<br>state_code=%{location}<br>Number of Startups=%{z}<extra></extra>\",\"hovertext\":[\"NC\",\"NY\",\"PA\",\"MA\",\"CA\"],\"locationmode\":\"USA-states\",\"locations\":[\"NC\",\"NY\",\"PA\",\"MA\",\"CA\"],\"name\":\"\",\"z\":[2,1,1,1,2],\"type\":\"choropleth\"}],\"name\":\"2002.0\"},{\"data\":[{\"coloraxis\":\"coloraxis\",\"geo\":\"geo\",\"hovertemplate\":\"<b>%{hovertext}</b><br><br>founded_year=2003.0<br>state_code=%{location}<br>Number of Startups=%{z}<extra></extra>\",\"hovertext\":[\"WA\",\"OR\",\"MA\",\"GA\",\"AZ\",\"CA\",\"DC\"],\"locationmode\":\"USA-states\",\"locations\":[\"WA\",\"OR\",\"MA\",\"GA\",\"AZ\",\"CA\",\"DC\"],\"name\":\"\",\"z\":[1,1,1,1,2,4,1],\"type\":\"choropleth\"}],\"name\":\"2003.0\"},{\"data\":[{\"coloraxis\":\"coloraxis\",\"geo\":\"geo\",\"hovertemplate\":\"<b>%{hovertext}</b><br><br>founded_year=2004.0<br>state_code=%{location}<br>Number of Startups=%{z}<extra></extra>\",\"hovertext\":[\"CA\",\"FL\",\"CO\",\"NY\"],\"locationmode\":\"USA-states\",\"locations\":[\"CA\",\"FL\",\"CO\",\"NY\"],\"name\":\"\",\"z\":[3,3,2,1],\"type\":\"choropleth\"}],\"name\":\"2004.0\"},{\"data\":[{\"coloraxis\":\"coloraxis\",\"geo\":\"geo\",\"hovertemplate\":\"<b>%{hovertext}</b><br><br>founded_year=2005.0<br>state_code=%{location}<br>Number of Startups=%{z}<extra></extra>\",\"hovertext\":[\"CT\",\"WA\",\"CA\",\"IL\",\"TX\",\"NJ\"],\"locationmode\":\"USA-states\",\"locations\":[\"CT\",\"WA\",\"CA\",\"IL\",\"TX\",\"NJ\"],\"name\":\"\",\"z\":[1,1,4,1,1,1],\"type\":\"choropleth\"}],\"name\":\"2005.0\"},{\"data\":[{\"coloraxis\":\"coloraxis\",\"geo\":\"geo\",\"hovertemplate\":\"<b>%{hovertext}</b><br><br>founded_year=2006.0<br>state_code=%{location}<br>Number of Startups=%{z}<extra></extra>\",\"hovertext\":[\"NC\",\"MA\",\"AR\",\"CA\",\"FL\",\"IL\"],\"locationmode\":\"USA-states\",\"locations\":[\"NC\",\"MA\",\"AR\",\"CA\",\"FL\",\"IL\"],\"name\":\"\",\"z\":[1,2,1,3,1,1],\"type\":\"choropleth\"}],\"name\":\"2006.0\"},{\"data\":[{\"coloraxis\":\"coloraxis\",\"geo\":\"geo\",\"hovertemplate\":\"<b>%{hovertext}</b><br><br>founded_year=2007.0<br>state_code=%{location}<br>Number of Startups=%{z}<extra></extra>\",\"hovertext\":[\"MA\",\"TX\",\"MD\",\"CA\",\"PA\",\"FL\",\"OH\",\"NJ\"],\"locationmode\":\"USA-states\",\"locations\":[\"MA\",\"TX\",\"MD\",\"CA\",\"PA\",\"FL\",\"OH\",\"NJ\"],\"name\":\"\",\"z\":[2,1,1,3,1,1,1,1],\"type\":\"choropleth\"}],\"name\":\"2007.0\"},{\"data\":[{\"coloraxis\":\"coloraxis\",\"geo\":\"geo\",\"hovertemplate\":\"<b>%{hovertext}</b><br><br>founded_year=2008.0<br>state_code=%{location}<br>Number of Startups=%{z}<extra></extra>\",\"hovertext\":[\"GA\",\"TX\",\"WA\",\"NC\",\"CO\"],\"locationmode\":\"USA-states\",\"locations\":[\"GA\",\"TX\",\"WA\",\"NC\",\"CO\"],\"name\":\"\",\"z\":[1,1,1,1,1],\"type\":\"choropleth\"}],\"name\":\"2008.0\"},{\"data\":[{\"coloraxis\":\"coloraxis\",\"geo\":\"geo\",\"hovertemplate\":\"<b>%{hovertext}</b><br><br>founded_year=2009.0<br>state_code=%{location}<br>Number of Startups=%{z}<extra></extra>\",\"hovertext\":[\"NY\",\"CT\",\"CA\",\"MD\"],\"locationmode\":\"USA-states\",\"locations\":[\"NY\",\"CT\",\"CA\",\"MD\"],\"name\":\"\",\"z\":[1,1,3,1],\"type\":\"choropleth\"}],\"name\":\"2009.0\"},{\"data\":[{\"coloraxis\":\"coloraxis\",\"geo\":\"geo\",\"hovertemplate\":\"<b>%{hovertext}</b><br><br>founded_year=2010.0<br>state_code=%{location}<br>Number of Startups=%{z}<extra></extra>\",\"hovertext\":[\"CA\",\"FL\",\"MA\",\"NM\"],\"locationmode\":\"USA-states\",\"locations\":[\"CA\",\"FL\",\"MA\",\"NM\"],\"name\":\"\",\"z\":[1,1,2,1],\"type\":\"choropleth\"}],\"name\":\"2010.0\"},{\"data\":[{\"coloraxis\":\"coloraxis\",\"geo\":\"geo\",\"hovertemplate\":\"<b>%{hovertext}</b><br><br>founded_year=2011.0<br>state_code=%{location}<br>Number of Startups=%{z}<extra></extra>\",\"hovertext\":[\"CA\",\"NY\",\"FL\",\"TX\"],\"locationmode\":\"USA-states\",\"locations\":[\"CA\",\"NY\",\"FL\",\"TX\"],\"name\":\"\",\"z\":[3,2,1,2],\"type\":\"choropleth\"}],\"name\":\"2011.0\"},{\"data\":[{\"coloraxis\":\"coloraxis\",\"geo\":\"geo\",\"hovertemplate\":\"<b>%{hovertext}</b><br><br>founded_year=2012.0<br>state_code=%{location}<br>Number of Startups=%{z}<extra></extra>\",\"hovertext\":[\"CA\",\"FL\"],\"locationmode\":\"USA-states\",\"locations\":[\"CA\",\"FL\"],\"name\":\"\",\"z\":[3,1],\"type\":\"choropleth\"}],\"name\":\"2012.0\"}]);\n",
              "                        }).then(function(){\n",
              "                            \n",
              "var gd = document.getElementById('368153b4-e8fb-45c9-8927-08f58cb061ba');\n",
              "var x = new MutationObserver(function (mutations, observer) {{\n",
              "        var display = window.getComputedStyle(gd).display;\n",
              "        if (!display || display === 'none') {{\n",
              "            console.log([gd, 'removed!']);\n",
              "            Plotly.purge(gd);\n",
              "            observer.disconnect();\n",
              "        }}\n",
              "}});\n",
              "\n",
              "// Listen for the removal of the full notebook cells\n",
              "var notebookContainer = gd.closest('#notebook-container');\n",
              "if (notebookContainer) {{\n",
              "    x.observe(notebookContainer, {childList: true});\n",
              "}}\n",
              "\n",
              "// Listen for the clearing of the current output cell\n",
              "var outputEl = gd.closest('.output');\n",
              "if (outputEl) {{\n",
              "    x.observe(outputEl, {childList: true});\n",
              "}}\n",
              "\n",
              "                        })                };                            </script>        </div>\n",
              "</body>\n",
              "</html>"
            ]
          },
          "metadata": {}
        }
      ]
    },
    {
      "cell_type": "code",
      "metadata": {
        "colab": {
          "base_uri": "https://localhost:8080/",
          "height": 542
        },
        "id": "3ucI_3PKmkIE",
        "outputId": "961bf6b5-9793-4175-abdb-0a2ff10e07d4"
      },
      "source": [
        "# the USA map for startups progressed to IPO - overview\n",
        "df_map_ipo = df_ipo.groupby(['state_code'])['name'].count()\n",
        "df_map_ipo= df_map_ipo.reset_index()\n",
        "df_map_ipo.rename({'name': 'Count_of_Records'}, axis=1, inplace=True)\n",
        "fig = px.choropleth(df_map_ipo,\n",
        "                    locations='state_code',\n",
        "                    color='Count_of_Records',\n",
        "                    color_continuous_scale='rdbu',\n",
        "                    hover_name='state_code',\n",
        "                    locationmode='USA-states',\n",
        "                    labels={'Count_of_Records':'Number of Startups'},\n",
        "                    scope='usa')\n",
        "fig.update_layout(\n",
        "    title={'text':'Startups progressed along the road to becoming an IPO are mainly located in California, Massachusetts, Florida, New York, North Carolina, and Texas.',\n",
        "           'xanchor':'center',\n",
        "           'yanchor':'top',\n",
        "           'x':0.5})\n",
        "fig.show()\n",
        "#present #what's the finding"
      ],
      "execution_count": 54,
      "outputs": [
        {
          "output_type": "display_data",
          "data": {
            "text/html": [
              "<html>\n",
              "<head><meta charset=\"utf-8\" /></head>\n",
              "<body>\n",
              "    <div>            <script src=\"https://cdnjs.cloudflare.com/ajax/libs/mathjax/2.7.5/MathJax.js?config=TeX-AMS-MML_SVG\"></script><script type=\"text/javascript\">if (window.MathJax) {MathJax.Hub.Config({SVG: {font: \"STIX-Web\"}});}</script>                <script type=\"text/javascript\">window.PlotlyConfig = {MathJaxConfig: 'local'};</script>\n",
              "        <script src=\"https://cdn.plot.ly/plotly-2.8.3.min.js\"></script>                <div id=\"aeb7eea6-a99e-4532-9987-ce384a50bcb7\" class=\"plotly-graph-div\" style=\"height:525px; width:100%;\"></div>            <script type=\"text/javascript\">                                    window.PLOTLYENV=window.PLOTLYENV || {};                                    if (document.getElementById(\"aeb7eea6-a99e-4532-9987-ce384a50bcb7\")) {                    Plotly.newPlot(                        \"aeb7eea6-a99e-4532-9987-ce384a50bcb7\",                        [{\"coloraxis\":\"coloraxis\",\"geo\":\"geo\",\"hovertemplate\":\"<b>%{hovertext}</b><br><br>state_code=%{location}<br>Number of Startups=%{z}<extra></extra>\",\"hovertext\":[\"AR\",\"AZ\",\"CA\",\"CO\",\"CT\",\"DC\",\"FL\",\"GA\",\"IL\",\"MA\",\"MD\",\"MN\",\"NC\",\"NJ\",\"NM\",\"NY\",\"OH\",\"OR\",\"PA\",\"TX\",\"WA\"],\"locationmode\":\"USA-states\",\"locations\":[\"AR\",\"AZ\",\"CA\",\"CO\",\"CT\",\"DC\",\"FL\",\"GA\",\"IL\",\"MA\",\"MD\",\"MN\",\"NC\",\"NJ\",\"NM\",\"NY\",\"OH\",\"OR\",\"PA\",\"TX\",\"WA\"],\"name\":\"\",\"z\":[1,2,31,3,2,1,8,2,2,10,3,1,5,2,1,5,1,1,2,5,3],\"type\":\"choropleth\"}],                        {\"template\":{\"data\":{\"bar\":[{\"error_x\":{\"color\":\"#2a3f5f\"},\"error_y\":{\"color\":\"#2a3f5f\"},\"marker\":{\"line\":{\"color\":\"#E5ECF6\",\"width\":0.5},\"pattern\":{\"fillmode\":\"overlay\",\"size\":10,\"solidity\":0.2}},\"type\":\"bar\"}],\"barpolar\":[{\"marker\":{\"line\":{\"color\":\"#E5ECF6\",\"width\":0.5},\"pattern\":{\"fillmode\":\"overlay\",\"size\":10,\"solidity\":0.2}},\"type\":\"barpolar\"}],\"carpet\":[{\"aaxis\":{\"endlinecolor\":\"#2a3f5f\",\"gridcolor\":\"white\",\"linecolor\":\"white\",\"minorgridcolor\":\"white\",\"startlinecolor\":\"#2a3f5f\"},\"baxis\":{\"endlinecolor\":\"#2a3f5f\",\"gridcolor\":\"white\",\"linecolor\":\"white\",\"minorgridcolor\":\"white\",\"startlinecolor\":\"#2a3f5f\"},\"type\":\"carpet\"}],\"choropleth\":[{\"colorbar\":{\"outlinewidth\":0,\"ticks\":\"\"},\"type\":\"choropleth\"}],\"contour\":[{\"colorbar\":{\"outlinewidth\":0,\"ticks\":\"\"},\"colorscale\":[[0.0,\"#0d0887\"],[0.1111111111111111,\"#46039f\"],[0.2222222222222222,\"#7201a8\"],[0.3333333333333333,\"#9c179e\"],[0.4444444444444444,\"#bd3786\"],[0.5555555555555556,\"#d8576b\"],[0.6666666666666666,\"#ed7953\"],[0.7777777777777778,\"#fb9f3a\"],[0.8888888888888888,\"#fdca26\"],[1.0,\"#f0f921\"]],\"type\":\"contour\"}],\"contourcarpet\":[{\"colorbar\":{\"outlinewidth\":0,\"ticks\":\"\"},\"type\":\"contourcarpet\"}],\"heatmap\":[{\"colorbar\":{\"outlinewidth\":0,\"ticks\":\"\"},\"colorscale\":[[0.0,\"#0d0887\"],[0.1111111111111111,\"#46039f\"],[0.2222222222222222,\"#7201a8\"],[0.3333333333333333,\"#9c179e\"],[0.4444444444444444,\"#bd3786\"],[0.5555555555555556,\"#d8576b\"],[0.6666666666666666,\"#ed7953\"],[0.7777777777777778,\"#fb9f3a\"],[0.8888888888888888,\"#fdca26\"],[1.0,\"#f0f921\"]],\"type\":\"heatmap\"}],\"heatmapgl\":[{\"colorbar\":{\"outlinewidth\":0,\"ticks\":\"\"},\"colorscale\":[[0.0,\"#0d0887\"],[0.1111111111111111,\"#46039f\"],[0.2222222222222222,\"#7201a8\"],[0.3333333333333333,\"#9c179e\"],[0.4444444444444444,\"#bd3786\"],[0.5555555555555556,\"#d8576b\"],[0.6666666666666666,\"#ed7953\"],[0.7777777777777778,\"#fb9f3a\"],[0.8888888888888888,\"#fdca26\"],[1.0,\"#f0f921\"]],\"type\":\"heatmapgl\"}],\"histogram\":[{\"marker\":{\"pattern\":{\"fillmode\":\"overlay\",\"size\":10,\"solidity\":0.2}},\"type\":\"histogram\"}],\"histogram2d\":[{\"colorbar\":{\"outlinewidth\":0,\"ticks\":\"\"},\"colorscale\":[[0.0,\"#0d0887\"],[0.1111111111111111,\"#46039f\"],[0.2222222222222222,\"#7201a8\"],[0.3333333333333333,\"#9c179e\"],[0.4444444444444444,\"#bd3786\"],[0.5555555555555556,\"#d8576b\"],[0.6666666666666666,\"#ed7953\"],[0.7777777777777778,\"#fb9f3a\"],[0.8888888888888888,\"#fdca26\"],[1.0,\"#f0f921\"]],\"type\":\"histogram2d\"}],\"histogram2dcontour\":[{\"colorbar\":{\"outlinewidth\":0,\"ticks\":\"\"},\"colorscale\":[[0.0,\"#0d0887\"],[0.1111111111111111,\"#46039f\"],[0.2222222222222222,\"#7201a8\"],[0.3333333333333333,\"#9c179e\"],[0.4444444444444444,\"#bd3786\"],[0.5555555555555556,\"#d8576b\"],[0.6666666666666666,\"#ed7953\"],[0.7777777777777778,\"#fb9f3a\"],[0.8888888888888888,\"#fdca26\"],[1.0,\"#f0f921\"]],\"type\":\"histogram2dcontour\"}],\"mesh3d\":[{\"colorbar\":{\"outlinewidth\":0,\"ticks\":\"\"},\"type\":\"mesh3d\"}],\"parcoords\":[{\"line\":{\"colorbar\":{\"outlinewidth\":0,\"ticks\":\"\"}},\"type\":\"parcoords\"}],\"pie\":[{\"automargin\":true,\"type\":\"pie\"}],\"scatter\":[{\"marker\":{\"colorbar\":{\"outlinewidth\":0,\"ticks\":\"\"}},\"type\":\"scatter\"}],\"scatter3d\":[{\"line\":{\"colorbar\":{\"outlinewidth\":0,\"ticks\":\"\"}},\"marker\":{\"colorbar\":{\"outlinewidth\":0,\"ticks\":\"\"}},\"type\":\"scatter3d\"}],\"scattercarpet\":[{\"marker\":{\"colorbar\":{\"outlinewidth\":0,\"ticks\":\"\"}},\"type\":\"scattercarpet\"}],\"scattergeo\":[{\"marker\":{\"colorbar\":{\"outlinewidth\":0,\"ticks\":\"\"}},\"type\":\"scattergeo\"}],\"scattergl\":[{\"marker\":{\"colorbar\":{\"outlinewidth\":0,\"ticks\":\"\"}},\"type\":\"scattergl\"}],\"scattermapbox\":[{\"marker\":{\"colorbar\":{\"outlinewidth\":0,\"ticks\":\"\"}},\"type\":\"scattermapbox\"}],\"scatterpolar\":[{\"marker\":{\"colorbar\":{\"outlinewidth\":0,\"ticks\":\"\"}},\"type\":\"scatterpolar\"}],\"scatterpolargl\":[{\"marker\":{\"colorbar\":{\"outlinewidth\":0,\"ticks\":\"\"}},\"type\":\"scatterpolargl\"}],\"scatterternary\":[{\"marker\":{\"colorbar\":{\"outlinewidth\":0,\"ticks\":\"\"}},\"type\":\"scatterternary\"}],\"surface\":[{\"colorbar\":{\"outlinewidth\":0,\"ticks\":\"\"},\"colorscale\":[[0.0,\"#0d0887\"],[0.1111111111111111,\"#46039f\"],[0.2222222222222222,\"#7201a8\"],[0.3333333333333333,\"#9c179e\"],[0.4444444444444444,\"#bd3786\"],[0.5555555555555556,\"#d8576b\"],[0.6666666666666666,\"#ed7953\"],[0.7777777777777778,\"#fb9f3a\"],[0.8888888888888888,\"#fdca26\"],[1.0,\"#f0f921\"]],\"type\":\"surface\"}],\"table\":[{\"cells\":{\"fill\":{\"color\":\"#EBF0F8\"},\"line\":{\"color\":\"white\"}},\"header\":{\"fill\":{\"color\":\"#C8D4E3\"},\"line\":{\"color\":\"white\"}},\"type\":\"table\"}]},\"layout\":{\"annotationdefaults\":{\"arrowcolor\":\"#2a3f5f\",\"arrowhead\":0,\"arrowwidth\":1},\"autotypenumbers\":\"strict\",\"coloraxis\":{\"colorbar\":{\"outlinewidth\":0,\"ticks\":\"\"}},\"colorscale\":{\"diverging\":[[0,\"#8e0152\"],[0.1,\"#c51b7d\"],[0.2,\"#de77ae\"],[0.3,\"#f1b6da\"],[0.4,\"#fde0ef\"],[0.5,\"#f7f7f7\"],[0.6,\"#e6f5d0\"],[0.7,\"#b8e186\"],[0.8,\"#7fbc41\"],[0.9,\"#4d9221\"],[1,\"#276419\"]],\"sequential\":[[0.0,\"#0d0887\"],[0.1111111111111111,\"#46039f\"],[0.2222222222222222,\"#7201a8\"],[0.3333333333333333,\"#9c179e\"],[0.4444444444444444,\"#bd3786\"],[0.5555555555555556,\"#d8576b\"],[0.6666666666666666,\"#ed7953\"],[0.7777777777777778,\"#fb9f3a\"],[0.8888888888888888,\"#fdca26\"],[1.0,\"#f0f921\"]],\"sequentialminus\":[[0.0,\"#0d0887\"],[0.1111111111111111,\"#46039f\"],[0.2222222222222222,\"#7201a8\"],[0.3333333333333333,\"#9c179e\"],[0.4444444444444444,\"#bd3786\"],[0.5555555555555556,\"#d8576b\"],[0.6666666666666666,\"#ed7953\"],[0.7777777777777778,\"#fb9f3a\"],[0.8888888888888888,\"#fdca26\"],[1.0,\"#f0f921\"]]},\"colorway\":[\"#636efa\",\"#EF553B\",\"#00cc96\",\"#ab63fa\",\"#FFA15A\",\"#19d3f3\",\"#FF6692\",\"#B6E880\",\"#FF97FF\",\"#FECB52\"],\"font\":{\"color\":\"#2a3f5f\"},\"geo\":{\"bgcolor\":\"white\",\"lakecolor\":\"white\",\"landcolor\":\"#E5ECF6\",\"showlakes\":true,\"showland\":true,\"subunitcolor\":\"white\"},\"hoverlabel\":{\"align\":\"left\"},\"hovermode\":\"closest\",\"mapbox\":{\"style\":\"light\"},\"paper_bgcolor\":\"white\",\"plot_bgcolor\":\"#E5ECF6\",\"polar\":{\"angularaxis\":{\"gridcolor\":\"white\",\"linecolor\":\"white\",\"ticks\":\"\"},\"bgcolor\":\"#E5ECF6\",\"radialaxis\":{\"gridcolor\":\"white\",\"linecolor\":\"white\",\"ticks\":\"\"}},\"scene\":{\"xaxis\":{\"backgroundcolor\":\"#E5ECF6\",\"gridcolor\":\"white\",\"gridwidth\":2,\"linecolor\":\"white\",\"showbackground\":true,\"ticks\":\"\",\"zerolinecolor\":\"white\"},\"yaxis\":{\"backgroundcolor\":\"#E5ECF6\",\"gridcolor\":\"white\",\"gridwidth\":2,\"linecolor\":\"white\",\"showbackground\":true,\"ticks\":\"\",\"zerolinecolor\":\"white\"},\"zaxis\":{\"backgroundcolor\":\"#E5ECF6\",\"gridcolor\":\"white\",\"gridwidth\":2,\"linecolor\":\"white\",\"showbackground\":true,\"ticks\":\"\",\"zerolinecolor\":\"white\"}},\"shapedefaults\":{\"line\":{\"color\":\"#2a3f5f\"}},\"ternary\":{\"aaxis\":{\"gridcolor\":\"white\",\"linecolor\":\"white\",\"ticks\":\"\"},\"baxis\":{\"gridcolor\":\"white\",\"linecolor\":\"white\",\"ticks\":\"\"},\"bgcolor\":\"#E5ECF6\",\"caxis\":{\"gridcolor\":\"white\",\"linecolor\":\"white\",\"ticks\":\"\"}},\"title\":{\"x\":0.05},\"xaxis\":{\"automargin\":true,\"gridcolor\":\"white\",\"linecolor\":\"white\",\"ticks\":\"\",\"title\":{\"standoff\":15},\"zerolinecolor\":\"white\",\"zerolinewidth\":2},\"yaxis\":{\"automargin\":true,\"gridcolor\":\"white\",\"linecolor\":\"white\",\"ticks\":\"\",\"title\":{\"standoff\":15},\"zerolinecolor\":\"white\",\"zerolinewidth\":2}}},\"geo\":{\"domain\":{\"x\":[0.0,1.0],\"y\":[0.0,1.0]},\"center\":{},\"scope\":\"usa\"},\"coloraxis\":{\"colorbar\":{\"title\":{\"text\":\"Number of Startups\"}},\"colorscale\":[[0.0,\"rgb(103,0,31)\"],[0.1,\"rgb(178,24,43)\"],[0.2,\"rgb(214,96,77)\"],[0.3,\"rgb(244,165,130)\"],[0.4,\"rgb(253,219,199)\"],[0.5,\"rgb(247,247,247)\"],[0.6,\"rgb(209,229,240)\"],[0.7,\"rgb(146,197,222)\"],[0.8,\"rgb(67,147,195)\"],[0.9,\"rgb(33,102,172)\"],[1.0,\"rgb(5,48,97)\"]]},\"legend\":{\"tracegroupgap\":0},\"margin\":{\"t\":60},\"title\":{\"text\":\"Startups progressed along the road to becoming an IPO are mainly located in California, Massachusetts, Florida, New York, North Carolina, and Texas.\",\"xanchor\":\"center\",\"yanchor\":\"top\",\"x\":0.5}},                        {\"responsive\": true}                    ).then(function(){\n",
              "                            \n",
              "var gd = document.getElementById('aeb7eea6-a99e-4532-9987-ce384a50bcb7');\n",
              "var x = new MutationObserver(function (mutations, observer) {{\n",
              "        var display = window.getComputedStyle(gd).display;\n",
              "        if (!display || display === 'none') {{\n",
              "            console.log([gd, 'removed!']);\n",
              "            Plotly.purge(gd);\n",
              "            observer.disconnect();\n",
              "        }}\n",
              "}});\n",
              "\n",
              "// Listen for the removal of the full notebook cells\n",
              "var notebookContainer = gd.closest('#notebook-container');\n",
              "if (notebookContainer) {{\n",
              "    x.observe(notebookContainer, {childList: true});\n",
              "}}\n",
              "\n",
              "// Listen for the clearing of the current output cell\n",
              "var outputEl = gd.closest('.output');\n",
              "if (outputEl) {{\n",
              "    x.observe(outputEl, {childList: true});\n",
              "}}\n",
              "\n",
              "                        })                };                            </script>        </div>\n",
              "</body>\n",
              "</html>"
            ]
          },
          "metadata": {}
        }
      ]
    },
    {
      "cell_type": "markdown",
      "metadata": {
        "id": "qzvZyip5yLn-"
      },
      "source": [
        "Based on the visualization, those \"successful startups\" are mainly located in California, Massachusetts, Florida, New York, North Carolina, and Texas. Also, most startups that progressed to IPO are at the boundaries. It's not surprising that California has the most startups that proceeded to IPO, which parallels the finding that dominating startups are in California. \n",
        "\n",
        "Question generated from the map: \n",
        "- As a state with a cashless society in the uplands and plantation agriculture in the lowlands, what startups moved to IPO in Arkansas? Why is it unqiue compared to other startups?"
      ]
    },
    {
      "cell_type": "markdown",
      "metadata": {
        "id": "UAd9FYcP4coc"
      },
      "source": [
        "- Dive deeper to look at the startups in Arkansas"
      ]
    },
    {
      "cell_type": "code",
      "metadata": {
        "colab": {
          "base_uri": "https://localhost:8080/",
          "height": 483
        },
        "id": "H1fJJzNa3ofJ",
        "outputId": "9dc38537-5ea9-4fb0-c808-2a633ce2d962"
      },
      "source": [
        "df_ar = df_usa[df_usa['state_code'] == 'AR']\n",
        "\n",
        "df_ar_mkt = df_ar.groupby(['market', 'if_ipo'])['name'].count()\n",
        "df_ar_mkt = df_ar_mkt.reset_index().sort_values(by='name', ascending = False)\n",
        "df_ar_mkt.rename({'market': 'Market', 'name': 'Count_of_Records'}, axis=1, inplace=True)\n",
        "\n",
        "alt.Chart(df_ar_mkt, title= 'The startup progressed to IPO is in the HealthCare field, which is the only startup in that field during 2000 to 2012 in Arkansas').\\\n",
        "    mark_bar().encode(\n",
        "    alt.X('Market:N', sort=alt.EncodingSortField(order='descending')),\n",
        "    alt.Y('Count_of_Records:Q', title = 'Count of Records'),\n",
        "    alt.Color('if_ipo:N', sort=alt.EncodingSortField(order='descending')),\n",
        "    tooltip = ['Market', 'Count_of_Records']\n",
        ").interactive()\n"
      ],
      "execution_count": 55,
      "outputs": [
        {
          "output_type": "execute_result",
          "data": {
            "text/plain": [
              "alt.Chart(...)"
            ],
            "text/html": [
              "\n",
              "<div id=\"altair-viz-79c9a3422055438c8db1b4008b63d7bd\"></div>\n",
              "<script type=\"text/javascript\">\n",
              "  var VEGA_DEBUG = (typeof VEGA_DEBUG == \"undefined\") ? {} : VEGA_DEBUG;\n",
              "  (function(spec, embedOpt){\n",
              "    let outputDiv = document.currentScript.previousElementSibling;\n",
              "    if (outputDiv.id !== \"altair-viz-79c9a3422055438c8db1b4008b63d7bd\") {\n",
              "      outputDiv = document.getElementById(\"altair-viz-79c9a3422055438c8db1b4008b63d7bd\");\n",
              "    }\n",
              "    const paths = {\n",
              "      \"vega\": \"https://cdn.jsdelivr.net/npm//vega@5?noext\",\n",
              "      \"vega-lib\": \"https://cdn.jsdelivr.net/npm//vega-lib?noext\",\n",
              "      \"vega-lite\": \"https://cdn.jsdelivr.net/npm//vega-lite@4.17.0?noext\",\n",
              "      \"vega-embed\": \"https://cdn.jsdelivr.net/npm//vega-embed@6?noext\",\n",
              "    };\n",
              "\n",
              "    function maybeLoadScript(lib, version) {\n",
              "      var key = `${lib.replace(\"-\", \"\")}_version`;\n",
              "      return (VEGA_DEBUG[key] == version) ?\n",
              "        Promise.resolve(paths[lib]) :\n",
              "        new Promise(function(resolve, reject) {\n",
              "          var s = document.createElement('script');\n",
              "          document.getElementsByTagName(\"head\")[0].appendChild(s);\n",
              "          s.async = true;\n",
              "          s.onload = () => {\n",
              "            VEGA_DEBUG[key] = version;\n",
              "            return resolve(paths[lib]);\n",
              "          };\n",
              "          s.onerror = () => reject(`Error loading script: ${paths[lib]}`);\n",
              "          s.src = paths[lib];\n",
              "        });\n",
              "    }\n",
              "\n",
              "    function showError(err) {\n",
              "      outputDiv.innerHTML = `<div class=\"error\" style=\"color:red;\">${err}</div>`;\n",
              "      throw err;\n",
              "    }\n",
              "\n",
              "    function displayChart(vegaEmbed) {\n",
              "      vegaEmbed(outputDiv, spec, embedOpt)\n",
              "        .catch(err => showError(`Javascript Error: ${err.message}<br>This usually means there's a typo in your chart specification. See the javascript console for the full traceback.`));\n",
              "    }\n",
              "\n",
              "    if(typeof define === \"function\" && define.amd) {\n",
              "      requirejs.config({paths});\n",
              "      require([\"vega-embed\"], displayChart, err => showError(`Error loading script: ${err.message}`));\n",
              "    } else {\n",
              "      maybeLoadScript(\"vega\", \"5\")\n",
              "        .then(() => maybeLoadScript(\"vega-lite\", \"4.17.0\"))\n",
              "        .then(() => maybeLoadScript(\"vega-embed\", \"6\"))\n",
              "        .catch(showError)\n",
              "        .then(() => displayChart(vegaEmbed));\n",
              "    }\n",
              "  })({\"config\": {\"view\": {\"continuousWidth\": 400, \"continuousHeight\": 300}}, \"data\": {\"name\": \"data-d5073b1137c86bb8154c7313974142c3\"}, \"mark\": \"bar\", \"encoding\": {\"color\": {\"field\": \"if_ipo\", \"sort\": {\"order\": \"descending\"}, \"type\": \"nominal\"}, \"tooltip\": [{\"field\": \"Market\", \"type\": \"nominal\"}, {\"field\": \"Count_of_Records\", \"type\": \"quantitative\"}], \"x\": {\"field\": \"Market\", \"sort\": {\"order\": \"descending\"}, \"type\": \"nominal\"}, \"y\": {\"field\": \"Count_of_Records\", \"title\": \"Count of Records\", \"type\": \"quantitative\"}}, \"selection\": {\"selector016\": {\"type\": \"interval\", \"bind\": \"scales\", \"encodings\": [\"x\", \"y\"]}}, \"title\": \"The startup progressed to IPO is in the HealthCare field, which is the only startup in that field during 2000 to 2012 in Arkansas\", \"$schema\": \"https://vega.github.io/schema/vega-lite/v4.17.0.json\", \"datasets\": {\"data-d5073b1137c86bb8154c7313974142c3\": [{\"Market\": \"Medical\", \"if_ipo\": 0, \"Count_of_Records\": 17}, {\"Market\": \"Software\", \"if_ipo\": 0, \"Count_of_Records\": 14}, {\"Market\": \"Hospitality\", \"if_ipo\": 0, \"Count_of_Records\": 7}, {\"Market\": \"Consulting\", \"if_ipo\": 0, \"Count_of_Records\": 7}, {\"Market\": \"Biotechnology\", \"if_ipo\": 0, \"Count_of_Records\": 5}, {\"Market\": \"Nanotechnology\", \"if_ipo\": 0, \"Count_of_Records\": 4}, {\"Market\": \"Fashion\", \"if_ipo\": 0, \"Count_of_Records\": 4}, {\"Market\": \"Entertainment\", \"if_ipo\": 0, \"Count_of_Records\": 4}, {\"Market\": \"E-Commerce\", \"if_ipo\": 0, \"Count_of_Records\": 4}, {\"Market\": \"CleanTechnology\", \"if_ipo\": 0, \"Count_of_Records\": 4}, {\"Market\": \"EnterpriseSoftware\", \"if_ipo\": 0, \"Count_of_Records\": 3}, {\"Market\": \"Sports\", \"if_ipo\": 0, \"Count_of_Records\": 3}, {\"Market\": \"Manufacturing\", \"if_ipo\": 0, \"Count_of_Records\": 3}, {\"Market\": \"Education\", \"if_ipo\": 0, \"Count_of_Records\": 2}, {\"Market\": \"Networking\", \"if_ipo\": 0, \"Count_of_Records\": 2}, {\"Market\": \"WebHosting\", \"if_ipo\": 0, \"Count_of_Records\": 2}, {\"Market\": \"Games\", \"if_ipo\": 0, \"Count_of_Records\": 2}, {\"Market\": \"SmartBuilding\", \"if_ipo\": 0, \"Count_of_Records\": 1}, {\"Market\": \"Search\", \"if_ipo\": 0, \"Count_of_Records\": 1}, {\"Market\": \"Photography\", \"if_ipo\": 0, \"Count_of_Records\": 1}, {\"Market\": \"Legal\", \"if_ipo\": 0, \"Count_of_Records\": 1}, {\"Market\": \"News\", \"if_ipo\": 0, \"Count_of_Records\": 1}, {\"Market\": \"Transportation\", \"if_ipo\": 0, \"Count_of_Records\": 1}, {\"Market\": \"Marketplaces\", \"if_ipo\": 0, \"Count_of_Records\": 1}, {\"Market\": \"Advertising\", \"if_ipo\": 0, \"Count_of_Records\": 1}, {\"Market\": \"InnovationManagement\", \"if_ipo\": 0, \"Count_of_Records\": 1}, {\"Market\": \"HomeDecor\", \"if_ipo\": 0, \"Count_of_Records\": 1}, {\"Market\": \"HealthCare\", \"if_ipo\": 1, \"Count_of_Records\": 1}, {\"Market\": \"Agriculture\", \"if_ipo\": 0, \"Count_of_Records\": 1}, {\"Market\": \"Finance\", \"if_ipo\": 0, \"Count_of_Records\": 1}, {\"Market\": \"Enterprises\", \"if_ipo\": 0, \"Count_of_Records\": 1}, {\"Market\": \"EnergyEfficiency\", \"if_ipo\": 0, \"Count_of_Records\": 1}, {\"Market\": \"Design\", \"if_ipo\": 0, \"Count_of_Records\": 1}, {\"Market\": \"CuratedWeb\", \"if_ipo\": 0, \"Count_of_Records\": 1}, {\"Market\": \"CraftBeer\", \"if_ipo\": 0, \"Count_of_Records\": 1}, {\"Market\": \"ConsumerElectronics\", \"if_ipo\": 0, \"Count_of_Records\": 1}, {\"Market\": \"CloudComputing\", \"if_ipo\": 0, \"Count_of_Records\": 1}, {\"Market\": \"BusinessServices\", \"if_ipo\": 0, \"Count_of_Records\": 1}, {\"Market\": \"BusinessAnalytics\", \"if_ipo\": 0, \"Count_of_Records\": 1}, {\"Market\": \"WineAndSpirits\", \"if_ipo\": 0, \"Count_of_Records\": 1}]}}, {\"mode\": \"vega-lite\"});\n",
              "</script>"
            ]
          },
          "metadata": {},
          "execution_count": 55
        }
      ]
    },
    {
      "cell_type": "markdown",
      "metadata": {
        "id": "cuP6uvIA7T9d"
      },
      "source": [
        "Surprisingly, the state with a cashless society in the uplands and plantation agriculture in the lowlands doesn't contain many startups in the agriculture field but technology, medical, and health service sectors. In addition, the startup that proceeded to IPO is in the Health Care market, which is identical in all startups in Arkansas.\n",
        "\n",
        "Based on data collected by [americashealthrankings.org](https://www.americashealthrankings.org/explore/annual/measure/Overall_a/state/AR), as of 2012, Arkansas has a high incidence of premature death, infant mortality, cardiovascular deaths, and occupational fatalities compared to the rest of the United States. In addition, Arkansas is usually ranked as one of the least healthy states due to high obesity, smoking, and sedentary lifestyle rates.\n",
        "\n",
        "In this case, Arkansas made the most immediate progress in reducing its number of uninsured residents after the Affordable Care Act was passed. In other words, the government promoted and supported the startup in the Healthcare field. \n",
        "\n"
      ]
    },
    {
      "cell_type": "code",
      "metadata": {
        "colab": {
          "base_uri": "https://localhost:8080/",
          "height": 483
        },
        "id": "QdBsHL7r9Fuh",
        "outputId": "4a3994c2-ff3e-4cbe-d7dd-bee505564ba7"
      },
      "source": [
        "df_ar_mkt = df_ar.groupby(['market', 'if_ipo'])['funding_total_usd'].mean()\n",
        "df_ar_mkt = df_ar_mkt.reset_index().sort_values(by='funding_total_usd', ascending = False)\n",
        "df_ar_mkt.rename({'market': 'Market', 'funding_total_usd': 'Average_Funding'}, axis=1, inplace=True)\n",
        "\n",
        "alt.Chart(df_ar_mkt, title= 'The field that the startup progressed to IPO in did not acquired the most funding.').\\\n",
        "    mark_bar().encode(\n",
        "    alt.X('Market:N', sort=alt.EncodingSortField(order='descending')),\n",
        "    alt.Y('Average_Funding:Q', title = 'Average_Funding'),\n",
        "    alt.Color('if_ipo:N', sort=alt.EncodingSortField(order='descending')),\n",
        "    tooltip = ['Market', 'Average_Funding']\n",
        ").interactive()"
      ],
      "execution_count": 56,
      "outputs": [
        {
          "output_type": "execute_result",
          "data": {
            "text/plain": [
              "alt.Chart(...)"
            ],
            "text/html": [
              "\n",
              "<div id=\"altair-viz-97cdcebb910f41399ae7c31a96604e4b\"></div>\n",
              "<script type=\"text/javascript\">\n",
              "  var VEGA_DEBUG = (typeof VEGA_DEBUG == \"undefined\") ? {} : VEGA_DEBUG;\n",
              "  (function(spec, embedOpt){\n",
              "    let outputDiv = document.currentScript.previousElementSibling;\n",
              "    if (outputDiv.id !== \"altair-viz-97cdcebb910f41399ae7c31a96604e4b\") {\n",
              "      outputDiv = document.getElementById(\"altair-viz-97cdcebb910f41399ae7c31a96604e4b\");\n",
              "    }\n",
              "    const paths = {\n",
              "      \"vega\": \"https://cdn.jsdelivr.net/npm//vega@5?noext\",\n",
              "      \"vega-lib\": \"https://cdn.jsdelivr.net/npm//vega-lib?noext\",\n",
              "      \"vega-lite\": \"https://cdn.jsdelivr.net/npm//vega-lite@4.17.0?noext\",\n",
              "      \"vega-embed\": \"https://cdn.jsdelivr.net/npm//vega-embed@6?noext\",\n",
              "    };\n",
              "\n",
              "    function maybeLoadScript(lib, version) {\n",
              "      var key = `${lib.replace(\"-\", \"\")}_version`;\n",
              "      return (VEGA_DEBUG[key] == version) ?\n",
              "        Promise.resolve(paths[lib]) :\n",
              "        new Promise(function(resolve, reject) {\n",
              "          var s = document.createElement('script');\n",
              "          document.getElementsByTagName(\"head\")[0].appendChild(s);\n",
              "          s.async = true;\n",
              "          s.onload = () => {\n",
              "            VEGA_DEBUG[key] = version;\n",
              "            return resolve(paths[lib]);\n",
              "          };\n",
              "          s.onerror = () => reject(`Error loading script: ${paths[lib]}`);\n",
              "          s.src = paths[lib];\n",
              "        });\n",
              "    }\n",
              "\n",
              "    function showError(err) {\n",
              "      outputDiv.innerHTML = `<div class=\"error\" style=\"color:red;\">${err}</div>`;\n",
              "      throw err;\n",
              "    }\n",
              "\n",
              "    function displayChart(vegaEmbed) {\n",
              "      vegaEmbed(outputDiv, spec, embedOpt)\n",
              "        .catch(err => showError(`Javascript Error: ${err.message}<br>This usually means there's a typo in your chart specification. See the javascript console for the full traceback.`));\n",
              "    }\n",
              "\n",
              "    if(typeof define === \"function\" && define.amd) {\n",
              "      requirejs.config({paths});\n",
              "      require([\"vega-embed\"], displayChart, err => showError(`Error loading script: ${err.message}`));\n",
              "    } else {\n",
              "      maybeLoadScript(\"vega\", \"5\")\n",
              "        .then(() => maybeLoadScript(\"vega-lite\", \"4.17.0\"))\n",
              "        .then(() => maybeLoadScript(\"vega-embed\", \"6\"))\n",
              "        .catch(showError)\n",
              "        .then(() => displayChart(vegaEmbed));\n",
              "    }\n",
              "  })({\"config\": {\"view\": {\"continuousWidth\": 400, \"continuousHeight\": 300}}, \"data\": {\"name\": \"data-bc3370cdd15fcd74c556033755fb6e96\"}, \"mark\": \"bar\", \"encoding\": {\"color\": {\"field\": \"if_ipo\", \"sort\": {\"order\": \"descending\"}, \"type\": \"nominal\"}, \"tooltip\": [{\"field\": \"Market\", \"type\": \"nominal\"}, {\"field\": \"Average_Funding\", \"type\": \"quantitative\"}], \"x\": {\"field\": \"Market\", \"sort\": {\"order\": \"descending\"}, \"type\": \"nominal\"}, \"y\": {\"field\": \"Average_Funding\", \"title\": \"Average_Funding\", \"type\": \"quantitative\"}}, \"selection\": {\"selector017\": {\"type\": \"interval\", \"bind\": \"scales\", \"encodings\": [\"x\", \"y\"]}}, \"title\": \"The field that the startup progressed to IPO in did not acquired the most funding.\", \"$schema\": \"https://vega.github.io/schema/vega-lite/v4.17.0.json\", \"datasets\": {\"data-bc3370cdd15fcd74c556033755fb6e96\": [{\"Market\": \"Nanotechnology\", \"if_ipo\": 0, \"Average_Funding\": 5732375.25}, {\"Market\": \"CloudComputing\", \"if_ipo\": 0, \"Average_Funding\": 4668000.0}, {\"Market\": \"Legal\", \"if_ipo\": 0, \"Average_Funding\": 3000000.0}, {\"Market\": \"BusinessServices\", \"if_ipo\": 0, \"Average_Funding\": 2500000.0}, {\"Market\": \"Manufacturing\", \"if_ipo\": 0, \"Average_Funding\": 2206883.3333333335}, {\"Market\": \"Biotechnology\", \"if_ipo\": 0, \"Average_Funding\": 2110120.0}, {\"Market\": \"WebHosting\", \"if_ipo\": 0, \"Average_Funding\": 2076289.0}, {\"Market\": \"CuratedWeb\", \"if_ipo\": 0, \"Average_Funding\": 1320000.0}, {\"Market\": \"EnterpriseSoftware\", \"if_ipo\": 0, \"Average_Funding\": 619444.3333333334}, {\"Market\": \"BusinessAnalytics\", \"if_ipo\": 0, \"Average_Funding\": 600000.0}, {\"Market\": \"Marketplaces\", \"if_ipo\": 0, \"Average_Funding\": 520000.0}, {\"Market\": \"Software\", \"if_ipo\": 0, \"Average_Funding\": 263434.5714285714}, {\"Market\": \"HealthCare\", \"if_ipo\": 1, \"Average_Funding\": 216000.0}, {\"Market\": \"Finance\", \"if_ipo\": 0, \"Average_Funding\": 186000.0}, {\"Market\": \"Medical\", \"if_ipo\": 0, \"Average_Funding\": 131701.17647058822}, {\"Market\": \"Agriculture\", \"if_ipo\": 0, \"Average_Funding\": 33333.0}, {\"Market\": \"Advertising\", \"if_ipo\": 0, \"Average_Funding\": 0.0}, {\"Market\": \"Networking\", \"if_ipo\": 0, \"Average_Funding\": 0.0}, {\"Market\": \"News\", \"if_ipo\": 0, \"Average_Funding\": 0.0}, {\"Market\": \"Photography\", \"if_ipo\": 0, \"Average_Funding\": 0.0}, {\"Market\": \"SmartBuilding\", \"if_ipo\": 0, \"Average_Funding\": 0.0}, {\"Market\": \"Sports\", \"if_ipo\": 0, \"Average_Funding\": 0.0}, {\"Market\": \"Transportation\", \"if_ipo\": 0, \"Average_Funding\": 0.0}, {\"Market\": \"Search\", \"if_ipo\": 0, \"Average_Funding\": 0.0}, {\"Market\": \"Games\", \"if_ipo\": 0, \"Average_Funding\": 0.0}, {\"Market\": \"InnovationManagement\", \"if_ipo\": 0, \"Average_Funding\": 0.0}, {\"Market\": \"Hospitality\", \"if_ipo\": 0, \"Average_Funding\": 0.0}, {\"Market\": \"HomeDecor\", \"if_ipo\": 0, \"Average_Funding\": 0.0}, {\"Market\": \"Fashion\", \"if_ipo\": 0, \"Average_Funding\": 0.0}, {\"Market\": \"Entertainment\", \"if_ipo\": 0, \"Average_Funding\": 0.0}, {\"Market\": \"Enterprises\", \"if_ipo\": 0, \"Average_Funding\": 0.0}, {\"Market\": \"EnergyEfficiency\", \"if_ipo\": 0, \"Average_Funding\": 0.0}, {\"Market\": \"Education\", \"if_ipo\": 0, \"Average_Funding\": 0.0}, {\"Market\": \"E-Commerce\", \"if_ipo\": 0, \"Average_Funding\": 0.0}, {\"Market\": \"Design\", \"if_ipo\": 0, \"Average_Funding\": 0.0}, {\"Market\": \"CraftBeer\", \"if_ipo\": 0, \"Average_Funding\": 0.0}, {\"Market\": \"ConsumerElectronics\", \"if_ipo\": 0, \"Average_Funding\": 0.0}, {\"Market\": \"Consulting\", \"if_ipo\": 0, \"Average_Funding\": 0.0}, {\"Market\": \"CleanTechnology\", \"if_ipo\": 0, \"Average_Funding\": 0.0}, {\"Market\": \"WineAndSpirits\", \"if_ipo\": 0, \"Average_Funding\": 0.0}]}}, {\"mode\": \"vega-lite\"});\n",
              "</script>"
            ]
          },
          "metadata": {},
          "execution_count": 56
        }
      ]
    },
    {
      "cell_type": "markdown",
      "metadata": {
        "id": "eZKE2Ege-4iF"
      },
      "source": [
        "It's interesting to observe that nanotechnology acquired the most average funding in Arkansas. Arkansas devotes itself to creating many new materials with various applications, including nanomedicine, nanoelectronics, biomaterials energy production. However, nanotechnology may cause issues like any new technology, including concerns about nanomaterials' toxicity and environmental impact. In our future work, we would love to collect the environmental data in Arkansas to explore the positive or negative effects of having more startups in nanotechnology fields."
      ]
    },
    {
      "cell_type": "markdown",
      "metadata": {
        "id": "eEHvsW9WC5-i"
      },
      "source": [
        "- Observing the startups proceeded to IPO by market in the United States from 2000 to 2012"
      ]
    },
    {
      "cell_type": "code",
      "metadata": {
        "colab": {
          "base_uri": "https://localhost:8080/",
          "height": 472
        },
        "id": "fksfaATRq34e",
        "outputId": "f07f3dae-20b6-47bc-b094-831e5fc0104f"
      },
      "source": [
        "df_ipo_mkt = df_ipo.groupby(['market'])['name'].count()\n",
        "df_ipo_mkt = df_ipo_mkt.reset_index().sort_values(by = 'name', ascending = False)[:20]\n",
        "df_ipo_mkt.rename({'market': 'Market', 'name': 'Count_of_Records'}, axis=1, inplace=True)\n",
        "\n",
        "ipo_mkt_plt = alt.Chart(df_ipo_mkt, title = 'Number of startups progressed to IPO in the Health Care and Biotechnology field greatly exceeds Software.').mark_bar().encode(\n",
        "              alt.X('Market:N', sort=alt.EncodingSortField(order='descending')),\n",
        "              alt.Y('Count_of_Records:Q', title = 'Count of Records'),\n",
        "              alt.Color('Market:N', sort=alt.EncodingSortField(order='descending')),\n",
        "              tooltip = ['Market', 'Count_of_Records']\n",
        "              ).properties(width=800, height=300).interactive()\n",
        "\n",
        "ipo_mkt_plt"
      ],
      "execution_count": 57,
      "outputs": [
        {
          "output_type": "execute_result",
          "data": {
            "text/plain": [
              "alt.Chart(...)"
            ],
            "text/html": [
              "\n",
              "<div id=\"altair-viz-f3f5009e153a4022b055bdac9cf65a1c\"></div>\n",
              "<script type=\"text/javascript\">\n",
              "  var VEGA_DEBUG = (typeof VEGA_DEBUG == \"undefined\") ? {} : VEGA_DEBUG;\n",
              "  (function(spec, embedOpt){\n",
              "    let outputDiv = document.currentScript.previousElementSibling;\n",
              "    if (outputDiv.id !== \"altair-viz-f3f5009e153a4022b055bdac9cf65a1c\") {\n",
              "      outputDiv = document.getElementById(\"altair-viz-f3f5009e153a4022b055bdac9cf65a1c\");\n",
              "    }\n",
              "    const paths = {\n",
              "      \"vega\": \"https://cdn.jsdelivr.net/npm//vega@5?noext\",\n",
              "      \"vega-lib\": \"https://cdn.jsdelivr.net/npm//vega-lib?noext\",\n",
              "      \"vega-lite\": \"https://cdn.jsdelivr.net/npm//vega-lite@4.17.0?noext\",\n",
              "      \"vega-embed\": \"https://cdn.jsdelivr.net/npm//vega-embed@6?noext\",\n",
              "    };\n",
              "\n",
              "    function maybeLoadScript(lib, version) {\n",
              "      var key = `${lib.replace(\"-\", \"\")}_version`;\n",
              "      return (VEGA_DEBUG[key] == version) ?\n",
              "        Promise.resolve(paths[lib]) :\n",
              "        new Promise(function(resolve, reject) {\n",
              "          var s = document.createElement('script');\n",
              "          document.getElementsByTagName(\"head\")[0].appendChild(s);\n",
              "          s.async = true;\n",
              "          s.onload = () => {\n",
              "            VEGA_DEBUG[key] = version;\n",
              "            return resolve(paths[lib]);\n",
              "          };\n",
              "          s.onerror = () => reject(`Error loading script: ${paths[lib]}`);\n",
              "          s.src = paths[lib];\n",
              "        });\n",
              "    }\n",
              "\n",
              "    function showError(err) {\n",
              "      outputDiv.innerHTML = `<div class=\"error\" style=\"color:red;\">${err}</div>`;\n",
              "      throw err;\n",
              "    }\n",
              "\n",
              "    function displayChart(vegaEmbed) {\n",
              "      vegaEmbed(outputDiv, spec, embedOpt)\n",
              "        .catch(err => showError(`Javascript Error: ${err.message}<br>This usually means there's a typo in your chart specification. See the javascript console for the full traceback.`));\n",
              "    }\n",
              "\n",
              "    if(typeof define === \"function\" && define.amd) {\n",
              "      requirejs.config({paths});\n",
              "      require([\"vega-embed\"], displayChart, err => showError(`Error loading script: ${err.message}`));\n",
              "    } else {\n",
              "      maybeLoadScript(\"vega\", \"5\")\n",
              "        .then(() => maybeLoadScript(\"vega-lite\", \"4.17.0\"))\n",
              "        .then(() => maybeLoadScript(\"vega-embed\", \"6\"))\n",
              "        .catch(showError)\n",
              "        .then(() => displayChart(vegaEmbed));\n",
              "    }\n",
              "  })({\"config\": {\"view\": {\"continuousWidth\": 400, \"continuousHeight\": 300}}, \"data\": {\"name\": \"data-69c6a5528ca58c8c7ab6a42ad48a42bb\"}, \"mark\": \"bar\", \"encoding\": {\"color\": {\"field\": \"Market\", \"sort\": {\"order\": \"descending\"}, \"type\": \"nominal\"}, \"tooltip\": [{\"field\": \"Market\", \"type\": \"nominal\"}, {\"field\": \"Count_of_Records\", \"type\": \"quantitative\"}], \"x\": {\"field\": \"Market\", \"sort\": {\"order\": \"descending\"}, \"type\": \"nominal\"}, \"y\": {\"field\": \"Count_of_Records\", \"title\": \"Count of Records\", \"type\": \"quantitative\"}}, \"height\": 300, \"selection\": {\"selector018\": {\"type\": \"interval\", \"bind\": \"scales\", \"encodings\": [\"x\", \"y\"]}}, \"title\": \"Number of startups progressed to IPO in the Health Care and Biotechnology field greatly exceeds Software.\", \"width\": 800, \"$schema\": \"https://vega.github.io/schema/vega-lite/v4.17.0.json\", \"datasets\": {\"data-69c6a5528ca58c8c7ab6a42ad48a42bb\": [{\"Market\": \"HealthCare\", \"Count_of_Records\": 19}, {\"Market\": \"Biotechnology\", \"Count_of_Records\": 16}, {\"Market\": \"CleanTechnology\", \"Count_of_Records\": 5}, {\"Market\": \"Software\", \"Count_of_Records\": 5}, {\"Market\": \"HealthandWellness\", \"Count_of_Records\": 4}, {\"Market\": \"Advertising\", \"Count_of_Records\": 3}, {\"Market\": \"Medical\", \"Count_of_Records\": 2}, {\"Market\": \"Banking\", \"Count_of_Records\": 2}, {\"Market\": \"Technology\", \"Count_of_Records\": 2}, {\"Market\": \"Mobile\", \"Count_of_Records\": 2}, {\"Market\": \"E-Commerce\", \"Count_of_Records\": 2}, {\"Market\": \"Oil&Gas\", \"Count_of_Records\": 1}, {\"Market\": \"Multi-levelMarketing\", \"Count_of_Records\": 1}, {\"Market\": \"NetworkSecurity\", \"Count_of_Records\": 1}, {\"Market\": \"Oil\", \"Count_of_Records\": 1}, {\"Market\": \"RealEstate\", \"Count_of_Records\": 1}, {\"Market\": \"Peer-to-Peer\", \"Count_of_Records\": 1}, {\"Market\": \"Pharmaceuticals\", \"Count_of_Records\": 1}, {\"Market\": \"Telecommunications\", \"Count_of_Records\": 1}, {\"Market\": \"Video\", \"Count_of_Records\": 1}]}}, {\"mode\": \"vega-lite\"});\n",
              "</script>"
            ]
          },
          "metadata": {},
          "execution_count": 57
        }
      ]
    },
    {
      "cell_type": "markdown",
      "metadata": {
        "id": "5V4r1khEL7Mz"
      },
      "source": [
        "It's interesting to observe that among all startups that progressed to IPO, startups in Health Care and Biotechnology dominate the rest of the markets. Frankly, the number of startups that moved to IPO in software is tiny regarding the significant total number of startups in the software market. "
      ]
    },
    {
      "cell_type": "markdown",
      "metadata": {
        "id": "uXsuK12yhH6G"
      },
      "source": [
        "### Findings 3: Most startups begin their business in January"
      ]
    },
    {
      "cell_type": "code",
      "metadata": {
        "id": "A5Ot7soHhuH5"
      },
      "source": [
        "def Number_Month_Con(start, end, country, df):\n",
        "  '''\n",
        "  Plot a line chart to display the month distribution for a country to start their business within given time period\n",
        "  '''\n",
        "  df_month = df[(df['founded_year'] >= start) & (df['founded_year'] <= end) & (df['country_code'] == country)]\n",
        "  df_month = df_month.groupby(['founded_year', 'month'])['name'].count()\n",
        "  df_month = df_month.reset_index()\n",
        "  df_month.rename({'founded_year': 'Founded_Year', 'month': 'Month', 'name': 'Count_of_Records'}, axis=1, inplace=True)\n",
        "  \n",
        "\n",
        "  mth_plt = alt.Chart(df_month, title = 'A great amount of startups in the United States tend to start their business in January {} to {} in {}'.\\\n",
        "                      format(start, end, country)).mark_line().encode(\n",
        "                alt.X('Month:N', title = 'Founded Month'),\n",
        "                alt.Y('Count_of_Records:Q', title = 'Count of Records'),\n",
        "                color = 'Founded_Year:N',\n",
        "                tooltip = ['Month', 'Count_of_Records', 'Founded_Year']\n",
        "                ).properties(width=800, height=500).interactive()\n",
        "  return mth_plt"
      ],
      "execution_count": 58,
      "outputs": []
    },
    {
      "cell_type": "code",
      "metadata": {
        "colab": {
          "base_uri": "https://localhost:8080/",
          "height": 586
        },
        "id": "z4dJePYIhwYe",
        "outputId": "b3eae0e5-9b69-4c13-a3c1-5f52c281818b"
      },
      "source": [
        "Number_Month_Con(2000, 2012, 'USA', df)\n",
        "#present"
      ],
      "execution_count": 59,
      "outputs": [
        {
          "output_type": "execute_result",
          "data": {
            "text/plain": [
              "alt.Chart(...)"
            ],
            "text/html": [
              "\n",
              "<div id=\"altair-viz-8e00a9bde3314f0798f627404bdfd528\"></div>\n",
              "<script type=\"text/javascript\">\n",
              "  var VEGA_DEBUG = (typeof VEGA_DEBUG == \"undefined\") ? {} : VEGA_DEBUG;\n",
              "  (function(spec, embedOpt){\n",
              "    let outputDiv = document.currentScript.previousElementSibling;\n",
              "    if (outputDiv.id !== \"altair-viz-8e00a9bde3314f0798f627404bdfd528\") {\n",
              "      outputDiv = document.getElementById(\"altair-viz-8e00a9bde3314f0798f627404bdfd528\");\n",
              "    }\n",
              "    const paths = {\n",
              "      \"vega\": \"https://cdn.jsdelivr.net/npm//vega@5?noext\",\n",
              "      \"vega-lib\": \"https://cdn.jsdelivr.net/npm//vega-lib?noext\",\n",
              "      \"vega-lite\": \"https://cdn.jsdelivr.net/npm//vega-lite@4.17.0?noext\",\n",
              "      \"vega-embed\": \"https://cdn.jsdelivr.net/npm//vega-embed@6?noext\",\n",
              "    };\n",
              "\n",
              "    function maybeLoadScript(lib, version) {\n",
              "      var key = `${lib.replace(\"-\", \"\")}_version`;\n",
              "      return (VEGA_DEBUG[key] == version) ?\n",
              "        Promise.resolve(paths[lib]) :\n",
              "        new Promise(function(resolve, reject) {\n",
              "          var s = document.createElement('script');\n",
              "          document.getElementsByTagName(\"head\")[0].appendChild(s);\n",
              "          s.async = true;\n",
              "          s.onload = () => {\n",
              "            VEGA_DEBUG[key] = version;\n",
              "            return resolve(paths[lib]);\n",
              "          };\n",
              "          s.onerror = () => reject(`Error loading script: ${paths[lib]}`);\n",
              "          s.src = paths[lib];\n",
              "        });\n",
              "    }\n",
              "\n",
              "    function showError(err) {\n",
              "      outputDiv.innerHTML = `<div class=\"error\" style=\"color:red;\">${err}</div>`;\n",
              "      throw err;\n",
              "    }\n",
              "\n",
              "    function displayChart(vegaEmbed) {\n",
              "      vegaEmbed(outputDiv, spec, embedOpt)\n",
              "        .catch(err => showError(`Javascript Error: ${err.message}<br>This usually means there's a typo in your chart specification. See the javascript console for the full traceback.`));\n",
              "    }\n",
              "\n",
              "    if(typeof define === \"function\" && define.amd) {\n",
              "      requirejs.config({paths});\n",
              "      require([\"vega-embed\"], displayChart, err => showError(`Error loading script: ${err.message}`));\n",
              "    } else {\n",
              "      maybeLoadScript(\"vega\", \"5\")\n",
              "        .then(() => maybeLoadScript(\"vega-lite\", \"4.17.0\"))\n",
              "        .then(() => maybeLoadScript(\"vega-embed\", \"6\"))\n",
              "        .catch(showError)\n",
              "        .then(() => displayChart(vegaEmbed));\n",
              "    }\n",
              "  })({\"config\": {\"view\": {\"continuousWidth\": 400, \"continuousHeight\": 300}}, \"data\": {\"name\": \"data-621ccc89c9cfcbaea9302d834700fc9b\"}, \"mark\": \"line\", \"encoding\": {\"color\": {\"field\": \"Founded_Year\", \"type\": \"nominal\"}, \"tooltip\": [{\"field\": \"Month\", \"type\": \"quantitative\"}, {\"field\": \"Count_of_Records\", \"type\": \"quantitative\"}, {\"field\": \"Founded_Year\", \"type\": \"quantitative\"}], \"x\": {\"field\": \"Month\", \"title\": \"Founded Month\", \"type\": \"nominal\"}, \"y\": {\"field\": \"Count_of_Records\", \"title\": \"Count of Records\", \"type\": \"quantitative\"}}, \"height\": 500, \"selection\": {\"selector019\": {\"type\": \"interval\", \"bind\": \"scales\", \"encodings\": [\"x\", \"y\"]}}, \"title\": \"A great amount of startups in the United States tend to start their business in January 2000 to 2012 in USA\", \"width\": 800, \"$schema\": \"https://vega.github.io/schema/vega-lite/v4.17.0.json\", \"datasets\": {\"data-621ccc89c9cfcbaea9302d834700fc9b\": [{\"Founded_Year\": 2000.0, \"Month\": 1.0, \"Count_of_Records\": 501}, {\"Founded_Year\": 2000.0, \"Month\": 2.0, \"Count_of_Records\": 12}, {\"Founded_Year\": 2000.0, \"Month\": 3.0, \"Count_of_Records\": 5}, {\"Founded_Year\": 2000.0, \"Month\": 4.0, \"Count_of_Records\": 1}, {\"Founded_Year\": 2000.0, \"Month\": 5.0, \"Count_of_Records\": 8}, {\"Founded_Year\": 2000.0, \"Month\": 6.0, \"Count_of_Records\": 14}, {\"Founded_Year\": 2000.0, \"Month\": 7.0, \"Count_of_Records\": 6}, {\"Founded_Year\": 2000.0, \"Month\": 8.0, \"Count_of_Records\": 6}, {\"Founded_Year\": 2000.0, \"Month\": 9.0, \"Count_of_Records\": 7}, {\"Founded_Year\": 2000.0, \"Month\": 10.0, \"Count_of_Records\": 3}, {\"Founded_Year\": 2000.0, \"Month\": 11.0, \"Count_of_Records\": 5}, {\"Founded_Year\": 2000.0, \"Month\": 12.0, \"Count_of_Records\": 6}, {\"Founded_Year\": 2001.0, \"Month\": 1.0, \"Count_of_Records\": 439}, {\"Founded_Year\": 2001.0, \"Month\": 2.0, \"Count_of_Records\": 4}, {\"Founded_Year\": 2001.0, \"Month\": 3.0, \"Count_of_Records\": 10}, {\"Founded_Year\": 2001.0, \"Month\": 4.0, \"Count_of_Records\": 3}, {\"Founded_Year\": 2001.0, \"Month\": 5.0, \"Count_of_Records\": 3}, {\"Founded_Year\": 2001.0, \"Month\": 6.0, \"Count_of_Records\": 5}, {\"Founded_Year\": 2001.0, \"Month\": 7.0, \"Count_of_Records\": 7}, {\"Founded_Year\": 2001.0, \"Month\": 8.0, \"Count_of_Records\": 6}, {\"Founded_Year\": 2001.0, \"Month\": 9.0, \"Count_of_Records\": 8}, {\"Founded_Year\": 2001.0, \"Month\": 10.0, \"Count_of_Records\": 8}, {\"Founded_Year\": 2001.0, \"Month\": 11.0, \"Count_of_Records\": 1}, {\"Founded_Year\": 2001.0, \"Month\": 12.0, \"Count_of_Records\": 2}, {\"Founded_Year\": 2002.0, \"Month\": 1.0, \"Count_of_Records\": 479}, {\"Founded_Year\": 2002.0, \"Month\": 2.0, \"Count_of_Records\": 7}, {\"Founded_Year\": 2002.0, \"Month\": 3.0, \"Count_of_Records\": 6}, {\"Founded_Year\": 2002.0, \"Month\": 4.0, \"Count_of_Records\": 4}, {\"Founded_Year\": 2002.0, \"Month\": 5.0, \"Count_of_Records\": 7}, {\"Founded_Year\": 2002.0, \"Month\": 6.0, \"Count_of_Records\": 12}, {\"Founded_Year\": 2002.0, \"Month\": 7.0, \"Count_of_Records\": 6}, {\"Founded_Year\": 2002.0, \"Month\": 8.0, \"Count_of_Records\": 2}, {\"Founded_Year\": 2002.0, \"Month\": 9.0, \"Count_of_Records\": 7}, {\"Founded_Year\": 2002.0, \"Month\": 10.0, \"Count_of_Records\": 4}, {\"Founded_Year\": 2002.0, \"Month\": 11.0, \"Count_of_Records\": 6}, {\"Founded_Year\": 2002.0, \"Month\": 12.0, \"Count_of_Records\": 7}, {\"Founded_Year\": 2003.0, \"Month\": 1.0, \"Count_of_Records\": 511}, {\"Founded_Year\": 2003.0, \"Month\": 2.0, \"Count_of_Records\": 9}, {\"Founded_Year\": 2003.0, \"Month\": 3.0, \"Count_of_Records\": 11}, {\"Founded_Year\": 2003.0, \"Month\": 4.0, \"Count_of_Records\": 7}, {\"Founded_Year\": 2003.0, \"Month\": 5.0, \"Count_of_Records\": 10}, {\"Founded_Year\": 2003.0, \"Month\": 6.0, \"Count_of_Records\": 8}, {\"Founded_Year\": 2003.0, \"Month\": 7.0, \"Count_of_Records\": 7}, {\"Founded_Year\": 2003.0, \"Month\": 8.0, \"Count_of_Records\": 11}, {\"Founded_Year\": 2003.0, \"Month\": 9.0, \"Count_of_Records\": 9}, {\"Founded_Year\": 2003.0, \"Month\": 10.0, \"Count_of_Records\": 14}, {\"Founded_Year\": 2003.0, \"Month\": 11.0, \"Count_of_Records\": 5}, {\"Founded_Year\": 2003.0, \"Month\": 12.0, \"Count_of_Records\": 9}, {\"Founded_Year\": 2004.0, \"Month\": 1.0, \"Count_of_Records\": 637}, {\"Founded_Year\": 2004.0, \"Month\": 2.0, \"Count_of_Records\": 10}, {\"Founded_Year\": 2004.0, \"Month\": 3.0, \"Count_of_Records\": 13}, {\"Founded_Year\": 2004.0, \"Month\": 4.0, \"Count_of_Records\": 12}, {\"Founded_Year\": 2004.0, \"Month\": 5.0, \"Count_of_Records\": 9}, {\"Founded_Year\": 2004.0, \"Month\": 6.0, \"Count_of_Records\": 14}, {\"Founded_Year\": 2004.0, \"Month\": 7.0, \"Count_of_Records\": 16}, {\"Founded_Year\": 2004.0, \"Month\": 8.0, \"Count_of_Records\": 12}, {\"Founded_Year\": 2004.0, \"Month\": 9.0, \"Count_of_Records\": 6}, {\"Founded_Year\": 2004.0, \"Month\": 10.0, \"Count_of_Records\": 21}, {\"Founded_Year\": 2004.0, \"Month\": 11.0, \"Count_of_Records\": 17}, {\"Founded_Year\": 2004.0, \"Month\": 12.0, \"Count_of_Records\": 14}, {\"Founded_Year\": 2005.0, \"Month\": 1.0, \"Count_of_Records\": 704}, {\"Founded_Year\": 2005.0, \"Month\": 2.0, \"Count_of_Records\": 20}, {\"Founded_Year\": 2005.0, \"Month\": 3.0, \"Count_of_Records\": 20}, {\"Founded_Year\": 2005.0, \"Month\": 4.0, \"Count_of_Records\": 20}, {\"Founded_Year\": 2005.0, \"Month\": 5.0, \"Count_of_Records\": 29}, {\"Founded_Year\": 2005.0, \"Month\": 6.0, \"Count_of_Records\": 21}, {\"Founded_Year\": 2005.0, \"Month\": 7.0, \"Count_of_Records\": 15}, {\"Founded_Year\": 2005.0, \"Month\": 8.0, \"Count_of_Records\": 18}, {\"Founded_Year\": 2005.0, \"Month\": 9.0, \"Count_of_Records\": 17}, {\"Founded_Year\": 2005.0, \"Month\": 10.0, \"Count_of_Records\": 19}, {\"Founded_Year\": 2005.0, \"Month\": 11.0, \"Count_of_Records\": 18}, {\"Founded_Year\": 2005.0, \"Month\": 12.0, \"Count_of_Records\": 28}, {\"Founded_Year\": 2006.0, \"Month\": 1.0, \"Count_of_Records\": 802}, {\"Founded_Year\": 2006.0, \"Month\": 2.0, \"Count_of_Records\": 29}, {\"Founded_Year\": 2006.0, \"Month\": 3.0, \"Count_of_Records\": 28}, {\"Founded_Year\": 2006.0, \"Month\": 4.0, \"Count_of_Records\": 37}, {\"Founded_Year\": 2006.0, \"Month\": 5.0, \"Count_of_Records\": 31}, {\"Founded_Year\": 2006.0, \"Month\": 6.0, \"Count_of_Records\": 50}, {\"Founded_Year\": 2006.0, \"Month\": 7.0, \"Count_of_Records\": 23}, {\"Founded_Year\": 2006.0, \"Month\": 8.0, \"Count_of_Records\": 37}, {\"Founded_Year\": 2006.0, \"Month\": 9.0, \"Count_of_Records\": 31}, {\"Founded_Year\": 2006.0, \"Month\": 10.0, \"Count_of_Records\": 39}, {\"Founded_Year\": 2006.0, \"Month\": 11.0, \"Count_of_Records\": 26}, {\"Founded_Year\": 2006.0, \"Month\": 12.0, \"Count_of_Records\": 32}, {\"Founded_Year\": 2007.0, \"Month\": 1.0, \"Count_of_Records\": 963}, {\"Founded_Year\": 2007.0, \"Month\": 2.0, \"Count_of_Records\": 36}, {\"Founded_Year\": 2007.0, \"Month\": 3.0, \"Count_of_Records\": 40}, {\"Founded_Year\": 2007.0, \"Month\": 4.0, \"Count_of_Records\": 37}, {\"Founded_Year\": 2007.0, \"Month\": 5.0, \"Count_of_Records\": 44}, {\"Founded_Year\": 2007.0, \"Month\": 6.0, \"Count_of_Records\": 44}, {\"Founded_Year\": 2007.0, \"Month\": 7.0, \"Count_of_Records\": 50}, {\"Founded_Year\": 2007.0, \"Month\": 8.0, \"Count_of_Records\": 47}, {\"Founded_Year\": 2007.0, \"Month\": 9.0, \"Count_of_Records\": 51}, {\"Founded_Year\": 2007.0, \"Month\": 10.0, \"Count_of_Records\": 38}, {\"Founded_Year\": 2007.0, \"Month\": 11.0, \"Count_of_Records\": 41}, {\"Founded_Year\": 2007.0, \"Month\": 12.0, \"Count_of_Records\": 36}, {\"Founded_Year\": 2008.0, \"Month\": 1.0, \"Count_of_Records\": 900}, {\"Founded_Year\": 2008.0, \"Month\": 2.0, \"Count_of_Records\": 41}, {\"Founded_Year\": 2008.0, \"Month\": 3.0, \"Count_of_Records\": 43}, {\"Founded_Year\": 2008.0, \"Month\": 4.0, \"Count_of_Records\": 49}, {\"Founded_Year\": 2008.0, \"Month\": 5.0, \"Count_of_Records\": 44}, {\"Founded_Year\": 2008.0, \"Month\": 6.0, \"Count_of_Records\": 47}, {\"Founded_Year\": 2008.0, \"Month\": 7.0, \"Count_of_Records\": 45}, {\"Founded_Year\": 2008.0, \"Month\": 8.0, \"Count_of_Records\": 59}, {\"Founded_Year\": 2008.0, \"Month\": 9.0, \"Count_of_Records\": 48}, {\"Founded_Year\": 2008.0, \"Month\": 10.0, \"Count_of_Records\": 46}, {\"Founded_Year\": 2008.0, \"Month\": 11.0, \"Count_of_Records\": 37}, {\"Founded_Year\": 2008.0, \"Month\": 12.0, \"Count_of_Records\": 33}, {\"Founded_Year\": 2009.0, \"Month\": 1.0, \"Count_of_Records\": 1114}, {\"Founded_Year\": 2009.0, \"Month\": 2.0, \"Count_of_Records\": 43}, {\"Founded_Year\": 2009.0, \"Month\": 3.0, \"Count_of_Records\": 53}, {\"Founded_Year\": 2009.0, \"Month\": 4.0, \"Count_of_Records\": 71}, {\"Founded_Year\": 2009.0, \"Month\": 5.0, \"Count_of_Records\": 52}, {\"Founded_Year\": 2009.0, \"Month\": 6.0, \"Count_of_Records\": 62}, {\"Founded_Year\": 2009.0, \"Month\": 7.0, \"Count_of_Records\": 66}, {\"Founded_Year\": 2009.0, \"Month\": 8.0, \"Count_of_Records\": 68}, {\"Founded_Year\": 2009.0, \"Month\": 9.0, \"Count_of_Records\": 76}, {\"Founded_Year\": 2009.0, \"Month\": 10.0, \"Count_of_Records\": 64}, {\"Founded_Year\": 2009.0, \"Month\": 11.0, \"Count_of_Records\": 70}, {\"Founded_Year\": 2009.0, \"Month\": 12.0, \"Count_of_Records\": 44}, {\"Founded_Year\": 2010.0, \"Month\": 1.0, \"Count_of_Records\": 1256}, {\"Founded_Year\": 2010.0, \"Month\": 2.0, \"Count_of_Records\": 67}, {\"Founded_Year\": 2010.0, \"Month\": 3.0, \"Count_of_Records\": 87}, {\"Founded_Year\": 2010.0, \"Month\": 4.0, \"Count_of_Records\": 90}, {\"Founded_Year\": 2010.0, \"Month\": 5.0, \"Count_of_Records\": 86}, {\"Founded_Year\": 2010.0, \"Month\": 6.0, \"Count_of_Records\": 83}, {\"Founded_Year\": 2010.0, \"Month\": 7.0, \"Count_of_Records\": 70}, {\"Founded_Year\": 2010.0, \"Month\": 8.0, \"Count_of_Records\": 83}, {\"Founded_Year\": 2010.0, \"Month\": 9.0, \"Count_of_Records\": 85}, {\"Founded_Year\": 2010.0, \"Month\": 10.0, \"Count_of_Records\": 90}, {\"Founded_Year\": 2010.0, \"Month\": 11.0, \"Count_of_Records\": 79}, {\"Founded_Year\": 2010.0, \"Month\": 12.0, \"Count_of_Records\": 80}, {\"Founded_Year\": 2011.0, \"Month\": 1.0, \"Count_of_Records\": 1416}, {\"Founded_Year\": 2011.0, \"Month\": 2.0, \"Count_of_Records\": 102}, {\"Founded_Year\": 2011.0, \"Month\": 3.0, \"Count_of_Records\": 125}, {\"Founded_Year\": 2011.0, \"Month\": 4.0, \"Count_of_Records\": 126}, {\"Founded_Year\": 2011.0, \"Month\": 5.0, \"Count_of_Records\": 143}, {\"Founded_Year\": 2011.0, \"Month\": 6.0, \"Count_of_Records\": 134}, {\"Founded_Year\": 2011.0, \"Month\": 7.0, \"Count_of_Records\": 97}, {\"Founded_Year\": 2011.0, \"Month\": 8.0, \"Count_of_Records\": 122}, {\"Founded_Year\": 2011.0, \"Month\": 9.0, \"Count_of_Records\": 107}, {\"Founded_Year\": 2011.0, \"Month\": 10.0, \"Count_of_Records\": 109}, {\"Founded_Year\": 2011.0, \"Month\": 11.0, \"Count_of_Records\": 125}, {\"Founded_Year\": 2011.0, \"Month\": 12.0, \"Count_of_Records\": 75}, {\"Founded_Year\": 2012.0, \"Month\": 1.0, \"Count_of_Records\": 1309}, {\"Founded_Year\": 2012.0, \"Month\": 2.0, \"Count_of_Records\": 138}, {\"Founded_Year\": 2012.0, \"Month\": 3.0, \"Count_of_Records\": 140}, {\"Founded_Year\": 2012.0, \"Month\": 4.0, \"Count_of_Records\": 138}, {\"Founded_Year\": 2012.0, \"Month\": 5.0, \"Count_of_Records\": 124}, {\"Founded_Year\": 2012.0, \"Month\": 6.0, \"Count_of_Records\": 144}, {\"Founded_Year\": 2012.0, \"Month\": 7.0, \"Count_of_Records\": 103}, {\"Founded_Year\": 2012.0, \"Month\": 8.0, \"Count_of_Records\": 105}, {\"Founded_Year\": 2012.0, \"Month\": 9.0, \"Count_of_Records\": 117}, {\"Founded_Year\": 2012.0, \"Month\": 10.0, \"Count_of_Records\": 110}, {\"Founded_Year\": 2012.0, \"Month\": 11.0, \"Count_of_Records\": 84}, {\"Founded_Year\": 2012.0, \"Month\": 12.0, \"Count_of_Records\": 81}]}}, {\"mode\": \"vega-lite\"});\n",
              "</script>"
            ]
          },
          "metadata": {},
          "execution_count": 59
        }
      ]
    },
    {
      "cell_type": "markdown",
      "metadata": {
        "id": "IjCm6tT8mck5"
      },
      "source": [
        "From this visualization, it's interested to notice that most companies in the United States tend to start their business in January.\n",
        "We research on the potential reasons for startups to start their business in January as [following](https://www.allbusiness.com/new-year-best-time-to-start-a-business-134520-1.html):\n",
        "1. January is a **fresh start of a new year**.\n",
        "2. **Bookkeeping, the recording of financial transactions, is much easier for companies starting their business in January.** In general, a company must file tax returns starting from the year that it is established. Startup have chances to choose to start the business late in the year and file the business tax return right away, or to choose a January start date for their business entity and file their first tax return the following year.\n",
        "3. State corporation officials and staff might have **a massive backlog of business filings** due to a large amount of entity formation documentation entered every year. In other words, entrepreneurs might face unusually long wait times for their businesses to be officially established. \n",
        "\n",
        "Both of us wonder if the performance(total funding, how far do they go in funding rounds, reach ipo) of those companies started in January is better than companies started in other months?"
      ]
    },
    {
      "cell_type": "markdown",
      "metadata": {
        "id": "kRnwaLsu1Af6"
      },
      "source": [
        "- Performance of startups established in January compared to startups established in the rest of the year from 2000 to 2012."
      ]
    },
    {
      "cell_type": "code",
      "metadata": {
        "colab": {
          "base_uri": "https://localhost:8080/",
          "height": 381
        },
        "id": "es4TwYkRp5p9",
        "outputId": "a55d303c-a109-4222-ff46-0599354ed28d"
      },
      "source": [
        "# average funding for companies strated in Jan and not in Jan in terms of the funding rounds\n",
        "jan_fund = df_usa.groupby(['if_jan'])['funding_total_usd'].mean()\n",
        "jan_fund = jan_fund.reset_index()\n",
        "jan_fund.rename({'if_jan' : 'January', 'funding_total_usd': 'Average_Funding'}, axis=1, inplace=True)\n",
        "\n",
        "jan_fund_plt = alt.Chart(jan_fund, \n",
        "                         title = 'The average funding that gives to startups stating from January is greater than others').mark_bar().encode(\n",
        "                         alt.X('January:N'),\n",
        "                         alt.Y('Average_Funding:Q', title = 'Average_Funding'),\n",
        "                         color = 'January:N',\n",
        "                         tooltip = ['January', 'Average_Funding']\n",
        "                         ).properties(width=600, height=300).interactive()\n",
        "\n",
        "jan_fund_plt"
      ],
      "execution_count": 60,
      "outputs": [
        {
          "output_type": "execute_result",
          "data": {
            "text/plain": [
              "alt.Chart(...)"
            ],
            "text/html": [
              "\n",
              "<div id=\"altair-viz-a108fdf6350447c9ae6c4278c94a0c4a\"></div>\n",
              "<script type=\"text/javascript\">\n",
              "  var VEGA_DEBUG = (typeof VEGA_DEBUG == \"undefined\") ? {} : VEGA_DEBUG;\n",
              "  (function(spec, embedOpt){\n",
              "    let outputDiv = document.currentScript.previousElementSibling;\n",
              "    if (outputDiv.id !== \"altair-viz-a108fdf6350447c9ae6c4278c94a0c4a\") {\n",
              "      outputDiv = document.getElementById(\"altair-viz-a108fdf6350447c9ae6c4278c94a0c4a\");\n",
              "    }\n",
              "    const paths = {\n",
              "      \"vega\": \"https://cdn.jsdelivr.net/npm//vega@5?noext\",\n",
              "      \"vega-lib\": \"https://cdn.jsdelivr.net/npm//vega-lib?noext\",\n",
              "      \"vega-lite\": \"https://cdn.jsdelivr.net/npm//vega-lite@4.17.0?noext\",\n",
              "      \"vega-embed\": \"https://cdn.jsdelivr.net/npm//vega-embed@6?noext\",\n",
              "    };\n",
              "\n",
              "    function maybeLoadScript(lib, version) {\n",
              "      var key = `${lib.replace(\"-\", \"\")}_version`;\n",
              "      return (VEGA_DEBUG[key] == version) ?\n",
              "        Promise.resolve(paths[lib]) :\n",
              "        new Promise(function(resolve, reject) {\n",
              "          var s = document.createElement('script');\n",
              "          document.getElementsByTagName(\"head\")[0].appendChild(s);\n",
              "          s.async = true;\n",
              "          s.onload = () => {\n",
              "            VEGA_DEBUG[key] = version;\n",
              "            return resolve(paths[lib]);\n",
              "          };\n",
              "          s.onerror = () => reject(`Error loading script: ${paths[lib]}`);\n",
              "          s.src = paths[lib];\n",
              "        });\n",
              "    }\n",
              "\n",
              "    function showError(err) {\n",
              "      outputDiv.innerHTML = `<div class=\"error\" style=\"color:red;\">${err}</div>`;\n",
              "      throw err;\n",
              "    }\n",
              "\n",
              "    function displayChart(vegaEmbed) {\n",
              "      vegaEmbed(outputDiv, spec, embedOpt)\n",
              "        .catch(err => showError(`Javascript Error: ${err.message}<br>This usually means there's a typo in your chart specification. See the javascript console for the full traceback.`));\n",
              "    }\n",
              "\n",
              "    if(typeof define === \"function\" && define.amd) {\n",
              "      requirejs.config({paths});\n",
              "      require([\"vega-embed\"], displayChart, err => showError(`Error loading script: ${err.message}`));\n",
              "    } else {\n",
              "      maybeLoadScript(\"vega\", \"5\")\n",
              "        .then(() => maybeLoadScript(\"vega-lite\", \"4.17.0\"))\n",
              "        .then(() => maybeLoadScript(\"vega-embed\", \"6\"))\n",
              "        .catch(showError)\n",
              "        .then(() => displayChart(vegaEmbed));\n",
              "    }\n",
              "  })({\"config\": {\"view\": {\"continuousWidth\": 400, \"continuousHeight\": 300}}, \"data\": {\"name\": \"data-39680a3c6860b8c8cb15365112affd77\"}, \"mark\": \"bar\", \"encoding\": {\"color\": {\"field\": \"January\", \"type\": \"nominal\"}, \"tooltip\": [{\"field\": \"January\", \"type\": \"quantitative\"}, {\"field\": \"Average_Funding\", \"type\": \"quantitative\"}], \"x\": {\"field\": \"January\", \"type\": \"nominal\"}, \"y\": {\"field\": \"Average_Funding\", \"title\": \"Average_Funding\", \"type\": \"quantitative\"}}, \"height\": 300, \"selection\": {\"selector020\": {\"type\": \"interval\", \"bind\": \"scales\", \"encodings\": [\"x\", \"y\"]}}, \"title\": \"The average funding that gives to startups stating from January is greater than others\", \"width\": 600, \"$schema\": \"https://vega.github.io/schema/vega-lite/v4.17.0.json\", \"datasets\": {\"data-39680a3c6860b8c8cb15365112affd77\": [{\"January\": 0, \"Average_Funding\": 11239953.658093054}, {\"January\": 1, \"Average_Funding\": 18021057.40703472}]}}, {\"mode\": \"vega-lite\"});\n",
              "</script>"
            ]
          },
          "metadata": {},
          "execution_count": 60
        }
      ]
    },
    {
      "cell_type": "code",
      "metadata": {
        "colab": {
          "base_uri": "https://localhost:8080/",
          "height": 349
        },
        "id": "Ctm4o5YkqeGS",
        "outputId": "0629ead8-7ea1-4563-a8bb-e8303c7220bb"
      },
      "source": [
        "# number of companies started in Jan and not in Jan in terms of company status\n",
        "jan_status = df_usa.groupby(['if_jan', 'status'])['name'].count()\n",
        "jan_status = jan_status.reset_index()\n",
        "jan_status.rename({'if_jan' : 'January', 'status': 'Status', 'name': 'Count_of_Records'}, axis=1, inplace=True)\n",
        "\n",
        "jan_status_plt = alt.Chart(jan_status, \n",
        "                         title = 'Number of opearing and acquired startups that is established in January are much higher than those established in other months.').mark_bar().encode(\n",
        "                         alt.X('January:N', title = 'If January'),\n",
        "                         alt.Y('Count_of_Records:Q', title = 'Count of Records'),\n",
        "                         color = 'Status:N',\n",
        "                         column = 'Status:N',\n",
        "                         tooltip = ['January', 'Status', 'Count_of_Records']\n",
        "                         ).properties(width=300, height=200).interactive()\n",
        "\n",
        "jan_status_plt\n",
        "#present"
      ],
      "execution_count": 61,
      "outputs": [
        {
          "output_type": "execute_result",
          "data": {
            "text/plain": [
              "alt.Chart(...)"
            ],
            "text/html": [
              "\n",
              "<div id=\"altair-viz-fdbc53361f5149938376f492d4814e0b\"></div>\n",
              "<script type=\"text/javascript\">\n",
              "  var VEGA_DEBUG = (typeof VEGA_DEBUG == \"undefined\") ? {} : VEGA_DEBUG;\n",
              "  (function(spec, embedOpt){\n",
              "    let outputDiv = document.currentScript.previousElementSibling;\n",
              "    if (outputDiv.id !== \"altair-viz-fdbc53361f5149938376f492d4814e0b\") {\n",
              "      outputDiv = document.getElementById(\"altair-viz-fdbc53361f5149938376f492d4814e0b\");\n",
              "    }\n",
              "    const paths = {\n",
              "      \"vega\": \"https://cdn.jsdelivr.net/npm//vega@5?noext\",\n",
              "      \"vega-lib\": \"https://cdn.jsdelivr.net/npm//vega-lib?noext\",\n",
              "      \"vega-lite\": \"https://cdn.jsdelivr.net/npm//vega-lite@4.17.0?noext\",\n",
              "      \"vega-embed\": \"https://cdn.jsdelivr.net/npm//vega-embed@6?noext\",\n",
              "    };\n",
              "\n",
              "    function maybeLoadScript(lib, version) {\n",
              "      var key = `${lib.replace(\"-\", \"\")}_version`;\n",
              "      return (VEGA_DEBUG[key] == version) ?\n",
              "        Promise.resolve(paths[lib]) :\n",
              "        new Promise(function(resolve, reject) {\n",
              "          var s = document.createElement('script');\n",
              "          document.getElementsByTagName(\"head\")[0].appendChild(s);\n",
              "          s.async = true;\n",
              "          s.onload = () => {\n",
              "            VEGA_DEBUG[key] = version;\n",
              "            return resolve(paths[lib]);\n",
              "          };\n",
              "          s.onerror = () => reject(`Error loading script: ${paths[lib]}`);\n",
              "          s.src = paths[lib];\n",
              "        });\n",
              "    }\n",
              "\n",
              "    function showError(err) {\n",
              "      outputDiv.innerHTML = `<div class=\"error\" style=\"color:red;\">${err}</div>`;\n",
              "      throw err;\n",
              "    }\n",
              "\n",
              "    function displayChart(vegaEmbed) {\n",
              "      vegaEmbed(outputDiv, spec, embedOpt)\n",
              "        .catch(err => showError(`Javascript Error: ${err.message}<br>This usually means there's a typo in your chart specification. See the javascript console for the full traceback.`));\n",
              "    }\n",
              "\n",
              "    if(typeof define === \"function\" && define.amd) {\n",
              "      requirejs.config({paths});\n",
              "      require([\"vega-embed\"], displayChart, err => showError(`Error loading script: ${err.message}`));\n",
              "    } else {\n",
              "      maybeLoadScript(\"vega\", \"5\")\n",
              "        .then(() => maybeLoadScript(\"vega-lite\", \"4.17.0\"))\n",
              "        .then(() => maybeLoadScript(\"vega-embed\", \"6\"))\n",
              "        .catch(showError)\n",
              "        .then(() => displayChart(vegaEmbed));\n",
              "    }\n",
              "  })({\"config\": {\"view\": {\"continuousWidth\": 400, \"continuousHeight\": 300}}, \"data\": {\"name\": \"data-86c03ea571a27162be68b92269a65548\"}, \"mark\": \"bar\", \"encoding\": {\"color\": {\"field\": \"Status\", \"type\": \"nominal\"}, \"column\": {\"field\": \"Status\", \"type\": \"nominal\"}, \"tooltip\": [{\"field\": \"January\", \"type\": \"quantitative\"}, {\"field\": \"Status\", \"type\": \"nominal\"}, {\"field\": \"Count_of_Records\", \"type\": \"quantitative\"}], \"x\": {\"field\": \"January\", \"title\": \"If January\", \"type\": \"nominal\"}, \"y\": {\"field\": \"Count_of_Records\", \"title\": \"Count of Records\", \"type\": \"quantitative\"}}, \"height\": 200, \"selection\": {\"selector021\": {\"type\": \"interval\", \"bind\": \"scales\", \"encodings\": [\"x\", \"y\"]}}, \"title\": \"Number of opearing and acquired startups that is established in January are much higher than those established in other months.\", \"width\": 300, \"$schema\": \"https://vega.github.io/schema/vega-lite/v4.17.0.json\", \"datasets\": {\"data-86c03ea571a27162be68b92269a65548\": [{\"January\": 0, \"Status\": \"acquired\", \"Count_of_Records\": 594}, {\"January\": 0, \"Status\": \"closed\", \"Count_of_Records\": 434}, {\"January\": 0, \"Status\": \"operating\", \"Count_of_Records\": 4973}, {\"January\": 1, \"Status\": \"acquired\", \"Count_of_Records\": 1071}, {\"January\": 1, \"Status\": \"closed\", \"Count_of_Records\": 538}, {\"January\": 1, \"Status\": \"operating\", \"Count_of_Records\": 9214}]}}, {\"mode\": \"vega-lite\"});\n",
              "</script>"
            ]
          },
          "metadata": {},
          "execution_count": 61
        }
      ]
    },
    {
      "cell_type": "code",
      "metadata": {
        "colab": {
          "base_uri": "https://localhost:8080/",
          "height": 112
        },
        "id": "l4kTIQjuOb3E",
        "outputId": "b0d3b318-efab-42ba-be5d-256b53f68a98"
      },
      "source": [
        "# number of companies started in Jan and not in Jan in terms of if the company progressed to IPO\n",
        "jan_ipo = df_ipo.groupby(['if_jan', 'if_ipo'])['name'].count()\n",
        "jan_ipo = jan_ipo.reset_index()\n",
        "jan_ipo['Percentage'] = round(jan_ipo['name']/len(df_ipo)*100,2)\n",
        "jan_ipo.rename({'if_jan' : 'January', 'name': 'Count_of_Records'}, axis=1, inplace=True)\n",
        "\n",
        "jan_ipo_plt = alt.Chart(jan_ipo, \n",
        "                         title = 'Among all startups progressed to IPO, 77% of them were founded in January.').mark_bar().encode(\n",
        "                         alt.X('January:N', title = 'If January'),\n",
        "                         alt.Y('Percentage:Q', title = 'Being IPO Pecentage'),\n",
        "                         color = 'January:N',\n",
        "                         tooltip = ['January',  'Percentage']\n",
        "                         ).properties(width=500, height=300).interactive()\n",
        "\n",
        "jan_ipo"
      ],
      "execution_count": 62,
      "outputs": [
        {
          "output_type": "execute_result",
          "data": {
            "text/html": [
              "\n",
              "  <div id=\"df-0b8e86e1-05c1-4516-b8cb-918947b349b9\">\n",
              "    <div class=\"colab-df-container\">\n",
              "      <div>\n",
              "<style scoped>\n",
              "    .dataframe tbody tr th:only-of-type {\n",
              "        vertical-align: middle;\n",
              "    }\n",
              "\n",
              "    .dataframe tbody tr th {\n",
              "        vertical-align: top;\n",
              "    }\n",
              "\n",
              "    .dataframe thead th {\n",
              "        text-align: right;\n",
              "    }\n",
              "</style>\n",
              "<table border=\"1\" class=\"dataframe\">\n",
              "  <thead>\n",
              "    <tr style=\"text-align: right;\">\n",
              "      <th></th>\n",
              "      <th>January</th>\n",
              "      <th>if_ipo</th>\n",
              "      <th>Count_of_Records</th>\n",
              "      <th>Percentage</th>\n",
              "    </tr>\n",
              "  </thead>\n",
              "  <tbody>\n",
              "    <tr>\n",
              "      <th>0</th>\n",
              "      <td>0</td>\n",
              "      <td>1</td>\n",
              "      <td>21</td>\n",
              "      <td>22.83</td>\n",
              "    </tr>\n",
              "    <tr>\n",
              "      <th>1</th>\n",
              "      <td>1</td>\n",
              "      <td>1</td>\n",
              "      <td>71</td>\n",
              "      <td>77.17</td>\n",
              "    </tr>\n",
              "  </tbody>\n",
              "</table>\n",
              "</div>\n",
              "      <button class=\"colab-df-convert\" onclick=\"convertToInteractive('df-0b8e86e1-05c1-4516-b8cb-918947b349b9')\"\n",
              "              title=\"Convert this dataframe to an interactive table.\"\n",
              "              style=\"display:none;\">\n",
              "        \n",
              "  <svg xmlns=\"http://www.w3.org/2000/svg\" height=\"24px\"viewBox=\"0 0 24 24\"\n",
              "       width=\"24px\">\n",
              "    <path d=\"M0 0h24v24H0V0z\" fill=\"none\"/>\n",
              "    <path d=\"M18.56 5.44l.94 2.06.94-2.06 2.06-.94-2.06-.94-.94-2.06-.94 2.06-2.06.94zm-11 1L8.5 8.5l.94-2.06 2.06-.94-2.06-.94L8.5 2.5l-.94 2.06-2.06.94zm10 10l.94 2.06.94-2.06 2.06-.94-2.06-.94-.94-2.06-.94 2.06-2.06.94z\"/><path d=\"M17.41 7.96l-1.37-1.37c-.4-.4-.92-.59-1.43-.59-.52 0-1.04.2-1.43.59L10.3 9.45l-7.72 7.72c-.78.78-.78 2.05 0 2.83L4 21.41c.39.39.9.59 1.41.59.51 0 1.02-.2 1.41-.59l7.78-7.78 2.81-2.81c.8-.78.8-2.07 0-2.86zM5.41 20L4 18.59l7.72-7.72 1.47 1.35L5.41 20z\"/>\n",
              "  </svg>\n",
              "      </button>\n",
              "      \n",
              "  <style>\n",
              "    .colab-df-container {\n",
              "      display:flex;\n",
              "      flex-wrap:wrap;\n",
              "      gap: 12px;\n",
              "    }\n",
              "\n",
              "    .colab-df-convert {\n",
              "      background-color: #E8F0FE;\n",
              "      border: none;\n",
              "      border-radius: 50%;\n",
              "      cursor: pointer;\n",
              "      display: none;\n",
              "      fill: #1967D2;\n",
              "      height: 32px;\n",
              "      padding: 0 0 0 0;\n",
              "      width: 32px;\n",
              "    }\n",
              "\n",
              "    .colab-df-convert:hover {\n",
              "      background-color: #E2EBFA;\n",
              "      box-shadow: 0px 1px 2px rgba(60, 64, 67, 0.3), 0px 1px 3px 1px rgba(60, 64, 67, 0.15);\n",
              "      fill: #174EA6;\n",
              "    }\n",
              "\n",
              "    [theme=dark] .colab-df-convert {\n",
              "      background-color: #3B4455;\n",
              "      fill: #D2E3FC;\n",
              "    }\n",
              "\n",
              "    [theme=dark] .colab-df-convert:hover {\n",
              "      background-color: #434B5C;\n",
              "      box-shadow: 0px 1px 3px 1px rgba(0, 0, 0, 0.15);\n",
              "      filter: drop-shadow(0px 1px 2px rgba(0, 0, 0, 0.3));\n",
              "      fill: #FFFFFF;\n",
              "    }\n",
              "  </style>\n",
              "\n",
              "      <script>\n",
              "        const buttonEl =\n",
              "          document.querySelector('#df-0b8e86e1-05c1-4516-b8cb-918947b349b9 button.colab-df-convert');\n",
              "        buttonEl.style.display =\n",
              "          google.colab.kernel.accessAllowed ? 'block' : 'none';\n",
              "\n",
              "        async function convertToInteractive(key) {\n",
              "          const element = document.querySelector('#df-0b8e86e1-05c1-4516-b8cb-918947b349b9');\n",
              "          const dataTable =\n",
              "            await google.colab.kernel.invokeFunction('convertToInteractive',\n",
              "                                                     [key], {});\n",
              "          if (!dataTable) return;\n",
              "\n",
              "          const docLinkHtml = 'Like what you see? Visit the ' +\n",
              "            '<a target=\"_blank\" href=https://colab.research.google.com/notebooks/data_table.ipynb>data table notebook</a>'\n",
              "            + ' to learn more about interactive tables.';\n",
              "          element.innerHTML = '';\n",
              "          dataTable['output_type'] = 'display_data';\n",
              "          await google.colab.output.renderOutput(dataTable, element);\n",
              "          const docLink = document.createElement('div');\n",
              "          docLink.innerHTML = docLinkHtml;\n",
              "          element.appendChild(docLink);\n",
              "        }\n",
              "      </script>\n",
              "    </div>\n",
              "  </div>\n",
              "  "
            ],
            "text/plain": [
              "   January  if_ipo  Count_of_Records  Percentage\n",
              "0        0       1                21       22.83\n",
              "1        1       1                71       77.17"
            ]
          },
          "metadata": {},
          "execution_count": 62
        }
      ]
    },
    {
      "cell_type": "markdown",
      "metadata": {
        "id": "64lXeBqp75bX"
      },
      "source": [
        "### Future Work"
      ]
    },
    {
      "cell_type": "markdown",
      "metadata": {
        "id": "9fbmUwIfSOkQ"
      },
      "source": [
        "#### Potential reasons that cause the drop of startups worldwide"
      ]
    },
    {
      "cell_type": "code",
      "metadata": {
        "id": "BlGFerhP77yQ",
        "colab": {
          "base_uri": "https://localhost:8080/",
          "height": 399
        },
        "outputId": "d3123fb0-7435-403f-b62c-7d603da1d2db"
      },
      "source": [
        "df_year = df[(df['founded_year'] >= 1978)]\n",
        "df_year = df_year.groupby(['founded_year'])['name'].count()\n",
        "df_year = df_year.reset_index()\n",
        "df_year.rename({'founded_year': 'Founded_Year', 'name': 'Count_of_Records'}, axis=1, inplace=True)\n",
        "\n",
        "\n",
        "year_plt = alt.Chart(df_year, title = 'Number of startups reaches the peak in 2012 worldwide').mark_line().encode(\n",
        "           alt.X('Founded_Year:N', title = 'Founded Year'),\n",
        "           alt.Y('Count_of_Records:Q', title = 'Count of Records'),\n",
        "           tooltip = ['Founded_Year', 'Count_of_Records']\n",
        "           ).properties(width=800, height=300).interactive()\n",
        "year_plt"
      ],
      "execution_count": 63,
      "outputs": [
        {
          "output_type": "execute_result",
          "data": {
            "text/plain": [
              "alt.Chart(...)"
            ],
            "text/html": [
              "\n",
              "<div id=\"altair-viz-70eb8057726a4cec908a24f2954e9ba5\"></div>\n",
              "<script type=\"text/javascript\">\n",
              "  var VEGA_DEBUG = (typeof VEGA_DEBUG == \"undefined\") ? {} : VEGA_DEBUG;\n",
              "  (function(spec, embedOpt){\n",
              "    let outputDiv = document.currentScript.previousElementSibling;\n",
              "    if (outputDiv.id !== \"altair-viz-70eb8057726a4cec908a24f2954e9ba5\") {\n",
              "      outputDiv = document.getElementById(\"altair-viz-70eb8057726a4cec908a24f2954e9ba5\");\n",
              "    }\n",
              "    const paths = {\n",
              "      \"vega\": \"https://cdn.jsdelivr.net/npm//vega@5?noext\",\n",
              "      \"vega-lib\": \"https://cdn.jsdelivr.net/npm//vega-lib?noext\",\n",
              "      \"vega-lite\": \"https://cdn.jsdelivr.net/npm//vega-lite@4.17.0?noext\",\n",
              "      \"vega-embed\": \"https://cdn.jsdelivr.net/npm//vega-embed@6?noext\",\n",
              "    };\n",
              "\n",
              "    function maybeLoadScript(lib, version) {\n",
              "      var key = `${lib.replace(\"-\", \"\")}_version`;\n",
              "      return (VEGA_DEBUG[key] == version) ?\n",
              "        Promise.resolve(paths[lib]) :\n",
              "        new Promise(function(resolve, reject) {\n",
              "          var s = document.createElement('script');\n",
              "          document.getElementsByTagName(\"head\")[0].appendChild(s);\n",
              "          s.async = true;\n",
              "          s.onload = () => {\n",
              "            VEGA_DEBUG[key] = version;\n",
              "            return resolve(paths[lib]);\n",
              "          };\n",
              "          s.onerror = () => reject(`Error loading script: ${paths[lib]}`);\n",
              "          s.src = paths[lib];\n",
              "        });\n",
              "    }\n",
              "\n",
              "    function showError(err) {\n",
              "      outputDiv.innerHTML = `<div class=\"error\" style=\"color:red;\">${err}</div>`;\n",
              "      throw err;\n",
              "    }\n",
              "\n",
              "    function displayChart(vegaEmbed) {\n",
              "      vegaEmbed(outputDiv, spec, embedOpt)\n",
              "        .catch(err => showError(`Javascript Error: ${err.message}<br>This usually means there's a typo in your chart specification. See the javascript console for the full traceback.`));\n",
              "    }\n",
              "\n",
              "    if(typeof define === \"function\" && define.amd) {\n",
              "      requirejs.config({paths});\n",
              "      require([\"vega-embed\"], displayChart, err => showError(`Error loading script: ${err.message}`));\n",
              "    } else {\n",
              "      maybeLoadScript(\"vega\", \"5\")\n",
              "        .then(() => maybeLoadScript(\"vega-lite\", \"4.17.0\"))\n",
              "        .then(() => maybeLoadScript(\"vega-embed\", \"6\"))\n",
              "        .catch(showError)\n",
              "        .then(() => displayChart(vegaEmbed));\n",
              "    }\n",
              "  })({\"config\": {\"view\": {\"continuousWidth\": 400, \"continuousHeight\": 300}}, \"data\": {\"name\": \"data-7e48ac5e71e7c8f838246896ec4c7301\"}, \"mark\": \"line\", \"encoding\": {\"tooltip\": [{\"field\": \"Founded_Year\", \"type\": \"quantitative\"}, {\"field\": \"Count_of_Records\", \"type\": \"quantitative\"}], \"x\": {\"field\": \"Founded_Year\", \"title\": \"Founded Year\", \"type\": \"nominal\"}, \"y\": {\"field\": \"Count_of_Records\", \"title\": \"Count of Records\", \"type\": \"quantitative\"}}, \"height\": 300, \"selection\": {\"selector023\": {\"type\": \"interval\", \"bind\": \"scales\", \"encodings\": [\"x\", \"y\"]}}, \"title\": \"Number of startups reaches the peak in 2012 worldwide\", \"width\": 800, \"$schema\": \"https://vega.github.io/schema/vega-lite/v4.17.0.json\", \"datasets\": {\"data-7e48ac5e71e7c8f838246896ec4c7301\": [{\"Founded_Year\": 1978.0, \"Count_of_Records\": 27}, {\"Founded_Year\": 1979.0, \"Count_of_Records\": 31}, {\"Founded_Year\": 1980.0, \"Count_of_Records\": 41}, {\"Founded_Year\": 1981.0, \"Count_of_Records\": 40}, {\"Founded_Year\": 1982.0, \"Count_of_Records\": 33}, {\"Founded_Year\": 1983.0, \"Count_of_Records\": 60}, {\"Founded_Year\": 1984.0, \"Count_of_Records\": 68}, {\"Founded_Year\": 1985.0, \"Count_of_Records\": 77}, {\"Founded_Year\": 1986.0, \"Count_of_Records\": 65}, {\"Founded_Year\": 1987.0, \"Count_of_Records\": 68}, {\"Founded_Year\": 1988.0, \"Count_of_Records\": 73}, {\"Founded_Year\": 1989.0, \"Count_of_Records\": 91}, {\"Founded_Year\": 1990.0, \"Count_of_Records\": 87}, {\"Founded_Year\": 1991.0, \"Count_of_Records\": 92}, {\"Founded_Year\": 1992.0, \"Count_of_Records\": 115}, {\"Founded_Year\": 1993.0, \"Count_of_Records\": 128}, {\"Founded_Year\": 1994.0, \"Count_of_Records\": 155}, {\"Founded_Year\": 1995.0, \"Count_of_Records\": 223}, {\"Founded_Year\": 1996.0, \"Count_of_Records\": 300}, {\"Founded_Year\": 1997.0, \"Count_of_Records\": 357}, {\"Founded_Year\": 1998.0, \"Count_of_Records\": 433}, {\"Founded_Year\": 1999.0, \"Count_of_Records\": 751}, {\"Founded_Year\": 2000.0, \"Count_of_Records\": 874}, {\"Founded_Year\": 2001.0, \"Count_of_Records\": 736}, {\"Founded_Year\": 2002.0, \"Count_of_Records\": 780}, {\"Founded_Year\": 2003.0, \"Count_of_Records\": 944}, {\"Founded_Year\": 2004.0, \"Count_of_Records\": 1143}, {\"Founded_Year\": 2005.0, \"Count_of_Records\": 1376}, {\"Founded_Year\": 2006.0, \"Count_of_Records\": 1720}, {\"Founded_Year\": 2007.0, \"Count_of_Records\": 2189}, {\"Founded_Year\": 2008.0, \"Count_of_Records\": 2130}, {\"Founded_Year\": 2009.0, \"Count_of_Records\": 2755}, {\"Founded_Year\": 2010.0, \"Count_of_Records\": 3488}, {\"Founded_Year\": 2011.0, \"Count_of_Records\": 4503}, {\"Founded_Year\": 2012.0, \"Count_of_Records\": 4725}, {\"Founded_Year\": 2013.0, \"Count_of_Records\": 3568}, {\"Founded_Year\": 2014.0, \"Count_of_Records\": 1169}]}}, {\"mode\": \"vega-lite\"});\n",
              "</script>"
            ]
          },
          "metadata": {},
          "execution_count": 63
        }
      ]
    },
    {
      "cell_type": "markdown",
      "metadata": {
        "id": "Z_ncbWCi7-UQ"
      },
      "source": [
        "Based on the visualization above,  we find two small drops from 1902 to 2011, occurring in 2000 and 2007. However, the number of startups has started to drop dramatically since 2012 and has continued to decline. \n",
        "\n",
        "Due to the time and data limitation, we cannot explore the potential reasons that cause the massive reduction of startups. However, we come up with some hypotheses that can help us to research more on this topic in the future:\n",
        "\n",
        "- **The shrinking of population growth affects the birth of new startups.** According to [Robert Litan](https://www.inc.com/magazine/201505/leigh-buchanan/the-vanishing-startups-in-decline.html), an economist at Brookings, \"On the supply side, if you have fewer people, fewer companies are being formed. On the demand side, a slowing population means less demand for new products.\" In addition, it's hard to see a breakout of new startups in aging societies like Japan.\n",
        "- **The established companies may take advantage of being pioneers and experts in a specific field. Once those established companies grow more prominent, the startups are less likely to sprout.** Based on the data collected by the Federal Reserve Bank of Cleveland, around 80% of arising companies were \"new establishments\" in 1978. The rest of them were new locations for established companies. Yet, the rate decreases to 60% these days. Customers are likely to visit or purchase the products or services provided in those well-known brands rather than an arising startup. \n",
        "\n"
      ]
    },
    {
      "cell_type": "markdown",
      "metadata": {
        "id": "RjAUfWsPTYcc"
      },
      "source": [
        "#### The impact of Obama's \"Startup America\" policy\n",
        "\n"
      ]
    },
    {
      "cell_type": "markdown",
      "metadata": {
        "id": "r5534kDDYCqc"
      },
      "source": [
        "[**\"Startup America\"**](https://obamawhitehouse.archives.gov/startup-america-fact-sheet) is a White House initiative to celebrate, inspire, and accelerate high-growth entrepreneurship throughout the nation. \n",
        "\n",
        "The main commitments in this startegy includes:\n",
        "- Expand access to capital for high-growth startups throughout the country\n",
        "- Expand entrepreneurship education and mentorship programs that empower more Americans not just to get a job, but to create jobs\n",
        "- Strengthen commercialization of the about $148 billion in annual federally-funded research and development, which can generate innovative startups and entirely new industries\n",
        "- Identify and remove unnecessary barriers to high-growth startups\n",
        "- Expand collaborations between large companies and startups.\n",
        "\n",
        "Not to mention, this policy commits $1 billion to those funds that invest growth capital in companies located in underserved communities such as clean technology."
      ]
    },
    {
      "cell_type": "code",
      "metadata": {
        "id": "Mh7ZcP6_8dwi",
        "colab": {
          "base_uri": "https://localhost:8080/",
          "height": 399
        },
        "outputId": "d678482e-0c15-4835-892a-70e5e491ae71"
      },
      "source": [
        "# the startup growth rate from 1978 to 2014 in the United States\n",
        "\n",
        "df_year_usa = df[(df['founded_year'] >= 1978) & (df['country_code'] == 'USA')]\n",
        "df_year_usa = df_year_usa.groupby(['founded_year'])['name'].count()\n",
        "df_year_usa = df_year_usa.reset_index()\n",
        "df_year_usa['Growth_Rate'] = df_year_usa['name'].pct_change().mul(100).round(2)\n",
        "df_year_usa.rename({'founded_year': 'Founded_Year', 'name': 'Count_of_Records'}, axis=1, inplace=True)\n",
        "\n",
        "\n",
        "year_plt = alt.Chart(df_year_usa[1:], \n",
        "           title = 'The growth rate of startups fluctuated in the United States from 1978 to 2012 and has dropped dramatically since 2012.').mark_line().encode(\n",
        "           alt.X('Founded_Year:N', title = 'Founded Year'),\n",
        "           alt.Y('Growth_Rate:Q', title = 'Growth Rate'),\n",
        "           tooltip = ['Founded_Year', 'Growth_Rate', 'Count_of_Records']\n",
        "           ).interactive()\n",
        "year_plt"
      ],
      "execution_count": 64,
      "outputs": [
        {
          "output_type": "execute_result",
          "data": {
            "text/plain": [
              "alt.Chart(...)"
            ],
            "text/html": [
              "\n",
              "<div id=\"altair-viz-952331689b8640dda53fc3670e7023cf\"></div>\n",
              "<script type=\"text/javascript\">\n",
              "  var VEGA_DEBUG = (typeof VEGA_DEBUG == \"undefined\") ? {} : VEGA_DEBUG;\n",
              "  (function(spec, embedOpt){\n",
              "    let outputDiv = document.currentScript.previousElementSibling;\n",
              "    if (outputDiv.id !== \"altair-viz-952331689b8640dda53fc3670e7023cf\") {\n",
              "      outputDiv = document.getElementById(\"altair-viz-952331689b8640dda53fc3670e7023cf\");\n",
              "    }\n",
              "    const paths = {\n",
              "      \"vega\": \"https://cdn.jsdelivr.net/npm//vega@5?noext\",\n",
              "      \"vega-lib\": \"https://cdn.jsdelivr.net/npm//vega-lib?noext\",\n",
              "      \"vega-lite\": \"https://cdn.jsdelivr.net/npm//vega-lite@4.17.0?noext\",\n",
              "      \"vega-embed\": \"https://cdn.jsdelivr.net/npm//vega-embed@6?noext\",\n",
              "    };\n",
              "\n",
              "    function maybeLoadScript(lib, version) {\n",
              "      var key = `${lib.replace(\"-\", \"\")}_version`;\n",
              "      return (VEGA_DEBUG[key] == version) ?\n",
              "        Promise.resolve(paths[lib]) :\n",
              "        new Promise(function(resolve, reject) {\n",
              "          var s = document.createElement('script');\n",
              "          document.getElementsByTagName(\"head\")[0].appendChild(s);\n",
              "          s.async = true;\n",
              "          s.onload = () => {\n",
              "            VEGA_DEBUG[key] = version;\n",
              "            return resolve(paths[lib]);\n",
              "          };\n",
              "          s.onerror = () => reject(`Error loading script: ${paths[lib]}`);\n",
              "          s.src = paths[lib];\n",
              "        });\n",
              "    }\n",
              "\n",
              "    function showError(err) {\n",
              "      outputDiv.innerHTML = `<div class=\"error\" style=\"color:red;\">${err}</div>`;\n",
              "      throw err;\n",
              "    }\n",
              "\n",
              "    function displayChart(vegaEmbed) {\n",
              "      vegaEmbed(outputDiv, spec, embedOpt)\n",
              "        .catch(err => showError(`Javascript Error: ${err.message}<br>This usually means there's a typo in your chart specification. See the javascript console for the full traceback.`));\n",
              "    }\n",
              "\n",
              "    if(typeof define === \"function\" && define.amd) {\n",
              "      requirejs.config({paths});\n",
              "      require([\"vega-embed\"], displayChart, err => showError(`Error loading script: ${err.message}`));\n",
              "    } else {\n",
              "      maybeLoadScript(\"vega\", \"5\")\n",
              "        .then(() => maybeLoadScript(\"vega-lite\", \"4.17.0\"))\n",
              "        .then(() => maybeLoadScript(\"vega-embed\", \"6\"))\n",
              "        .catch(showError)\n",
              "        .then(() => displayChart(vegaEmbed));\n",
              "    }\n",
              "  })({\"config\": {\"view\": {\"continuousWidth\": 400, \"continuousHeight\": 300}}, \"data\": {\"name\": \"data-ee2d1790f3c0495082ec5bf4a6b7855a\"}, \"mark\": \"line\", \"encoding\": {\"tooltip\": [{\"field\": \"Founded_Year\", \"type\": \"quantitative\"}, {\"field\": \"Growth_Rate\", \"type\": \"quantitative\"}, {\"field\": \"Count_of_Records\", \"type\": \"quantitative\"}], \"x\": {\"field\": \"Founded_Year\", \"title\": \"Founded Year\", \"type\": \"nominal\"}, \"y\": {\"field\": \"Growth_Rate\", \"title\": \"Growth Rate\", \"type\": \"quantitative\"}}, \"selection\": {\"selector024\": {\"type\": \"interval\", \"bind\": \"scales\", \"encodings\": [\"x\", \"y\"]}}, \"title\": \"The growth rate of startups fluctuated in the United States from 1978 to 2012 and has dropped dramatically since 2012.\", \"$schema\": \"https://vega.github.io/schema/vega-lite/v4.17.0.json\", \"datasets\": {\"data-ee2d1790f3c0495082ec5bf4a6b7855a\": [{\"Founded_Year\": 1979.0, \"Count_of_Records\": 26, \"Growth_Rate\": 30.0}, {\"Founded_Year\": 1980.0, \"Count_of_Records\": 24, \"Growth_Rate\": -7.69}, {\"Founded_Year\": 1981.0, \"Count_of_Records\": 31, \"Growth_Rate\": 29.17}, {\"Founded_Year\": 1982.0, \"Count_of_Records\": 27, \"Growth_Rate\": -12.9}, {\"Founded_Year\": 1983.0, \"Count_of_Records\": 50, \"Growth_Rate\": 85.19}, {\"Founded_Year\": 1984.0, \"Count_of_Records\": 51, \"Growth_Rate\": 2.0}, {\"Founded_Year\": 1985.0, \"Count_of_Records\": 61, \"Growth_Rate\": 19.61}, {\"Founded_Year\": 1986.0, \"Count_of_Records\": 47, \"Growth_Rate\": -22.95}, {\"Founded_Year\": 1987.0, \"Count_of_Records\": 52, \"Growth_Rate\": 10.64}, {\"Founded_Year\": 1988.0, \"Count_of_Records\": 59, \"Growth_Rate\": 13.46}, {\"Founded_Year\": 1989.0, \"Count_of_Records\": 63, \"Growth_Rate\": 6.78}, {\"Founded_Year\": 1990.0, \"Count_of_Records\": 63, \"Growth_Rate\": 0.0}, {\"Founded_Year\": 1991.0, \"Count_of_Records\": 61, \"Growth_Rate\": -3.17}, {\"Founded_Year\": 1992.0, \"Count_of_Records\": 80, \"Growth_Rate\": 31.15}, {\"Founded_Year\": 1993.0, \"Count_of_Records\": 80, \"Growth_Rate\": 0.0}, {\"Founded_Year\": 1994.0, \"Count_of_Records\": 110, \"Growth_Rate\": 37.5}, {\"Founded_Year\": 1995.0, \"Count_of_Records\": 164, \"Growth_Rate\": 49.09}, {\"Founded_Year\": 1996.0, \"Count_of_Records\": 209, \"Growth_Rate\": 27.44}, {\"Founded_Year\": 1997.0, \"Count_of_Records\": 237, \"Growth_Rate\": 13.4}, {\"Founded_Year\": 1998.0, \"Count_of_Records\": 306, \"Growth_Rate\": 29.11}, {\"Founded_Year\": 1999.0, \"Count_of_Records\": 547, \"Growth_Rate\": 78.76}, {\"Founded_Year\": 2000.0, \"Count_of_Records\": 574, \"Growth_Rate\": 4.94}, {\"Founded_Year\": 2001.0, \"Count_of_Records\": 496, \"Growth_Rate\": -13.59}, {\"Founded_Year\": 2002.0, \"Count_of_Records\": 547, \"Growth_Rate\": 10.28}, {\"Founded_Year\": 2003.0, \"Count_of_Records\": 611, \"Growth_Rate\": 11.7}, {\"Founded_Year\": 2004.0, \"Count_of_Records\": 781, \"Growth_Rate\": 27.82}, {\"Founded_Year\": 2005.0, \"Count_of_Records\": 929, \"Growth_Rate\": 18.95}, {\"Founded_Year\": 2006.0, \"Count_of_Records\": 1165, \"Growth_Rate\": 25.4}, {\"Founded_Year\": 2007.0, \"Count_of_Records\": 1427, \"Growth_Rate\": 22.49}, {\"Founded_Year\": 2008.0, \"Count_of_Records\": 1392, \"Growth_Rate\": -2.45}, {\"Founded_Year\": 2009.0, \"Count_of_Records\": 1783, \"Growth_Rate\": 28.09}, {\"Founded_Year\": 2010.0, \"Count_of_Records\": 2156, \"Growth_Rate\": 20.92}, {\"Founded_Year\": 2011.0, \"Count_of_Records\": 2681, \"Growth_Rate\": 24.35}, {\"Founded_Year\": 2012.0, \"Count_of_Records\": 2593, \"Growth_Rate\": -3.28}, {\"Founded_Year\": 2013.0, \"Count_of_Records\": 1841, \"Growth_Rate\": -29.0}, {\"Founded_Year\": 2014.0, \"Count_of_Records\": 633, \"Growth_Rate\": -65.62}]}}, {\"mode\": \"vega-lite\"});\n",
              "</script>"
            ]
          },
          "metadata": {},
          "execution_count": 64
        }
      ]
    },
    {
      "cell_type": "markdown",
      "metadata": {
        "id": "gytEWaJYU2PS"
      },
      "source": [
        "Based on the visualization, we observe that the growth rate of startups fluctuated in the United States from 1978 to 2012 and has dropped dramatically since 2012. We wonder why the growth rate continued to fall even if the United States had launched the \"Startup America\" strategy. To explore the effect of \"Startup America,\" we would love to collect data after 2014 to view the startups in the United States completely."
      ]
    },
    {
      "cell_type": "code",
      "metadata": {
        "id": "511CfRc379so",
        "colab": {
          "base_uri": "https://localhost:8080/",
          "height": 394
        },
        "outputId": "c0bc7ff6-69dc-4462-d874-06b6e10c1cf0"
      },
      "source": [
        "df_year_usa = df[(df['founded_year'] >= 2000) & (df['country_code'] == 'USA')]\n",
        "df_year = df_year_usa[(df_year_usa['market'] == 'CleanTechnology')]\n",
        "\n",
        "\n",
        "df_year = df_year.groupby(['founded_year'])['name'].count()\n",
        "df_year = df_year.reset_index()\n",
        "df_year.rename({'founded_year': 'Founded_Year', 'name': 'Count_of_Records'}, axis=1, inplace=True)\n",
        "\n",
        "year_plt = alt.Chart(df_year, title = 'Number of startups in the Clean Technology market drop since 2011 in the United States').mark_line().encode(\n",
        "           alt.X('Founded_Year:N', title = 'Founded Year'),\n",
        "           alt.Y('Count_of_Records:Q', title = 'Count of Records'),\n",
        "           tooltip = ['Founded_Year', 'Count_of_Records']\n",
        "           ).properties(width=800, height=300).interactive()\n",
        "year_plt\n"
      ],
      "execution_count": 65,
      "outputs": [
        {
          "output_type": "execute_result",
          "data": {
            "text/plain": [
              "alt.Chart(...)"
            ],
            "text/html": [
              "\n",
              "<div id=\"altair-viz-fbebff046aa043e7bfe188b345fe4dc9\"></div>\n",
              "<script type=\"text/javascript\">\n",
              "  var VEGA_DEBUG = (typeof VEGA_DEBUG == \"undefined\") ? {} : VEGA_DEBUG;\n",
              "  (function(spec, embedOpt){\n",
              "    let outputDiv = document.currentScript.previousElementSibling;\n",
              "    if (outputDiv.id !== \"altair-viz-fbebff046aa043e7bfe188b345fe4dc9\") {\n",
              "      outputDiv = document.getElementById(\"altair-viz-fbebff046aa043e7bfe188b345fe4dc9\");\n",
              "    }\n",
              "    const paths = {\n",
              "      \"vega\": \"https://cdn.jsdelivr.net/npm//vega@5?noext\",\n",
              "      \"vega-lib\": \"https://cdn.jsdelivr.net/npm//vega-lib?noext\",\n",
              "      \"vega-lite\": \"https://cdn.jsdelivr.net/npm//vega-lite@4.17.0?noext\",\n",
              "      \"vega-embed\": \"https://cdn.jsdelivr.net/npm//vega-embed@6?noext\",\n",
              "    };\n",
              "\n",
              "    function maybeLoadScript(lib, version) {\n",
              "      var key = `${lib.replace(\"-\", \"\")}_version`;\n",
              "      return (VEGA_DEBUG[key] == version) ?\n",
              "        Promise.resolve(paths[lib]) :\n",
              "        new Promise(function(resolve, reject) {\n",
              "          var s = document.createElement('script');\n",
              "          document.getElementsByTagName(\"head\")[0].appendChild(s);\n",
              "          s.async = true;\n",
              "          s.onload = () => {\n",
              "            VEGA_DEBUG[key] = version;\n",
              "            return resolve(paths[lib]);\n",
              "          };\n",
              "          s.onerror = () => reject(`Error loading script: ${paths[lib]}`);\n",
              "          s.src = paths[lib];\n",
              "        });\n",
              "    }\n",
              "\n",
              "    function showError(err) {\n",
              "      outputDiv.innerHTML = `<div class=\"error\" style=\"color:red;\">${err}</div>`;\n",
              "      throw err;\n",
              "    }\n",
              "\n",
              "    function displayChart(vegaEmbed) {\n",
              "      vegaEmbed(outputDiv, spec, embedOpt)\n",
              "        .catch(err => showError(`Javascript Error: ${err.message}<br>This usually means there's a typo in your chart specification. See the javascript console for the full traceback.`));\n",
              "    }\n",
              "\n",
              "    if(typeof define === \"function\" && define.amd) {\n",
              "      requirejs.config({paths});\n",
              "      require([\"vega-embed\"], displayChart, err => showError(`Error loading script: ${err.message}`));\n",
              "    } else {\n",
              "      maybeLoadScript(\"vega\", \"5\")\n",
              "        .then(() => maybeLoadScript(\"vega-lite\", \"4.17.0\"))\n",
              "        .then(() => maybeLoadScript(\"vega-embed\", \"6\"))\n",
              "        .catch(showError)\n",
              "        .then(() => displayChart(vegaEmbed));\n",
              "    }\n",
              "  })({\"config\": {\"view\": {\"continuousWidth\": 400, \"continuousHeight\": 300}}, \"data\": {\"name\": \"data-f1b5a33d49250ed0bfad012e9ef29527\"}, \"mark\": \"line\", \"encoding\": {\"tooltip\": [{\"field\": \"Founded_Year\", \"type\": \"quantitative\"}, {\"field\": \"Count_of_Records\", \"type\": \"quantitative\"}], \"x\": {\"field\": \"Founded_Year\", \"title\": \"Founded Year\", \"type\": \"nominal\"}, \"y\": {\"field\": \"Count_of_Records\", \"title\": \"Count of Records\", \"type\": \"quantitative\"}}, \"height\": 300, \"selection\": {\"selector025\": {\"type\": \"interval\", \"bind\": \"scales\", \"encodings\": [\"x\", \"y\"]}}, \"title\": \"Number of startups in the Clean Technology market drop since 2011 in the United States\", \"width\": 800, \"$schema\": \"https://vega.github.io/schema/vega-lite/v4.17.0.json\", \"datasets\": {\"data-f1b5a33d49250ed0bfad012e9ef29527\": [{\"Founded_Year\": 2000.0, \"Count_of_Records\": 11}, {\"Founded_Year\": 2001.0, \"Count_of_Records\": 18}, {\"Founded_Year\": 2002.0, \"Count_of_Records\": 18}, {\"Founded_Year\": 2003.0, \"Count_of_Records\": 17}, {\"Founded_Year\": 2004.0, \"Count_of_Records\": 26}, {\"Founded_Year\": 2005.0, \"Count_of_Records\": 31}, {\"Founded_Year\": 2006.0, \"Count_of_Records\": 45}, {\"Founded_Year\": 2007.0, \"Count_of_Records\": 63}, {\"Founded_Year\": 2008.0, \"Count_of_Records\": 50}, {\"Founded_Year\": 2009.0, \"Count_of_Records\": 65}, {\"Founded_Year\": 2010.0, \"Count_of_Records\": 21}, {\"Founded_Year\": 2011.0, \"Count_of_Records\": 24}, {\"Founded_Year\": 2012.0, \"Count_of_Records\": 19}, {\"Founded_Year\": 2013.0, \"Count_of_Records\": 13}, {\"Founded_Year\": 2014.0, \"Count_of_Records\": 12}]}}, {\"mode\": \"vega-lite\"});\n",
              "</script>"
            ]
          },
          "metadata": {},
          "execution_count": 65
        }
      ]
    },
    {
      "cell_type": "markdown",
      "metadata": {
        "id": "FA7l8U_GpFyc"
      },
      "source": [
        "We don't observe the positive impact of \"Startup America,\" specifically in the clean technology market. The reason may seem because of the delay effect or the data incompleteness. In this case, we would love to collect more data to explore the impact in the future. "
      ]
    }
  ]
}